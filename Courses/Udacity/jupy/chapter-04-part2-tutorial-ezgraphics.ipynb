{
 "cells": [
  {
   "cell_type": "markdown",
   "metadata": {},
   "source": [
    "# Graphics using `ezgraphics` (Chapter 04)"
   ]
  },
  {
   "cell_type": "markdown",
   "metadata": {},
   "source": [
    "The `ezgraphics` module is already in the same directory as this notebook. Therefore, all we have to do is to use it as described in the book."
   ]
  },
  {
   "cell_type": "markdown",
   "metadata": {},
   "source": [
    "> #### __Please see _Section 2.6 Graphics: Simple Drawings_ in your textbook__"
   ]
  },
  {
   "cell_type": "markdown",
   "metadata": {},
   "source": [
    "Please read the above referenced section of your book for more on the individual calls demonstrated below."
   ]
  },
  {
   "cell_type": "code",
   "execution_count": 1,
   "metadata": {},
   "outputs": [],
   "source": [
    "from ezgraphics import GraphicsWindow"
   ]
  },
  {
   "cell_type": "markdown",
   "metadata": {},
   "source": [
    "First, we need to create a window. \n",
    "\n",
    "Let us create a window that is $\\mathtt{500 \\times 700}$ pixels in size. That is, the window will be 500 pixels wide and 700 pixels tall."
   ]
  },
  {
   "cell_type": "code",
   "execution_count": 2,
   "metadata": {},
   "outputs": [],
   "source": [
    "win = GraphicsWindow( 500, 700 )"
   ]
  },
  {
   "cell_type": "markdown",
   "metadata": {},
   "source": [
    "Then we have to create a _canvas_ within this window onto which we can draw shapes."
   ]
  },
  {
   "cell_type": "code",
   "execution_count": 3,
   "metadata": {},
   "outputs": [],
   "source": [
    "canvas = win.canvas()"
   ]
  },
  {
   "cell_type": "markdown",
   "metadata": {},
   "source": [
    "Then we can use all available graphics functions to draw various shapes and so on."
   ]
  },
  {
   "cell_type": "code",
   "execution_count": 4,
   "metadata": {},
   "outputs": [],
   "source": [
    "# Uncomment the help() call below to find out all you can do with a GraphicsCanvas object.\n",
    "#\n",
    "# help( canvas )"
   ]
  },
  {
   "cell_type": "code",
   "execution_count": 4,
   "metadata": {},
   "outputs": [
    {
     "data": {
      "text/plain": [
       "1"
      ]
     },
     "execution_count": 4,
     "metadata": {},
     "output_type": "execute_result"
    }
   ],
   "source": [
    "canvas.drawRect( 200, 200, 50, 70 )"
   ]
  },
  {
   "cell_type": "code",
   "execution_count": 5,
   "metadata": {},
   "outputs": [
    {
     "data": {
      "text/plain": [
       "2"
      ]
     },
     "execution_count": 5,
     "metadata": {},
     "output_type": "execute_result"
    }
   ],
   "source": [
    "canvas.setOutline( 100, 255, 100 )\n",
    "canvas.setFill( 255, 0, 255 )\n",
    "canvas.drawRect( 150, 100, 20, 30 )"
   ]
  },
  {
   "cell_type": "code",
   "execution_count": 6,
   "metadata": {},
   "outputs": [
    {
     "data": {
      "text/plain": [
       "3"
      ]
     },
     "execution_count": 6,
     "metadata": {},
     "output_type": "execute_result"
    }
   ],
   "source": [
    "canvas.drawText( 50, 100, \"Message\" )"
   ]
  },
  {
   "cell_type": "code",
   "execution_count": 7,
   "metadata": {},
   "outputs": [
    {
     "data": {
      "text/plain": [
       "4"
      ]
     },
     "execution_count": 7,
     "metadata": {},
     "output_type": "execute_result"
    }
   ],
   "source": [
    "canvas.setOutline( 255, 255, 255 )\n",
    "canvas.setFill( 100, 100, 255 )\n",
    "canvas.drawRect( 200, 400, 100, 100 )"
   ]
  },
  {
   "cell_type": "markdown",
   "metadata": {},
   "source": [
    "__DO NOT FORGET TO CALL the `GraphicsWindow.wait()` FUNCTION!__\n",
    "\n",
    "__THIS FUNCTION ALLOWS US TO CLOSE THE WINDOW CREATED BY CLICKING ON THE CLOSE BUTTON.__"
   ]
  },
  {
   "cell_type": "code",
   "execution_count": 8,
   "metadata": {},
   "outputs": [],
   "source": [
    "win.wait()"
   ]
  },
  {
   "cell_type": "markdown",
   "metadata": {},
   "source": [
    "Play around with the various calls, try some on your own to get yourselves familiarized with the `ezgraphics` library.\n",
    "\n",
    "- Run the example that draws the Italian flag [bookcode-py-2/ch02/how_to_2/italianflag.py](bookcode-py-2/ch02/how_to_2/italianflag.py) using the terminal by typing the following in your top-level notebook directory:\n",
    "\n",
    "       python bookcode-py-2/ch02/how_to_2/italianflag.py\n",
    "       \n",
    "       \n",
    "- Alternatively, you can do the same by executing the following shell command:"
   ]
  },
  {
   "cell_type": "code",
   "execution_count": 9,
   "metadata": {},
   "outputs": [],
   "source": [
    "!python bookcode-py-2/ch02/how_to_2/italianflag.py"
   ]
  },
  {
   "cell_type": "markdown",
   "metadata": {},
   "source": [
    "- Also run the example program provided in _Special Topic 3.7_."
   ]
  },
  {
   "cell_type": "markdown",
   "metadata": {},
   "source": [
    "---"
   ]
  },
  {
   "cell_type": "code",
   "execution_count": 10,
   "metadata": {},
   "outputs": [],
   "source": [
    "# Code needed to load different types of images (DO NOT DELETE)\n",
    "#\n",
    "from IPython.display import display, Image, SVG, Math, YouTubeVideo"
   ]
  },
  {
   "cell_type": "markdown",
   "metadata": {},
   "source": [
    "---"
   ]
  },
  {
   "cell_type": "markdown",
   "metadata": {},
   "source": [
    "### Worked Example 3.2: __Graphics: Intersecting Circles__"
   ]
  },
  {
   "cell_type": "markdown",
   "metadata": {},
   "source": [
    "> __Problem Statement:__ Develop a graphics program that draws two circles, each defined by \n",
    "its center and radius, and determines whether the two circles intersect."
   ]
  },
  {
   "cell_type": "markdown",
   "metadata": {},
   "source": [
    "- Run the code inside a terminal: [bookcode-py-2/ch03/worked_example_2/circles.py](bookcode-py-2/ch03/worked_example_2/circles.py)\n",
    "\n",
    "      python bookcode-py-2/ch03/worked_example_2/circles.py\n",
    "      \n",
    "      \n",
    "- Here's an example run session:\n",
    "\n",
    "```\n",
    "% python bookcode-py-2/ch03/worked_example_2/circles.py\n",
    "\n",
    "Enter parameters for the first circle:\n",
    "  x-coord: 100\n",
    "  y-coord: 100\n",
    "  radius: 50\n",
    "Enter parameters for the second circle:\n",
    "  x-coord: 180\n",
    "  y-coord: 180 \n",
    "  radius: 90\n",
    "```\n",
    "\n",
    "Here's a screenshot of this above run."
   ]
  },
  {
   "cell_type": "markdown",
   "metadata": {},
   "source": [
    "<img src='images/circle-intersection-exercise-01.png'/>"
   ]
  },
  {
   "cell_type": "markdown",
   "metadata": {},
   "source": [
    "Investigate the source code carefully and make sure you understand it well."
   ]
  },
  {
   "cell_type": "markdown",
   "metadata": {},
   "source": [
    "### 4.10 Graphics: __Digital Image Processing__"
   ]
  },
  {
   "cell_type": "code",
   "execution_count": 11,
   "metadata": {},
   "outputs": [
    {
     "data": {
      "image/svg+xml": [
       "<svg xmlns:dc=\"http://purl.org/dc/elements/1.1/\" xmlns:cc=\"http://creativecommons.org/ns#\" xmlns:rdf=\"http://www.w3.org/1999/02/22-rdf-syntax-ns#\" xmlns:svg=\"http://www.w3.org/2000/svg\" xmlns=\"http://www.w3.org/2000/svg\" xmlns:sodipodi=\"http://sodipodi.sourceforge.net/DTD/sodipodi-0.dtd\" xmlns:inkscape=\"http://www.inkscape.org/namespaces/inkscape\" version=\"1.1\" id=\"svg2\" xml:space=\"preserve\" width=\"501.77756\" height=\"274.72299\" viewBox=\"0 0 501.77756 274.723\" sodipodi:docname=\"chapter-04-p237-colors.svg\" inkscape:version=\"0.92.4 (5da689c313, 2019-01-14)\" inkscape:export-filename=\"/home/hsevay/Dropbox/lectures/ecc102/notebooks/images/chapter-04-p237-colors.svg.png\" inkscape:export-xdpi=\"180.10001\" inkscape:export-ydpi=\"180.10001\"><metadata id=\"metadata8\"><rdf:RDF><cc:Work rdf:about=\"\"><dc:format>image/svg+xml</dc:format><dc:type rdf:resource=\"http://purl.org/dc/dcmitype/StillImage\"/><dc:title/></cc:Work></rdf:RDF></metadata><defs id=\"defs6\"><clipPath clipPathUnits=\"userSpaceOnUse\" id=\"clipPath614\"><path d=\"m 2383.84,542.93 h 2321.73 v 840.012 H 2383.84 Z\" id=\"path612\" inkscape:connector-curvature=\"0\"/></clipPath><clipPath clipPathUnits=\"userSpaceOnUse\" id=\"clipPath622\"><path d=\"m 2383.84,542.93 h 1120.81 v 840 H 2383.84 Z\" id=\"path620\" inkscape:connector-curvature=\"0\"/></clipPath><clipPath clipPathUnits=\"userSpaceOnUse\" id=\"clipPath634\"><path d=\"m 3587.17,542.93 h 1118.39 v 840 H 3587.17 Z\" id=\"path632\" inkscape:connector-curvature=\"0\"/></clipPath></defs><sodipodi:namedview pagecolor=\"#ffffff\" bordercolor=\"#666666\" borderopacity=\"1\" objecttolerance=\"10\" gridtolerance=\"10\" guidetolerance=\"10\" inkscape:pageopacity=\"0\" inkscape:pageshadow=\"2\" inkscape:window-width=\"1920\" inkscape:window-height=\"1016\" id=\"namedview4\" showgrid=\"false\" fit-margin-top=\"0\" fit-margin-left=\"0\" fit-margin-right=\"0\" fit-margin-bottom=\"0\" inkscape:zoom=\"0.98333331\" inkscape:cx=\"-50.666841\" inkscape:cy=\"168.59725\" inkscape:window-x=\"0\" inkscape:window-y=\"27\" inkscape:window-maximized=\"1\" inkscape:current-layer=\"g10\"/><g id=\"g10\" inkscape:groupmode=\"layer\" inkscape:label=\"237\" transform=\"matrix(1.3333333,0,0,-1.3333333,-204.22245,713.52016)\">\n",
       "\n",
       "\n",
       "<g id=\"g472\"><path d=\"m 161,511.64 h 368 v 23 H 161 Z\" style=\"fill:#ebeaea;fill-opacity:1;fill-rule:nonzero;stroke:none;stroke-width:0.1\" id=\"path54\" inkscape:connector-curvature=\"0\"/><path d=\"m 161,511.64 h 92 v -22 h -92 z m 92,0 h 92 v -22 h -92 z m 92,0 h 92 v -22 h -92 z m 92,0 h 92 v -22 h -92 z m -276,-22 h 72 v -20 h -72 z m 92,0 h 72 v -20 h -72 z m 92,0 h 72 v -20 h -72 z m 92,0 h 72 v -20 h -72 z m -276,-20 h 72 v -20 h -72 z m 92,0 h 72 v -20 h -72 z m 92,0 h 72 v -20 h -72 z m 92,0 h 72 v -20 h -72 z m -276,-20 h 72 v -20 h -72 z m 92,0 h 72 v -20 h -72 z m 92,0 h 72 v -20 h -72 z m 92,0 h 72 v -20 h -72 z m -276,-20 h 72 v -20 h -72 z m 92,0 h 72 v -20 h -72 z m 92,0 h 72 v -20 h -72 z m 92,0 h 72 v -20 h -72 z m -276,-20 h 72 v -20.0422 h -72 z m 92,0 h 72 v -20.0422 h -72 z m 92,0 h 72 v -20.0422 h -72 z m 92,0 h 72 V 389.5978 H 437 Z M 161,389.598 h 72 v -20 h -72 z m 92,0 h 72 v -20 h -72 z m 92,0 h 72 v -20 h -72 z m 92,0 h 72 v -20 h -72 z m -276,-20 h 72 v -20 h -72 z m 92,0 h 72 v -20 h -72 z m 92,0 h 72 v -20 h -72 z m 92,0 h 72 v -20 h -72 z m -276,-20 h 72 v -20 h -72 z m 92,0 h 72 v -20 h -72 z m 92,0 h 72 v -20 h -72 z m 92,0 h 72 v -20 h -72 z\" style=\"fill:#f8f4e5;fill-opacity:1;fill-rule:nonzero;stroke:none;stroke-width:0.1\" id=\"path56\" inkscape:connector-curvature=\"0\"/><path d=\"m 233,469.64 h 20 v 20 h -20 z\" style=\"fill:#ffffff;fill-opacity:1;fill-rule:nonzero;stroke:none;stroke-width:0.1\" id=\"path58\" inkscape:connector-curvature=\"0\"/><path d=\"m 325,469.64 h 20 v 20 h -20 z\" style=\"fill:#e2dfe0;fill-opacity:1;fill-rule:nonzero;stroke:none;stroke-width:0.1\" id=\"path60\" inkscape:connector-curvature=\"0\"/><path d=\"m 417,469.64 h 20 v 20 h -20 z\" style=\"fill:#111212;fill-opacity:1;fill-rule:nonzero;stroke:none;stroke-width:0.1\" id=\"path62\" inkscape:connector-curvature=\"0\"/><path d=\"m 509,469.64 h 20 v 20 h -20 z\" style=\"fill:#ffffff;fill-opacity:1;fill-rule:nonzero;stroke:none;stroke-width:0.1\" id=\"path64\" inkscape:connector-curvature=\"0\"/><path d=\"m 233,469.64 h 20 v -20 H 233 Z M 417,369.598 h 20 v -20 h -20 z\" style=\"fill:#4152a5;fill-opacity:1;fill-rule:nonzero;stroke:none;stroke-width:0.1\" id=\"path66\" inkscape:connector-curvature=\"0\"/><path d=\"m 325,449.64 h 20 v 20 h -20 z\" style=\"fill:#3d49a0;fill-opacity:1;fill-rule:nonzero;stroke:none;stroke-width:0.1\" id=\"path68\" inkscape:connector-curvature=\"0\"/><path d=\"m 417,469.64 h 20 v -20 H 417 Z M 233,369.598 h 20 v -20 h -20 z\" style=\"fill:#fbee15;fill-opacity:1;fill-rule:nonzero;stroke:none;stroke-width:0.1\" id=\"path70\" inkscape:connector-curvature=\"0\"/><path d=\"m 509,449.64 h 20 v 20 h -20 z\" style=\"fill:#191d1d;fill-opacity:1;fill-rule:nonzero;stroke:none;stroke-width:0.1\" id=\"path72\" inkscape:connector-curvature=\"0\"/><path d=\"m 233,429.64 h 20 v 20 h -20 z\" style=\"fill:#808080;fill-opacity:1;fill-rule:nonzero;stroke:none;stroke-width:0.1\" id=\"path74\" inkscape:connector-curvature=\"0\"/><path d=\"m 325,429.64 h 20 v 20 h -20 z\" style=\"fill:#6e6f6e;fill-opacity:1;fill-rule:nonzero;stroke:none;stroke-width:0.1\" id=\"path76\" inkscape:connector-curvature=\"0\"/><path d=\"m 417,429.64 h 20 v 20 h -20 z\" style=\"fill:#838284;fill-opacity:1;fill-rule:nonzero;stroke:none;stroke-width:0.1\" id=\"path78\" inkscape:connector-curvature=\"0\"/><path d=\"m 509,429.64 h 20 v 20 h -20 z\" style=\"fill:#808080;fill-opacity:1;fill-rule:nonzero;stroke:none;stroke-width:0.1\" id=\"path80\" inkscape:connector-curvature=\"0\"/><path d=\"m 233,409.64 h 20 v 20 h -20 z\" style=\"fill:#67c043;fill-opacity:1;fill-rule:nonzero;stroke:none;stroke-width:0.1\" id=\"path82\" inkscape:connector-curvature=\"0\"/><path d=\"m 325,409.64 h 20 v 20 h -20 z\" style=\"fill:#48bb46;fill-opacity:1;fill-rule:nonzero;stroke:none;stroke-width:0.1\" id=\"path84\" inkscape:connector-curvature=\"0\"/><path d=\"m 417,409.64 h 20 v 20 h -20 z\" style=\"fill:#c052a0;fill-opacity:1;fill-rule:nonzero;stroke:none;stroke-width:0.1\" id=\"path86\" inkscape:connector-curvature=\"0\"/><path d=\"m 509,409.64 h 20 v 20 h -20 z\" style=\"fill:#bebbbd;fill-opacity:1;fill-rule:nonzero;stroke:none;stroke-width:0.1\" id=\"path88\" inkscape:connector-curvature=\"0\"/><path d=\"m 233,389.598 h 20 v 20.0422 h -20 z\" style=\"fill:#ef1d23;fill-opacity:1;fill-rule:nonzero;stroke:none;stroke-width:0.1\" id=\"path90\" inkscape:connector-curvature=\"0\"/><path d=\"m 325,389.598 h 20 v 20.0422 h -20 z\" style=\"fill:#dd1f25;fill-opacity:1;fill-rule:nonzero;stroke:none;stroke-width:0.1\" id=\"path92\" inkscape:connector-curvature=\"0\"/><path d=\"m 417,409.64 h 20 V 389.5978 H 417 Z M 233,349.598 h 20 v -20 h -20 z\" style=\"fill:#73cee0;fill-opacity:1;fill-rule:nonzero;stroke:none;stroke-width:0.1\" id=\"path94\" inkscape:connector-curvature=\"0\"/><path d=\"m 509,389.598 h 20 v 20.0422 h -20 z\" style=\"fill:#363939;fill-opacity:1;fill-rule:nonzero;stroke:none;stroke-width:0.1\" id=\"path96\" inkscape:connector-curvature=\"0\"/><path d=\"m 233,369.598 h 20 v 20 h -20 z\" style=\"fill:#22b6cc;fill-opacity:1;fill-rule:nonzero;stroke:none;stroke-width:0.1\" id=\"path98\" inkscape:connector-curvature=\"0\"/><path d=\"m 325,369.598 h 20 v 20 h -20 z\" style=\"fill:#239bb0;fill-opacity:1;fill-rule:nonzero;stroke:none;stroke-width:0.1\" id=\"path100\" inkscape:connector-curvature=\"0\"/><path d=\"m 417,369.598 h 20 v 20 h -20 z\" style=\"fill:#e3503b;fill-opacity:1;fill-rule:nonzero;stroke:none;stroke-width:0.1\" id=\"path102\" inkscape:connector-curvature=\"0\"/><path d=\"m 509,369.598 h 20 v 20 h -20 z\" style=\"fill:#9c999b;fill-opacity:1;fill-rule:nonzero;stroke:none;stroke-width:0.1\" id=\"path104\" inkscape:connector-curvature=\"0\"/><path d=\"m 325,349.598 h 20 v 20 h -20 z\" style=\"fill:#dede1a;fill-opacity:1;fill-rule:nonzero;stroke:none;stroke-width:0.1\" id=\"path106\" inkscape:connector-curvature=\"0\"/><path d=\"m 509,349.598 h 20 v 20 h -20 z\" style=\"fill:#f3f1f2;fill-opacity:1;fill-rule:nonzero;stroke:none;stroke-width:0.1\" id=\"path108\" inkscape:connector-curvature=\"0\"/><path d=\"m 325,329.598 h 20 v 20 h -20 z\" style=\"fill:#51c5cc;fill-opacity:1;fill-rule:nonzero;stroke:none;stroke-width:0.1\" id=\"path110\" inkscape:connector-curvature=\"0\"/><path d=\"m 417,329.598 h 20 v 20 h -20 z\" style=\"fill:#ef1d23;fill-opacity:1;fill-rule:nonzero;stroke:none;stroke-width:0.1\" id=\"path112\" inkscape:connector-curvature=\"0\"/><path d=\"m 509,329.598 h 20 v 20 h -20 z\" style=\"fill:#d0cdcf;fill-opacity:1;fill-rule:nonzero;stroke:none;stroke-width:0.1\" id=\"path114\" inkscape:connector-curvature=\"0\"/><path d=\"m 161,490.139 v 21\" style=\"fill:none;stroke:#ffffff;stroke-width:1;stroke-linecap:butt;stroke-linejoin:miter;stroke-miterlimit:10;stroke-dasharray:none;stroke-opacity:1\" id=\"path116\" inkscape:connector-curvature=\"0\"/><path d=\"M 160.5,489.639 H 233\" style=\"fill:none;stroke:#ffffff;stroke-width:1;stroke-linecap:butt;stroke-linejoin:miter;stroke-miterlimit:10;stroke-dasharray:none;stroke-opacity:1\" id=\"path118\" inkscape:connector-curvature=\"0\"/><path d=\"m 233,489.639 h 20\" style=\"fill:none;stroke:#ffffff;stroke-width:1;stroke-linecap:butt;stroke-linejoin:miter;stroke-miterlimit:10;stroke-dasharray:none;stroke-opacity:1\" id=\"path120\" inkscape:connector-curvature=\"0\"/><path d=\"m 345,489.639 h 72\" style=\"fill:none;stroke:#ffffff;stroke-width:1;stroke-linecap:butt;stroke-linejoin:miter;stroke-miterlimit:10;stroke-dasharray:none;stroke-opacity:1\" id=\"path122\" inkscape:connector-curvature=\"0\"/><path d=\"m 417,489.639 h 20\" style=\"fill:none;stroke:#ffffff;stroke-width:1;stroke-linecap:butt;stroke-linejoin:miter;stroke-miterlimit:10;stroke-dasharray:none;stroke-opacity:1\" id=\"path124\" inkscape:connector-curvature=\"0\"/><path d=\"m 437,490.139 v 21\" style=\"fill:none;stroke:#ffffff;stroke-width:1;stroke-linecap:butt;stroke-linejoin:miter;stroke-miterlimit:10;stroke-dasharray:none;stroke-opacity:1\" id=\"path126\" inkscape:connector-curvature=\"0\"/><path d=\"m 529,490.139 v 21\" style=\"fill:none;stroke:#ffffff;stroke-width:1;stroke-linecap:butt;stroke-linejoin:miter;stroke-miterlimit:10;stroke-dasharray:none;stroke-opacity:1\" id=\"path128\" inkscape:connector-curvature=\"0\"/><path d=\"m 437,489.639 h 72\" style=\"fill:none;stroke:#ffffff;stroke-width:1;stroke-linecap:butt;stroke-linejoin:miter;stroke-miterlimit:10;stroke-dasharray:none;stroke-opacity:1\" id=\"path130\" inkscape:connector-curvature=\"0\"/><path d=\"m 509,489.639 h 20.5\" style=\"fill:none;stroke:#ffffff;stroke-width:1;stroke-linecap:butt;stroke-linejoin:miter;stroke-miterlimit:10;stroke-dasharray:none;stroke-opacity:1\" id=\"path132\" inkscape:connector-curvature=\"0\"/><path d=\"M 160.5,534.64 H 233\" style=\"fill:none;stroke:#ffffff;stroke-width:1;stroke-linecap:butt;stroke-linejoin:miter;stroke-miterlimit:10;stroke-dasharray:none;stroke-opacity:1\" id=\"path134\" inkscape:connector-curvature=\"0\"/><path d=\"m 161,512.139 v 22\" style=\"fill:none;stroke:#ffffff;stroke-width:1;stroke-linecap:butt;stroke-linejoin:miter;stroke-miterlimit:10;stroke-dasharray:none;stroke-opacity:1\" id=\"path136\" inkscape:connector-curvature=\"0\"/><path d=\"m 233,534.64 h 20\" style=\"fill:none;stroke:#ffffff;stroke-width:1;stroke-linecap:butt;stroke-linejoin:miter;stroke-miterlimit:10;stroke-dasharray:none;stroke-opacity:1\" id=\"path138\" inkscape:connector-curvature=\"0\"/><path d=\"m 253,534.64 h 72\" style=\"fill:none;stroke:#ffffff;stroke-width:1;stroke-linecap:butt;stroke-linejoin:miter;stroke-miterlimit:10;stroke-dasharray:none;stroke-opacity:1\" id=\"path140\" inkscape:connector-curvature=\"0\"/><path d=\"m 325,534.64 h 20\" style=\"fill:none;stroke:#ffffff;stroke-width:1;stroke-linecap:butt;stroke-linejoin:miter;stroke-miterlimit:10;stroke-dasharray:none;stroke-opacity:1\" id=\"path142\" inkscape:connector-curvature=\"0\"/><path d=\"m 345,534.64 h 72\" style=\"fill:none;stroke:#ffffff;stroke-width:1;stroke-linecap:butt;stroke-linejoin:miter;stroke-miterlimit:10;stroke-dasharray:none;stroke-opacity:1\" id=\"path144\" inkscape:connector-curvature=\"0\"/><path d=\"m 417,534.64 h 20\" style=\"fill:none;stroke:#ffffff;stroke-width:1;stroke-linecap:butt;stroke-linejoin:miter;stroke-miterlimit:10;stroke-dasharray:none;stroke-opacity:1\" id=\"path146\" inkscape:connector-curvature=\"0\"/><path d=\"m 437,534.64 h 72\" style=\"fill:none;stroke:#ffffff;stroke-width:1;stroke-linecap:butt;stroke-linejoin:miter;stroke-miterlimit:10;stroke-dasharray:none;stroke-opacity:1\" id=\"path148\" inkscape:connector-curvature=\"0\"/><path d=\"m 509,534.64 h 20.5\" style=\"fill:none;stroke:#ffffff;stroke-width:1;stroke-linecap:butt;stroke-linejoin:miter;stroke-miterlimit:10;stroke-dasharray:none;stroke-opacity:1\" id=\"path150\" inkscape:connector-curvature=\"0\"/><path d=\"m 529,512.139 v 22\" style=\"fill:none;stroke:#ffffff;stroke-width:1;stroke-linecap:butt;stroke-linejoin:miter;stroke-miterlimit:10;stroke-dasharray:none;stroke-opacity:1\" id=\"path152\" inkscape:connector-curvature=\"0\"/><path d=\"M 160.5,511.639 H 233\" style=\"fill:none;stroke:#ffffff;stroke-width:1;stroke-linecap:butt;stroke-linejoin:miter;stroke-miterlimit:10;stroke-dasharray:none;stroke-opacity:1\" id=\"path154\" inkscape:connector-curvature=\"0\"/><path d=\"m 233,511.639 h 20\" style=\"fill:none;stroke:#ffffff;stroke-width:1;stroke-linecap:butt;stroke-linejoin:miter;stroke-miterlimit:10;stroke-dasharray:none;stroke-opacity:1\" id=\"path156\" inkscape:connector-curvature=\"0\"/><path d=\"m 345,511.639 h 72\" style=\"fill:none;stroke:#ffffff;stroke-width:1;stroke-linecap:butt;stroke-linejoin:miter;stroke-miterlimit:10;stroke-dasharray:none;stroke-opacity:1\" id=\"path158\" inkscape:connector-curvature=\"0\"/><path d=\"m 417,511.639 h 20\" style=\"fill:none;stroke:#ffffff;stroke-width:1;stroke-linecap:butt;stroke-linejoin:miter;stroke-miterlimit:10;stroke-dasharray:none;stroke-opacity:1\" id=\"path160\" inkscape:connector-curvature=\"0\"/><path d=\"m 437,511.639 h 72\" style=\"fill:none;stroke:#ffffff;stroke-width:1;stroke-linecap:butt;stroke-linejoin:miter;stroke-miterlimit:10;stroke-dasharray:none;stroke-opacity:1\" id=\"path162\" inkscape:connector-curvature=\"0\"/><path d=\"m 509,511.639 h 20.5\" style=\"fill:none;stroke:#ffffff;stroke-width:1;stroke-linecap:butt;stroke-linejoin:miter;stroke-miterlimit:10;stroke-dasharray:none;stroke-opacity:1\" id=\"path164\" inkscape:connector-curvature=\"0\"/><path d=\"m 161,470.139 v 19\" style=\"fill:none;stroke:#ffffff;stroke-width:1;stroke-linecap:butt;stroke-linejoin:miter;stroke-miterlimit:10;stroke-dasharray:none;stroke-opacity:1\" id=\"path166\" inkscape:connector-curvature=\"0\"/><path d=\"m 233,470.139 v 19\" style=\"fill:none;stroke:#ffffff;stroke-width:1;stroke-linecap:butt;stroke-linejoin:miter;stroke-miterlimit:10;stroke-dasharray:none;stroke-opacity:1\" id=\"path168\" inkscape:connector-curvature=\"0\"/><path d=\"m 253,470.139 v 19\" style=\"fill:none;stroke:#ffffff;stroke-width:1;stroke-linecap:butt;stroke-linejoin:miter;stroke-miterlimit:10;stroke-dasharray:none;stroke-opacity:1\" id=\"path170\" inkscape:connector-curvature=\"0\"/><path d=\"m 325,470.139 v 19\" style=\"fill:none;stroke:#ffffff;stroke-width:1;stroke-linecap:butt;stroke-linejoin:miter;stroke-miterlimit:10;stroke-dasharray:none;stroke-opacity:1\" id=\"path172\" inkscape:connector-curvature=\"0\"/><path d=\"m 345,470.139 v 19\" style=\"fill:none;stroke:#ffffff;stroke-width:1;stroke-linecap:butt;stroke-linejoin:miter;stroke-miterlimit:10;stroke-dasharray:none;stroke-opacity:1\" id=\"path174\" inkscape:connector-curvature=\"0\"/><path d=\"m 417,470.139 v 19\" style=\"fill:none;stroke:#ffffff;stroke-width:1;stroke-linecap:butt;stroke-linejoin:miter;stroke-miterlimit:10;stroke-dasharray:none;stroke-opacity:1\" id=\"path176\" inkscape:connector-curvature=\"0\"/><path d=\"m 437,470.139 v 19\" style=\"fill:none;stroke:#ffffff;stroke-width:1;stroke-linecap:butt;stroke-linejoin:miter;stroke-miterlimit:10;stroke-dasharray:none;stroke-opacity:1\" id=\"path178\" inkscape:connector-curvature=\"0\"/><path d=\"m 509,470.139 v 19\" style=\"fill:none;stroke:#ffffff;stroke-width:1;stroke-linecap:butt;stroke-linejoin:miter;stroke-miterlimit:10;stroke-dasharray:none;stroke-opacity:1\" id=\"path180\" inkscape:connector-curvature=\"0\"/><path d=\"m 529,470.139 v 19\" style=\"fill:none;stroke:#ffffff;stroke-width:1;stroke-linecap:butt;stroke-linejoin:miter;stroke-miterlimit:10;stroke-dasharray:none;stroke-opacity:1\" id=\"path182\" inkscape:connector-curvature=\"0\"/><path d=\"M 160.5,469.639 H 233\" style=\"fill:none;stroke:#ffffff;stroke-width:1;stroke-linecap:butt;stroke-linejoin:miter;stroke-miterlimit:10;stroke-dasharray:none;stroke-opacity:1\" id=\"path184\" inkscape:connector-curvature=\"0\"/><path d=\"m 161,450.139 v 19\" style=\"fill:none;stroke:#ffffff;stroke-width:1;stroke-linecap:butt;stroke-linejoin:miter;stroke-miterlimit:10;stroke-dasharray:none;stroke-opacity:1\" id=\"path186\" inkscape:connector-curvature=\"0\"/><path d=\"m 233,469.639 h 20\" style=\"fill:none;stroke:#ffffff;stroke-width:1;stroke-linecap:butt;stroke-linejoin:miter;stroke-miterlimit:10;stroke-dasharray:none;stroke-opacity:1\" id=\"path188\" inkscape:connector-curvature=\"0\"/><path d=\"m 233,450.139 v 19\" style=\"fill:none;stroke:#ffffff;stroke-width:1;stroke-linecap:butt;stroke-linejoin:miter;stroke-miterlimit:10;stroke-dasharray:none;stroke-opacity:1\" id=\"path190\" inkscape:connector-curvature=\"0\"/><path d=\"m 253,469.639 h 72\" style=\"fill:none;stroke:#ffffff;stroke-width:1;stroke-linecap:butt;stroke-linejoin:miter;stroke-miterlimit:10;stroke-dasharray:none;stroke-opacity:1\" id=\"path192\" inkscape:connector-curvature=\"0\"/><path d=\"m 253,450.139 v 19\" style=\"fill:none;stroke:#ffffff;stroke-width:1;stroke-linecap:butt;stroke-linejoin:miter;stroke-miterlimit:10;stroke-dasharray:none;stroke-opacity:1\" id=\"path194\" inkscape:connector-curvature=\"0\"/><path d=\"m 325,469.639 h 20\" style=\"fill:none;stroke:#ffffff;stroke-width:1;stroke-linecap:butt;stroke-linejoin:miter;stroke-miterlimit:10;stroke-dasharray:none;stroke-opacity:1\" id=\"path196\" inkscape:connector-curvature=\"0\"/><path d=\"m 325,450.139 v 19\" style=\"fill:none;stroke:#ffffff;stroke-width:1;stroke-linecap:butt;stroke-linejoin:miter;stroke-miterlimit:10;stroke-dasharray:none;stroke-opacity:1\" id=\"path198\" inkscape:connector-curvature=\"0\"/><path d=\"m 345,469.639 h 72\" style=\"fill:none;stroke:#ffffff;stroke-width:1;stroke-linecap:butt;stroke-linejoin:miter;stroke-miterlimit:10;stroke-dasharray:none;stroke-opacity:1\" id=\"path200\" inkscape:connector-curvature=\"0\"/><path d=\"m 345,450.139 v 19\" style=\"fill:none;stroke:#ffffff;stroke-width:1;stroke-linecap:butt;stroke-linejoin:miter;stroke-miterlimit:10;stroke-dasharray:none;stroke-opacity:1\" id=\"path202\" inkscape:connector-curvature=\"0\"/><path d=\"m 417,469.639 h 20\" style=\"fill:none;stroke:#ffffff;stroke-width:1;stroke-linecap:butt;stroke-linejoin:miter;stroke-miterlimit:10;stroke-dasharray:none;stroke-opacity:1\" id=\"path204\" inkscape:connector-curvature=\"0\"/><path d=\"m 417,450.139 v 19\" style=\"fill:none;stroke:#ffffff;stroke-width:1;stroke-linecap:butt;stroke-linejoin:miter;stroke-miterlimit:10;stroke-dasharray:none;stroke-opacity:1\" id=\"path206\" inkscape:connector-curvature=\"0\"/><path d=\"m 437,469.639 h 72\" style=\"fill:none;stroke:#ffffff;stroke-width:1;stroke-linecap:butt;stroke-linejoin:miter;stroke-miterlimit:10;stroke-dasharray:none;stroke-opacity:1\" id=\"path208\" inkscape:connector-curvature=\"0\"/><path d=\"m 437,450.139 v 19\" style=\"fill:none;stroke:#ffffff;stroke-width:1;stroke-linecap:butt;stroke-linejoin:miter;stroke-miterlimit:10;stroke-dasharray:none;stroke-opacity:1\" id=\"path210\" inkscape:connector-curvature=\"0\"/><path d=\"m 509,469.639 h 20.5\" style=\"fill:none;stroke:#ffffff;stroke-width:1;stroke-linecap:butt;stroke-linejoin:miter;stroke-miterlimit:10;stroke-dasharray:none;stroke-opacity:1\" id=\"path212\" inkscape:connector-curvature=\"0\"/><path d=\"m 509,450.139 v 19\" style=\"fill:none;stroke:#ffffff;stroke-width:1;stroke-linecap:butt;stroke-linejoin:miter;stroke-miterlimit:10;stroke-dasharray:none;stroke-opacity:1\" id=\"path214\" inkscape:connector-curvature=\"0\"/><path d=\"m 529,450.139 v 19\" style=\"fill:none;stroke:#ffffff;stroke-width:1;stroke-linecap:butt;stroke-linejoin:miter;stroke-miterlimit:10;stroke-dasharray:none;stroke-opacity:1\" id=\"path216\" inkscape:connector-curvature=\"0\"/><path d=\"M 160.5,449.639 H 233\" style=\"fill:none;stroke:#ffffff;stroke-width:1;stroke-linecap:butt;stroke-linejoin:miter;stroke-miterlimit:10;stroke-dasharray:none;stroke-opacity:1\" id=\"path218\" inkscape:connector-curvature=\"0\"/><path d=\"m 161,430.14 v 19\" style=\"fill:none;stroke:#ffffff;stroke-width:1;stroke-linecap:butt;stroke-linejoin:miter;stroke-miterlimit:10;stroke-dasharray:none;stroke-opacity:1\" id=\"path220\" inkscape:connector-curvature=\"0\"/><path d=\"m 233,449.639 h 20\" style=\"fill:none;stroke:#ffffff;stroke-width:1;stroke-linecap:butt;stroke-linejoin:miter;stroke-miterlimit:10;stroke-dasharray:none;stroke-opacity:1\" id=\"path222\" inkscape:connector-curvature=\"0\"/><path d=\"m 233,430.14 v 19\" style=\"fill:none;stroke:#ffffff;stroke-width:1;stroke-linecap:butt;stroke-linejoin:miter;stroke-miterlimit:10;stroke-dasharray:none;stroke-opacity:1\" id=\"path224\" inkscape:connector-curvature=\"0\"/><path d=\"m 253,449.639 h 72\" style=\"fill:none;stroke:#ffffff;stroke-width:1;stroke-linecap:butt;stroke-linejoin:miter;stroke-miterlimit:10;stroke-dasharray:none;stroke-opacity:1\" id=\"path226\" inkscape:connector-curvature=\"0\"/><path d=\"m 253,430.14 v 19\" style=\"fill:none;stroke:#ffffff;stroke-width:1;stroke-linecap:butt;stroke-linejoin:miter;stroke-miterlimit:10;stroke-dasharray:none;stroke-opacity:1\" id=\"path228\" inkscape:connector-curvature=\"0\"/><path d=\"m 325,449.639 h 20\" style=\"fill:none;stroke:#ffffff;stroke-width:1;stroke-linecap:butt;stroke-linejoin:miter;stroke-miterlimit:10;stroke-dasharray:none;stroke-opacity:1\" id=\"path230\" inkscape:connector-curvature=\"0\"/><path d=\"m 325,430.14 v 19\" style=\"fill:none;stroke:#ffffff;stroke-width:1;stroke-linecap:butt;stroke-linejoin:miter;stroke-miterlimit:10;stroke-dasharray:none;stroke-opacity:1\" id=\"path232\" inkscape:connector-curvature=\"0\"/><path d=\"m 345,449.639 h 72\" style=\"fill:none;stroke:#ffffff;stroke-width:1;stroke-linecap:butt;stroke-linejoin:miter;stroke-miterlimit:10;stroke-dasharray:none;stroke-opacity:1\" id=\"path234\" inkscape:connector-curvature=\"0\"/><path d=\"m 345,430.14 v 19\" style=\"fill:none;stroke:#ffffff;stroke-width:1;stroke-linecap:butt;stroke-linejoin:miter;stroke-miterlimit:10;stroke-dasharray:none;stroke-opacity:1\" id=\"path236\" inkscape:connector-curvature=\"0\"/><path d=\"m 417,449.639 h 20\" style=\"fill:none;stroke:#ffffff;stroke-width:1;stroke-linecap:butt;stroke-linejoin:miter;stroke-miterlimit:10;stroke-dasharray:none;stroke-opacity:1\" id=\"path238\" inkscape:connector-curvature=\"0\"/><path d=\"m 417,430.14 v 19\" style=\"fill:none;stroke:#ffffff;stroke-width:1;stroke-linecap:butt;stroke-linejoin:miter;stroke-miterlimit:10;stroke-dasharray:none;stroke-opacity:1\" id=\"path240\" inkscape:connector-curvature=\"0\"/><path d=\"m 437,449.639 h 72\" style=\"fill:none;stroke:#ffffff;stroke-width:1;stroke-linecap:butt;stroke-linejoin:miter;stroke-miterlimit:10;stroke-dasharray:none;stroke-opacity:1\" id=\"path242\" inkscape:connector-curvature=\"0\"/><path d=\"m 437,430.14 v 19\" style=\"fill:none;stroke:#ffffff;stroke-width:1;stroke-linecap:butt;stroke-linejoin:miter;stroke-miterlimit:10;stroke-dasharray:none;stroke-opacity:1\" id=\"path244\" inkscape:connector-curvature=\"0\"/><path d=\"m 509,449.639 h 20.5\" style=\"fill:none;stroke:#ffffff;stroke-width:1;stroke-linecap:butt;stroke-linejoin:miter;stroke-miterlimit:10;stroke-dasharray:none;stroke-opacity:1\" id=\"path246\" inkscape:connector-curvature=\"0\"/><path d=\"m 509,430.14 v 19\" style=\"fill:none;stroke:#ffffff;stroke-width:1;stroke-linecap:butt;stroke-linejoin:miter;stroke-miterlimit:10;stroke-dasharray:none;stroke-opacity:1\" id=\"path248\" inkscape:connector-curvature=\"0\"/><path d=\"m 529,430.14 v 19\" style=\"fill:none;stroke:#ffffff;stroke-width:1;stroke-linecap:butt;stroke-linejoin:miter;stroke-miterlimit:10;stroke-dasharray:none;stroke-opacity:1\" id=\"path250\" inkscape:connector-curvature=\"0\"/><path d=\"M 160.5,429.64 H 233\" style=\"fill:none;stroke:#ffffff;stroke-width:1;stroke-linecap:butt;stroke-linejoin:miter;stroke-miterlimit:10;stroke-dasharray:none;stroke-opacity:1\" id=\"path252\" inkscape:connector-curvature=\"0\"/><path d=\"m 161,410.139 v 19\" style=\"fill:none;stroke:#ffffff;stroke-width:1;stroke-linecap:butt;stroke-linejoin:miter;stroke-miterlimit:10;stroke-dasharray:none;stroke-opacity:1\" id=\"path254\" inkscape:connector-curvature=\"0\"/><path d=\"m 233,429.64 h 20\" style=\"fill:none;stroke:#ffffff;stroke-width:1;stroke-linecap:butt;stroke-linejoin:miter;stroke-miterlimit:10;stroke-dasharray:none;stroke-opacity:1\" id=\"path256\" inkscape:connector-curvature=\"0\"/><path d=\"m 233,410.139 v 19\" style=\"fill:none;stroke:#ffffff;stroke-width:1;stroke-linecap:butt;stroke-linejoin:miter;stroke-miterlimit:10;stroke-dasharray:none;stroke-opacity:1\" id=\"path258\" inkscape:connector-curvature=\"0\"/><path d=\"m 253,429.64 h 72\" style=\"fill:none;stroke:#ffffff;stroke-width:1;stroke-linecap:butt;stroke-linejoin:miter;stroke-miterlimit:10;stroke-dasharray:none;stroke-opacity:1\" id=\"path260\" inkscape:connector-curvature=\"0\"/><path d=\"m 253,410.139 v 19\" style=\"fill:none;stroke:#ffffff;stroke-width:1;stroke-linecap:butt;stroke-linejoin:miter;stroke-miterlimit:10;stroke-dasharray:none;stroke-opacity:1\" id=\"path262\" inkscape:connector-curvature=\"0\"/><path d=\"m 325,429.64 h 20\" style=\"fill:none;stroke:#ffffff;stroke-width:1;stroke-linecap:butt;stroke-linejoin:miter;stroke-miterlimit:10;stroke-dasharray:none;stroke-opacity:1\" id=\"path264\" inkscape:connector-curvature=\"0\"/><path d=\"m 325,410.139 v 19\" style=\"fill:none;stroke:#ffffff;stroke-width:1;stroke-linecap:butt;stroke-linejoin:miter;stroke-miterlimit:10;stroke-dasharray:none;stroke-opacity:1\" id=\"path266\" inkscape:connector-curvature=\"0\"/><path d=\"m 345,429.64 h 72\" style=\"fill:none;stroke:#ffffff;stroke-width:1;stroke-linecap:butt;stroke-linejoin:miter;stroke-miterlimit:10;stroke-dasharray:none;stroke-opacity:1\" id=\"path268\" inkscape:connector-curvature=\"0\"/><path d=\"m 345,410.139 v 19\" style=\"fill:none;stroke:#ffffff;stroke-width:1;stroke-linecap:butt;stroke-linejoin:miter;stroke-miterlimit:10;stroke-dasharray:none;stroke-opacity:1\" id=\"path270\" inkscape:connector-curvature=\"0\"/><path d=\"m 417,429.64 h 20\" style=\"fill:none;stroke:#ffffff;stroke-width:1;stroke-linecap:butt;stroke-linejoin:miter;stroke-miterlimit:10;stroke-dasharray:none;stroke-opacity:1\" id=\"path272\" inkscape:connector-curvature=\"0\"/><path d=\"m 417,410.139 v 19\" style=\"fill:none;stroke:#ffffff;stroke-width:1;stroke-linecap:butt;stroke-linejoin:miter;stroke-miterlimit:10;stroke-dasharray:none;stroke-opacity:1\" id=\"path274\" inkscape:connector-curvature=\"0\"/><path d=\"m 437,429.64 h 72\" style=\"fill:none;stroke:#ffffff;stroke-width:1;stroke-linecap:butt;stroke-linejoin:miter;stroke-miterlimit:10;stroke-dasharray:none;stroke-opacity:1\" id=\"path276\" inkscape:connector-curvature=\"0\"/><path d=\"m 437,410.139 v 19\" style=\"fill:none;stroke:#ffffff;stroke-width:1;stroke-linecap:butt;stroke-linejoin:miter;stroke-miterlimit:10;stroke-dasharray:none;stroke-opacity:1\" id=\"path278\" inkscape:connector-curvature=\"0\"/><path d=\"m 509,429.64 h 20.5\" style=\"fill:none;stroke:#ffffff;stroke-width:1;stroke-linecap:butt;stroke-linejoin:miter;stroke-miterlimit:10;stroke-dasharray:none;stroke-opacity:1\" id=\"path280\" inkscape:connector-curvature=\"0\"/><path d=\"m 509,410.139 v 19\" style=\"fill:none;stroke:#ffffff;stroke-width:1;stroke-linecap:butt;stroke-linejoin:miter;stroke-miterlimit:10;stroke-dasharray:none;stroke-opacity:1\" id=\"path282\" inkscape:connector-curvature=\"0\"/><path d=\"m 529,410.139 v 19\" style=\"fill:none;stroke:#ffffff;stroke-width:1;stroke-linecap:butt;stroke-linejoin:miter;stroke-miterlimit:10;stroke-dasharray:none;stroke-opacity:1\" id=\"path284\" inkscape:connector-curvature=\"0\"/><path d=\"M 160.5,409.64 H 233\" style=\"fill:none;stroke:#ffffff;stroke-width:1;stroke-linecap:butt;stroke-linejoin:miter;stroke-miterlimit:10;stroke-dasharray:none;stroke-opacity:1\" id=\"path286\" inkscape:connector-curvature=\"0\"/><path d=\"M 161,390.098 V 409.14\" style=\"fill:none;stroke:#ffffff;stroke-width:1;stroke-linecap:butt;stroke-linejoin:miter;stroke-miterlimit:10;stroke-dasharray:none;stroke-opacity:1\" id=\"path288\" inkscape:connector-curvature=\"0\"/><path d=\"m 233,409.64 h 20\" style=\"fill:none;stroke:#ffffff;stroke-width:1;stroke-linecap:butt;stroke-linejoin:miter;stroke-miterlimit:10;stroke-dasharray:none;stroke-opacity:1\" id=\"path290\" inkscape:connector-curvature=\"0\"/><path d=\"M 233,390.098 V 409.14\" style=\"fill:none;stroke:#ffffff;stroke-width:1;stroke-linecap:butt;stroke-linejoin:miter;stroke-miterlimit:10;stroke-dasharray:none;stroke-opacity:1\" id=\"path292\" inkscape:connector-curvature=\"0\"/><path d=\"m 253,409.64 h 72\" style=\"fill:none;stroke:#ffffff;stroke-width:1;stroke-linecap:butt;stroke-linejoin:miter;stroke-miterlimit:10;stroke-dasharray:none;stroke-opacity:1\" id=\"path294\" inkscape:connector-curvature=\"0\"/><path d=\"M 253,390.098 V 409.14\" style=\"fill:none;stroke:#ffffff;stroke-width:1;stroke-linecap:butt;stroke-linejoin:miter;stroke-miterlimit:10;stroke-dasharray:none;stroke-opacity:1\" id=\"path296\" inkscape:connector-curvature=\"0\"/><path d=\"m 325,409.64 h 20\" style=\"fill:none;stroke:#ffffff;stroke-width:1;stroke-linecap:butt;stroke-linejoin:miter;stroke-miterlimit:10;stroke-dasharray:none;stroke-opacity:1\" id=\"path298\" inkscape:connector-curvature=\"0\"/><path d=\"M 325,390.098 V 409.14\" style=\"fill:none;stroke:#ffffff;stroke-width:1;stroke-linecap:butt;stroke-linejoin:miter;stroke-miterlimit:10;stroke-dasharray:none;stroke-opacity:1\" id=\"path300\" inkscape:connector-curvature=\"0\"/><path d=\"m 345,409.64 h 72\" style=\"fill:none;stroke:#ffffff;stroke-width:1;stroke-linecap:butt;stroke-linejoin:miter;stroke-miterlimit:10;stroke-dasharray:none;stroke-opacity:1\" id=\"path302\" inkscape:connector-curvature=\"0\"/><path d=\"M 345,390.098 V 409.14\" style=\"fill:none;stroke:#ffffff;stroke-width:1;stroke-linecap:butt;stroke-linejoin:miter;stroke-miterlimit:10;stroke-dasharray:none;stroke-opacity:1\" id=\"path304\" inkscape:connector-curvature=\"0\"/><path d=\"m 417,409.64 h 20\" style=\"fill:none;stroke:#ffffff;stroke-width:1;stroke-linecap:butt;stroke-linejoin:miter;stroke-miterlimit:10;stroke-dasharray:none;stroke-opacity:1\" id=\"path306\" inkscape:connector-curvature=\"0\"/><path d=\"M 417,390.098 V 409.14\" style=\"fill:none;stroke:#ffffff;stroke-width:1;stroke-linecap:butt;stroke-linejoin:miter;stroke-miterlimit:10;stroke-dasharray:none;stroke-opacity:1\" id=\"path308\" inkscape:connector-curvature=\"0\"/><path d=\"m 437,409.64 h 72\" style=\"fill:none;stroke:#ffffff;stroke-width:1;stroke-linecap:butt;stroke-linejoin:miter;stroke-miterlimit:10;stroke-dasharray:none;stroke-opacity:1\" id=\"path310\" inkscape:connector-curvature=\"0\"/><path d=\"M 437,390.098 V 409.14\" style=\"fill:none;stroke:#ffffff;stroke-width:1;stroke-linecap:butt;stroke-linejoin:miter;stroke-miterlimit:10;stroke-dasharray:none;stroke-opacity:1\" id=\"path312\" inkscape:connector-curvature=\"0\"/><path d=\"m 509,409.64 h 20.5\" style=\"fill:none;stroke:#ffffff;stroke-width:1;stroke-linecap:butt;stroke-linejoin:miter;stroke-miterlimit:10;stroke-dasharray:none;stroke-opacity:1\" id=\"path314\" inkscape:connector-curvature=\"0\"/><path d=\"M 509,390.098 V 409.14\" style=\"fill:none;stroke:#ffffff;stroke-width:1;stroke-linecap:butt;stroke-linejoin:miter;stroke-miterlimit:10;stroke-dasharray:none;stroke-opacity:1\" id=\"path316\" inkscape:connector-curvature=\"0\"/><path d=\"M 529,390.098 V 409.14\" style=\"fill:none;stroke:#ffffff;stroke-width:1;stroke-linecap:butt;stroke-linejoin:miter;stroke-miterlimit:10;stroke-dasharray:none;stroke-opacity:1\" id=\"path318\" inkscape:connector-curvature=\"0\"/><path d=\"M 160.5,389.598 H 233\" style=\"fill:none;stroke:#ffffff;stroke-width:1;stroke-linecap:butt;stroke-linejoin:miter;stroke-miterlimit:10;stroke-dasharray:none;stroke-opacity:1\" id=\"path320\" inkscape:connector-curvature=\"0\"/><path d=\"m 161,370.098 v 19\" style=\"fill:none;stroke:#ffffff;stroke-width:1;stroke-linecap:butt;stroke-linejoin:miter;stroke-miterlimit:10;stroke-dasharray:none;stroke-opacity:1\" id=\"path322\" inkscape:connector-curvature=\"0\"/><path d=\"m 233,389.598 h 20\" style=\"fill:none;stroke:#ffffff;stroke-width:1;stroke-linecap:butt;stroke-linejoin:miter;stroke-miterlimit:10;stroke-dasharray:none;stroke-opacity:1\" id=\"path324\" inkscape:connector-curvature=\"0\"/><path d=\"m 233,370.098 v 19\" style=\"fill:none;stroke:#ffffff;stroke-width:1;stroke-linecap:butt;stroke-linejoin:miter;stroke-miterlimit:10;stroke-dasharray:none;stroke-opacity:1\" id=\"path326\" inkscape:connector-curvature=\"0\"/><path d=\"m 253,389.598 h 72\" style=\"fill:none;stroke:#ffffff;stroke-width:1;stroke-linecap:butt;stroke-linejoin:miter;stroke-miterlimit:10;stroke-dasharray:none;stroke-opacity:1\" id=\"path328\" inkscape:connector-curvature=\"0\"/><path d=\"m 253,370.098 v 19\" style=\"fill:none;stroke:#ffffff;stroke-width:1;stroke-linecap:butt;stroke-linejoin:miter;stroke-miterlimit:10;stroke-dasharray:none;stroke-opacity:1\" id=\"path330\" inkscape:connector-curvature=\"0\"/><path d=\"m 325,389.598 h 20\" style=\"fill:none;stroke:#ffffff;stroke-width:1;stroke-linecap:butt;stroke-linejoin:miter;stroke-miterlimit:10;stroke-dasharray:none;stroke-opacity:1\" id=\"path332\" inkscape:connector-curvature=\"0\"/><path d=\"m 325,370.098 v 19\" style=\"fill:none;stroke:#ffffff;stroke-width:1;stroke-linecap:butt;stroke-linejoin:miter;stroke-miterlimit:10;stroke-dasharray:none;stroke-opacity:1\" id=\"path334\" inkscape:connector-curvature=\"0\"/><path d=\"m 345,389.598 h 72\" style=\"fill:none;stroke:#ffffff;stroke-width:1;stroke-linecap:butt;stroke-linejoin:miter;stroke-miterlimit:10;stroke-dasharray:none;stroke-opacity:1\" id=\"path336\" inkscape:connector-curvature=\"0\"/><path d=\"m 345,370.098 v 19\" style=\"fill:none;stroke:#ffffff;stroke-width:1;stroke-linecap:butt;stroke-linejoin:miter;stroke-miterlimit:10;stroke-dasharray:none;stroke-opacity:1\" id=\"path338\" inkscape:connector-curvature=\"0\"/><path d=\"m 417,389.598 h 20\" style=\"fill:none;stroke:#ffffff;stroke-width:1;stroke-linecap:butt;stroke-linejoin:miter;stroke-miterlimit:10;stroke-dasharray:none;stroke-opacity:1\" id=\"path340\" inkscape:connector-curvature=\"0\"/><path d=\"m 417,370.098 v 19\" style=\"fill:none;stroke:#ffffff;stroke-width:1;stroke-linecap:butt;stroke-linejoin:miter;stroke-miterlimit:10;stroke-dasharray:none;stroke-opacity:1\" id=\"path342\" inkscape:connector-curvature=\"0\"/><path d=\"m 437,389.598 h 72\" style=\"fill:none;stroke:#ffffff;stroke-width:1;stroke-linecap:butt;stroke-linejoin:miter;stroke-miterlimit:10;stroke-dasharray:none;stroke-opacity:1\" id=\"path344\" inkscape:connector-curvature=\"0\"/><path d=\"m 437,370.098 v 19\" style=\"fill:none;stroke:#ffffff;stroke-width:1;stroke-linecap:butt;stroke-linejoin:miter;stroke-miterlimit:10;stroke-dasharray:none;stroke-opacity:1\" id=\"path346\" inkscape:connector-curvature=\"0\"/><path d=\"m 509,389.598 h 20.5\" style=\"fill:none;stroke:#ffffff;stroke-width:1;stroke-linecap:butt;stroke-linejoin:miter;stroke-miterlimit:10;stroke-dasharray:none;stroke-opacity:1\" id=\"path348\" inkscape:connector-curvature=\"0\"/><path d=\"m 509,370.098 v 19\" style=\"fill:none;stroke:#ffffff;stroke-width:1;stroke-linecap:butt;stroke-linejoin:miter;stroke-miterlimit:10;stroke-dasharray:none;stroke-opacity:1\" id=\"path350\" inkscape:connector-curvature=\"0\"/><path d=\"m 529,370.098 v 19\" style=\"fill:none;stroke:#ffffff;stroke-width:1;stroke-linecap:butt;stroke-linejoin:miter;stroke-miterlimit:10;stroke-dasharray:none;stroke-opacity:1\" id=\"path352\" inkscape:connector-curvature=\"0\"/><path d=\"M 160.5,369.598 H 233\" style=\"fill:none;stroke:#ffffff;stroke-width:1;stroke-linecap:butt;stroke-linejoin:miter;stroke-miterlimit:10;stroke-dasharray:none;stroke-opacity:1\" id=\"path354\" inkscape:connector-curvature=\"0\"/><path d=\"m 161,350.098 v 19\" style=\"fill:none;stroke:#ffffff;stroke-width:1;stroke-linecap:butt;stroke-linejoin:miter;stroke-miterlimit:10;stroke-dasharray:none;stroke-opacity:1\" id=\"path356\" inkscape:connector-curvature=\"0\"/><path d=\"m 233,369.598 h 20\" style=\"fill:none;stroke:#ffffff;stroke-width:1;stroke-linecap:butt;stroke-linejoin:miter;stroke-miterlimit:10;stroke-dasharray:none;stroke-opacity:1\" id=\"path358\" inkscape:connector-curvature=\"0\"/><path d=\"m 233,350.098 v 19\" style=\"fill:none;stroke:#ffffff;stroke-width:1;stroke-linecap:butt;stroke-linejoin:miter;stroke-miterlimit:10;stroke-dasharray:none;stroke-opacity:1\" id=\"path360\" inkscape:connector-curvature=\"0\"/><path d=\"m 253,369.598 h 72\" style=\"fill:none;stroke:#ffffff;stroke-width:1;stroke-linecap:butt;stroke-linejoin:miter;stroke-miterlimit:10;stroke-dasharray:none;stroke-opacity:1\" id=\"path362\" inkscape:connector-curvature=\"0\"/><path d=\"m 253,350.098 v 19\" style=\"fill:none;stroke:#ffffff;stroke-width:1;stroke-linecap:butt;stroke-linejoin:miter;stroke-miterlimit:10;stroke-dasharray:none;stroke-opacity:1\" id=\"path364\" inkscape:connector-curvature=\"0\"/><path d=\"m 325,369.598 h 20\" style=\"fill:none;stroke:#ffffff;stroke-width:1;stroke-linecap:butt;stroke-linejoin:miter;stroke-miterlimit:10;stroke-dasharray:none;stroke-opacity:1\" id=\"path366\" inkscape:connector-curvature=\"0\"/><path d=\"m 325,350.098 v 19\" style=\"fill:none;stroke:#ffffff;stroke-width:1;stroke-linecap:butt;stroke-linejoin:miter;stroke-miterlimit:10;stroke-dasharray:none;stroke-opacity:1\" id=\"path368\" inkscape:connector-curvature=\"0\"/><path d=\"m 345,369.598 h 72\" style=\"fill:none;stroke:#ffffff;stroke-width:1;stroke-linecap:butt;stroke-linejoin:miter;stroke-miterlimit:10;stroke-dasharray:none;stroke-opacity:1\" id=\"path370\" inkscape:connector-curvature=\"0\"/><path d=\"m 345,350.098 v 19\" style=\"fill:none;stroke:#ffffff;stroke-width:1;stroke-linecap:butt;stroke-linejoin:miter;stroke-miterlimit:10;stroke-dasharray:none;stroke-opacity:1\" id=\"path372\" inkscape:connector-curvature=\"0\"/><path d=\"m 417,369.598 h 20\" style=\"fill:none;stroke:#ffffff;stroke-width:1;stroke-linecap:butt;stroke-linejoin:miter;stroke-miterlimit:10;stroke-dasharray:none;stroke-opacity:1\" id=\"path374\" inkscape:connector-curvature=\"0\"/><path d=\"m 417,350.098 v 19\" style=\"fill:none;stroke:#ffffff;stroke-width:1;stroke-linecap:butt;stroke-linejoin:miter;stroke-miterlimit:10;stroke-dasharray:none;stroke-opacity:1\" id=\"path376\" inkscape:connector-curvature=\"0\"/><path d=\"m 437,369.598 h 72\" style=\"fill:none;stroke:#ffffff;stroke-width:1;stroke-linecap:butt;stroke-linejoin:miter;stroke-miterlimit:10;stroke-dasharray:none;stroke-opacity:1\" id=\"path378\" inkscape:connector-curvature=\"0\"/><path d=\"m 437,350.098 v 19\" style=\"fill:none;stroke:#ffffff;stroke-width:1;stroke-linecap:butt;stroke-linejoin:miter;stroke-miterlimit:10;stroke-dasharray:none;stroke-opacity:1\" id=\"path380\" inkscape:connector-curvature=\"0\"/><path d=\"m 509,369.598 h 20.5\" style=\"fill:none;stroke:#ffffff;stroke-width:1;stroke-linecap:butt;stroke-linejoin:miter;stroke-miterlimit:10;stroke-dasharray:none;stroke-opacity:1\" id=\"path382\" inkscape:connector-curvature=\"0\"/><path d=\"m 509,350.098 v 19\" style=\"fill:none;stroke:#ffffff;stroke-width:1;stroke-linecap:butt;stroke-linejoin:miter;stroke-miterlimit:10;stroke-dasharray:none;stroke-opacity:1\" id=\"path384\" inkscape:connector-curvature=\"0\"/><path d=\"m 529,350.098 v 19\" style=\"fill:none;stroke:#ffffff;stroke-width:1;stroke-linecap:butt;stroke-linejoin:miter;stroke-miterlimit:10;stroke-dasharray:none;stroke-opacity:1\" id=\"path386\" inkscape:connector-curvature=\"0\"/><path d=\"M 160.5,349.598 H 233\" style=\"fill:none;stroke:#ffffff;stroke-width:1;stroke-linecap:butt;stroke-linejoin:miter;stroke-miterlimit:10;stroke-dasharray:none;stroke-opacity:1\" id=\"path388\" inkscape:connector-curvature=\"0\"/><path d=\"m 161,330.098 v 19\" style=\"fill:none;stroke:#ffffff;stroke-width:1;stroke-linecap:butt;stroke-linejoin:miter;stroke-miterlimit:10;stroke-dasharray:none;stroke-opacity:1\" id=\"path390\" inkscape:connector-curvature=\"0\"/><path d=\"m 233,349.598 h 20\" style=\"fill:none;stroke:#ffffff;stroke-width:1;stroke-linecap:butt;stroke-linejoin:miter;stroke-miterlimit:10;stroke-dasharray:none;stroke-opacity:1\" id=\"path392\" inkscape:connector-curvature=\"0\"/><path d=\"m 233,330.098 v 19\" style=\"fill:none;stroke:#ffffff;stroke-width:1;stroke-linecap:butt;stroke-linejoin:miter;stroke-miterlimit:10;stroke-dasharray:none;stroke-opacity:1\" id=\"path394\" inkscape:connector-curvature=\"0\"/><path d=\"m 253,349.598 h 72\" style=\"fill:none;stroke:#ffffff;stroke-width:1;stroke-linecap:butt;stroke-linejoin:miter;stroke-miterlimit:10;stroke-dasharray:none;stroke-opacity:1\" id=\"path396\" inkscape:connector-curvature=\"0\"/><path d=\"m 253,330.098 v 19\" style=\"fill:none;stroke:#ffffff;stroke-width:1;stroke-linecap:butt;stroke-linejoin:miter;stroke-miterlimit:10;stroke-dasharray:none;stroke-opacity:1\" id=\"path398\" inkscape:connector-curvature=\"0\"/><path d=\"m 325,349.598 h 20\" style=\"fill:none;stroke:#ffffff;stroke-width:1;stroke-linecap:butt;stroke-linejoin:miter;stroke-miterlimit:10;stroke-dasharray:none;stroke-opacity:1\" id=\"path400\" inkscape:connector-curvature=\"0\"/><path d=\"m 325,330.098 v 19\" style=\"fill:none;stroke:#ffffff;stroke-width:1;stroke-linecap:butt;stroke-linejoin:miter;stroke-miterlimit:10;stroke-dasharray:none;stroke-opacity:1\" id=\"path402\" inkscape:connector-curvature=\"0\"/><path d=\"m 345,349.598 h 72\" style=\"fill:none;stroke:#ffffff;stroke-width:1;stroke-linecap:butt;stroke-linejoin:miter;stroke-miterlimit:10;stroke-dasharray:none;stroke-opacity:1\" id=\"path404\" inkscape:connector-curvature=\"0\"/><path d=\"m 345,330.098 v 19\" style=\"fill:none;stroke:#ffffff;stroke-width:1;stroke-linecap:butt;stroke-linejoin:miter;stroke-miterlimit:10;stroke-dasharray:none;stroke-opacity:1\" id=\"path406\" inkscape:connector-curvature=\"0\"/><path d=\"m 437,349.598 h 72\" style=\"fill:none;stroke:#ffffff;stroke-width:1;stroke-linecap:butt;stroke-linejoin:miter;stroke-miterlimit:10;stroke-dasharray:none;stroke-opacity:1\" id=\"path408\" inkscape:connector-curvature=\"0\"/><path d=\"m 509,349.598 h 20.5\" style=\"fill:none;stroke:#ffffff;stroke-width:1;stroke-linecap:butt;stroke-linejoin:miter;stroke-miterlimit:10;stroke-dasharray:none;stroke-opacity:1\" id=\"path410\" inkscape:connector-curvature=\"0\"/><path d=\"m 509,330.098 v 19\" style=\"fill:none;stroke:#ffffff;stroke-width:1;stroke-linecap:butt;stroke-linejoin:miter;stroke-miterlimit:10;stroke-dasharray:none;stroke-opacity:1\" id=\"path412\" inkscape:connector-curvature=\"0\"/><path d=\"m 529,330.098 v 19\" style=\"fill:none;stroke:#ffffff;stroke-width:1;stroke-linecap:butt;stroke-linejoin:miter;stroke-miterlimit:10;stroke-dasharray:none;stroke-opacity:1\" id=\"path414\" inkscape:connector-curvature=\"0\"/><path d=\"M 160.5,329.598 H 233\" style=\"fill:none;stroke:#ffffff;stroke-width:1;stroke-linecap:butt;stroke-linejoin:miter;stroke-miterlimit:10;stroke-dasharray:none;stroke-opacity:1\" id=\"path416\" inkscape:connector-curvature=\"0\"/><path d=\"m 233,329.598 h 20\" style=\"fill:none;stroke:#ffffff;stroke-width:1;stroke-linecap:butt;stroke-linejoin:miter;stroke-miterlimit:10;stroke-dasharray:none;stroke-opacity:1\" id=\"path418\" inkscape:connector-curvature=\"0\"/><path d=\"m 253,329.598 h 72\" style=\"fill:none;stroke:#ffffff;stroke-width:1;stroke-linecap:butt;stroke-linejoin:miter;stroke-miterlimit:10;stroke-dasharray:none;stroke-opacity:1\" id=\"path420\" inkscape:connector-curvature=\"0\"/><path d=\"m 325,329.598 h 20\" style=\"fill:none;stroke:#ffffff;stroke-width:1;stroke-linecap:butt;stroke-linejoin:miter;stroke-miterlimit:10;stroke-dasharray:none;stroke-opacity:1\" id=\"path422\" inkscape:connector-curvature=\"0\"/><path d=\"m 345,329.598 h 72\" style=\"fill:none;stroke:#ffffff;stroke-width:1;stroke-linecap:butt;stroke-linejoin:miter;stroke-miterlimit:10;stroke-dasharray:none;stroke-opacity:1\" id=\"path424\" inkscape:connector-curvature=\"0\"/><path d=\"m 437,329.598 h 72\" style=\"fill:none;stroke:#ffffff;stroke-width:1;stroke-linecap:butt;stroke-linejoin:miter;stroke-miterlimit:10;stroke-dasharray:none;stroke-opacity:1\" id=\"path426\" inkscape:connector-curvature=\"0\"/><path d=\"m 509,329.598 h 20.5\" style=\"fill:none;stroke:#ffffff;stroke-width:1;stroke-linecap:butt;stroke-linejoin:miter;stroke-miterlimit:10;stroke-dasharray:none;stroke-opacity:1\" id=\"path428\" inkscape:connector-curvature=\"0\"/><path d=\"m 253,511.639 h 72\" style=\"fill:none;stroke:#ffffff;stroke-width:1;stroke-linecap:butt;stroke-linejoin:miter;stroke-miterlimit:10;stroke-dasharray:none;stroke-opacity:1\" id=\"path430\" inkscape:connector-curvature=\"0\"/><path d=\"m 325,511.639 h 20\" style=\"fill:none;stroke:#ffffff;stroke-width:1;stroke-linecap:butt;stroke-linejoin:miter;stroke-miterlimit:10;stroke-dasharray:none;stroke-opacity:1\" id=\"path432\" inkscape:connector-curvature=\"0\"/><path d=\"m 253,490.139 v 21\" style=\"fill:none;stroke:#ffffff;stroke-width:1;stroke-linecap:butt;stroke-linejoin:miter;stroke-miterlimit:10;stroke-dasharray:none;stroke-opacity:1\" id=\"path434\" inkscape:connector-curvature=\"0\"/><path d=\"m 345,490.139 v 21\" style=\"fill:none;stroke:#ffffff;stroke-width:1;stroke-linecap:butt;stroke-linejoin:miter;stroke-miterlimit:10;stroke-dasharray:none;stroke-opacity:1\" id=\"path436\" inkscape:connector-curvature=\"0\"/><path d=\"m 253,489.639 h 72\" style=\"fill:none;stroke:#ffffff;stroke-width:1;stroke-linecap:butt;stroke-linejoin:miter;stroke-miterlimit:10;stroke-dasharray:none;stroke-opacity:1\" id=\"path438\" inkscape:connector-curvature=\"0\"/><path d=\"m 325,489.639 h 20\" style=\"fill:none;stroke:#ffffff;stroke-width:1;stroke-linecap:butt;stroke-linejoin:miter;stroke-miterlimit:10;stroke-dasharray:none;stroke-opacity:1\" id=\"path440\" inkscape:connector-curvature=\"0\"/><path d=\"m 417,349.598 h 20\" style=\"fill:none;stroke:#ffffff;stroke-width:1;stroke-linecap:butt;stroke-linejoin:miter;stroke-miterlimit:10;stroke-dasharray:none;stroke-opacity:1\" id=\"path442\" inkscape:connector-curvature=\"0\"/><path d=\"m 417,330.098 v 19\" style=\"fill:none;stroke:#ffffff;stroke-width:1;stroke-linecap:butt;stroke-linejoin:miter;stroke-miterlimit:10;stroke-dasharray:none;stroke-opacity:1\" id=\"path444\" inkscape:connector-curvature=\"0\"/><path d=\"m 437,330.098 v 19\" style=\"fill:none;stroke:#ffffff;stroke-width:1;stroke-linecap:butt;stroke-linejoin:miter;stroke-miterlimit:10;stroke-dasharray:none;stroke-opacity:1\" id=\"path446\" inkscape:connector-curvature=\"0\"/><path d=\"m 417,329.598 h 20\" style=\"fill:none;stroke:#ffffff;stroke-width:1;stroke-linecap:butt;stroke-linejoin:miter;stroke-miterlimit:10;stroke-dasharray:none;stroke-opacity:1\" id=\"path448\" inkscape:connector-curvature=\"0\"/><text y=\"-519.39899\" x=\"273.573\" id=\"text454\" style=\"font-variant:normal;font-weight:normal;font-size:11px;font-family:'Lucida Sans Std';-inkscape-font-specification:LucidaSansStd;writing-mode:lr-tb;fill:#006cb8;fill-opacity:1;fill-rule:nonzero;stroke:none\" transform=\"scale(1,-1)\"><tspan id=\"tspan452\" sodipodi:role=\"line\" y=\"-519.39899\" x=\"273.573 279.31519 285.38721 292.3172 295.49619 301.6232 304.40619 311.3692\">Table 4 </tspan></text>\n",
       "\n",
       "<text y=\"-519.39899\" x=\"316.935\" id=\"text460\" style=\"font-variant:normal;font-weight:normal;font-size:11px;font-family:'Lucida Sans Std';-inkscape-font-specification:LucidaSansStd;writing-mode:lr-tb;fill:#241f1f;fill-opacity:1;fill-rule:nonzero;stroke:none\" transform=\"scale(1,-1)\"><tspan id=\"tspan458\" sodipodi:role=\"line\" y=\"-519.39899\" x=\"316.935 322.86401 328.936 339.20999 346.14001 349.319 355.44601 358.229 365.19199 373.14499 379.47 382.25299 388.63303 394.70505 397.88403 404.70404 410.83102\">Sample RGB Values</tspan></text>\n",
       "\n",
       "<text y=\"-497.67001\" x=\"183.187\" id=\"text466\" style=\"font-variant:normal;font-weight:normal;font-size:9px;font-family:'Lucida Sans Std';-inkscape-font-specification:LucidaSansStd;writing-mode:lr-tb;fill:#006cb8;fill-opacity:1;fill-rule:nonzero;stroke:none\" transform=\"scale(1,-1)\"><tspan id=\"tspan464\" sodipodi:role=\"line\" y=\"-497.67001\" x=\"183.187 188.884 195.39101 200.56599 202.843 208.06319 213.03117 215.63217 221.21217 226.22517 274.48309 280.18008 285.87708 291.8981 294.17508 300.91608 305.88409 309.56509 314.83011 319.84311 371.80899 378.478 383.491 389.09799 394.06601 397.43201 400.03299 405.181 461.95309 468.46011 472.14111 477.1091 482.2211 486.8111 491.47311 496.4411 499.04211\">RGB Values15% DarkerNegativeGrayscale</tspan></text>\n",
       "\n",
       "<text y=\"-451.70605\" x=\"179.81554\" id=\"text486\" style=\"font-variant:normal;font-weight:normal;font-size:7.1151247px;font-family:'Lucida Sans Typewriter Std';-inkscape-font-specification:LucidaSansTypewriterStd;writing-mode:lr-tb;fill:#241f1f;fill-opacity:1;fill-rule:nonzero;stroke:none;stroke-width:0.94868332\" transform=\"scale(0.9486833,-1.0540926)\"><tspan style=\"stroke-width:0.94868332\" id=\"tspan470\" sodipodi:role=\"line\" y=\"-451.70605\" x=\"179.81554 184.09885 188.38216 192.66545 196.94876 201.23207 205.51537 209.79868 214.08199 218.36528 222.64859 226.9319 231.21519 276.79413 281.07742 285.36075 289.64404 293.92734 298.21063 302.49396 306.77725 311.06058 315.34387 319.62717 323.91049 328.19379 386.6232 390.90649 395.18979 399.47311 403.75641 408.0397 412.32303 470.75256 475.03586 479.31918 483.60248 487.8858 492.16907 496.45239 500.73569 505.01901 509.30231 513.58563 517.8689 522.15222\">255, 255, 255217, 217, 2170, 0, 0254, 254, 254</tspan><tspan style=\"stroke-width:0.94868332\" id=\"tspan472\" sodipodi:role=\"line\" y=\"-432.72946\" x=\"188.38869 192.672 196.95529 201.2386 205.52191 209.80521 214.08852 218.37183 222.65514 285.36807 289.65134 293.93466 298.21796 302.50128 306.78458 311.06787 315.3512 319.63449 378.06396 382.34726 386.63058 390.91388 395.1972 399.4805 403.76379 408.04712 412.33041 416.61371 420.89703 477.18448 481.4678 485.75107 490.03439 494.31772 498.60101 502.88434 507.16763 511.45093 515.73425\">0, 0, 2550, 0, 217255, 255, 018, 18, 18</tspan><tspan style=\"stroke-width:0.94868332\" id=\"tspan474\" sodipodi:role=\"line\" y=\"-413.75284\" x=\"179.82953 184.11284 188.39615 192.67944 196.96275 201.24606 205.52936 209.81267 214.09598 218.37927 222.66258 226.94589 231.2292 276.80896 281.09229 285.37558 289.65887 293.9422 298.22549 302.50879 306.79211 311.07541 315.3587 319.64203 323.92532 328.20862 373.78754 378.07086 382.35416 386.63745 390.92078 395.20407 399.48737 403.77069 408.05399 412.33731 416.62061 420.9039 425.18719 470.76733 475.05066 479.33395 483.61728 487.90054 492.18387 496.46716 500.75049 505.03378 509.31711 513.6004 517.88373 522.16699\">128, 128, 128109, 109, 109127, 127, 127128, 128, 128</tspan><tspan style=\"stroke-width:0.94868332\" id=\"tspan476\" sodipodi:role=\"line\" y=\"-394.77728\" x=\"188.4035 192.68681 196.97012 201.25342 205.53673 209.82004 214.10333 218.38664 222.66994 285.38208 289.66537 293.9487 298.23199 302.51532 306.79861 311.08191 315.36523 319.64853 378.078 382.3613 386.64462 390.92792 395.21121 399.49454 403.77783 408.06113 412.34445 416.62775 420.91104 470.7735 475.05679 479.34012 483.62341 487.90674 492.19 496.47333 500.75662 505.03995 509.32324 513.60657 517.88983 522.17316\">0, 255, 00, 217, 0255, 0, 255182, 182, 182</tspan><tspan style=\"stroke-width:0.94868332\" id=\"tspan478\" sodipodi:role=\"line\" y=\"-375.80069\" x=\"188.41092 192.69423 196.97752 201.26083 205.54414 209.82744 214.11075 218.39406 222.67735 285.3895 289.67279 293.95612 298.23941 302.52274 306.80603 311.08932 315.37265 319.65594 378.08542 382.36871 386.65201 390.93533 395.21863 399.50192 403.78525 408.06854 412.35184 416.63516 420.91846 477.20593 481.48926 485.77252 490.05585 494.33914 498.62247 502.90576 507.18906 511.47235 515.75568\">255, 0, 0217, 0, 00, 255, 25554, 54, 54</tspan><tspan style=\"stroke-width:0.94868332\" id=\"tspan480\" sodipodi:role=\"line\" y=\"-356.78925\" x=\"181.99248 186.27579 190.55908 194.84239 199.1257 203.409 207.69231 211.97562 216.25891 220.54222 224.82553 229.10884 278.97183 283.25516 287.53845 291.82175 296.10507 300.38837 304.67169 308.95499 313.23828 317.52158 321.8049 326.0882 378.09238 382.37567 386.65897 390.94226 395.22559 399.50888 403.79218 408.0755 412.3588 416.64209 420.92542 470.78827 475.07159 479.35489 483.63821 487.92148 492.2048 496.4881 500.77142 505.05472 509.33801 513.62134 517.90466 522.18793\">35, 178, 20030, 151, 170220, 77, 55149, 149, 149</tspan><tspan style=\"stroke-width:0.94868332\" id=\"tspan482\" sodipodi:role=\"line\" y=\"-337.81369\" x=\"184.14185 188.42514 192.70845 196.99176 201.27507 205.55836 209.84167 214.12497 218.40828 222.69159 226.9749 281.12042 285.40372 289.68704 293.97034 298.25363 302.53696 306.82025 311.10355 315.38687 319.67017 323.95346 382.38287 386.66617 390.94949 395.23279 399.51608 403.79941 408.0827 412.366 416.64932 470.79572 475.07901 479.36234 483.6456 487.92892 492.21222 496.49554 500.77884 505.06213 509.34543 513.62878 517.91205 522.19537\">255, 255, 0217, 217, 00, 0, 255236, 236, 236</tspan><tspan style=\"stroke-width:0.94868332\" id=\"tspan484\" sodipodi:role=\"line\" y=\"-318.8371\" x=\"184.14803 188.43132 192.71463 196.99794 201.28123 205.56454 209.84785 214.13115 218.41446 222.69777 226.98106 281.12781 285.4111 289.69443 293.97772 298.26102 302.54434 306.82764 311.11093 315.39426 319.67755 323.96085 382.39026 386.67355 390.95688 395.24017 399.5235 403.80679 408.09009 412.37341 416.65671 470.80222 475.08554 479.36884 483.65216 487.93546 492.21875 496.50204 500.78537 505.06866 509.35199 513.63531 517.91858 522.2019\">0, 255, 2550, 217, 217255, 0, 0200, 200, 200</tspan></text>\n",
       "\n",
       "</g>\n",
       "<g id=\"g610\" clip-path=\"url(#clipPath614)\" transform=\"scale(0.1)\"/><text xml:space=\"preserve\" style=\"font-style:normal;font-variant:normal;font-weight:300;font-stretch:normal;font-size:8.47929955px;line-height:1.25;font-family:'DIN Next LT Pro';-inkscape-font-specification:'DIN Next LT Pro, Light';font-variant-ligatures:normal;font-variant-caps:normal;font-variant-numeric:normal;font-feature-settings:normal;text-align:center;letter-spacing:0px;word-spacing:0px;writing-mode:lr-tb;text-anchor:middle;fill:#000000;fill-opacity:1;stroke:none;stroke-width:0.75\" x=\"154.97198\" y=\"-476.23901\" id=\"text229\" transform=\"scale(1,-1)\"><tspan sodipodi:role=\"line\" id=\"tspan227\" x=\"154.97198\" y=\"-476.23901\" style=\"font-style:normal;font-variant:normal;font-weight:300;font-stretch:normal;font-size:8.47929955px;font-family:'DIN Next LT Pro';-inkscape-font-specification:'DIN Next LT Pro, Light';font-variant-ligatures:normal;font-variant-caps:normal;font-variant-numeric:normal;font-feature-settings:normal;text-align:center;writing-mode:lr-tb;text-anchor:middle;stroke-width:0.75\">1</tspan></text>\n",
       "\n",
       "<text transform=\"scale(1,-1)\" id=\"text233\" y=\"-456.19901\" x=\"154.71698\" style=\"font-style:normal;font-variant:normal;font-weight:300;font-stretch:normal;font-size:8.47929955px;line-height:1.25;font-family:'DIN Next LT Pro';-inkscape-font-specification:'DIN Next LT Pro, Light';font-variant-ligatures:normal;font-variant-caps:normal;font-variant-numeric:normal;font-feature-settings:normal;text-align:center;letter-spacing:0px;word-spacing:0px;writing-mode:lr-tb;text-anchor:middle;fill:#000000;fill-opacity:1;stroke:none;stroke-width:0.75\" xml:space=\"preserve\"><tspan style=\"font-style:normal;font-variant:normal;font-weight:300;font-stretch:normal;font-size:8.47929955px;font-family:'DIN Next LT Pro';-inkscape-font-specification:'DIN Next LT Pro, Light';font-variant-ligatures:normal;font-variant-caps:normal;font-variant-numeric:normal;font-feature-settings:normal;text-align:center;writing-mode:lr-tb;text-anchor:middle;stroke-width:0.75\" y=\"-456.19901\" x=\"154.71698\" id=\"tspan231\" sodipodi:role=\"line\">2</tspan></text>\n",
       "\n",
       "<text xml:space=\"preserve\" style=\"font-style:normal;font-variant:normal;font-weight:300;font-stretch:normal;font-size:8.47929955px;line-height:1.25;font-family:'DIN Next LT Pro';-inkscape-font-specification:'DIN Next LT Pro, Light';font-variant-ligatures:normal;font-variant-caps:normal;font-variant-numeric:normal;font-feature-settings:normal;text-align:center;letter-spacing:0px;word-spacing:0px;writing-mode:lr-tb;text-anchor:middle;fill:#000000;fill-opacity:1;stroke:none;stroke-width:0.5979318\" x=\"194.06039\" y=\"-347.789\" id=\"text237\" transform=\"scale(0.79724238,-1.2543237)\"><tspan sodipodi:role=\"line\" id=\"tspan235\" x=\"194.06039\" y=\"-347.789\" style=\"font-style:normal;font-variant:normal;font-weight:300;font-stretch:normal;font-size:8.47929955px;font-family:'DIN Next LT Pro';-inkscape-font-specification:'DIN Next LT Pro, Light';font-variant-ligatures:normal;font-variant-caps:normal;font-variant-numeric:normal;font-feature-settings:normal;text-align:center;writing-mode:lr-tb;text-anchor:middle;stroke-width:0.5979318\">3</tspan></text>\n",
       "\n",
       "<text transform=\"scale(0.79724238,-1.2543237)\" id=\"text241\" y=\"-331.84338\" x=\"194.04843\" style=\"font-style:normal;font-variant:normal;font-weight:300;font-stretch:normal;font-size:8.47929955px;line-height:1.25;font-family:'DIN Next LT Pro';-inkscape-font-specification:'DIN Next LT Pro, Light';font-variant-ligatures:normal;font-variant-caps:normal;font-variant-numeric:normal;font-feature-settings:normal;text-align:center;letter-spacing:0px;word-spacing:0px;writing-mode:lr-tb;text-anchor:middle;fill:#000000;fill-opacity:1;stroke:none;stroke-width:0.5979318\" xml:space=\"preserve\"><tspan style=\"font-style:normal;font-variant:normal;font-weight:300;font-stretch:normal;font-size:8.47929955px;font-family:'DIN Next LT Pro';-inkscape-font-specification:'DIN Next LT Pro, Light';font-variant-ligatures:normal;font-variant-caps:normal;font-variant-numeric:normal;font-feature-settings:normal;text-align:center;writing-mode:lr-tb;text-anchor:middle;stroke-width:0.5979318\" y=\"-331.84338\" x=\"194.04843\" id=\"tspan239\" sodipodi:role=\"line\">4</tspan></text>\n",
       "\n",
       "<text xml:space=\"preserve\" style=\"font-style:normal;font-variant:normal;font-weight:300;font-stretch:normal;font-size:8.47929955px;line-height:1.25;font-family:'DIN Next LT Pro';-inkscape-font-specification:'DIN Next LT Pro, Light';font-variant-ligatures:normal;font-variant-caps:normal;font-variant-numeric:normal;font-feature-settings:normal;text-align:center;letter-spacing:0px;word-spacing:0px;writing-mode:lr-tb;text-anchor:middle;fill:#000000;fill-opacity:1;stroke:none;stroke-width:0.5979318\" x=\"194.03647\" y=\"-315.91446\" id=\"text245\" transform=\"scale(0.79724238,-1.2543237)\"><tspan sodipodi:role=\"line\" id=\"tspan243\" x=\"194.03647\" y=\"-315.91446\" style=\"font-style:normal;font-variant:normal;font-weight:300;font-stretch:normal;font-size:8.47929955px;font-family:'DIN Next LT Pro';-inkscape-font-specification:'DIN Next LT Pro, Light';font-variant-ligatures:normal;font-variant-caps:normal;font-variant-numeric:normal;font-feature-settings:normal;text-align:center;writing-mode:lr-tb;text-anchor:middle;stroke-width:0.5979318\">5</tspan></text>\n",
       "\n",
       "<text transform=\"scale(0.79724238,-1.2543237)\" id=\"text249\" y=\"-299.95288\" x=\"194.05241\" style=\"font-style:normal;font-variant:normal;font-weight:300;font-stretch:normal;font-size:8.47929955px;line-height:1.25;font-family:'DIN Next LT Pro';-inkscape-font-specification:'DIN Next LT Pro, Light';font-variant-ligatures:normal;font-variant-caps:normal;font-variant-numeric:normal;font-feature-settings:normal;text-align:center;letter-spacing:0px;word-spacing:0px;writing-mode:lr-tb;text-anchor:middle;fill:#000000;fill-opacity:1;stroke:none;stroke-width:0.5979318\" xml:space=\"preserve\"><tspan style=\"font-style:normal;font-variant:normal;font-weight:300;font-stretch:normal;font-size:8.47929955px;font-family:'DIN Next LT Pro';-inkscape-font-specification:'DIN Next LT Pro, Light';font-variant-ligatures:normal;font-variant-caps:normal;font-variant-numeric:normal;font-feature-settings:normal;text-align:center;writing-mode:lr-tb;text-anchor:middle;stroke-width:0.5979318\" y=\"-299.95288\" x=\"194.05241\" id=\"tspan247\" sodipodi:role=\"line\">6</tspan></text>\n",
       "\n",
       "<text xml:space=\"preserve\" style=\"font-style:normal;font-variant:normal;font-weight:300;font-stretch:normal;font-size:8.47929955px;line-height:1.25;font-family:'DIN Next LT Pro';-inkscape-font-specification:'DIN Next LT Pro, Light';font-variant-ligatures:normal;font-variant-caps:normal;font-variant-numeric:normal;font-feature-settings:normal;text-align:center;letter-spacing:0px;word-spacing:0px;writing-mode:lr-tb;text-anchor:middle;fill:#000000;fill-opacity:1;stroke:none;stroke-width:0.5979318\" x=\"194.00858\" y=\"-283.97614\" id=\"text253\" transform=\"scale(0.79724238,-1.2543237)\"><tspan sodipodi:role=\"line\" id=\"tspan251\" x=\"194.00858\" y=\"-283.97614\" style=\"font-style:normal;font-variant:normal;font-weight:300;font-stretch:normal;font-size:8.47929955px;font-family:'DIN Next LT Pro';-inkscape-font-specification:'DIN Next LT Pro, Light';font-variant-ligatures:normal;font-variant-caps:normal;font-variant-numeric:normal;font-feature-settings:normal;text-align:center;writing-mode:lr-tb;text-anchor:middle;stroke-width:0.5979318\">7</tspan></text>\n",
       "\n",
       "<text transform=\"scale(0.79724238,-1.2543237)\" id=\"text257\" y=\"-268.03128\" x=\"194.05241\" style=\"font-style:normal;font-variant:normal;font-weight:300;font-stretch:normal;font-size:8.47929955px;line-height:1.25;font-family:'DIN Next LT Pro';-inkscape-font-specification:'DIN Next LT Pro, Light';font-variant-ligatures:normal;font-variant-caps:normal;font-variant-numeric:normal;font-feature-settings:normal;text-align:center;letter-spacing:0px;word-spacing:0px;writing-mode:lr-tb;text-anchor:middle;fill:#000000;fill-opacity:1;stroke:none;stroke-width:0.5979318\" xml:space=\"preserve\"><tspan style=\"font-style:normal;font-variant:normal;font-weight:300;font-stretch:normal;font-size:8.47929955px;font-family:'DIN Next LT Pro';-inkscape-font-specification:'DIN Next LT Pro, Light';font-variant-ligatures:normal;font-variant-caps:normal;font-variant-numeric:normal;font-feature-settings:normal;text-align:center;writing-mode:lr-tb;text-anchor:middle;stroke-width:0.5979318\" y=\"-268.03128\" x=\"194.05241\" id=\"tspan255\" sodipodi:role=\"line\">8</tspan></text>\n",
       "\n",
       "<rect style=\"opacity:1;fill:none;fill-opacity:0.53731348;stroke:#b4abab;stroke-width:1.01366901;stroke-linecap:butt;stroke-linejoin:round;stroke-miterlimit:4;stroke-dasharray:none;stroke-dashoffset:0;stroke-opacity:1;paint-order:stroke fill markers\" id=\"rect474\" width=\"367.98636\" height=\"205.02858\" x=\"161.00682\" y=\"-534.6333\" transform=\"scale(1,-1)\"/></g></svg>"
      ],
      "text/plain": [
       "<IPython.core.display.SVG object>"
      ]
     },
     "execution_count": 11,
     "metadata": {},
     "output_type": "execute_result"
    }
   ],
   "source": [
    "SVG( 'images/chapter-04-p237-colors.svg' )"
   ]
  },
  {
   "cell_type": "code",
   "execution_count": 14,
   "metadata": {},
   "outputs": [
    {
     "data": {
      "text/plain": [
       "217"
      ]
     },
     "execution_count": 14,
     "metadata": {},
     "output_type": "execute_result"
    }
   ],
   "source": [
    "round( 255 * 0.85 ) # Make 255 15% darker"
   ]
  },
  {
   "cell_type": "code",
   "execution_count": 15,
   "metadata": {},
   "outputs": [
    {
     "data": {
      "text/plain": [
       "170"
      ]
     },
     "execution_count": 15,
     "metadata": {},
     "output_type": "execute_result"
    }
   ],
   "source": [
    "round( 200 * 0.85 ) # Make 255 15% darker"
   ]
  },
  {
   "cell_type": "code",
   "execution_count": 16,
   "metadata": {},
   "outputs": [
    {
     "data": {
      "text/plain": [
       "16777216"
      ]
     },
     "execution_count": 16,
     "metadata": {},
     "output_type": "execute_result"
    }
   ],
   "source": [
    "256 * 256 * 256 # 256 shades of RED x 256 shades of GREEN x 256 shades of BLUE"
   ]
  },
  {
   "cell_type": "markdown",
   "metadata": {},
   "source": [
    "Note that all _grayscale_ colors have identical R, G, and B components!"
   ]
  },
  {
   "cell_type": "markdown",
   "metadata": {},
   "source": [
    "#### Computing darker colors\n",
    "\n",
    "- Let us darken color `(35, 178, 200)` on the 6th row under the ___RGB Values___ column by __15%__:\n",
    "\n",
    "  To do this, all we have to do is to multiply each RGB component by 0.85.\n",
    "  \n",
    "Here's how we can do this calculation in Python:"
   ]
  },
  {
   "cell_type": "code",
   "execution_count": 17,
   "metadata": {},
   "outputs": [
    {
     "data": {
      "text/plain": [
       "[30, 151, 170]"
      ]
     },
     "execution_count": 17,
     "metadata": {},
     "output_type": "execute_result"
    }
   ],
   "source": [
    "from math import floor\n",
    "\n",
    "list( map( lambda c: round( c * 0.85 ), (35, 178, 200) ) )"
   ]
  },
  {
   "cell_type": "code",
   "execution_count": 18,
   "metadata": {},
   "outputs": [
    {
     "data": {
      "text/plain": [
       "[30, 151, 170]"
      ]
     },
     "execution_count": 18,
     "metadata": {},
     "output_type": "execute_result"
    }
   ],
   "source": [
    "[round( c * 0.85 ) for c in (35, 178, 200)]"
   ]
  },
  {
   "cell_type": "markdown",
   "metadata": {},
   "source": [
    "So, by _rounding_, we find the same RGB values as in the case we considered above. See the color on the 6th row under the ___15% Darker___ column."
   ]
  },
  {
   "cell_type": "markdown",
   "metadata": {},
   "source": [
    "#### 4.10.1 __Filtering Images__"
   ]
  },
  {
   "cell_type": "markdown",
   "metadata": {},
   "source": [
    "- Run the program for inverting an image: [src/filter-image.py](src/filter-image.py)\n",
    "\n",
    "> __NOTE:__ This version of the program is slightly different from the original version."
   ]
  },
  {
   "cell_type": "code",
   "execution_count": 19,
   "metadata": {},
   "outputs": [
    {
     "name": "stdout",
     "output_type": "stream",
     "text": [
      "--- Filtering [START] ...\n",
      "--- Filtering [END]\n",
      "--- Saved the negative image in images/negative-president-trump-01.gif.\n"
     ]
    }
   ],
   "source": [
    "!python src/filter-image.py images/president-trump-01.gif"
   ]
  },
  {
   "cell_type": "markdown",
   "metadata": {},
   "source": [
    "After filtering is done, you can close the window that popped.\n",
    "\n",
    "This is what you should see on your screen when the image is loaded."
   ]
  },
  {
   "cell_type": "markdown",
   "metadata": {},
   "source": [
    "<img src=\"images/filter-image-screenshot-01.png\"/>"
   ]
  },
  {
   "cell_type": "markdown",
   "metadata": {},
   "source": [
    "Then you should see the following when filtering is done."
   ]
  },
  {
   "cell_type": "markdown",
   "metadata": {},
   "source": [
    "<img src=\"images/filter-image-screenshot-02.png\"/>"
   ]
  },
  {
   "cell_type": "markdown",
   "metadata": {},
   "source": [
    "Nice, Trumpty Dumpty <span style=\"font-size:33px\">&#128518;!</span>\n"
   ]
  },
  {
   "cell_type": "markdown",
   "metadata": {},
   "source": [
    "#### 4.10.2 __Reconfiguring Images__"
   ]
  },
  {
   "cell_type": "markdown",
   "metadata": {},
   "source": [
    "Study the source code you ran above about how images can be inverted using the `ezgraphics` library.\n",
    "\n",
    "The next example is about flipping images upside down."
   ]
  },
  {
   "cell_type": "markdown",
   "metadata": {},
   "source": [
    "- Run the program for inverting an image: [src/flip-image.py](src/flip-image.py)\n",
    "\n",
    "  You can also run it from within this notebook now that it does not require any keyboard input. Instead of providing the input \n",
    "  file path through the keyboard, we provide this argument through the command line using the `sys.argv` array. See the modified\n",
    "  source code.\n",
    "\n",
    "> __NOTE:__ This version of the program is slightly different from the original version."
   ]
  },
  {
   "cell_type": "code",
   "execution_count": 20,
   "metadata": {},
   "outputs": [
    {
     "name": "stdout",
     "output_type": "stream",
     "text": [
      "--- Flipping image [START] ...\n",
      "--- Flipping image [END]\n",
      "--- Saved the flipped image in images/flipped-president-trump-01.gif.\n"
     ]
    }
   ],
   "source": [
    "!python src/flip-image.py images/president-trump-01.gif"
   ]
  },
  {
   "cell_type": "markdown",
   "metadata": {},
   "source": [
    "As the program is running, you should see flipping happening in real time as in the screenshot below."
   ]
  },
  {
   "cell_type": "markdown",
   "metadata": {},
   "source": [
    "<img src=\"images/flip-image-screenshot-01.png\"/>"
   ]
  },
  {
   "cell_type": "markdown",
   "metadata": {},
   "source": [
    "In this example, I modified the code for you so that you can see the flipping of the image in action.\n",
    "\n",
    "See the source code documentation for more detailed explanations."
   ]
  },
  {
   "cell_type": "markdown",
   "metadata": {},
   "source": [
    "#### 4.11 __Problem Solving: Solve a Simpler Problem First__"
   ]
  },
  {
   "cell_type": "markdown",
   "metadata": {},
   "source": [
    "_[DO THE DEMONSTRATION VIA TEXTBOOK]_"
   ]
  },
  {
   "cell_type": "markdown",
   "metadata": {},
   "source": [
    "- Run the program for placing images in a window: [src/gallery.py](src/gallery.py)\n",
    "\n",
    "  You can also run it from within this notebook now that it does not require any keyboard input. Instead of providing the input \n",
    "  file path through the keyboard, we provide this argument through the command line using the `sys.argv` array. See the modified\n",
    "  source code.\n",
    "\n",
    "> __NOTE:__ This version of the program is slightly different from the original version."
   ]
  },
  {
   "cell_type": "markdown",
   "metadata": {},
   "source": [
    "---\n",
    "\n",
    "- YOU SHOULD ATTEMT TO SOLVE ALL SELF-CHECK EXERCISES AND CHECK BACK AT THE END OF THE CURRENT CHAPTER TO FIND OUT THE CORRECT ANSWERS!"
   ]
  },
  {
   "cell_type": "markdown",
   "metadata": {},
   "source": [
    "<img src=\"images/self-check-exercise-logo.svg.png\"/>"
   ]
  },
  {
   "cell_type": "markdown",
   "metadata": {},
   "source": [
    "---\n",
    "\n",
    "- YOU SHOULD ATTEMPT TO SOLVE ALL REVIEW EXERCISES!"
   ]
  },
  {
   "cell_type": "markdown",
   "metadata": {},
   "source": [
    "<img src=\"images/review-exercises-band.svg.png\"/>"
   ]
  },
  {
   "cell_type": "markdown",
   "metadata": {},
   "source": [
    "---"
   ]
  },
  {
   "cell_type": "code",
   "execution_count": 1,
   "metadata": {},
   "outputs": [
    {
     "data": {
      "text/plain": [
       "'\\nfrom ezgraphics import GraphicsWindow\\n\\nwin = GraphicsWindow( 800, 600 )\\ncanvas = win.canvas()\\n\\nwin.wait()\\n'"
      ]
     },
     "execution_count": 1,
     "metadata": {},
     "output_type": "execute_result"
    }
   ],
   "source": [
    "\"\"\"\n",
    "from ezgraphics import GraphicsWindow\n",
    "\n",
    "win = GraphicsWindow( 800, 600 )\n",
    "canvas = win.canvas()\n",
    "\n",
    "win.wait()\n",
    "\"\"\""
   ]
  },
  {
   "cell_type": "markdown",
   "metadata": {},
   "source": [
    "Here's the list of functions available for drawing on a canvas:"
   ]
  },
  {
   "cell_type": "markdown",
   "metadata": {},
   "source": [
    "- `clear( self )`\n",
    "- `drawArc( self, x, y, diameter, startAngle, extent )`\n",
    "- `drawArrow( self, x1, y1, x2, y2 )`\n",
    "- `drawImage( self, x, y=None, image=None )`\n",
    "- `drawLine( self, x1, y1, x2, y2 )`\n",
    "- `drawOval( self, x, y, width, height )`\n",
    "- `drawPoint( self, x, y )`\n",
    "- `drawPoly( self, *coords )`\n",
    "- `drawPolygon( self, *coords )`\n",
    "- `drawRect( self, x, y, width, height )`\n",
    "- `drawRectangle( self, x, y, width, height )`\n",
    "- `drawText( self, x, y, text )`\n",
    "- `height( self )`\n",
    "- `hideItem( self, itemId )`\n",
    "- `itemAbove( self, itemId )`\n",
    "- `itemBelow( self, itemId )`\n",
    "- `itemType( self, itemId )`\n",
    "- `items( self )`\n",
    "- `lowerItem( self, itemId, belowId=None )`\n",
    "- `raiseItem( self, itemId, aboveId=None )`\n",
    "- `removeItem( self, itemId )`\n",
    "- `scaleItem( self, itemId, xScale, yScale, xOffset=None, yOffset=None )`\n",
    "- `setArcStyle( self, style )`\n",
    "- `setBackground( self, red, green=None, blue=None )`\n",
    "- `setColor( self, red, green=None, blue=None )`\n",
    "- `setFill( self, red=None, green=None, blue=None )`\n",
    "- `setHeight( self, size )`\n",
    "- `setLineStyle( self, style )`\n",
    "- `setLineWidth( self, size )`\n",
    "- `setOutline( self, red=None, green=None, blue=None )`\n",
    "- `setTextAnchor( self, position )`\n",
    "- `setTextFont( self, family=None, style=None, size=None )`\n",
    "- `setTextJustify( self, style )`\n",
    "- `setWidth( self, size )`\n",
    "- `shiftItem( self, itemId, dx, dy )`\n",
    "- `showItem( self, itemId )`\n",
    "- `width( self )`"
   ]
  },
  {
   "cell_type": "markdown",
   "metadata": {},
   "source": [
    "---"
   ]
  }
 ],
 "metadata": {
  "kernelspec": {
   "display_name": "Python 3",
   "language": "python",
   "name": "python3"
  },
  "language_info": {
   "codemirror_mode": {
    "name": "ipython",
    "version": 3
   },
   "file_extension": ".py",
   "mimetype": "text/x-python",
   "name": "python",
   "nbconvert_exporter": "python",
   "pygments_lexer": "ipython3",
   "version": "3.8.8"
  }
 },
 "nbformat": 4,
 "nbformat_minor": 4
}
