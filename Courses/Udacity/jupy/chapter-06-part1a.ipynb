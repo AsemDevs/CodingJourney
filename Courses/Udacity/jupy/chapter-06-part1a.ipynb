{
 "cells": [
  {
   "cell_type": "markdown",
   "metadata": {},
   "source": [
    "# Chapter 06: __Lists__"
   ]
  },
  {
   "cell_type": "markdown",
   "metadata": {},
   "source": [
    "---"
   ]
  },
  {
   "cell_type": "code",
   "execution_count": 82,
   "metadata": {},
   "outputs": [],
   "source": [
    "# DO NOT DELETE THIS. MAY BE REQUIRED FOR DISPLAYING IMAGES AND/OR VIDEOS.\n",
    "#\n",
    "from IPython.display import display, Image, SVG, Math, YouTubeVideo"
   ]
  },
  {
   "cell_type": "markdown",
   "metadata": {},
   "source": [
    "----"
   ]
  },
  {
   "cell_type": "markdown",
   "metadata": {},
   "source": [
    "When solving problems, frequently we have the need to collect data and store in a single data structure so that we can go back to that data and analyze it or present it in some way."
   ]
  },
  {
   "cell_type": "markdown",
   "metadata": {},
   "source": [
    "#### We need to REMEMBER!"
   ]
  },
  {
   "cell_type": "markdown",
   "metadata": {},
   "source": [
    "In fact, we have done so already with the `str` data type."
   ]
  },
  {
   "cell_type": "code",
   "execution_count": 2,
   "metadata": {},
   "outputs": [],
   "source": [
    "def convert_lowercase( in_str ):\n",
    "    \"\"\"\n",
    "    This function is very much UNNECESSARY, because the str.lower() function\n",
    "    will convert the entire string into uppercase. We could also use the\n",
    "    ordinal value of each character to convert it to uppercase, but let's just\n",
    "    keep things simple to illustrate the point of collecting multiple points\n",
    "    of data in a single collection, such as a string.\n",
    "    \"\"\"\n",
    "    out_str = \"\"\n",
    "    for cur_chr in in_str:\n",
    "        out_str += cur_chr.lower()\n",
    "    return out_str"
   ]
  },
  {
   "cell_type": "code",
   "execution_count": 3,
   "metadata": {},
   "outputs": [
    {
     "data": {
      "text/plain": [
       "'a happy bird'"
      ]
     },
     "execution_count": 3,
     "metadata": {},
     "output_type": "execute_result"
    }
   ],
   "source": [
    "convert_lowercase( \"A Happy BIRD\" )"
   ]
  },
  {
   "cell_type": "code",
   "execution_count": 4,
   "metadata": {},
   "outputs": [
    {
     "data": {
      "text/plain": [
       "'a happy bird'"
      ]
     },
     "execution_count": 4,
     "metadata": {},
     "output_type": "execute_result"
    }
   ],
   "source": [
    "\"A Happy BIRD\".lower()"
   ]
  },
  {
   "cell_type": "markdown",
   "metadata": {},
   "source": [
    "### 6.1.1 Creating Lists"
   ]
  },
  {
   "cell_type": "markdown",
   "metadata": {},
   "source": [
    "Lists are *mutable* data structures.\n",
    "\n",
    "Lists are *sequences*. That is, we can index into them with integer keys, and we can *slice* them."
   ]
  },
  {
   "cell_type": "markdown",
   "metadata": {},
   "source": [
    "In Python, we have several data types that work as _sequences_. Besides strings, we have lists and tuples. However, tuples are essentially _immutable_ lists.\n",
    "\n",
    "All of these three data types are _indexable_, and, due to their common properties, they work pretty much the same way."
   ]
  },
  {
   "cell_type": "markdown",
   "metadata": {},
   "source": [
    "So how do we use lists, or why do we need lists?\n",
    "\n",
    "Suppose that we read a list of numbers from an input file and we need to compute the average of these numbers. \n",
    "\n",
    "We do not necessarily need to store all these values anywhere in order to be able to compute their average."
   ]
  },
  {
   "cell_type": "markdown",
   "metadata": {},
   "source": [
    "So, let's read these values first:"
   ]
  },
  {
   "cell_type": "code",
   "execution_count": 6,
   "metadata": {},
   "outputs": [
    {
     "name": "stdout",
     "output_type": "stream",
     "text": [
      "12 3 50 23 15 2 34 19 23 45 "
     ]
    }
   ],
   "source": [
    "datafile = open( \"data/numbers-01.txt\" )\n",
    "\n",
    "for cur_value in datafile:\n",
    "    print( cur_value.rstrip(), end=\" \" )\n",
    "    \n",
    "datafile.close() # Must explicitly close the file we opened above"
   ]
  },
  {
   "cell_type": "markdown",
   "metadata": {},
   "source": [
    "Let us compute the average of these values by modifying our for-loop:"
   ]
  },
  {
   "cell_type": "code",
   "execution_count": 8,
   "metadata": {},
   "outputs": [
    {
     "name": "stdout",
     "output_type": "stream",
     "text": [
      "--- The average of 10 values is 22.6. Total=226.0\n"
     ]
    }
   ],
   "source": [
    "with open( \"data/numbers-01.txt\" ) as datafile:\n",
    "    #\n",
    "    total = 0\n",
    "    count = 0\n",
    "    \n",
    "    for cur_value in datafile:\n",
    "        total += float( cur_value ) # DO NOT FORGET TO CONVERT!\n",
    "        count += 1\n",
    "\n",
    "    average = total / count\n",
    "    print( f\"--- The average of {count} values is {average}. Total={total}\" )"
   ]
  },
  {
   "cell_type": "markdown",
   "metadata": {},
   "source": [
    "What if wanted to compute the *median* and mode for these values on top of computing the mean/average? \n",
    "\n",
    "What if we wanted to run additional analysis on this data?\n",
    "\n",
    "Trying to do all this without storing all these values somewhere would be impractical.\n",
    "\n",
    "We can use the `list` data type to collect this data on its way from the input file and then use it as many times as needed to compute whatever we wish using that data.\n",
    "\n",
    "The simplest way to collect data into a `list` is to use the `list.append()` method. This is similar to using _concatenation_ with strings, except that we add a separate element to the list each time."
   ]
  },
  {
   "cell_type": "code",
   "execution_count": 17,
   "metadata": {},
   "outputs": [
    {
     "name": "stdout",
     "output_type": "stream",
     "text": [
      "--- values: [12.0]\n",
      "--- values: [12.0, 3.0]\n",
      "--- values: [12.0, 3.0, 50.0]\n",
      "--- values: [12.0, 3.0, 50.0, 23.0]\n",
      "--- values: [12.0, 3.0, 50.0, 23.0, 15.0]\n",
      "--- values: [12.0, 3.0, 50.0, 23.0, 15.0, 2.0]\n",
      "--- values: [12.0, 3.0, 50.0, 23.0, 15.0, 2.0, 34.0]\n",
      "--- values: [12.0, 3.0, 50.0, 23.0, 15.0, 2.0, 34.0, 19.0]\n",
      "--- values: [12.0, 3.0, 50.0, 23.0, 15.0, 2.0, 34.0, 19.0, 23.0]\n",
      "--- values: [12.0, 3.0, 50.0, 23.0, 15.0, 2.0, 34.0, 19.0, 23.0, 45.0]\n",
      "--- Values read from the input file:\n",
      "\t[12.0, 3.0, 50.0, 23.0, 15.0, 2.0, 34.0, 19.0, 23.0, 45.0]\n",
      "--- The average of 10 values is 22.6. Total=226.0\n"
     ]
    }
   ],
   "source": [
    "with open( \"data/numbers-01.txt\" ) as datafile:\n",
    "    #\n",
    "    values = [] # INITIALIZE to an EMPTY LIST\n",
    "    \n",
    "    for cur_value in datafile:\n",
    "        #\n",
    "        values.append( float( cur_value ) ) # DO NOT FORGET TO CONVERT!\n",
    "        print( f\"--- values: {values}\" )\n",
    "\n",
    "    average = sum( values ) / len( values )\n",
    "    print( f\"--- Values read from the input file:\\n\\t{values}\" )\n",
    "    print( f\"--- The average of {count} values is {average}. Total={total}\" )"
   ]
  },
  {
   "cell_type": "code",
   "execution_count": 11,
   "metadata": {},
   "outputs": [
    {
     "data": {
      "text/plain": [
       "[12.0, 3.0, 50.0, 23.0, 15.0, 2.0, 34.0, 19.0, 23.0, 45.0]"
      ]
     },
     "execution_count": 11,
     "metadata": {},
     "output_type": "execute_result"
    }
   ],
   "source": [
    "values"
   ]
  },
  {
   "cell_type": "markdown",
   "metadata": {},
   "source": [
    "**QUESTION:** What if we had some empty lines in the input file?"
   ]
  },
  {
   "cell_type": "code",
   "execution_count": 31,
   "metadata": {},
   "outputs": [
    {
     "name": "stdout",
     "output_type": "stream",
     "text": [
      "Overwriting data/numbers-01-with-empty-lines.txt\n"
     ]
    }
   ],
   "source": [
    "%%file data/numbers-01-with-empty-lines.txt\n",
    "12 \n",
    "3 \n",
    "50 \n",
    "\n",
    "22.5 \n",
    "15 \n",
    "2 \n",
    "33.5 \n",
    "\n",
    "             \n",
    "\n",
    "19 \n",
    "\n",
    "   \n",
    "23 \n",
    "    \n",
    "45"
   ]
  },
  {
   "cell_type": "markdown",
   "metadata": {},
   "source": [
    "Obviously we will have to check for empty lines, because ..."
   ]
  },
  {
   "cell_type": "code",
   "execution_count": 32,
   "metadata": {},
   "outputs": [
    {
     "ename": "ValueError",
     "evalue": "could not convert string to float: ''",
     "output_type": "error",
     "traceback": [
      "\u001b[0;31m---------------------------------------------------------------------------\u001b[0m",
      "\u001b[0;31mValueError\u001b[0m                                Traceback (most recent call last)",
      "\u001b[0;32m<ipython-input-32-a0ea04d3fd10>\u001b[0m in \u001b[0;36m<module>\u001b[0;34m\u001b[0m\n\u001b[0;32m----> 1\u001b[0;31m \u001b[0mfloat\u001b[0m\u001b[0;34m(\u001b[0m \u001b[0;34m\"\"\u001b[0m \u001b[0;34m)\u001b[0m\u001b[0;34m\u001b[0m\u001b[0;34m\u001b[0m\u001b[0m\n\u001b[0m",
      "\u001b[0;31mValueError\u001b[0m: could not convert string to float: ''"
     ]
    }
   ],
   "source": [
    "float( \"\" )"
   ]
  },
  {
   "cell_type": "code",
   "execution_count": 33,
   "metadata": {},
   "outputs": [
    {
     "ename": "ValueError",
     "evalue": "could not convert string to float: ''",
     "output_type": "error",
     "traceback": [
      "\u001b[0;31m---------------------------------------------------------------------------\u001b[0m",
      "\u001b[0;31mValueError\u001b[0m                                Traceback (most recent call last)",
      "\u001b[0;32m<ipython-input-33-64d45695f5db>\u001b[0m in \u001b[0;36m<module>\u001b[0;34m\u001b[0m\n\u001b[0;32m----> 1\u001b[0;31m \u001b[0mfloat\u001b[0m\u001b[0;34m(\u001b[0m \u001b[0;34m\"  \"\u001b[0m \u001b[0;34m)\u001b[0m\u001b[0;34m\u001b[0m\u001b[0;34m\u001b[0m\u001b[0m\n\u001b[0m",
      "\u001b[0;31mValueError\u001b[0m: could not convert string to float: ''"
     ]
    }
   ],
   "source": [
    "float( \"  \" )"
   ]
  },
  {
   "cell_type": "code",
   "execution_count": 43,
   "metadata": {},
   "outputs": [
    {
     "name": "stdout",
     "output_type": "stream",
     "text": [
      "--- values: [12.0]\n",
      "--- values: [12.0, 3.0]\n",
      "--- values: [12.0, 3.0, 50.0]\n",
      "### Ignoring empty line ...\n",
      "--- values: [12.0, 3.0, 50.0, 22.5]\n",
      "--- values: [12.0, 3.0, 50.0, 22.5, 15.0]\n",
      "--- values: [12.0, 3.0, 50.0, 22.5, 15.0, 2.0]\n",
      "--- values: [12.0, 3.0, 50.0, 22.5, 15.0, 2.0, 33.5]\n",
      "### Ignoring empty line ...\n",
      "### Ignoring empty line ...\n",
      "### Ignoring empty line ...\n",
      "--- values: [12.0, 3.0, 50.0, 22.5, 15.0, 2.0, 33.5, 19.0]\n",
      "### Ignoring empty line ...\n",
      "### Ignoring empty line ...\n",
      "--- values: [12.0, 3.0, 50.0, 22.5, 15.0, 2.0, 33.5, 19.0, 23.0]\n",
      "### Ignoring empty line ...\n",
      "--- values: [12.0, 3.0, 50.0, 22.5, 15.0, 2.0, 33.5, 19.0, 23.0, 45.0]\n",
      "\n",
      "--- Values read from the input file:\n",
      "\t[12.0, 3.0, 50.0, 22.5, 15.0, 2.0, 33.5, 19.0, 23.0, 45.0]\n",
      "--- The average of 10 values is 22.5. Total=225.0\n"
     ]
    }
   ],
   "source": [
    "with open( \"data/numbers-01-with-empty-lines.txt\" ) as datafile:\n",
    "    #\n",
    "    values = [] # INITIALIZE to an EMPTY LIST\n",
    "    \n",
    "    for cur_value in datafile:\n",
    "        #\n",
    "        cur_value = cur_value.strip()\n",
    "        \n",
    "        if cur_value == '':\n",
    "            print( \"### Ignoring empty line ...\" )\n",
    "        else:\n",
    "            values.append( float( cur_value ) ) # DO NOT FORGET TO CONVERT!\n",
    "            ##values.append( cur_value )\n",
    "            print( f\"--- values: {values}\" )\n",
    "\n",
    "    average = sum( values ) / len( values )\n",
    "    print( f\"\\n--- Values read from the input file:\\n\\t{values}\" )\n",
    "    print( f\"--- The average of {count} values is {average}. Total={sum( values )}\" )"
   ]
  },
  {
   "cell_type": "markdown",
   "metadata": {},
   "source": [
    "A much shorter way of doing the above:"
   ]
  },
  {
   "cell_type": "code",
   "execution_count": 44,
   "metadata": {},
   "outputs": [
    {
     "name": "stdout",
     "output_type": "stream",
     "text": [
      "--- values: [12.0, 3.0, 50.0, 22.5, 15.0, 2.0, 33.5, 19.0, 23.0, 45.0]\n",
      "\n",
      "--- Values read from the input file:\n",
      "\t[12.0, 3.0, 50.0, 22.5, 15.0, 2.0, 33.5, 19.0, 23.0, 45.0]\n",
      "--- The average of 10 values is 22.5. Total=225.0\n"
     ]
    }
   ],
   "source": [
    "with open( \"data/numbers-01-with-empty-lines.txt\" ) as datafile:\n",
    "    #\n",
    "    values = [float( cur_value ) for cur_value in datafile if cur_value.strip()]\n",
    "    average = sum( values ) / len( values )\n",
    "    \n",
    "    print( f\"--- values: {values}\" )\n",
    "    print( f\"\\n--- Values read from the input file:\\n\\t{values}\" )\n",
    "    print( f\"--- The average of {count} values is {average}. Total={sum( values )}\" )"
   ]
  },
  {
   "cell_type": "markdown",
   "metadata": {},
   "source": [
    "### 6.1.2 Accessing List Elements"
   ]
  },
  {
   "cell_type": "markdown",
   "metadata": {},
   "source": [
    "Lists, just like all _sequence_ types are _indexable_, which means that we can _read_ each element from them using integer-valued indices in the range \n",
    "\n",
    "     [0 .. len( list ) - 1]\n",
    "     \n",
    "or, using *negative indices*, we can do the same with indices in the range \n",
    "\n",
    "     [-len( list ) .. -1]\n",
    "\n",
    "Do you remember this from strings? It's the same thing!\n",
    "\n",
    "Using the `values` list we created above, let's see how this works:"
   ]
  },
  {
   "cell_type": "code",
   "execution_count": 45,
   "metadata": {},
   "outputs": [
    {
     "data": {
      "text/plain": [
       "[12.0, 3.0, 50.0, 22.5, 15.0, 2.0, 33.5, 19.0, 23.0, 45.0]"
      ]
     },
     "execution_count": 45,
     "metadata": {},
     "output_type": "execute_result"
    }
   ],
   "source": [
    "values"
   ]
  },
  {
   "cell_type": "markdown",
   "metadata": {},
   "source": [
    "How many items/values do we have in `values`?"
   ]
  },
  {
   "cell_type": "code",
   "execution_count": 46,
   "metadata": {},
   "outputs": [
    {
     "data": {
      "text/plain": [
       "10"
      ]
     },
     "execution_count": 46,
     "metadata": {},
     "output_type": "execute_result"
    }
   ],
   "source": [
    "len( values )"
   ]
  },
  {
   "cell_type": "markdown",
   "metadata": {},
   "source": [
    "This means that the last value, `45.0`, will be at index `9`, while the first item is always at index `0`."
   ]
  },
  {
   "cell_type": "code",
   "execution_count": 47,
   "metadata": {},
   "outputs": [
    {
     "data": {
      "text/plain": [
       "12.0"
      ]
     },
     "execution_count": 47,
     "metadata": {},
     "output_type": "execute_result"
    }
   ],
   "source": [
    "values[0]"
   ]
  },
  {
   "cell_type": "code",
   "execution_count": 48,
   "metadata": {},
   "outputs": [
    {
     "data": {
      "text/plain": [
       "45.0"
      ]
     },
     "execution_count": 48,
     "metadata": {},
     "output_type": "execute_result"
    }
   ],
   "source": [
    "values[9]"
   ]
  },
  {
   "cell_type": "markdown",
   "metadata": {},
   "source": [
    "Using negative indices, we can get the same like this:"
   ]
  },
  {
   "cell_type": "code",
   "execution_count": 49,
   "metadata": {},
   "outputs": [
    {
     "data": {
      "text/plain": [
       "12.0"
      ]
     },
     "execution_count": 49,
     "metadata": {},
     "output_type": "execute_result"
    }
   ],
   "source": [
    "values[-10]"
   ]
  },
  {
   "cell_type": "code",
   "execution_count": 51,
   "metadata": {},
   "outputs": [
    {
     "data": {
      "text/plain": [
       "45.0"
      ]
     },
     "execution_count": 51,
     "metadata": {},
     "output_type": "execute_result"
    }
   ],
   "source": [
    "values[-1] # No need to know the last possible positive index"
   ]
  },
  {
   "cell_type": "markdown",
   "metadata": {},
   "source": [
    "### 6.1.3 Traversing Lists"
   ]
  },
  {
   "cell_type": "markdown",
   "metadata": {},
   "source": [
    "Three ways:\n",
    "1. Loop using indices and access each item with the current index (*index-based*)\n",
    "     - Should never be used&mdash;*non-Pythonic!*\n",
    "2. Loop over individual values (*value-based*)\n",
    "     - Should be used when indices are not needed\n",
    "3. Loop over both indices and individual values&mdash;using `enumerate()` (*combined*)\n",
    "     - Should be preferred to Method 1&mdash;*Pythonic!*!"
   ]
  },
  {
   "cell_type": "markdown",
   "metadata": {},
   "source": [
    "__(1) Loop using indices__\n",
    "\n",
    "- Usually there is no need to use this method, since we have a better way of doing the same thing. See _Method (3)_ below."
   ]
  },
  {
   "cell_type": "code",
   "execution_count": 52,
   "metadata": {},
   "outputs": [
    {
     "name": "stdout",
     "output_type": "stream",
     "text": [
      "--- values[0] = 12.0\n",
      "--- values[1] =  3.0\n",
      "--- values[2] = 50.0\n",
      "--- values[3] = 22.5\n",
      "--- values[4] = 15.0\n",
      "--- values[5] =  2.0\n",
      "--- values[6] = 33.5\n",
      "--- values[7] = 19.0\n",
      "--- values[8] = 23.0\n",
      "--- values[9] = 45.0\n"
     ]
    }
   ],
   "source": [
    "for i in range( len( values ) ): # [0 .. len( values ) - 1]\n",
    "    #\n",
    "    cur_value = values[i]\n",
    "    print( f\"--- values[{i}] = {cur_value:4.1f}\" )"
   ]
  },
  {
   "cell_type": "code",
   "execution_count": 53,
   "metadata": {},
   "outputs": [
    {
     "name": "stdout",
     "output_type": "stream",
     "text": [
      "--- values[0] = 12.0\n",
      "--- values[1] =  3.0\n",
      "--- values[2] = 50.0\n",
      "--- values[3] = 22.5\n",
      "--- values[4] = 15.0\n",
      "--- values[5] =  2.0\n",
      "--- values[6] = 33.5\n",
      "--- values[7] = 19.0\n",
      "--- values[8] = 23.0\n",
      "--- values[9] = 45.0\n"
     ]
    }
   ],
   "source": [
    "i = 0 # MUST INITIALIZE MY INDEX!\n",
    "\n",
    "while i < len( values ): # [0 .. len( values ) - 1]\n",
    "    #\n",
    "    cur_value = values[i]\n",
    "    print( f\"--- values[{i}] = {cur_value:4.1f}\" )\n",
    "    i += 1 # MUST REMEMEBR TO INCREMENT MY INDEX"
   ]
  },
  {
   "cell_type": "markdown",
   "metadata": {},
   "source": [
    "__(2) Loop over values__\n",
    "\n",
    "- Use this method when we do not have a need for the indices of items stored in a list."
   ]
  },
  {
   "cell_type": "code",
   "execution_count": 54,
   "metadata": {},
   "outputs": [
    {
     "name": "stdout",
     "output_type": "stream",
     "text": [
      "--- Current value: 12.0\n",
      "--- Current value:  3.0\n",
      "--- Current value: 50.0\n",
      "--- Current value: 22.5\n",
      "--- Current value: 15.0\n",
      "--- Current value:  2.0\n",
      "--- Current value: 33.5\n",
      "--- Current value: 19.0\n",
      "--- Current value: 23.0\n",
      "--- Current value: 45.0\n"
     ]
    }
   ],
   "source": [
    "for cur_val in values:\n",
    "    #\n",
    "    print( f\"--- Current value: {cur_val:4.1f}\" )"
   ]
  },
  {
   "cell_type": "markdown",
   "metadata": {},
   "source": [
    "__(3) Loop over both indices and values__&mdash;using `enumerate()`\n",
    "\n",
    "- Use this method when we need the indices in addition to the values.\n",
    "- Prefer this method over _Method (1)_."
   ]
  },
  {
   "cell_type": "markdown",
   "metadata": {},
   "source": [
    "First, let's look into how the `enumerate()` function works:"
   ]
  },
  {
   "cell_type": "code",
   "execution_count": 22,
   "metadata": {},
   "outputs": [
    {
     "name": "stdout",
     "output_type": "stream",
     "text": [
      "Return an enumerate object.\n",
      "\n",
      "  iterable\n",
      "    an object supporting iteration\n",
      "\n",
      "The enumerate object yields pairs containing a count (from start, which\n",
      "defaults to zero) and a value yielded by the iterable argument.\n",
      "\n",
      "enumerate is useful for obtaining an indexed list:\n",
      "    (0, seq[0]), (1, seq[1]), (2, seq[2]), ...\n"
     ]
    }
   ],
   "source": [
    "print( enumerate.__doc__ )"
   ]
  },
  {
   "cell_type": "markdown",
   "metadata": {},
   "source": [
    "As you see, `enumerate()` returns a _list_ of two-tuples for each elements of the input list/iterable, where the first value is the _index_ and the second is the value."
   ]
  },
  {
   "cell_type": "code",
   "execution_count": 55,
   "metadata": {},
   "outputs": [
    {
     "data": {
      "text/plain": [
       "[(0, 12.0),\n",
       " (1, 3.0),\n",
       " (2, 50.0),\n",
       " (3, 22.5),\n",
       " (4, 15.0),\n",
       " (5, 2.0),\n",
       " (6, 33.5),\n",
       " (7, 19.0),\n",
       " (8, 23.0),\n",
       " (9, 45.0)]"
      ]
     },
     "execution_count": 55,
     "metadata": {},
     "output_type": "execute_result"
    }
   ],
   "source": [
    "enum = list( enumerate( values ) )\n",
    "enum"
   ]
  },
  {
   "cell_type": "code",
   "execution_count": 56,
   "metadata": {},
   "outputs": [
    {
     "name": "stdout",
     "output_type": "stream",
     "text": [
      "--- values[0] = 12.0\n",
      "--- values[1] =  3.0\n",
      "--- values[2] = 50.0\n",
      "--- values[3] = 22.5\n",
      "--- values[4] = 15.0\n",
      "--- values[5] =  2.0\n",
      "--- values[6] = 33.5\n",
      "--- values[7] = 19.0\n",
      "--- values[8] = 23.0\n",
      "--- values[9] = 45.0\n"
     ]
    }
   ],
   "source": [
    "for item_twotuple in enumerate( values ):\n",
    "    #\n",
    "    print( f\"--- values[{item_twotuple[0]}] = {item_twotuple[1]:4.1f}\" )"
   ]
  },
  {
   "cell_type": "markdown",
   "metadata": {},
   "source": [
    "Remember _tuple assignment_?\n",
    "\n",
    "Tuple assignment relieves us of having the access the index and value using indexing as we did right above."
   ]
  },
  {
   "cell_type": "code",
   "execution_count": 57,
   "metadata": {},
   "outputs": [
    {
     "name": "stdout",
     "output_type": "stream",
     "text": [
      "--- values[0] = 12.0\n",
      "--- values[1] =  3.0\n",
      "--- values[2] = 50.0\n",
      "--- values[3] = 22.5\n",
      "--- values[4] = 15.0\n",
      "--- values[5] =  2.0\n",
      "--- values[6] = 33.5\n",
      "--- values[7] = 19.0\n",
      "--- values[8] = 23.0\n",
      "--- values[9] = 45.0\n"
     ]
    }
   ],
   "source": [
    "for cur_index, cur_value in enumerate( values ):\n",
    "    #\n",
    "    print( f\"--- values[{cur_index}] = {cur_value:4.1f}\" )"
   ]
  },
  {
   "cell_type": "markdown",
   "metadata": {},
   "source": [
    "### 6.1.4 List References\n",
    "\n",
    "Suppose we do the following:\n"
   ]
  },
  {
   "cell_type": "code",
   "execution_count": 67,
   "metadata": {},
   "outputs": [],
   "source": [
    "scores = [10, 9, 7, 4, 5] # NAME = OBJECT\n",
    "values = scores # Copying list reference (Figure 1) NAME = NAME"
   ]
  },
  {
   "cell_type": "markdown",
   "metadata": {},
   "source": [
    "#### A *names* contains the pyhysical *address* of where the actual value referred by that name resides in memory. \n",
    "\n",
    "**Corollary:** Names do **not** store values directly. They only store *memory addresses*, which are used to locate values!"
   ]
  },
  {
   "cell_type": "markdown",
   "metadata": {},
   "source": [
    "1. Value `[10, 9, 7, 4, 5]` gets stored in memory somewhere, say, at address `A`.\n",
    "2. `scores` is created, and Python stores memory address `A` in it\n",
    "3. When `values = scores`, Python copies the memory address in `scores` to `values`. So now `values` also stores memory address `A`, just like `scores`, which is what it actualy stores."
   ]
  },
  {
   "cell_type": "markdown",
   "metadata": {},
   "source": [
    "<img src='figures/pfe3-figure-002.svg' width=700/>"
   ]
  },
  {
   "cell_type": "markdown",
   "metadata": {},
   "source": [
    "___Figure 1___ reflects this first assignment, which actually does not create a _copy_ of the `scores` list but simply creates a new _reference_ or name that holds the same _address_ to the list data as does `scores`.\n",
    "\n",
    "We can modify the list through either of the variables. Let us try it via `values` and modify the fourth value:"
   ]
  },
  {
   "cell_type": "code",
   "execution_count": 59,
   "metadata": {},
   "outputs": [
    {
     "data": {
      "text/plain": [
       "[10, 9, 7, 4, 5]"
      ]
     },
     "execution_count": 59,
     "metadata": {},
     "output_type": "execute_result"
    }
   ],
   "source": [
    "values"
   ]
  },
  {
   "cell_type": "code",
   "execution_count": 60,
   "metadata": {},
   "outputs": [
    {
     "data": {
      "text/plain": [
       "[10, 9, 7, 12, 5]"
      ]
     },
     "execution_count": 60,
     "metadata": {},
     "output_type": "execute_result"
    }
   ],
   "source": [
    "values[3] = 12\n",
    "values"
   ]
  },
  {
   "cell_type": "markdown",
   "metadata": {},
   "source": [
    "Since we created a reference but not a copy of the original list, this modification will also be seen from the other name, `scores`."
   ]
  },
  {
   "cell_type": "code",
   "execution_count": 61,
   "metadata": {},
   "outputs": [
    {
     "data": {
      "text/plain": [
       "[10, 9, 7, 12, 5]"
      ]
     },
     "execution_count": 61,
     "metadata": {},
     "output_type": "execute_result"
    }
   ],
   "source": [
    "scores"
   ]
  },
  {
   "cell_type": "code",
   "execution_count": 62,
   "metadata": {},
   "outputs": [
    {
     "data": {
      "text/plain": [
       "(140395940777472, 140395940777472)"
      ]
     },
     "execution_count": 62,
     "metadata": {},
     "output_type": "execute_result"
    }
   ],
   "source": [
    "id( values ), id( scores )"
   ]
  },
  {
   "cell_type": "markdown",
   "metadata": {},
   "source": [
    "This means both `values` and `scores` point to the same memory location, where the list resides."
   ]
  },
  {
   "cell_type": "markdown",
   "metadata": {},
   "source": [
    "#### __Aliasing__"
   ]
  },
  {
   "cell_type": "markdown",
   "metadata": {},
   "source": [
    "Remember that we had briefly talked about _aliasing_ in [__Chapter 2__](chapter-02.ipynb).\n",
    "\n",
    "An _alias_ is another _name_ or _reference_ to a given _value_.\n",
    "\n",
    "We can establish if two or more names refer to the same object in memory using the `id()` function.\n",
    "\n",
    "There is a complementary `is` operator that tells us whether two names refer to a physically identical location in memory."
   ]
  },
  {
   "cell_type": "code",
   "execution_count": 63,
   "metadata": {},
   "outputs": [
    {
     "data": {
      "text/plain": [
       "(140395940777472, 140395940777472)"
      ]
     },
     "execution_count": 63,
     "metadata": {},
     "output_type": "execute_result"
    }
   ],
   "source": [
    "id( scores ), id( values )"
   ]
  },
  {
   "cell_type": "markdown",
   "metadata": {},
   "source": [
    "If we wish to check if `scores` and `values` both refer to the same exact memory location, we do this:"
   ]
  },
  {
   "cell_type": "code",
   "execution_count": 64,
   "metadata": {},
   "outputs": [
    {
     "data": {
      "text/plain": [
       "True"
      ]
     },
     "execution_count": 64,
     "metadata": {},
     "output_type": "execute_result"
    }
   ],
   "source": [
    "scores is values"
   ]
  },
  {
   "cell_type": "code",
   "execution_count": 65,
   "metadata": {},
   "outputs": [
    {
     "data": {
      "text/plain": [
       "True"
      ]
     },
     "execution_count": 65,
     "metadata": {},
     "output_type": "execute_result"
    }
   ],
   "source": [
    "values is scores"
   ]
  },
  {
   "cell_type": "markdown",
   "metadata": {},
   "source": [
    "So we really do not have to do the following to establish physical identicality!"
   ]
  },
  {
   "cell_type": "code",
   "execution_count": 66,
   "metadata": {},
   "outputs": [
    {
     "data": {
      "text/plain": [
       "True"
      ]
     },
     "execution_count": 66,
     "metadata": {},
     "output_type": "execute_result"
    }
   ],
   "source": [
    "id( values ) == id( scores )"
   ]
  },
  {
   "cell_type": "markdown",
   "metadata": {},
   "source": [
    "We see that both ID values are identical, and, due to this reason, the `is` operator tells us that both names refer to the same exact value in memory. This is similar to you having two friends, named Joe and Mary, who have your home address. If someone wishes to visit you at home, that person can ask either of your friends for your home address. \n",
    "\n",
    "Suppose that you called a painter who lost your address but knows both of your friends. Suppose that the painter asked Joe for your home address. After he gets your address, the painter travels to your house and paints your front wall to blue.\n",
    "\n",
    "Then suppose your other friend, Jane knows Mary and asks her for your home address. After getting your address, Jane travels to your house. Obviously, Jane will see your front wall painted blue, even though she reached your home via a different person or _name_/_reference_.\n",
    "\n",
    "This is the essence of _aliasing_, as we demonstrated above.\n",
    "\n",
    "When we assign an object or value to a name\n",
    "\n",
    "    L = [1, 2, 3]\n",
    "    \n",
    "on the left-hand-side of the assignment we have a _name_, and, on the right-hand-side we have an object/value.\n",
    "\n",
    "    NAME = OBJECT\n",
    "    \n",
    "When we have aliasing, both sides of the assignment have names\n",
    "\n",
    "    M = L\n",
    "    \n",
    "So this is a case of\n",
    "\n",
    "    NAME = NAME"
   ]
  },
  {
   "cell_type": "markdown",
   "metadata": {},
   "source": [
    "---"
   ]
  },
  {
   "cell_type": "markdown",
   "metadata": {},
   "source": [
    "Let's try aliasing names for monolithic values such as integers. That is, an integer variable can only hold one single integer value, unlike a string, list, or tuple."
   ]
  },
  {
   "cell_type": "code",
   "execution_count": 68,
   "metadata": {},
   "outputs": [],
   "source": [
    "a = 99 # NAME = OBJECT\n",
    "b = a  # NAME = NAME (Aliasing)"
   ]
  },
  {
   "cell_type": "markdown",
   "metadata": {},
   "source": [
    "Now `a` and `b` should _refer_ to the same value."
   ]
  },
  {
   "cell_type": "code",
   "execution_count": 69,
   "metadata": {},
   "outputs": [
    {
     "data": {
      "text/plain": [
       "99"
      ]
     },
     "execution_count": 69,
     "metadata": {},
     "output_type": "execute_result"
    }
   ],
   "source": [
    "a"
   ]
  },
  {
   "cell_type": "code",
   "execution_count": 70,
   "metadata": {},
   "outputs": [
    {
     "data": {
      "text/plain": [
       "99"
      ]
     },
     "execution_count": 70,
     "metadata": {},
     "output_type": "execute_result"
    }
   ],
   "source": [
    "b"
   ]
  },
  {
   "cell_type": "markdown",
   "metadata": {},
   "source": [
    "Let's do our `id()` check."
   ]
  },
  {
   "cell_type": "code",
   "execution_count": 71,
   "metadata": {},
   "outputs": [
    {
     "data": {
      "text/plain": [
       "(94122976610688, 94122976610688)"
      ]
     },
     "execution_count": 71,
     "metadata": {},
     "output_type": "execute_result"
    }
   ],
   "source": [
    "id( a ), id( b )"
   ]
  },
  {
   "cell_type": "markdown",
   "metadata": {},
   "source": [
    "Let's do our `is` operator check."
   ]
  },
  {
   "cell_type": "code",
   "execution_count": 72,
   "metadata": {},
   "outputs": [
    {
     "data": {
      "text/plain": [
       "True"
      ]
     },
     "execution_count": 72,
     "metadata": {},
     "output_type": "execute_result"
    }
   ],
   "source": [
    "a is b"
   ]
  },
  {
   "cell_type": "markdown",
   "metadata": {},
   "source": [
    "This means that names `a` and `b` both refer to the same exact physical object, an integer, in memory."
   ]
  },
  {
   "cell_type": "markdown",
   "metadata": {},
   "source": [
    "So, instead of doing\n",
    "\n",
    "    id( a ) == id( b )\n",
    "    \n",
    "to check for physical identicality, it's cleaner to do\n",
    "\n",
    "    a is b\n",
    "    \n",
    "    "
   ]
  },
  {
   "cell_type": "markdown",
   "metadata": {},
   "source": [
    "So,  now, what happens when we modify `b`?"
   ]
  },
  {
   "cell_type": "code",
   "execution_count": 73,
   "metadata": {},
   "outputs": [],
   "source": [
    "b += 1"
   ]
  },
  {
   "cell_type": "code",
   "execution_count": 74,
   "metadata": {},
   "outputs": [
    {
     "data": {
      "text/plain": [
       "(99, 100)"
      ]
     },
     "execution_count": 74,
     "metadata": {},
     "output_type": "execute_result"
    }
   ],
   "source": [
    "a, b"
   ]
  },
  {
   "cell_type": "code",
   "execution_count": 75,
   "metadata": {},
   "outputs": [
    {
     "data": {
      "text/plain": [
       "(94122976610688, 94122976610720)"
      ]
     },
     "execution_count": 75,
     "metadata": {},
     "output_type": "execute_result"
    }
   ],
   "source": [
    "id( a ), id( b )"
   ]
  },
  {
   "cell_type": "code",
   "execution_count": 76,
   "metadata": {},
   "outputs": [
    {
     "data": {
      "text/plain": [
       "False"
      ]
     },
     "execution_count": 76,
     "metadata": {},
     "output_type": "execute_result"
    }
   ],
   "source": [
    "b is a"
   ]
  },
  {
   "cell_type": "markdown",
   "metadata": {},
   "source": [
    "Since the ID values are different past the modification, the `is` operator naturally returns False. So names `a` and `b` are no longer aliases for the same value."
   ]
  },
  {
   "cell_type": "markdown",
   "metadata": {},
   "source": [
    "Finally, let us try one more twist."
   ]
  },
  {
   "cell_type": "code",
   "execution_count": 77,
   "metadata": {},
   "outputs": [],
   "source": [
    "lst_a = [1, 2, 3]\n",
    "lst_b = [1, 2, 3]"
   ]
  },
  {
   "cell_type": "code",
   "execution_count": 78,
   "metadata": {},
   "outputs": [
    {
     "data": {
      "text/plain": [
       "(140395940282304, 140395939500416)"
      ]
     },
     "execution_count": 78,
     "metadata": {},
     "output_type": "execute_result"
    }
   ],
   "source": [
    "id( lst_a ), id( lst_b )"
   ]
  },
  {
   "cell_type": "markdown",
   "metadata": {},
   "source": [
    "Visually, we can easily discern that `lst_a` and `lst_b` are _equal_."
   ]
  },
  {
   "cell_type": "code",
   "execution_count": 79,
   "metadata": {},
   "outputs": [
    {
     "data": {
      "text/plain": [
       "True"
      ]
     },
     "execution_count": 79,
     "metadata": {},
     "output_type": "execute_result"
    }
   ],
   "source": [
    "lst_a == lst_b # VALUE EQUALITY CHECK"
   ]
  },
  {
   "cell_type": "markdown",
   "metadata": {},
   "source": [
    "However, do they occupy the same exact memory location? Let us use `is` to find out:"
   ]
  },
  {
   "cell_type": "code",
   "execution_count": 80,
   "metadata": {},
   "outputs": [
    {
     "data": {
      "text/plain": [
       "False"
      ]
     },
     "execution_count": 80,
     "metadata": {},
     "output_type": "execute_result"
    }
   ],
   "source": [
    "lst_a is lst_b # PHYSICAL LOCATION CHECK"
   ]
  },
  {
   "cell_type": "markdown",
   "metadata": {},
   "source": [
    "So, no! Even if two values are equal value-wise, they need not be physically identical.\n",
    "\n",
    "Therefore, you should distinguish between two names being equal in terms of referring to the same exact address or location in memory physically and two names having identical values separately.\n",
    "\n",
    "__CASE 1:__ When two names, say, `x` and `y` are true aliases for an object/value, then\n",
    "\n",
    "    x is y\n",
    "and\n",
    "      \n",
    "    x == y\n",
    "will both return `True`.\n",
    "\n",
    "__CASE 2:__ When two names happen to refer to values that are identical but physically different, then\n",
    "\n",
    "    x is y\n",
    "will return `False`, while\n",
    "    \n",
    "    x == y\n",
    "returns `True`."
   ]
  },
  {
   "cell_type": "markdown",
   "metadata": {},
   "source": [
    "----"
   ]
  },
  {
   "cell_type": "markdown",
   "metadata": {},
   "source": [
    "#### Indexing Items in Lists"
   ]
  },
  {
   "cell_type": "markdown",
   "metadata": {},
   "source": [
    "Subscripted index references work identically to that in strings.\n",
    "\n",
    "Again negative indices work identically in lists."
   ]
  },
  {
   "cell_type": "code",
   "execution_count": 83,
   "metadata": {},
   "outputs": [
    {
     "data": {
      "image/png": "[encoded data removed]",
      "text/plain": [
       "<IPython.core.display.Image object>"
      ]
     },
     "execution_count": 83,
     "metadata": {
      "image/png": {
       "width": 300
      }
     },
     "output_type": "execute_result"
    }
   ],
   "source": [
    "Image( 'figures/png/reverse-subscripts.png', width=300 )"
   ]
  },
  {
   "cell_type": "markdown",
   "metadata": {},
   "source": [
    "#### Index ranges\n",
    "\n",
    "For *sequence*, S\n",
    "\n",
    "- Positive indices: `[0 .. len( S ) - 1]`\n",
    "    \n",
    "- Negative indices: `[-len( S ) .. -1]`\n",
    "\n",
    "Therefore, for practical purposes,\n",
    "\n",
    "- `S[0]` is always the first element of `S`\n",
    "- `S[-1]` is always the last element of `S`"
   ]
  },
  {
   "cell_type": "markdown",
   "metadata": {},
   "source": [
    "### 6.2 List Operations"
   ]
  },
  {
   "cell_type": "markdown",
   "metadata": {},
   "source": [
    "#### 6.2.1 Appending Elements: `list.append( item )`"
   ]
  },
  {
   "cell_type": "markdown",
   "metadata": {},
   "source": [
    "Step <font color=\"#0055ee\" size=+1>➊</font>:"
   ]
  },
  {
   "cell_type": "code",
   "execution_count": 84,
   "metadata": {},
   "outputs": [
    {
     "data": {
      "text/plain": [
       "[]"
      ]
     },
     "execution_count": 84,
     "metadata": {},
     "output_type": "execute_result"
    }
   ],
   "source": [
    "friends = []\n",
    "\n",
    "friends"
   ]
  },
  {
   "cell_type": "markdown",
   "metadata": {},
   "source": [
    "Step <font color=\"#0055ee\" size=+1>➋</font>:"
   ]
  },
  {
   "cell_type": "code",
   "execution_count": 85,
   "metadata": {},
   "outputs": [
    {
     "data": {
      "text/plain": [
       "['Harry']"
      ]
     },
     "execution_count": 85,
     "metadata": {},
     "output_type": "execute_result"
    }
   ],
   "source": [
    "friends.append( \"Harry\" )\n",
    "\n",
    "friends"
   ]
  },
  {
   "cell_type": "markdown",
   "metadata": {},
   "source": [
    "Step  <font color=\"#0055ee\" size=+1>➌</font>:"
   ]
  },
  {
   "cell_type": "code",
   "execution_count": 86,
   "metadata": {},
   "outputs": [],
   "source": [
    "friends.append( \"Emily\" )\n",
    "friends.append( \"Bob\" )\n",
    "friends.append( \"Cari\" )"
   ]
  },
  {
   "cell_type": "code",
   "execution_count": 87,
   "metadata": {},
   "outputs": [
    {
     "data": {
      "text/plain": [
       "['Harry', 'Emily', 'Bob', 'Cari']"
      ]
     },
     "execution_count": 87,
     "metadata": {},
     "output_type": "execute_result"
    }
   ],
   "source": [
    "friends"
   ]
  },
  {
   "cell_type": "markdown",
   "metadata": {},
   "source": [
    "Here's how your textbook depicts these three steps:"
   ]
  },
  {
   "cell_type": "code",
   "execution_count": 88,
   "metadata": {},
   "outputs": [
    {
     "data": {
      "image/png": "[encoded data removed]",
      "text/plain": [
       "<IPython.core.display.Image object>"
      ]
     },
     "execution_count": 88,
     "metadata": {
      "image/png": {
       "width": 800
      }
     },
     "output_type": "execute_result"
    }
   ],
   "source": [
    "Image( 'figures/png/pfe3-figure-003.png', width=800 )"
   ]
  },
  {
   "cell_type": "markdown",
   "metadata": {},
   "source": [
    "#### 6.2.2 Inserting an Element: `list.insert( index, item )`"
   ]
  },
  {
   "cell_type": "code",
   "execution_count": 90,
   "metadata": {},
   "outputs": [
    {
     "data": {
      "text/plain": [
       "['Harry', 'Emily', 'Bob', 'Cari']"
      ]
     },
     "execution_count": 90,
     "metadata": {},
     "output_type": "execute_result"
    }
   ],
   "source": [
    "friends"
   ]
  },
  {
   "cell_type": "code",
   "execution_count": 91,
   "metadata": {},
   "outputs": [],
   "source": [
    "friends.insert( 2, 'Cindy' )"
   ]
  },
  {
   "cell_type": "code",
   "execution_count": 92,
   "metadata": {},
   "outputs": [
    {
     "data": {
      "text/plain": [
       "['Harry', 'Emily', 'Cindy', 'Bob', 'Cari']"
      ]
     },
     "execution_count": 92,
     "metadata": {},
     "output_type": "execute_result"
    }
   ],
   "source": [
    "friends"
   ]
  },
  {
   "cell_type": "markdown",
   "metadata": {},
   "source": [
    "The item previously at index `2`, `Bob` got shifted to the right to the fourth position, and, `Cindy` became the element at index `2`."
   ]
  },
  {
   "cell_type": "code",
   "execution_count": 93,
   "metadata": {},
   "outputs": [
    {
     "data": {
      "image/png": "[encoded data removed]",
      "text/plain": [
       "<IPython.core.display.Image object>"
      ]
     },
     "execution_count": 93,
     "metadata": {
      "image/png": {
       "width": 550
      }
     },
     "output_type": "execute_result"
    }
   ],
   "source": [
    "Image( 'figures/png/pfe3-figure-004.png', width=550 )"
   ]
  },
  {
   "cell_type": "markdown",
   "metadata": {},
   "source": [
    "___NOTE:___: We could use _negative_ indices anywhere indices are used!"
   ]
  },
  {
   "cell_type": "code",
   "execution_count": 94,
   "metadata": {},
   "outputs": [
    {
     "data": {
      "text/plain": [
       "['Harry', 'Emily', 'Cindy', 'Bob', 'Cari']"
      ]
     },
     "execution_count": 94,
     "metadata": {},
     "output_type": "execute_result"
    }
   ],
   "source": [
    "friends"
   ]
  },
  {
   "cell_type": "code",
   "execution_count": 95,
   "metadata": {},
   "outputs": [],
   "source": [
    "friends.insert( -1, \"William\" )"
   ]
  },
  {
   "cell_type": "code",
   "execution_count": 96,
   "metadata": {},
   "outputs": [
    {
     "data": {
      "text/plain": [
       "['Harry', 'Emily', 'Cindy', 'Bob', 'William', 'Cari']"
      ]
     },
     "execution_count": 96,
     "metadata": {},
     "output_type": "execute_result"
    }
   ],
   "source": [
    "friends"
   ]
  },
  {
   "cell_type": "markdown",
   "metadata": {},
   "source": [
    "This looks a bit confusing, but it's really not, because we have to apply the same procedure as described in ___Figure 4___ above:\n",
    "    \n",
    "- All values starting at index -1 will be shifted to the right\n",
    "- The new value will be inserted at the old -1 position\n",
    "    "
   ]
  },
  {
   "cell_type": "markdown",
   "metadata": {},
   "source": [
    "#### Example 1: Using positive indices\n",
    "\n",
    "```\n",
    "friends <-- ['Harry', 'Emily', 'Cindy', 'Bob', 'Cari']\n",
    "\n",
    "friends.insert( 3, \"Joe\" )\n",
    "```\n",
    "\n",
    "1. SHIFT all items starting at index 3 to the RIGHT by one position\n",
    "\n",
    "2. INSERT the new item at the old 3 position\n",
    "\n",
    "\n",
    "APPLY Step 1:\n",
    "\n",
    "```\n",
    "friends <-- ['Harry', 'Emily', 'Cindy', 'Bob', 'Cari']\n",
    "             0        1        2        3      4\n",
    "             \n",
    "friends <-- ['Harry', 'Emily', 'Cindy', **BLANK**, 'Bob', 'Cari']\n",
    "             0        1        2        3          4      5\n",
    "```\n",
    "\n",
    "APPLY Step 2:\n",
    "\n",
    "```\n",
    "friends <-- ['Harry', 'Emily', 'Cindy', 'Joe', 'Bob', 'Cari']\n",
    "             0        1        2        3      4      5\n",
    "```"
   ]
  },
  {
   "cell_type": "code",
   "execution_count": 97,
   "metadata": {},
   "outputs": [
    {
     "data": {
      "text/plain": [
       "['Harry', 'Emily', 'Cindy', 'Joe', 'Bob', 'Cari']"
      ]
     },
     "execution_count": 97,
     "metadata": {},
     "output_type": "execute_result"
    }
   ],
   "source": [
    "friends = ['Harry', 'Emily', 'Cindy', 'Bob', 'Cari']\n",
    "\n",
    "friends.insert( 3, \"Joe\" )\n",
    "\n",
    "friends"
   ]
  },
  {
   "cell_type": "markdown",
   "metadata": {},
   "source": [
    "#### Example 2: Using negative indices\n",
    "\n",
    "```\n",
    "friends <-- ['Harry', 'Emily', 'Cindy', 'Bob', 'Cari']\n",
    "\n",
    "friends.insert( -1, \"William\" )\n",
    "```\n",
    "\n",
    "1. SHIFT all items starting at index -1 to the RIGHT by one position\n",
    "\n",
    "2. INSERT the new item at the old -1 position\n",
    "\n",
    "\n",
    "APPLY Step 1:\n",
    "\n",
    "```\n",
    "friends <-- ['Harry', 'Emily', 'Cindy', 'Bob', 'Cari']\n",
    "             0        1        2        3      4\n",
    "            -5       -4       -3       -2     -1\n",
    "             \n",
    "friends <-- ['Harry', 'Emily', 'Cindy', 'Bob', BLANK, 'Cari']\n",
    "             0        1        2        3      4      5\n",
    "            -6       -5       -4       -3     -2     -1\n",
    "```\n",
    "\n",
    "APPLY Step 2:\n",
    "\n",
    "```\n",
    "friends <-- ['Harry', 'Emily', 'Cindy', 'Bob', 'William', 'Cari']\n",
    "             0        1        2        3      4          5\n",
    "            -6       -5       -4       -3     -2         -1\n",
    "             \n",
    "```\n",
    "\n",
    "We can observe that `friends.insert( -1, 'William' )` is equivalent to `friends.insert( 4, 'William' )`.\n",
    "\n",
    "Now we can realize that the index value specified will be \"reserved\" for the new item that just got inserted.\n"
   ]
  },
  {
   "cell_type": "code",
   "execution_count": 98,
   "metadata": {},
   "outputs": [
    {
     "data": {
      "text/plain": [
       "['Harry', 'Emily', 'Cindy', 'Bob', 'William', 'Cari']"
      ]
     },
     "execution_count": 98,
     "metadata": {},
     "output_type": "execute_result"
    }
   ],
   "source": [
    "friends = ['Harry', 'Emily', 'Cindy', 'Bob', 'Cari']\n",
    "\n",
    "friends.insert( -1, \"William\" )\n",
    "\n",
    "friends"
   ]
  },
  {
   "cell_type": "markdown",
   "metadata": {},
   "source": [
    "---"
   ]
  },
  {
   "cell_type": "code",
   "execution_count": 99,
   "metadata": {},
   "outputs": [
    {
     "data": {
      "text/plain": [
       "6"
      ]
     },
     "execution_count": 99,
     "metadata": {},
     "output_type": "execute_result"
    }
   ],
   "source": [
    "len( friends )"
   ]
  },
  {
   "cell_type": "markdown",
   "metadata": {},
   "source": [
    "So we can say the above using positive indices like this:\n",
    "\n",
    "- All values starting at index 5 will be shifted to the right\n",
    "- The new value will be inserted at position 5\n",
    "\n",
    "Therefore, after insertion, the _new_ item always occupies the index specified to the `list.insert()` method!"
   ]
  },
  {
   "cell_type": "code",
   "execution_count": 100,
   "metadata": {},
   "outputs": [],
   "source": [
    "M = [2, 4, 6, 8, 10]"
   ]
  },
  {
   "cell_type": "code",
   "execution_count": 101,
   "metadata": {},
   "outputs": [],
   "source": [
    "M.insert( -1, 99 )"
   ]
  },
  {
   "cell_type": "code",
   "execution_count": 102,
   "metadata": {},
   "outputs": [
    {
     "data": {
      "text/plain": [
       "[2, 4, 6, 8, 99, 10]"
      ]
     },
     "execution_count": 102,
     "metadata": {},
     "output_type": "execute_result"
    }
   ],
   "source": [
    "M"
   ]
  },
  {
   "cell_type": "code",
   "execution_count": 103,
   "metadata": {},
   "outputs": [],
   "source": [
    "M.insert( 6, 55 )"
   ]
  },
  {
   "cell_type": "code",
   "execution_count": 44,
   "metadata": {},
   "outputs": [
    {
     "data": {
      "text/plain": [
       "[2, 4, 6, 8, 99, 10, 55]"
      ]
     },
     "execution_count": 44,
     "metadata": {},
     "output_type": "execute_result"
    }
   ],
   "source": [
    "M"
   ]
  },
  {
   "cell_type": "code",
   "execution_count": 104,
   "metadata": {},
   "outputs": [
    {
     "data": {
      "text/plain": [
       "[2, 4, 6, 8, 99, 10, 55, 66]"
      ]
     },
     "execution_count": 104,
     "metadata": {},
     "output_type": "execute_result"
    }
   ],
   "source": [
    "M.insert( len( M ), 66 )\n",
    "M"
   ]
  },
  {
   "cell_type": "code",
   "execution_count": 105,
   "metadata": {},
   "outputs": [],
   "source": [
    "M.insert( 22, 0 ) # We do NOT have 23 items, so what happens?"
   ]
  },
  {
   "cell_type": "code",
   "execution_count": 107,
   "metadata": {},
   "outputs": [
    {
     "data": {
      "text/plain": [
       "[2, 4, 6, 8, 99, 10, 55, 66, 0]"
      ]
     },
     "execution_count": 107,
     "metadata": {},
     "output_type": "execute_result"
    }
   ],
   "source": [
    "M"
   ]
  },
  {
   "cell_type": "markdown",
   "metadata": {},
   "source": [
    "So Python does not issue any error messages when we do so!"
   ]
  },
  {
   "cell_type": "markdown",
   "metadata": {},
   "source": [
    "<div style=\"border: 1px solid #080; color: #080; padding: 5px;\">\n",
    "\n",
    "    Always think of crazy examples!\n",
    "\n",
    "</div>"
   ]
  },
  {
   "cell_type": "markdown",
   "metadata": {},
   "source": [
    "#### 6.2.3 Finding an Element: `list.index( item )`"
   ]
  },
  {
   "cell_type": "code",
   "execution_count": 108,
   "metadata": {},
   "outputs": [
    {
     "data": {
      "text/plain": [
       "['Harry', 'Emily', 'Cindy', 'Bob', 'William', 'Cari']"
      ]
     },
     "execution_count": 108,
     "metadata": {},
     "output_type": "execute_result"
    }
   ],
   "source": [
    "friends"
   ]
  },
  {
   "cell_type": "code",
   "execution_count": 109,
   "metadata": {},
   "outputs": [
    {
     "data": {
      "text/plain": [
       "True"
      ]
     },
     "execution_count": 109,
     "metadata": {},
     "output_type": "execute_result"
    }
   ],
   "source": [
    "\"William\" in friends"
   ]
  },
  {
   "cell_type": "code",
   "execution_count": 110,
   "metadata": {},
   "outputs": [
    {
     "name": "stdout",
     "output_type": "stream",
     "text": [
      "William is a friend\n"
     ]
    }
   ],
   "source": [
    "if \"William\" in friends:\n",
    "    print( \"William is a friend\" )"
   ]
  },
  {
   "cell_type": "code",
   "execution_count": 111,
   "metadata": {},
   "outputs": [
    {
     "data": {
      "text/plain": [
       "4"
      ]
     },
     "execution_count": 111,
     "metadata": {},
     "output_type": "execute_result"
    }
   ],
   "source": [
    "friends.index( \"William\" )"
   ]
  },
  {
   "cell_type": "markdown",
   "metadata": {},
   "source": [
    "So, `William` is the fifth item in `friends`."
   ]
  },
  {
   "cell_type": "code",
   "execution_count": 112,
   "metadata": {},
   "outputs": [
    {
     "ename": "ValueError",
     "evalue": "'Joe' is not in list",
     "output_type": "error",
     "traceback": [
      "\u001b[0;31m---------------------------------------------------------------------------\u001b[0m",
      "\u001b[0;31mValueError\u001b[0m                                Traceback (most recent call last)",
      "\u001b[0;32m<ipython-input-112-6e0868a064ce>\u001b[0m in \u001b[0;36m<module>\u001b[0;34m\u001b[0m\n\u001b[0;32m----> 1\u001b[0;31m \u001b[0mfriends\u001b[0m\u001b[0;34m.\u001b[0m\u001b[0mindex\u001b[0m\u001b[0;34m(\u001b[0m \u001b[0;34m\"Joe\"\u001b[0m \u001b[0;34m)\u001b[0m\u001b[0;34m\u001b[0m\u001b[0;34m\u001b[0m\u001b[0m\n\u001b[0m",
      "\u001b[0;31mValueError\u001b[0m: 'Joe' is not in list"
     ]
    }
   ],
   "source": [
    "friends.index( \"Joe\" )"
   ]
  },
  {
   "cell_type": "markdown",
   "metadata": {},
   "source": [
    "Oh, no! `Joe` is __not__ a friend! So we got an error.\n",
    "\n",
    "To ensure that we will never end up with errors when we look for items in lists, we should guard our `list.index()` call with an if-statement using the `in` operator."
   ]
  },
  {
   "cell_type": "code",
   "execution_count": 113,
   "metadata": {},
   "outputs": [
    {
     "name": "stdout",
     "output_type": "stream",
     "text": [
      "I do not know Joe.\n"
     ]
    }
   ],
   "source": [
    "if \"Joe\" in friends:\n",
    "    joe_idx = friends.index( \"Joe\" )\n",
    "    print( f\"Joe is a friend at index {joe_idx}.\" )\n",
    "else:\n",
    "    print( \"I do not know Joe.\" )"
   ]
  },
  {
   "cell_type": "code",
   "execution_count": 117,
   "metadata": {},
   "outputs": [
    {
     "name": "stdout",
     "output_type": "stream",
     "text": [
      "William is a friend at index 4.\n"
     ]
    }
   ],
   "source": [
    "if \"William\" in friends:\n",
    "    bill_idx = friends.index( \"William\" )\n",
    "    print( f\"William is a friend at index {bill_idx}.\" )\n",
    "else:\n",
    "    print( \"I do not know William.\" )"
   ]
  },
  {
   "cell_type": "markdown",
   "metadata": {},
   "source": [
    "#### 6.2.4 Removing an Element: `list.remove( item )` and `list.pop( index )`"
   ]
  },
  {
   "cell_type": "markdown",
   "metadata": {},
   "source": [
    "We can remove items from a list using either `list.remove()` or `list.pop()` depending on what we need to do."
   ]
  },
  {
   "cell_type": "code",
   "execution_count": 118,
   "metadata": {},
   "outputs": [
    {
     "data": {
      "text/plain": [
       "['Harry', 'Emily', 'Cindy', 'Bob', 'William', 'Cari']"
      ]
     },
     "execution_count": 118,
     "metadata": {},
     "output_type": "execute_result"
    }
   ],
   "source": [
    "friends"
   ]
  },
  {
   "cell_type": "code",
   "execution_count": 119,
   "metadata": {},
   "outputs": [],
   "source": [
    "friends.remove( 'Cindy' )"
   ]
  },
  {
   "cell_type": "code",
   "execution_count": 120,
   "metadata": {},
   "outputs": [
    {
     "data": {
      "text/plain": [
       "['Harry', 'Emily', 'Bob', 'William', 'Cari']"
      ]
     },
     "execution_count": 120,
     "metadata": {},
     "output_type": "execute_result"
    }
   ],
   "source": [
    "friends"
   ]
  },
  {
   "cell_type": "code",
   "execution_count": 121,
   "metadata": {},
   "outputs": [
    {
     "ename": "ValueError",
     "evalue": "list.remove(x): x not in list",
     "output_type": "error",
     "traceback": [
      "\u001b[0;31m---------------------------------------------------------------------------\u001b[0m",
      "\u001b[0;31mValueError\u001b[0m                                Traceback (most recent call last)",
      "\u001b[0;32m<ipython-input-121-0fce32f0c6c6>\u001b[0m in \u001b[0;36m<module>\u001b[0;34m\u001b[0m\n\u001b[0;32m----> 1\u001b[0;31m \u001b[0mfriends\u001b[0m\u001b[0;34m.\u001b[0m\u001b[0mremove\u001b[0m\u001b[0;34m(\u001b[0m \u001b[0;34m'Ken'\u001b[0m \u001b[0;34m)\u001b[0m\u001b[0;34m\u001b[0m\u001b[0;34m\u001b[0m\u001b[0m\n\u001b[0m",
      "\u001b[0;31mValueError\u001b[0m: list.remove(x): x not in list"
     ]
    }
   ],
   "source": [
    "friends.remove( 'Ken' )"
   ]
  },
  {
   "cell_type": "markdown",
   "metadata": {},
   "source": [
    "Before removing an element, you should guard the `list.remove()` call with an if-statement."
   ]
  },
  {
   "cell_type": "code",
   "execution_count": 122,
   "metadata": {},
   "outputs": [
    {
     "name": "stdout",
     "output_type": "stream",
     "text": [
      "Ken is not among my friends.\n"
     ]
    }
   ],
   "source": [
    "if 'Ken' in friends:\n",
    "    friends.remove( 'Ken' )\n",
    "else:\n",
    "    print( \"Ken is not among my friends.\" )"
   ]
  },
  {
   "cell_type": "code",
   "execution_count": 123,
   "metadata": {},
   "outputs": [],
   "source": [
    "friends = [\"Harry\", \"Cindy\", \"Emily\", \"Bob\", \"Cari\", \"Bill\"]"
   ]
  },
  {
   "cell_type": "code",
   "execution_count": 124,
   "metadata": {},
   "outputs": [],
   "source": [
    "friends.remove( \"Cindy\" )"
   ]
  },
  {
   "cell_type": "code",
   "execution_count": 127,
   "metadata": {
    "scrolled": true
   },
   "outputs": [],
   "source": [
    "#Image( 'figures/png/pfe3-figure-005.png', width=450, height=1000 )"
   ]
  },
  {
   "cell_type": "markdown",
   "metadata": {},
   "source": [
    "<img src=\"figures/png/pfe3-figure-005.png\" width=450/> "
   ]
  },
  {
   "cell_type": "code",
   "execution_count": 128,
   "metadata": {},
   "outputs": [
    {
     "data": {
      "text/plain": [
       "['Harry', 'Emily', 'Bob', 'Cari', 'Bill']"
      ]
     },
     "execution_count": 128,
     "metadata": {},
     "output_type": "execute_result"
    }
   ],
   "source": [
    "friends"
   ]
  },
  {
   "cell_type": "code",
   "execution_count": 129,
   "metadata": {},
   "outputs": [
    {
     "data": {
      "text/plain": [
       "'Bob'"
      ]
     },
     "execution_count": 129,
     "metadata": {},
     "output_type": "execute_result"
    }
   ],
   "source": [
    "friends.pop( 2 ) # Removes the 3rd item, Bob, and returns the removed value as well"
   ]
  },
  {
   "cell_type": "code",
   "execution_count": 130,
   "metadata": {},
   "outputs": [
    {
     "data": {
      "text/plain": [
       "['Harry', 'Emily', 'Cari', 'Bill']"
      ]
     },
     "execution_count": 130,
     "metadata": {},
     "output_type": "execute_result"
    }
   ],
   "source": [
    "friends"
   ]
  },
  {
   "cell_type": "markdown",
   "metadata": {},
   "source": [
    "What if we have duplicate items in a list?"
   ]
  },
  {
   "cell_type": "code",
   "execution_count": 134,
   "metadata": {},
   "outputs": [],
   "source": [
    "friends = [\"Harry\", \"Cindy\", \"Emily\", \"Bob\", \"Cindy\", \"Cari\", \"Bill\", \"Mark\", \"Cindy\"]"
   ]
  },
  {
   "cell_type": "code",
   "execution_count": 135,
   "metadata": {},
   "outputs": [],
   "source": [
    "friends.remove( \"Cindy\" )"
   ]
  },
  {
   "cell_type": "code",
   "execution_count": 136,
   "metadata": {},
   "outputs": [
    {
     "data": {
      "text/plain": [
       "['Harry', 'Emily', 'Bob', 'Cindy', 'Cari', 'Bill', 'Mark', 'Cindy']"
      ]
     },
     "execution_count": 136,
     "metadata": {},
     "output_type": "execute_result"
    }
   ],
   "source": [
    "friends"
   ]
  },
  {
   "cell_type": "markdown",
   "metadata": {},
   "source": [
    "So, `list.remove()` only removes the _first_ occurrence of the specified item."
   ]
  },
  {
   "cell_type": "markdown",
   "metadata": {},
   "source": [
    "Now that we know about functions, let us contemplate a couple of ways to remove all copies of a given value.\n",
    "\n",
    "Say we have the following list, and we want to remove all `3`s from this list."
   ]
  },
  {
   "cell_type": "code",
   "execution_count": 137,
   "metadata": {},
   "outputs": [],
   "source": [
    "lst = [1, 2, 3, 4, 3, 2, 2, 3, 3, 4, 5, 3, 1, 3]"
   ]
  },
  {
   "cell_type": "code",
   "execution_count": 138,
   "metadata": {},
   "outputs": [
    {
     "data": {
      "text/plain": [
       "6"
      ]
     },
     "execution_count": 138,
     "metadata": {},
     "output_type": "execute_result"
    }
   ],
   "source": [
    "count_3 = lst.count( 3 )\n",
    "count_3"
   ]
  },
  {
   "cell_type": "markdown",
   "metadata": {},
   "source": [
    "So we have six copies of value `3`."
   ]
  },
  {
   "cell_type": "raw",
   "metadata": {},
   "source": [
    "ALGORITHM RemoveAll( item_value, L )\n",
    "\n",
    "LOOP through L:\n",
    "    e <-- TAKE THE NEXT ELEMENT from list L\n",
    "    IF e == item_value\n",
    "        REMOVE e FROM L"
   ]
  },
  {
   "cell_type": "markdown",
   "metadata": {},
   "source": [
    "Let us  implement this idea straightforwardly."
   ]
  },
  {
   "cell_type": "code",
   "execution_count": 148,
   "metadata": {},
   "outputs": [],
   "source": [
    "def remove_all_v1( target_item, lst ):\n",
    "    \"\"\"\n",
    "    \"\"\"\n",
    "    for cur_elem in lst:\n",
    "        if cur_elem == target_item:\n",
    "            lst.remove( cur_elem ) # MODIFYING (removal/insertion) a list we are looping through is a No-No!\n",
    "    return lst"
   ]
  },
  {
   "cell_type": "code",
   "execution_count": 140,
   "metadata": {},
   "outputs": [],
   "source": [
    "lst = [1, 2, 3, 4, 3, 2, 2, 3, 3, 4, 5, 3, 1, 3]"
   ]
  },
  {
   "cell_type": "code",
   "execution_count": 141,
   "metadata": {},
   "outputs": [
    {
     "data": {
      "text/plain": [
       "[1, 2, 4, 2, 2, 4, 5, 1, 3]"
      ]
     },
     "execution_count": 141,
     "metadata": {},
     "output_type": "execute_result"
    }
   ],
   "source": [
    "remove_all_v1( 3, lst )"
   ]
  },
  {
   "cell_type": "markdown",
   "metadata": {},
   "source": [
    "Obviously, even though the algorithm seemed to work on paper, <font color=\"#a00\">__the code did NOT work!__</font> We still have the `3` at the end remaining.\n",
    "\n",
    "Right now, we will not get into why this code does not work. However, you should __never modify__ the sequence inside a for-loop you are using to iterate over that sequence!!!\n",
    "\n",
    "Let's try another method using a while-loop."
   ]
  },
  {
   "cell_type": "code",
   "execution_count": 142,
   "metadata": {},
   "outputs": [],
   "source": [
    "def remove_all_v2( target_item, lst ):\n",
    "    \"\"\"\n",
    "    \"\"\"\n",
    "    num_items_to_be_removed = lst.count( target_item )\n",
    "    count_removed = 0 # How many target_items we have removed so far\n",
    "    while count_removed < num_items_to_be_removed:\n",
    "        lst.remove( target_item )\n",
    "        count_removed += 1\n",
    "    return lst"
   ]
  },
  {
   "cell_type": "code",
   "execution_count": 143,
   "metadata": {},
   "outputs": [],
   "source": [
    "lst = [1, 2, 3, 4, 3, 2, 2, 3, 3, 4, 5, 3, 1, 3]"
   ]
  },
  {
   "cell_type": "code",
   "execution_count": 144,
   "metadata": {},
   "outputs": [
    {
     "data": {
      "text/plain": [
       "[1, 2, 4, 2, 2, 4, 5, 1]"
      ]
     },
     "execution_count": 144,
     "metadata": {},
     "output_type": "execute_result"
    }
   ],
   "source": [
    "remove_all_v2( 3, lst )"
   ]
  },
  {
   "cell_type": "markdown",
   "metadata": {},
   "source": [
    "It worked now. Note that we are not using a for-loop to iterate over our list, `lst`. So we are OK here.\n",
    "\n",
    "We could do the same thing using a for-loop as well."
   ]
  },
  {
   "cell_type": "code",
   "execution_count": 145,
   "metadata": {},
   "outputs": [],
   "source": [
    "def remove_all_v3( target_item, lst ):\n",
    "    \"\"\"\n",
    "    \"\"\"\n",
    "    num_items_to_be_removed = lst.count( target_item )\n",
    "    for _ in range( num_items_to_be_removed ): # Loop as many times as we have the target item\n",
    "        lst.remove( target_item )\n",
    "    return lst"
   ]
  },
  {
   "cell_type": "code",
   "execution_count": 146,
   "metadata": {},
   "outputs": [],
   "source": [
    "lst = [1, 2, 3, 4, 3, 2, 2, 3, 3, 4, 5, 3, 1, 3]"
   ]
  },
  {
   "cell_type": "code",
   "execution_count": 147,
   "metadata": {},
   "outputs": [
    {
     "data": {
      "text/plain": [
       "[1, 2, 4, 2, 2, 4, 5, 1]"
      ]
     },
     "execution_count": 147,
     "metadata": {},
     "output_type": "execute_result"
    }
   ],
   "source": [
    "remove_all_v3( 3, lst )"
   ]
  },
  {
   "cell_type": "markdown",
   "metadata": {},
   "source": [
    "It worked again. Even though we are using a for-loop, we are __not__ using that for loop to iterate through the items in `lst`, because we do not have a statement like `for e in lst`. Instead we are iterating over the range of values `[0 .. (num_items - 1)]`."
   ]
  },
  {
   "cell_type": "markdown",
   "metadata": {},
   "source": [
    "### HERE 20210416"
   ]
  },
  {
   "cell_type": "markdown",
   "metadata": {},
   "source": [
    "### 6.2.5 Concatenation and Replication"
   ]
  },
  {
   "cell_type": "markdown",
   "metadata": {},
   "source": [
    "To _join_ two lists, we can use the `+` operator on two lists."
   ]
  },
  {
   "cell_type": "code",
   "execution_count": 1,
   "metadata": {},
   "outputs": [
    {
     "data": {
      "text/plain": [
       "[1, 2, 3, 4, 2, 5, 5, 6, 7]"
      ]
     },
     "execution_count": 1,
     "metadata": {},
     "output_type": "execute_result"
    }
   ],
   "source": [
    "lst_a = [1, 2, 3, 4, 2, 5]\n",
    "lst_b = [5, 6, 7]\n",
    "\n",
    "lst_a + lst_b"
   ]
  },
  {
   "cell_type": "markdown",
   "metadata": {},
   "source": [
    "If we wish to store the resulting list, we can do this:"
   ]
  },
  {
   "cell_type": "code",
   "execution_count": 2,
   "metadata": {},
   "outputs": [],
   "source": [
    "lst_c = lst_a + lst_b"
   ]
  },
  {
   "cell_type": "code",
   "execution_count": 3,
   "metadata": {},
   "outputs": [
    {
     "data": {
      "text/plain": [
       "[1, 2, 3, 4, 2, 5, 5, 6, 7]"
      ]
     },
     "execution_count": 3,
     "metadata": {},
     "output_type": "execute_result"
    }
   ],
   "source": [
    "lst_c"
   ]
  },
  {
   "cell_type": "markdown",
   "metadata": {},
   "source": [
    "Lists `lst_a` and `lst_b` will remain intact."
   ]
  },
  {
   "cell_type": "code",
   "execution_count": 4,
   "metadata": {},
   "outputs": [
    {
     "data": {
      "text/plain": [
       "[1, 2, 3, 4, 2, 5]"
      ]
     },
     "execution_count": 4,
     "metadata": {},
     "output_type": "execute_result"
    }
   ],
   "source": [
    "lst_a"
   ]
  },
  {
   "cell_type": "code",
   "execution_count": 5,
   "metadata": {},
   "outputs": [
    {
     "data": {
      "text/plain": [
       "[5, 6, 7]"
      ]
     },
     "execution_count": 5,
     "metadata": {},
     "output_type": "execute_result"
    }
   ],
   "source": [
    "lst_b"
   ]
  },
  {
   "cell_type": "markdown",
   "metadata": {},
   "source": [
    "---"
   ]
  },
  {
   "cell_type": "markdown",
   "metadata": {},
   "source": [
    "We can replicate lists by using the `*` operator followed by an integer value. The items inside that outermost list will be duplicated as many times as the integer value.\n",
    "\n",
    "The general format is\n",
    "\n",
    "    list_specification * n\n",
    "    \n",
    "Examples:    "
   ]
  },
  {
   "cell_type": "code",
   "execution_count": 6,
   "metadata": {},
   "outputs": [
    {
     "data": {
      "text/plain": [
       "[0, 0, 0, 0, 0]"
      ]
     },
     "execution_count": 6,
     "metadata": {},
     "output_type": "execute_result"
    }
   ],
   "source": [
    "[0] * 5"
   ]
  },
  {
   "cell_type": "code",
   "execution_count": 7,
   "metadata": {},
   "outputs": [
    {
     "data": {
      "text/plain": [
       "[[1, 2, 3], [1, 2, 3], [1, 2, 3], [1, 2, 3]]"
      ]
     },
     "execution_count": 7,
     "metadata": {},
     "output_type": "execute_result"
    }
   ],
   "source": [
    "[[1, 2, 3]] * 4"
   ]
  },
  {
   "cell_type": "markdown",
   "metadata": {},
   "source": [
    "What was inside the outermost list in the last example above? The list `[1, 2, 3]`. So that list got replicated four times, and these replications were put in a new list. So consider this:"
   ]
  },
  {
   "cell_type": "code",
   "execution_count": 8,
   "metadata": {},
   "outputs": [
    {
     "data": {
      "text/plain": [
       "[1, 2, 3, 1, 2, 3, 1, 2, 3, 1, 2, 3]"
      ]
     },
     "execution_count": 8,
     "metadata": {},
     "output_type": "execute_result"
    }
   ],
   "source": [
    "[1, 2, 3] * 4"
   ]
  },
  {
   "cell_type": "code",
   "execution_count": 9,
   "metadata": {},
   "outputs": [
    {
     "data": {
      "text/plain": [
       "[]"
      ]
     },
     "execution_count": 9,
     "metadata": {},
     "output_type": "execute_result"
    }
   ],
   "source": [
    "[1, 2, 3] * 0"
   ]
  },
  {
   "cell_type": "markdown",
   "metadata": {},
   "source": [
    "### 6.2.6 Equality Testing: `==` / `!=`"
   ]
  },
  {
   "cell_type": "markdown",
   "metadata": {},
   "source": [
    "If two lists look visually identical, then they are equal. This means that each corresponding element is identical. We use the `==` operator to check for equality, and we use the `!=` operator to check the opposite.\n",
    "\n",
    "It goes without saying that if two names are _aliases_, meaning that they refer to the same exact object in memory, then, by definition, they will be equal."
   ]
  },
  {
   "cell_type": "code",
   "execution_count": 10,
   "metadata": {},
   "outputs": [],
   "source": [
    "lst_x = [1, 2, 3]\n",
    "lst_y = [1, 2, 3]"
   ]
  },
  {
   "cell_type": "code",
   "execution_count": 11,
   "metadata": {},
   "outputs": [
    {
     "data": {
      "text/plain": [
       "True"
      ]
     },
     "execution_count": 11,
     "metadata": {},
     "output_type": "execute_result"
    }
   ],
   "source": [
    "lst_x == lst_y"
   ]
  },
  {
   "cell_type": "code",
   "execution_count": 12,
   "metadata": {},
   "outputs": [],
   "source": [
    "lst_z = lst_x # Create an alias"
   ]
  },
  {
   "cell_type": "code",
   "execution_count": 13,
   "metadata": {},
   "outputs": [
    {
     "data": {
      "text/plain": [
       "True"
      ]
     },
     "execution_count": 13,
     "metadata": {},
     "output_type": "execute_result"
    }
   ],
   "source": [
    "lst_y == lst_z"
   ]
  },
  {
   "cell_type": "code",
   "execution_count": 14,
   "metadata": {},
   "outputs": [
    {
     "data": {
      "text/plain": [
       "True"
      ]
     },
     "execution_count": 14,
     "metadata": {},
     "output_type": "execute_result"
    }
   ],
   "source": [
    "lst_x == lst_z"
   ]
  },
  {
   "cell_type": "code",
   "execution_count": 15,
   "metadata": {},
   "outputs": [],
   "source": [
    "lst_t = [2, 3]"
   ]
  },
  {
   "cell_type": "code",
   "execution_count": 16,
   "metadata": {},
   "outputs": [
    {
     "data": {
      "text/plain": [
       "False"
      ]
     },
     "execution_count": 16,
     "metadata": {},
     "output_type": "execute_result"
    }
   ],
   "source": [
    "lst_x == lst_t"
   ]
  },
  {
   "cell_type": "code",
   "execution_count": 18,
   "metadata": {},
   "outputs": [
    {
     "data": {
      "text/plain": [
       "True"
      ]
     },
     "execution_count": 18,
     "metadata": {},
     "output_type": "execute_result"
    }
   ],
   "source": [
    "lst_x != lst_t"
   ]
  },
  {
   "cell_type": "code",
   "execution_count": 20,
   "metadata": {},
   "outputs": [
    {
     "data": {
      "text/plain": [
       "False"
      ]
     },
     "execution_count": 20,
     "metadata": {},
     "output_type": "execute_result"
    }
   ],
   "source": [
    "[1, 2, 3] == [3, 2, 1]"
   ]
  },
  {
   "cell_type": "code",
   "execution_count": 22,
   "metadata": {},
   "outputs": [
    {
     "data": {
      "text/plain": [
       "True"
      ]
     },
     "execution_count": 22,
     "metadata": {},
     "output_type": "execute_result"
    }
   ],
   "source": [
    "set( [1, 2, 3] ) == set( [3, 2, 1] )"
   ]
  },
  {
   "cell_type": "markdown",
   "metadata": {},
   "source": [
    "### About the concept of equality"
   ]
  },
  {
   "cell_type": "markdown",
   "metadata": {},
   "source": [
    "Remember that we have two types of *equality*, if you will:\n",
    "\n",
    "1. Visual equality/Value-based equality (operator: `==`)\n",
    "\n",
    "2. Equality based on occupying a particular memory location/Memory equality (operator: `is`)\n",
    "\n",
    "So, as we mentioned before, memory equality will automatically mean visual/value equality!\n",
    "\n",
    "However, the reverse is not necessarily true! That is, whatever is visually equal is not necessarily memory equal at the same time."
   ]
  },
  {
   "cell_type": "markdown",
   "metadata": {},
   "source": [
    "### 6.2.7 Sum, Maximum, Minimum, and Sorting: `sum()`, `max()`, `min()`, `sort()`, `sorted()`"
   ]
  },
  {
   "cell_type": "code",
   "execution_count": 24,
   "metadata": {},
   "outputs": [
    {
     "data": {
      "text/plain": [
       "30"
      ]
     },
     "execution_count": 24,
     "metadata": {},
     "output_type": "execute_result"
    }
   ],
   "source": [
    "sum( [1, 4, 9, 16] ) # List"
   ]
  },
  {
   "cell_type": "code",
   "execution_count": 25,
   "metadata": {},
   "outputs": [
    {
     "data": {
      "text/plain": [
       "30"
      ]
     },
     "execution_count": 25,
     "metadata": {},
     "output_type": "execute_result"
    }
   ],
   "source": [
    "sum( (1, 4, 9, 16) ) # Tuple"
   ]
  },
  {
   "cell_type": "code",
   "execution_count": 30,
   "metadata": {},
   "outputs": [
    {
     "ename": "TypeError",
     "evalue": "sum() takes at most 2 arguments (4 given)",
     "output_type": "error",
     "traceback": [
      "\u001b[0;31m---------------------------------------------------------------------------\u001b[0m",
      "\u001b[0;31mTypeError\u001b[0m                                 Traceback (most recent call last)",
      "\u001b[0;32m<ipython-input-30-4c33de6d3c9a>\u001b[0m in \u001b[0;36m<module>\u001b[0;34m\u001b[0m\n\u001b[0;32m----> 1\u001b[0;31m \u001b[0msum\u001b[0m\u001b[0;34m(\u001b[0m \u001b[0;36m1\u001b[0m\u001b[0;34m,\u001b[0m \u001b[0;36m4\u001b[0m\u001b[0;34m,\u001b[0m \u001b[0;36m9\u001b[0m\u001b[0;34m,\u001b[0m \u001b[0;36m16\u001b[0m \u001b[0;34m)\u001b[0m \u001b[0;31m# Tuple\u001b[0m\u001b[0;34m\u001b[0m\u001b[0;34m\u001b[0m\u001b[0m\n\u001b[0m",
      "\u001b[0;31mTypeError\u001b[0m: sum() takes at most 2 arguments (4 given)"
     ]
    }
   ],
   "source": [
    "sum( 1, 4, 9, 16 ) # Tuple"
   ]
  },
  {
   "cell_type": "code",
   "execution_count": 26,
   "metadata": {},
   "outputs": [
    {
     "data": {
      "text/plain": [
       "56"
      ]
     },
     "execution_count": 26,
     "metadata": {},
     "output_type": "execute_result"
    }
   ],
   "source": [
    "max( [1, 16, 9, 4, -3, 56, 35] ) # Using an iterable"
   ]
  },
  {
   "cell_type": "code",
   "execution_count": 27,
   "metadata": {},
   "outputs": [
    {
     "data": {
      "text/plain": [
       "56"
      ]
     },
     "execution_count": 27,
     "metadata": {},
     "output_type": "execute_result"
    }
   ],
   "source": [
    "max( 1, 16, 9, 4, -3, 56, 35 ) # Passing all values individually"
   ]
  },
  {
   "cell_type": "code",
   "execution_count": 28,
   "metadata": {},
   "outputs": [
    {
     "data": {
      "text/plain": [
       "-3"
      ]
     },
     "execution_count": 28,
     "metadata": {},
     "output_type": "execute_result"
    }
   ],
   "source": [
    "min( [1, 16, 9, 4, -3, 56, 35] )"
   ]
  },
  {
   "cell_type": "code",
   "execution_count": 29,
   "metadata": {},
   "outputs": [
    {
     "data": {
      "text/plain": [
       "-3"
      ]
     },
     "execution_count": 29,
     "metadata": {},
     "output_type": "execute_result"
    }
   ],
   "source": [
    "min( 1, 16, 9, 4, -3, 56, 35 )"
   ]
  },
  {
   "cell_type": "markdown",
   "metadata": {},
   "source": [
    "The `max()` and `min()` functions can accept an iterable type or the items can be passed directly. The `sum()` function, on the other hand, only accepts an iterable. It cannot used like this:\n",
    "\n",
    "    sum( 1, 2, 3, 4, 5 )"
   ]
  },
  {
   "cell_type": "markdown",
   "metadata": {},
   "source": [
    "We can also ask of _minimum_ or _maximum_ about a set/list of strings as well."
   ]
  },
  {
   "cell_type": "code",
   "execution_count": 31,
   "metadata": {},
   "outputs": [
    {
     "data": {
      "text/plain": [
       "'Ann'"
      ]
     },
     "execution_count": 31,
     "metadata": {},
     "output_type": "execute_result"
    }
   ],
   "source": [
    "min( \"Fred\", \"Ann\", \"Sue\", \"Annabell\" )"
   ]
  },
  {
   "cell_type": "code",
   "execution_count": 32,
   "metadata": {},
   "outputs": [
    {
     "data": {
      "text/plain": [
       "True"
      ]
     },
     "execution_count": 32,
     "metadata": {},
     "output_type": "execute_result"
    }
   ],
   "source": [
    "\"Ann\" < \"Annabell\""
   ]
  },
  {
   "cell_type": "markdown",
   "metadata": {},
   "source": [
    "Why?"
   ]
  },
  {
   "cell_type": "markdown",
   "metadata": {},
   "source": [
    "How do we compare strings? This is the same thing."
   ]
  },
  {
   "cell_type": "markdown",
   "metadata": {},
   "source": [
    "### Sorting lists"
   ]
  },
  {
   "cell_type": "markdown",
   "metadata": {},
   "source": [
    "Next, let's sort."
   ]
  },
  {
   "cell_type": "code",
   "execution_count": 33,
   "metadata": {},
   "outputs": [],
   "source": [
    "ints = [1, 16, 9, 4, -3, 56, 35]"
   ]
  },
  {
   "cell_type": "code",
   "execution_count": 34,
   "metadata": {},
   "outputs": [],
   "source": [
    "ints.sort()"
   ]
  },
  {
   "cell_type": "code",
   "execution_count": 35,
   "metadata": {},
   "outputs": [
    {
     "data": {
      "text/plain": [
       "[-3, 1, 4, 9, 16, 35, 56]"
      ]
     },
     "execution_count": 35,
     "metadata": {},
     "output_type": "execute_result"
    }
   ],
   "source": [
    "ints # Values are sorted in ASCENDING ORDER!"
   ]
  },
  {
   "cell_type": "code",
   "execution_count": 36,
   "metadata": {},
   "outputs": [],
   "source": [
    "ints.sort( reverse=True ) # Values are sorted in DESCENDING ORDER!"
   ]
  },
  {
   "cell_type": "code",
   "execution_count": 37,
   "metadata": {},
   "outputs": [
    {
     "data": {
      "text/plain": [
       "[56, 35, 16, 9, 4, 1, -3]"
      ]
     },
     "execution_count": 37,
     "metadata": {},
     "output_type": "execute_result"
    }
   ],
   "source": [
    "ints"
   ]
  },
  {
   "cell_type": "code",
   "execution_count": 38,
   "metadata": {},
   "outputs": [],
   "source": [
    "import random"
   ]
  },
  {
   "cell_type": "code",
   "execution_count": 39,
   "metadata": {},
   "outputs": [],
   "source": [
    "random.shuffle( ints )"
   ]
  },
  {
   "cell_type": "code",
   "execution_count": 40,
   "metadata": {},
   "outputs": [
    {
     "data": {
      "text/plain": [
       "[-3, 9, 16, 35, 56, 1, 4]"
      ]
     },
     "execution_count": 40,
     "metadata": {},
     "output_type": "execute_result"
    }
   ],
   "source": [
    "ints"
   ]
  },
  {
   "cell_type": "code",
   "execution_count": 41,
   "metadata": {},
   "outputs": [
    {
     "data": {
      "text/plain": [
       "[-3, 1, 4, 9, 16, 35, 56]"
      ]
     },
     "execution_count": 41,
     "metadata": {},
     "output_type": "execute_result"
    }
   ],
   "source": [
    "sorted( ints )"
   ]
  },
  {
   "cell_type": "markdown",
   "metadata": {},
   "source": [
    "The `sorted()` function does not _destructively_ modify the list we pass to it. A new sorted copy is returned."
   ]
  },
  {
   "cell_type": "code",
   "execution_count": 42,
   "metadata": {},
   "outputs": [
    {
     "data": {
      "text/plain": [
       "[-3, 9, 16, 35, 56, 1, 4]"
      ]
     },
     "execution_count": 42,
     "metadata": {},
     "output_type": "execute_result"
    }
   ],
   "source": [
    "ints"
   ]
  },
  {
   "cell_type": "markdown",
   "metadata": {},
   "source": [
    "What if we had the following list to sort."
   ]
  },
  {
   "cell_type": "code",
   "execution_count": 49,
   "metadata": {},
   "outputs": [],
   "source": [
    "vals = [\"1\", \"9\", \"2\", \"5\", \"7\", \"6\", \"10\", \"3\", \"4\", \"8\", \"400\", \"100\", \"15\", \"20\"]"
   ]
  },
  {
   "cell_type": "code",
   "execution_count": 50,
   "metadata": {},
   "outputs": [
    {
     "data": {
      "text/plain": [
       "['1', '10', '100', '15', '2', '20', '3', '4', '400', '5', '6', '7', '8', '9']"
      ]
     },
     "execution_count": 50,
     "metadata": {},
     "output_type": "execute_result"
    }
   ],
   "source": [
    "sorted( vals )"
   ]
  },
  {
   "cell_type": "markdown",
   "metadata": {},
   "source": [
    "***QUESTION:*** Did `sorted()` make a mistake, or did it do what it was supposed to do?"
   ]
  },
  {
   "cell_type": "markdown",
   "metadata": {},
   "source": [
    "The `sorted()` function will not do the job!\n",
    "\n",
    "Actually, it worked, but it just did not do what we hoped or expected. \n",
    "\n",
    "Instead of \"understanding\" the numeric values in the strings provided, it carried out ALPHABETIC SORTING!"
   ]
  },
  {
   "cell_type": "markdown",
   "metadata": {},
   "source": [
    "We have a magical sorting function called `natsorted()` in the `natsort` module."
   ]
  },
  {
   "cell_type": "code",
   "execution_count": 51,
   "metadata": {},
   "outputs": [],
   "source": [
    "from natsort import natsorted"
   ]
  },
  {
   "cell_type": "code",
   "execution_count": 52,
   "metadata": {},
   "outputs": [
    {
     "data": {
      "text/plain": [
       "['1', '2', '3', '4', '5', '6', '7', '8', '9', '10', '15', '20', '100', '400']"
      ]
     },
     "execution_count": 52,
     "metadata": {},
     "output_type": "execute_result"
    }
   ],
   "source": [
    "natsorted( vals )"
   ]
  },
  {
   "cell_type": "markdown",
   "metadata": {},
   "source": [
    "That is, `natsorted` understands numeric values even if they are hidden inside strings. Therefore, when `sorted()` falls short, think of using `natsorted()`. It may do the job."
   ]
  },
  {
   "cell_type": "markdown",
   "metadata": {},
   "source": [
    "Read more about `natsorted`:\n",
    "\n",
    "> https://natsort.readthedocs.io/en/master/examples.html"
   ]
  },
  {
   "cell_type": "code",
   "execution_count": 54,
   "metadata": {},
   "outputs": [
    {
     "data": {
      "text/plain": [
       "[' ',\n",
       " ' ',\n",
       " 'E',\n",
       " 'N',\n",
       " 'U',\n",
       " 'a',\n",
       " 'a',\n",
       " 'e',\n",
       " 'e',\n",
       " 'i',\n",
       " 'i',\n",
       " 'n',\n",
       " 'r',\n",
       " 'r',\n",
       " 's',\n",
       " 's',\n",
       " 't',\n",
       " 't',\n",
       " 'v',\n",
       " 'y']"
      ]
     },
     "execution_count": 54,
     "metadata": {},
     "output_type": "execute_result"
    }
   ],
   "source": [
    "sorted( \"Near East University\" )"
   ]
  },
  {
   "cell_type": "code",
   "execution_count": 53,
   "metadata": {},
   "outputs": [
    {
     "name": "stdout",
     "output_type": "stream",
     "text": [
      "Help on built-in function sorted in module builtins:\n",
      "\n",
      "sorted(iterable, /, *, key=None, reverse=False)\n",
      "    Return a new list containing all items from the iterable in ascending order.\n",
      "    \n",
      "    A custom key function can be supplied to customize the sort order, and the\n",
      "    reverse flag can be set to request the result in descending order.\n",
      "\n"
     ]
    }
   ],
   "source": [
    "help( sorted )"
   ]
  },
  {
   "cell_type": "markdown",
   "metadata": {},
   "source": [
    "We can control how sorting operates using the `key` and `reverse` keyword arguments. We will not cover the `key` keyword argument now. The `reverse` keyword argument controls the order of the sorting. When `False`, values will be sorted in _ascending_ order. In ascending order sorted sequences, the _smallest_ value is first. When `True`, the values will be sorted in _descending_ order, where the _largest_ value will be first."
   ]
  },
  {
   "cell_type": "code",
   "execution_count": 55,
   "metadata": {},
   "outputs": [
    {
     "data": {
      "text/plain": [
       "['400', '100', '20', '15', '10', '9', '8', '7', '6', '5', '4', '3', '2', '1']"
      ]
     },
     "execution_count": 55,
     "metadata": {},
     "output_type": "execute_result"
    }
   ],
   "source": [
    "natsorted( vals, reverse=True ) # Descending order"
   ]
  },
  {
   "cell_type": "markdown",
   "metadata": {},
   "source": [
    "#### 6.2.8 Copying Lists"
   ]
  },
  {
   "cell_type": "code",
   "execution_count": 56,
   "metadata": {},
   "outputs": [],
   "source": [
    "a = [1, 2, 3, 4]  # NAME = OBJECT\n",
    "b = a             # NAME = NAME (ALIAS)"
   ]
  },
  {
   "cell_type": "code",
   "execution_count": 58,
   "metadata": {},
   "outputs": [
    {
     "data": {
      "text/plain": [
       "True"
      ]
     },
     "execution_count": 58,
     "metadata": {},
     "output_type": "execute_result"
    }
   ],
   "source": [
    "a is b # Memory equality"
   ]
  },
  {
   "cell_type": "code",
   "execution_count": 59,
   "metadata": {},
   "outputs": [
    {
     "data": {
      "text/plain": [
       "(139752536611904, 139752536611904)"
      ]
     },
     "execution_count": 59,
     "metadata": {},
     "output_type": "execute_result"
    }
   ],
   "source": [
    "id( a ), id( b )"
   ]
  },
  {
   "cell_type": "code",
   "execution_count": 60,
   "metadata": {},
   "outputs": [],
   "source": [
    "c = list( b ) # Create a new copy of the list"
   ]
  },
  {
   "cell_type": "code",
   "execution_count": 61,
   "metadata": {},
   "outputs": [
    {
     "data": {
      "text/plain": [
       "True"
      ]
     },
     "execution_count": 61,
     "metadata": {},
     "output_type": "execute_result"
    }
   ],
   "source": [
    "a == b"
   ]
  },
  {
   "cell_type": "code",
   "execution_count": 62,
   "metadata": {},
   "outputs": [
    {
     "data": {
      "text/plain": [
       "True"
      ]
     },
     "execution_count": 62,
     "metadata": {},
     "output_type": "execute_result"
    }
   ],
   "source": [
    "c == b"
   ]
  },
  {
   "cell_type": "code",
   "execution_count": 63,
   "metadata": {},
   "outputs": [
    {
     "data": {
      "text/plain": [
       "False"
      ]
     },
     "execution_count": 63,
     "metadata": {},
     "output_type": "execute_result"
    }
   ],
   "source": [
    "c is b"
   ]
  },
  {
   "cell_type": "code",
   "execution_count": 64,
   "metadata": {
    "scrolled": true
   },
   "outputs": [
    {
     "data": {
      "text/plain": [
       "True"
      ]
     },
     "execution_count": 64,
     "metadata": {},
     "output_type": "execute_result"
    }
   ],
   "source": [
    "a is b"
   ]
  },
  {
   "cell_type": "code",
   "execution_count": 3,
   "metadata": {},
   "outputs": [
    {
     "data": {
      "image/png": "[encoded data removed]",
      "text/plain": [
       "<IPython.core.display.Image object>"
      ]
     },
     "execution_count": 3,
     "metadata": {
      "image/png": {
       "width": 700
      }
     },
     "output_type": "execute_result"
    }
   ],
   "source": [
    "Image( 'figures/png/pfe3-figure-006.png', width=700 )"
   ]
  },
  {
   "cell_type": "markdown",
   "metadata": {},
   "source": [
    "---"
   ]
  }
 ],
 "metadata": {
  "kernelspec": {
   "display_name": "Python 3",
   "language": "python",
   "name": "python3"
  },
  "language_info": {
   "codemirror_mode": {
    "name": "ipython",
    "version": 3
   },
   "file_extension": ".py",
   "mimetype": "text/x-python",
   "name": "python",
   "nbconvert_exporter": "python",
   "pygments_lexer": "ipython3",
   "version": "3.8.8"
  }
 },
 "nbformat": 4,
 "nbformat_minor": 4
}
