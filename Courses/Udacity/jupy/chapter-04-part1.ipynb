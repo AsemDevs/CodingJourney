{
 "cells": [
  {
   "cell_type": "markdown",
   "metadata": {},
   "source": [
    "# Chapter 4: __LOOPS__"
   ]
  },
  {
   "cell_type": "markdown",
   "metadata": {},
   "source": [
    "---"
   ]
  },
  {
   "cell_type": "markdown",
   "metadata": {},
   "source": [
    "### Read [__Chapter 04__](textbooks/horstmann-and-necaise.2016.python-for-everyone.pdf#page=189) from your textbook."
   ]
  },
  {
   "cell_type": "markdown",
   "metadata": {},
   "source": [
    "---"
   ]
  },
  {
   "cell_type": "markdown",
   "metadata": {},
   "source": [
    "### `WHILE` loops"
   ]
  },
  {
   "cell_type": "raw",
   "metadata": {},
   "source": [
    "while <condition>:\n",
    "    #\n",
    "    <statement_1>\n",
    "    <statement_2>\n",
    "    .\n",
    "    .\n",
    "    .\n",
    "    <statement_n>"
   ]
  },
  {
   "cell_type": "markdown",
   "metadata": {},
   "source": [
    "**QUESTION:** How many years will it take to _triple_ the initial balance of 10,000 USD with a yearly interest rate of `0.05`?"
   ]
  },
  {
   "cell_type": "markdown",
   "metadata": {},
   "source": [
    "**OBSERVATIONS:**\n",
    "\n",
    "- Implicitly we are assuming that we will not withdraw any money\n",
    "\n",
    "- We may not reach an exact target amount. So we should stop as soon as we get an amount that is equal to or larger than the target amount.\n",
    "\n",
    "**ALGORITHM:**\n",
    "\n",
    "Let's develop a very coarse algorithm to start with.\n",
    "\n",
    "```\n",
    "INITIAL_BALANCE = 10,000 USD\n",
    "interest_rate = 0.05\n",
    "FINAL_BALANCE = 3 * initial_balance\n",
    "\n",
    "FOR EACH YEAR\n",
    "\n",
    "    INTEREST AMOUNT = Compute the INTEREST AMOUNT\n",
    "    CUR_BALANCE = Add the INTEREST AMOUNT to the existing BALANCE\n",
    "    \n",
    "    IF CUR_BALANCE == FINAL_BALANCE THEN\n",
    "    \n",
    "        REPORT THE YEAR\n",
    "```"
   ]
  },
  {
   "cell_type": "markdown",
   "metadata": {},
   "source": [
    "Next, we must TEST this algorithm.\n",
    "\n",
    "```\n",
    "cb = 10,000\n",
    "ir = 0.05\n",
    "fb = 12,000 # FOR CHECKING ONLY\n",
    "\n",
    "after 1 year:\n",
    "    cb = cb + cb * ir = 10,000 + 10,000 * 0.05 = 10,000 + 500 = 10,500\n",
    "\n",
    "after 2 year:\n",
    "    cb = cb + cb * ir = 10,500 + 10,500 * 0.05 = 11,025\n",
    "    \n",
    "after 3 year:\n",
    "    cb = cb + cb * ir = 11,025 + 11,025 * 0.05 = 11,576.25\n",
    "    \n",
    "after 4 year:\n",
    "    cb = cb + cb * ir = 12,155.0625\n",
    "```\n",
    "\n",
    "We can see that after 4 years, we will have a total balance that is slightly above 12,000 USD.\n",
    "\n",
    "So, for the problem we set out to solve, we only need 4 years.\n",
    "\n",
    "We should also note that our initial algorithm needs to be more detailed and more exact.\n",
    "\n",
    "So we must create a more refined version of our algorithm that would be closer to being implementable."
   ]
  },
  {
   "cell_type": "markdown",
   "metadata": {},
   "source": [
    "```\n",
    "current_balance = 10,000 usd\n",
    "interest_rate = 0.05\n",
    "final_balance = 3 * initial_balance\n",
    "\n",
    "FOR EACH YEAR\n",
    "\n",
    "    interest_amount = Compute the INTEREST AMOUNT\n",
    "    current_balance = current_balance + interest_amount\n",
    "    \n",
    "    IF current_balance >= final_balance THEN\n",
    "    \n",
    "        REPORT THE YEAR\n",
    "```"
   ]
  },
  {
   "cell_type": "markdown",
   "metadata": {},
   "source": [
    "Now we would be more ready than before to write some code. However, we still have to decide about exactly how we will report how many years it would take to triple the initial balance.\n",
    "\n",
    "Moreover, we have a little problem with using the equality operator to decide when to stop.\n",
    "\n",
    "Thinking a bit more, we can reformulate our approach as a WHILE-loop and come up with a much more refined version of our algorithm."
   ]
  },
  {
   "cell_type": "markdown",
   "metadata": {},
   "source": [
    "```\n",
    "current_balance = 10,000 usd\n",
    "interest_rate = 0.05\n",
    "target_balance = 3 * initial_balance\n",
    "years = 0\n",
    "\n",
    "WHILE current_balance < target_balance:\n",
    "    #\n",
    "    interest_amount = current_balance * interest_rate\n",
    "    current_balance = current_balance + interest_amount\n",
    "    years += 1\n",
    "    \n",
    "REPORT years    \n",
    "```"
   ]
  },
  {
   "cell_type": "markdown",
   "metadata": {},
   "source": [
    "Finally, let us code."
   ]
  },
  {
   "cell_type": "code",
   "execution_count": 10,
   "metadata": {},
   "outputs": [
    {
     "name": "stdout",
     "output_type": "stream",
     "text": [
      "--- Current balance: 10500.0\n",
      "--- Current balance: 11025.0\n",
      "--- Current balance: 11576.25\n",
      "--- Current balance: 12155.0625\n",
      "--- We need 4 years to reach a target balance of 12000\n"
     ]
    }
   ],
   "source": [
    "initial_balance = 10000 \n",
    "#target_balance = 3 * initial_balance\n",
    "target_balance = 12000 # FOR CHECKING OUR HAND CALCULATIONS ABOVE\n",
    "interest_rate = 0.05\n",
    "cur_balance = initial_balance\n",
    "years = 0 \n",
    "\n",
    "while cur_balance < target_balance:\n",
    "    #\n",
    "    cur_interest = cur_balance * interest_rate\n",
    "    cur_balance += cur_interest # Update the value we use in checking for the loop condition\n",
    "    years += 1\n",
    "    print( \"--- Current balance: {}\".format( cur_balance ) ) \n",
    "    \n",
    "print( f\"--- We need {years} years to reach a target balance of {target_balance}\" )"
   ]
  },
  {
   "cell_type": "markdown",
   "metadata": {},
   "source": [
    "Let us now go back to the original problem and solve it using the same exact approach."
   ]
  },
  {
   "cell_type": "code",
   "execution_count": 14,
   "metadata": {},
   "outputs": [
    {
     "name": "stdout",
     "output_type": "stream",
     "text": [
      "--- We will need 23 years to triple the initial amount of $10000\n"
     ]
    }
   ],
   "source": [
    "initial_balance = 10000 \n",
    "target_balance = 3 * initial_balance\n",
    "interest_rate = 0.05\n",
    "cur_balance = initial_balance\n",
    "years = 0\n",
    "\n",
    "while cur_balance < target_balance:\n",
    "    #\n",
    "    cur_interest = cur_balance * interest_rate\n",
    "    cur_balance += cur_interest # Update the value we use in checking for the loop condition\n",
    "    years += 1\n",
    "    # print( \"--- Current balance: {}\".format( cur_balance ) ) \n",
    "    \n",
    "print( f\"--- We will need {years} years to triple the initial amount of ${initial_balance}\" )"
   ]
  },
  {
   "cell_type": "markdown",
   "metadata": {},
   "source": [
    "### `break`"
   ]
  },
  {
   "cell_type": "code",
   "execution_count": 20,
   "metadata": {},
   "outputs": [
    {
     "name": "stdout",
     "output_type": "stream",
     "text": [
      "--- Please enter an integer value:  5\n"
     ]
    },
    {
     "name": "stdout",
     "output_type": "stream",
     "text": [
      "--- The value of i is 0\n",
      "--- The value of i is 1\n",
      "--- The value of i is 2\n",
      "--- The value of i is 3\n",
      "--- The value of i is 4\n",
      "--- Breaking out of the while-loop at i=5\n",
      "<<< AFTER the while loop\n"
     ]
    }
   ],
   "source": [
    "i = 0\n",
    "j = int( input(\"--- Please enter an integer value: \" ) )\n",
    "\n",
    "while i < 100:\n",
    "    #\n",
    "    if i == j:\n",
    "        print( f\"--- Breaking out of the while-loop at i={i}\" )\n",
    "        break\n",
    "    print( \"--- The value of i is {}\".format( i ) )\n",
    "    i += 1\n",
    "\n",
    "print( \"<<< AFTER the while loop\" )"
   ]
  },
  {
   "cell_type": "markdown",
   "metadata": {},
   "source": [
    "### `continue`"
   ]
  },
  {
   "cell_type": "code",
   "execution_count": 1,
   "metadata": {},
   "outputs": [
    {
     "name": "stdout",
     "output_type": "stream",
     "text": [
      "--- The value of i is 0\n",
      "--- The value of i is 1\n",
      "--- The value of i is 2\n",
      "--- The value of i is 3\n",
      "--- The value of i is 4\n",
      "### Note the jump in the values! (i=10)\n",
      "--- The value of i is 10\n",
      "--- The value of i is 11\n",
      "--- The value of i is 12\n",
      "--- The value of i is 13\n",
      "--- The value of i is 14\n",
      "--- The value of i is 15\n",
      "--- The value of i is 16\n",
      "--- The value of i is 17\n",
      "--- The value of i is 18\n",
      "--- The value of i is 19\n",
      "--- The value of i is 20\n",
      "--- The value of i is 21\n",
      "--- The value of i is 22\n",
      "--- The value of i is 23\n",
      "--- The value of i is 24\n",
      "--- The value of i is 25\n",
      "--- The value of i is 26\n",
      "--- The value of i is 27\n",
      "--- The value of i is 28\n",
      "--- The value of i is 29\n",
      "--- AFTER while loop\n"
     ]
    }
   ],
   "source": [
    "i = 0\n",
    "j = int( input(\"--- Please enter an integer value: \" ) )\n",
    "\n",
    "while i < 30:\n",
    "    if i == j:\n",
    "        i += 5\n",
    "        print( f\"### Note the jump in the values! (i={i})\" )\n",
    "        continue\n",
    "    print( \"--- The value of i is {}\".format( i ) )\n",
    "    i += 1\n",
    "\n",
    "print( \"--- AFTER while loop\" )"
   ]
  },
  {
   "cell_type": "code",
   "execution_count": 23,
   "metadata": {},
   "outputs": [
    {
     "ename": "ZeroDivisionError",
     "evalue": "division by zero",
     "output_type": "error",
     "traceback": [
      "\u001b[0;31m---------------------------------------------------------------------------\u001b[0m",
      "\u001b[0;31mZeroDivisionError\u001b[0m                         Traceback (most recent call last)",
      "\u001b[0;32m<ipython-input-23-adafc2937013>\u001b[0m in \u001b[0;36m<module>\u001b[0;34m\u001b[0m\n\u001b[0;32m----> 1\u001b[0;31m \u001b[0;36m5\u001b[0m \u001b[0;34m/\u001b[0m \u001b[0;36m0\u001b[0m\u001b[0;34m\u001b[0m\u001b[0;34m\u001b[0m\u001b[0m\n\u001b[0m",
      "\u001b[0;31mZeroDivisionError\u001b[0m: division by zero"
     ]
    }
   ],
   "source": [
    "5 / 0"
   ]
  },
  {
   "cell_type": "markdown",
   "metadata": {},
   "source": [
    "### `FOR`-loops"
   ]
  },
  {
   "cell_type": "markdown",
   "metadata": {},
   "source": [
    "In general\n",
    "\n",
    "- `range( n )` --> `[0, 1, 2, 3, ..., (n - 2), (n - 1)]`\n",
    "\n",
    "- `range( a, b )` --> `[a, a + 1, a + 2, ... (b - 2), (b - 1)]`\n",
    "\n",
    "- `range( a, b, i )` --> `[a, a + i, a + 2*i, a + 3*i ... ]`\n"
   ]
  },
  {
   "cell_type": "code",
   "execution_count": 24,
   "metadata": {},
   "outputs": [
    {
     "data": {
      "text/plain": [
       "range(0, 10)"
      ]
     },
     "execution_count": 24,
     "metadata": {},
     "output_type": "execute_result"
    }
   ],
   "source": [
    "range( 10 )"
   ]
  },
  {
   "cell_type": "code",
   "execution_count": 25,
   "metadata": {},
   "outputs": [
    {
     "data": {
      "text/plain": [
       "[0, 1, 2, 3, 4, 5, 6, 7, 8, 9]"
      ]
     },
     "execution_count": 25,
     "metadata": {},
     "output_type": "execute_result"
    }
   ],
   "source": [
    "list( range( 10 ) )"
   ]
  },
  {
   "cell_type": "code",
   "execution_count": 26,
   "metadata": {},
   "outputs": [
    {
     "data": {
      "text/plain": [
       "[10, 11, 12, 13, 14, 15, 16, 17, 18, 19, 20, 21, 22, 23, 24]"
      ]
     },
     "execution_count": 26,
     "metadata": {},
     "output_type": "execute_result"
    }
   ],
   "source": [
    "list( range( 10, 25 ) )"
   ]
  },
  {
   "cell_type": "code",
   "execution_count": 27,
   "metadata": {},
   "outputs": [
    {
     "data": {
      "text/plain": [
       "[10, 11, 12, 13, 14, 15, 16, 17, 18, 19, 20, 21, 22, 23, 24]"
      ]
     },
     "execution_count": 27,
     "metadata": {},
     "output_type": "execute_result"
    }
   ],
   "source": [
    "list( range( 10, 25, 1 ) )"
   ]
  },
  {
   "cell_type": "code",
   "execution_count": 28,
   "metadata": {},
   "outputs": [
    {
     "ename": "ValueError",
     "evalue": "range() arg 3 must not be zero",
     "output_type": "error",
     "traceback": [
      "\u001b[0;31m---------------------------------------------------------------------------\u001b[0m",
      "\u001b[0;31mValueError\u001b[0m                                Traceback (most recent call last)",
      "\u001b[0;32m<ipython-input-28-d61320fe4bda>\u001b[0m in \u001b[0;36m<module>\u001b[0;34m\u001b[0m\n\u001b[0;32m----> 1\u001b[0;31m \u001b[0mlist\u001b[0m\u001b[0;34m(\u001b[0m \u001b[0mrange\u001b[0m\u001b[0;34m(\u001b[0m \u001b[0;36m10\u001b[0m\u001b[0;34m,\u001b[0m \u001b[0;36m25\u001b[0m\u001b[0;34m,\u001b[0m \u001b[0;36m0\u001b[0m \u001b[0;34m)\u001b[0m \u001b[0;34m)\u001b[0m\u001b[0;34m\u001b[0m\u001b[0;34m\u001b[0m\u001b[0m\n\u001b[0m",
      "\u001b[0;31mValueError\u001b[0m: range() arg 3 must not be zero"
     ]
    }
   ],
   "source": [
    "list( range( 10, 25, 0 ) )"
   ]
  },
  {
   "cell_type": "code",
   "execution_count": 29,
   "metadata": {},
   "outputs": [
    {
     "data": {
      "text/plain": [
       "[10, 12, 14, 16, 18, 20, 22, 24]"
      ]
     },
     "execution_count": 29,
     "metadata": {},
     "output_type": "execute_result"
    }
   ],
   "source": [
    "list( range( 10, 25, 2 ) )"
   ]
  },
  {
   "cell_type": "code",
   "execution_count": 30,
   "metadata": {},
   "outputs": [
    {
     "data": {
      "text/plain": [
       "[10, 13, 16, 19, 22]"
      ]
     },
     "execution_count": 30,
     "metadata": {},
     "output_type": "execute_result"
    }
   ],
   "source": [
    "list( range( 10, 25, 3 ) )"
   ]
  },
  {
   "cell_type": "code",
   "execution_count": 31,
   "metadata": {},
   "outputs": [
    {
     "data": {
      "text/plain": [
       "[100, 90, 80, 70, 60, 50, 40, 30, 20, 10]"
      ]
     },
     "execution_count": 31,
     "metadata": {},
     "output_type": "execute_result"
    }
   ],
   "source": [
    "list( range( 100, 0, -10 ) )"
   ]
  },
  {
   "cell_type": "code",
   "execution_count": 32,
   "metadata": {},
   "outputs": [
    {
     "data": {
      "text/plain": [
       "[100, 90, 80, 70, 60, 50, 40, 30, 20, 10, 0]"
      ]
     },
     "execution_count": 32,
     "metadata": {},
     "output_type": "execute_result"
    }
   ],
   "source": [
    "list( range( 100, -1, -10 ) ) # Zero included"
   ]
  },
  {
   "cell_type": "code",
   "execution_count": 34,
   "metadata": {},
   "outputs": [
    {
     "name": "stdout",
     "output_type": "stream",
     "text": [
      "Help on class range in module builtins:\n",
      "\n",
      "class range(object)\n",
      " |  range(stop) -> range object\n",
      " |  range(start, stop[, step]) -> range object\n",
      " |  \n",
      " |  Return an object that produces a sequence of integers from start (inclusive)\n",
      " |  to stop (exclusive) by step.  range(i, j) produces i, i+1, i+2, ..., j-1.\n",
      " |  start defaults to 0, and stop is omitted!  range(4) produces 0, 1, 2, 3.\n",
      " |  These are exactly the valid indices for a list of 4 elements.\n",
      " |  When step is given, it specifies the increment (or decrement).\n",
      " |  \n",
      " |  Methods defined here:\n",
      " |  \n",
      " |  __bool__(self, /)\n",
      " |      self != 0\n",
      " |  \n",
      " |  __contains__(self, key, /)\n",
      " |      Return key in self.\n",
      " |  \n",
      " |  __eq__(self, value, /)\n",
      " |      Return self==value.\n",
      " |  \n",
      " |  __ge__(self, value, /)\n",
      " |      Return self>=value.\n",
      " |  \n",
      " |  __getattribute__(self, name, /)\n",
      " |      Return getattr(self, name).\n",
      " |  \n",
      " |  __getitem__(self, key, /)\n",
      " |      Return self[key].\n",
      " |  \n",
      " |  __gt__(self, value, /)\n",
      " |      Return self>value.\n",
      " |  \n",
      " |  __hash__(self, /)\n",
      " |      Return hash(self).\n",
      " |  \n",
      " |  __iter__(self, /)\n",
      " |      Implement iter(self).\n",
      " |  \n",
      " |  __le__(self, value, /)\n",
      " |      Return self<=value.\n",
      " |  \n",
      " |  __len__(self, /)\n",
      " |      Return len(self).\n",
      " |  \n",
      " |  __lt__(self, value, /)\n",
      " |      Return self<value.\n",
      " |  \n",
      " |  __ne__(self, value, /)\n",
      " |      Return self!=value.\n",
      " |  \n",
      " |  __reduce__(...)\n",
      " |      Helper for pickle.\n",
      " |  \n",
      " |  __repr__(self, /)\n",
      " |      Return repr(self).\n",
      " |  \n",
      " |  __reversed__(...)\n",
      " |      Return a reverse iterator.\n",
      " |  \n",
      " |  count(...)\n",
      " |      rangeobject.count(value) -> integer -- return number of occurrences of value\n",
      " |  \n",
      " |  index(...)\n",
      " |      rangeobject.index(value) -> integer -- return index of value.\n",
      " |      Raise ValueError if the value is not present.\n",
      " |  \n",
      " |  ----------------------------------------------------------------------\n",
      " |  Static methods defined here:\n",
      " |  \n",
      " |  __new__(*args, **kwargs) from builtins.type\n",
      " |      Create and return a new object.  See help(type) for accurate signature.\n",
      " |  \n",
      " |  ----------------------------------------------------------------------\n",
      " |  Data descriptors defined here:\n",
      " |  \n",
      " |  start\n",
      " |  \n",
      " |  step\n",
      " |  \n",
      " |  stop\n",
      "\n"
     ]
    }
   ],
   "source": [
    "help( range )"
   ]
  },
  {
   "cell_type": "markdown",
   "metadata": {},
   "source": [
    "### **GENERAL SYNTAX OF THE FOR-LOOP**\n",
    "\n",
    "```\n",
    "FOR x in iterable:\n",
    "    #\n",
    "    <statement_1>\n",
    "    <statement_2>\n",
    "    <statement_3>\n",
    "    .\n",
    "    .\n",
    "    .\n",
    "    <statement_N>\n",
    "```"
   ]
  },
  {
   "cell_type": "code",
   "execution_count": 35,
   "metadata": {},
   "outputs": [
    {
     "name": "stdout",
     "output_type": "stream",
     "text": [
      "0\n",
      "1\n",
      "2\n",
      "3\n",
      "4\n",
      "5\n",
      "6\n",
      "7\n",
      "8\n",
      "9\n"
     ]
    }
   ],
   "source": [
    "# We do not really need the list() call, so let us do it the right way.\n",
    "#\n",
    "for i in range( 10 ):\n",
    "    #\n",
    "    print( i )"
   ]
  },
  {
   "cell_type": "markdown",
   "metadata": {},
   "source": [
    "__PROBLEM__: Generate a logic table for the XOR operator."
   ]
  },
  {
   "cell_type": "markdown",
   "metadata": {},
   "source": [
    "Remember that we had to __repeat__ a bunch of code to be able to do this back in Chapter 03!"
   ]
  },
  {
   "cell_type": "code",
   "execution_count": 37,
   "metadata": {},
   "outputs": [
    {
     "name": "stdout",
     "output_type": "stream",
     "text": [
      "A      B      | A XOR B\n",
      "-------------------------\n",
      "False  False  | False\n",
      "False  True   | True\n",
      "True   False  | True\n",
      "True   True   | False\n"
     ]
    }
   ],
   "source": [
    "# Print the title for the table first\n",
    "#\n",
    "fmt = \"{:6s} {:6s} | {}\"\n",
    "print( fmt.format( \"A\", \"B\", \"A XOR B\" ) )\n",
    "print( \"-\" * 25 )\n",
    "\n",
    "A, B = False, False\n",
    "A_not, B_not = not( A ), not( B )\n",
    "xor_result_1 = A and B_not or A_not and B\n",
    "print( fmt.format( str( A ), str( B ), xor_result_1 ) )\n",
    "\n",
    "A, B = False, True\n",
    "A_not, B_not = not( A ), not( B )\n",
    "xor_result_2 = A and B_not or A_not and B\n",
    "print( fmt.format( str( A ), str( B ), xor_result_2 ) )\n",
    "\n",
    "A, B = True, False\n",
    "A_not, B_not = not( A ), not( B )\n",
    "xor_result_3 = A and B_not or A_not and B\n",
    "print( fmt.format( str( A ), str( B ), xor_result_3 ) )\n",
    "\n",
    "A, B = True, True\n",
    "A_not, B_not = not( A ), not( B )\n",
    "xor_result_4 = A and B_not or A_not and B\n",
    "print( fmt.format( str( A ), str( B ), xor_result_4 ) )"
   ]
  },
  {
   "cell_type": "markdown",
   "metadata": {},
   "source": [
    "Since we we repeating the same four lines of code, except for the values of `A` and `B`, let's do the same, but using looping this time!"
   ]
  },
  {
   "cell_type": "code",
   "execution_count": 41,
   "metadata": {},
   "outputs": [
    {
     "name": "stdout",
     "output_type": "stream",
     "text": [
      "A      B      | A XOR B\n",
      "-------------------------\n",
      "False  False  | False\n",
      "False  True   | True\n",
      "True   False  | True\n",
      "True   True   | False\n"
     ]
    }
   ],
   "source": [
    "print( f\"{'A':6s} {'B':6s} | A XOR B\" )\n",
    "print( \"-\" * 25 )\n",
    "\n",
    "for A, B in [(False, False), (False, True), (True, False), (True, True)]:\n",
    "    #\n",
    "    not_A, not_B = not( A ), not( B )\n",
    "    xor_result = A and not_B or not_A and B\n",
    "    print( f\"{str( A ):6s} {str( B ):6s} | {xor_result}\" )"
   ]
  },
  {
   "cell_type": "code",
   "execution_count": 44,
   "metadata": {},
   "outputs": [
    {
     "name": "stdout",
     "output_type": "stream",
     "text": [
      "--- Two-tuple: (False, False)\n",
      "\tA: False, B: False\n",
      "--- Two-tuple: (False, True)\n",
      "\tA: False, B: True\n",
      "--- Two-tuple: (True, False)\n",
      "\tA: True, B: False\n",
      "--- Two-tuple: (True, True)\n",
      "\tA: True, B: True\n"
     ]
    }
   ],
   "source": [
    "for x in [(False, False), (False, True), (True, False), (True, True)]:\n",
    "    print( f\"--- Two-tuple: {x}\" )\n",
    "    A = x[0]\n",
    "    B = x[1]\n",
    "    print( f\"\\tA: {A}, B: {B}\" )"
   ]
  },
  {
   "cell_type": "code",
   "execution_count": 45,
   "metadata": {},
   "outputs": [
    {
     "name": "stdout",
     "output_type": "stream",
     "text": [
      "False False\n",
      "False True\n",
      "True False\n",
      "True True\n"
     ]
    }
   ],
   "source": [
    "for x in [(False, False), (False, True), (True, False), (True, True)]:\n",
    "    #print( x )\n",
    "    A, B = x\n",
    "    print( A, B )"
   ]
  },
  {
   "cell_type": "code",
   "execution_count": 47,
   "metadata": {},
   "outputs": [
    {
     "name": "stdout",
     "output_type": "stream",
     "text": [
      "False False\n",
      "False True\n",
      "True False\n",
      "True True\n"
     ]
    }
   ],
   "source": [
    "for A, B in [(False, False), (False, True), (True, False), (True, True)]:\n",
    "    #\n",
    "    print( A, B )"
   ]
  },
  {
   "cell_type": "markdown",
   "metadata": {},
   "source": [
    "### Nested Loops"
   ]
  },
  {
   "cell_type": "markdown",
   "metadata": {},
   "source": [
    "__PROBLEM:__ \n",
    "    \n",
    "> Write a Python program that accepts two values, one for the number of rows ($M$) and another for the number of columns ($N$) that prints out an $M \\times N$ grid pattern using square brackets.\n",
    "\n",
    "For example, here is a 5 x 3 pattern&ndash;5 rows by 3 columns ($M=5, N=3$):\n",
    "\n",
    "           [] [] []\n",
    "           [] [] []\n",
    "           [] [] []\n",
    "           [] [] []\n",
    "           [] [] []"
   ]
  },
  {
   "cell_type": "markdown",
   "metadata": {},
   "source": [
    "__ANSWER:__"
   ]
  },
  {
   "cell_type": "code",
   "execution_count": 49,
   "metadata": {},
   "outputs": [
    {
     "name": "stdout",
     "output_type": "stream",
     "text": [
      "7 rows by 5 columns:\n",
      "\n",
      "o   o   o   o   o   \n",
      "o   o   o   o   o   \n",
      "o   o   o   o   o   \n",
      "o   o   o   o   o   \n",
      "o   o   o   o   o   \n",
      "o   o   o   o   o   \n",
      "o   o   o   o   o   \n"
     ]
    }
   ],
   "source": [
    "M = 7 # Rows\n",
    "N = 5 # Columns\n",
    "symbol = \"o\"\n",
    "spacer = \"  \"\n",
    "\n",
    "print( f\"{M} rows by {N} columns:\\n\" )\n",
    "\n",
    "for cur_row in range( M ):\n",
    "    #\n",
    "    for cur_col in range( N ):\n",
    "        #\n",
    "        print( symbol, spacer, end=\"\" )\n",
    "        \n",
    "    print() # End of the current row values"
   ]
  },
  {
   "cell_type": "markdown",
   "metadata": {},
   "source": [
    "**QUESTION:** How did we decide that the row counter `cur_row` was supposed to be in the outer loop while the column counter `cur_col` was supposed to be in the inner loop?\n",
    "\n",
    "Let us try to do the reverse and observe what happens."
   ]
  },
  {
   "cell_type": "code",
   "execution_count": 51,
   "metadata": {},
   "outputs": [
    {
     "name": "stdout",
     "output_type": "stream",
     "text": [
      "7 rows by 5 columns (???):\n",
      "\n",
      "o   o   o   o   o   o   o   \n",
      "o   o   o   o   o   o   o   \n",
      "o   o   o   o   o   o   o   \n",
      "o   o   o   o   o   o   o   \n",
      "o   o   o   o   o   o   o   \n"
     ]
    }
   ],
   "source": [
    "M = 7 # Rows\n",
    "N = 5 # Columns\n",
    "symbol = \"o\"\n",
    "spacer = \"  \"\n",
    "\n",
    "print( f\"{M} rows by {N} columns (???):\\n\" )\n",
    "\n",
    "for cur_col in range( N ):\n",
    "    #\n",
    "    for cur_row in range( M ):\n",
    "        #\n",
    "        print( symbol, spacer, end=\"\" )\n",
    "        \n",
    "    print() # End of the current row values"
   ]
  },
  {
   "cell_type": "markdown",
   "metadata": {},
   "source": [
    "Obviously, this second approach is wrong, because, instead of giving us 7 rows by 5 columns, it gave us 5 rows by 7 columns!"
   ]
  },
  {
   "cell_type": "markdown",
   "metadata": {},
   "source": [
    "Note in the above program that we never used the variables `cur_row` and `cur_col`. So is there any point naming them? Actually no ...\n",
    "\n",
    "So we can write another version of the program where we just do not use any variable names at all."
   ]
  },
  {
   "cell_type": "code",
   "execution_count": 53,
   "metadata": {},
   "outputs": [
    {
     "name": "stdout",
     "output_type": "stream",
     "text": [
      "[]  []  []  []  []  \n",
      "[]  []  []  []  []  \n",
      "[]  []  []  []  []  \n",
      "[]  []  []  []  []  \n",
      "[]  []  []  []  []  \n",
      "[]  []  []  []  []  \n",
      "[]  []  []  []  []  \n"
     ]
    }
   ],
   "source": [
    "M = 7 # Rows\n",
    "N = 5 # Columns\n",
    "symbol = \"[]\"\n",
    "spacer = \" \"\n",
    "\n",
    "for _ in range( M ):\n",
    "    for _ in range( N ):\n",
    "        print( symbol, spacer, end=\"\" )\n",
    "    print()"
   ]
  },
  {
   "cell_type": "markdown",
   "metadata": {},
   "source": [
    "Since we are using the values from `range( M )` and `range( N )` expressions for counting, we can use `_` in place of variable names."
   ]
  },
  {
   "cell_type": "markdown",
   "metadata": {},
   "source": [
    "__PROBLEM:__ \n",
    "    \n",
    "> Write a Python program that accepts three exam grades for each student and computes and prints out the average for each of those exams. The user will also provide how many students there are in a class."
   ]
  },
  {
   "cell_type": "markdown",
   "metadata": {},
   "source": [
    "__ANSWER:__"
   ]
  },
  {
   "cell_type": "code",
   "execution_count": 55,
   "metadata": {},
   "outputs": [
    {
     "name": "stdout",
     "output_type": "stream",
     "text": [
      "Enter exam result 1 for student 01:  1\n",
      "Enter exam result 2 for student 01:  1\n",
      "Enter exam result 3 for student 01:  1\n",
      "Enter exam result 1 for student 02:  2\n",
      "Enter exam result 2 for student 02:  2\n",
      "Enter exam result 3 for student 02:  2\n",
      "Enter exam result 1 for student 03:  3\n",
      "Enter exam result 2 for student 03:  3\n",
      "Enter exam result 3 for student 03:  3\n",
      "Enter exam result 1 for student 04:  4\n",
      "Enter exam result 2 for student 04:  4\n",
      "Enter exam result 3 for student 04:  4\n",
      "Enter exam result 1 for student 05:  5\n",
      "Enter exam result 2 for student 05:  5\n",
      "Enter exam result 3 for student 05:  5\n"
     ]
    }
   ],
   "source": [
    "exam_total_1 = 0\n",
    "exam_total_2 = 0\n",
    "exam_total_3 = 0\n",
    "\n",
    "number_of_students = 5\n",
    "\n",
    "for cur_id in range( 1, number_of_students + 1 ): # Note 1-based indexing and +1 in range()\n",
    "    #\n",
    "    cur_exam_1 = float( input( \"Enter exam result 1 for student {:02d}: \".format( cur_id ) ) )\n",
    "    cur_exam_2 = float( input( \"Enter exam result 2 for student {:02d}: \".format( cur_id ) ) )\n",
    "    cur_exam_3 = float( input( \"Enter exam result 3 for student {:02d}: \".format( cur_id ) ) )\n",
    "    \n",
    "    exam_total_1 += cur_exam_1\n",
    "    exam_total_2 += cur_exam_2\n",
    "    exam_total_3 += cur_exam_3\n",
    "    \n",
    "exam_avg_1 = exam_total_1 / number_of_students\n",
    "exam_avg_2 = exam_total_2 / number_of_students\n",
    "exam_avg_3 = exam_total_3 / number_of_students"
   ]
  },
  {
   "cell_type": "code",
   "execution_count": 56,
   "metadata": {},
   "outputs": [
    {
     "data": {
      "text/plain": [
       "(3.0, 3.0, 3.0)"
      ]
     },
     "execution_count": 56,
     "metadata": {},
     "output_type": "execute_result"
    }
   ],
   "source": [
    "exam_avg_1, exam_avg_2, exam_avg_3"
   ]
  },
  {
   "cell_type": "markdown",
   "metadata": {},
   "source": [
    "__PROBLEM:__ \n",
    "    \n",
    "> Write a Python program that displays the values provided for a histogram. Suppose that the values given in the following list represent the number of A, B, C, D, and F grades.\n",
    "\n",
    "        grade_distribution = [4, 8, 12, 7, 2]        "
   ]
  },
  {
   "cell_type": "markdown",
   "metadata": {},
   "source": [
    "__ANSWER:__"
   ]
  },
  {
   "cell_type": "code",
   "execution_count": 57,
   "metadata": {},
   "outputs": [
    {
     "data": {
      "text/plain": [
       "[(1, 'a'), (2, 'b'), (3, 'c'), (4, 'd'), (5, 'f')]"
      ]
     },
     "execution_count": 57,
     "metadata": {},
     "output_type": "execute_result"
    }
   ],
   "source": [
    "# zip( a, b, ... )\n",
    "\n",
    "a = [1, 2, 3, 4, 5]\n",
    "b = ['a', 'b', 'c', 'd', 'f']\n",
    "z = zip( a, b )\n",
    "list( z )"
   ]
  },
  {
   "cell_type": "markdown",
   "metadata": {},
   "source": [
    "---"
   ]
  },
  {
   "cell_type": "code",
   "execution_count": 62,
   "metadata": {},
   "outputs": [
    {
     "name": "stdout",
     "output_type": "stream",
     "text": [
      "A: ****\n",
      "B: ********\n",
      "C: ***************\n",
      "D: *******\n",
      "F: **\n"
     ]
    }
   ],
   "source": [
    "grade_distribution = [4, 8, 15, 7, 2]\n",
    "grade_labels = [\"A\", \"B\", \"C\", \"D\", \"F\"]\n",
    "gf_gd_zip = zip( grade_distribution, grade_labels )\n",
    "symbol = \"*\"\n",
    "\n",
    "for cur_freq, cur_grade in gf_gd_zip:\n",
    "    #\n",
    "    print( f\"{cur_grade}: {symbol * cur_freq}\" )"
   ]
  },
  {
   "cell_type": "markdown",
   "metadata": {},
   "source": [
    "#### Finding All Matches"
   ]
  },
  {
   "cell_type": "markdown",
   "metadata": {},
   "source": [
    "Book version:"
   ]
  },
  {
   "cell_type": "markdown",
   "metadata": {},
   "source": [
    "Example sentence:\n",
    "    \n",
    "> “Two things are infinite: the universe and human stupidity; and I'm not sure about the universe.”"
   ]
  },
  {
   "cell_type": "code",
   "execution_count": 66,
   "metadata": {},
   "outputs": [
    {
     "name": "stdout",
     "output_type": "stream",
     "text": [
      "Enter a sentence:  \n"
     ]
    }
   ],
   "source": [
    "sentence = input( \"Enter a sentence: \")\n",
    "\n",
    "for i in range( len( sentence ) ):\n",
    "    if sentence[i].isupper() :\n",
    "        print( f\"--- Uppercase letter: {sentence[i]}\" )"
   ]
  },
  {
   "cell_type": "markdown",
   "metadata": {},
   "source": [
    "---"
   ]
  },
  {
   "cell_type": "code",
   "execution_count": 67,
   "metadata": {},
   "outputs": [
    {
     "data": {
      "text/plain": [
       "[(0, 'A'), (1, 'B'), (2, 'C'), (3, 'D'), (4, 'E'), (5, 'F')]"
      ]
     },
     "execution_count": 67,
     "metadata": {},
     "output_type": "execute_result"
    }
   ],
   "source": [
    "s = \"ABCDEF\"\n",
    "list( enumerate( s ) )"
   ]
  },
  {
   "cell_type": "markdown",
   "metadata": {},
   "source": [
    "---"
   ]
  },
  {
   "cell_type": "markdown",
   "metadata": {},
   "source": [
    "Alternative version:"
   ]
  },
  {
   "cell_type": "code",
   "execution_count": 68,
   "metadata": {},
   "outputs": [
    {
     "name": "stdout",
     "output_type": "stream",
     "text": [
      "Uppercase letter A at index 00\n",
      "Uppercase letter F at index 12\n",
      "Uppercase letter S at index 19\n"
     ]
    }
   ],
   "source": [
    "sentence = \"A starburst Fender Stratocaster\"\n",
    "\n",
    "for cur_idx, cur_char in enumerate( sentence ):\n",
    "    #\n",
    "    if cur_char.isupper() :\n",
    "        print( \"Uppercase letter {} at index {:02d}\".format( cur_char, cur_idx ) )"
   ]
  },
  {
   "cell_type": "markdown",
   "metadata": {},
   "source": [
    "#### Finding the Last Digit in a String"
   ]
  },
  {
   "cell_type": "markdown",
   "metadata": {},
   "source": [
    "Book version:"
   ]
  },
  {
   "cell_type": "code",
   "execution_count": 69,
   "metadata": {},
   "outputs": [
    {
     "name": "stdout",
     "output_type": "stream",
     "text": [
      "--- Found digit 3 at index 45\n"
     ]
    }
   ],
   "source": [
    "string = \"There are 5 apples and 9 oranges, as well as 3 plumbs.\"\n",
    "found = False\n",
    "position = len( string ) - 1\n",
    "\n",
    "while not found and position >= 0:\n",
    "    #\n",
    "    if string[position].isdigit():\n",
    "        #\n",
    "        found = True\n",
    "        print( f\"--- Found digit {string[position]} at index {position}\" )\n",
    "        break\n",
    "    else:\n",
    "        position = position - 1 # NOT Pythonic!!!"
   ]
  },
  {
   "cell_type": "markdown",
   "metadata": {},
   "source": [
    "Alternative version:"
   ]
  },
  {
   "cell_type": "code",
   "execution_count": 70,
   "metadata": {},
   "outputs": [
    {
     "data": {
      "text/plain": [
       "[9, 8, 7, 6, 5, 4, 3, 2, 1, 0]"
      ]
     },
     "execution_count": 70,
     "metadata": {},
     "output_type": "execute_result"
    }
   ],
   "source": [
    "list( range( 10 - 1, -1, -1 ) )"
   ]
  },
  {
   "cell_type": "code",
   "execution_count": 72,
   "metadata": {},
   "outputs": [
    {
     "name": "stdout",
     "output_type": "stream",
     "text": [
      "--- cur_char: .\n",
      "--- cur_char: s\n",
      "--- cur_char: b\n",
      "--- cur_char: m\n",
      "--- cur_char: u\n",
      "--- cur_char: l\n",
      "--- cur_char: p\n",
      "--- cur_char:  \n",
      "--- cur_char: 3\n",
      "--- Last digit 3 found at index 45\n"
     ]
    }
   ],
   "source": [
    "string = \"There are 5 apples and 9 oranges, as well as 3 plumbs.\"\n",
    "#found = False # NO NEED FOR SUCH A SENTINEL VALUE\n",
    "\n",
    "for cur_idx in range( len( string ) - 1, -1, -1 ):\n",
    "    #\n",
    "    cur_char = string[cur_idx]\n",
    "    \n",
    "    print( \"--- cur_char: {}\".format( cur_char ) )\n",
    "    \n",
    "    if cur_char.isdigit():\n",
    "        #\n",
    "        break\n",
    "\n",
    "print( \"--- Last digit {} found at index {}\".format( cur_char, cur_idx ) )"
   ]
  },
  {
   "cell_type": "markdown",
   "metadata": {},
   "source": [
    "**QUESTION:** Could we also start at the beginning of the string (meaning, at index 0) and find out which digit occurs last in the given sentence?"
   ]
  },
  {
   "cell_type": "code",
   "execution_count": 74,
   "metadata": {},
   "outputs": [
    {
     "name": "stdout",
     "output_type": "stream",
     "text": [
      "--- Seen digit 5 at index 10\n",
      "--- Seen digit 9 at index 23\n",
      "--- Seen digit 3 at index 45\n",
      "--- Last digit 3 found at index 45\n"
     ]
    }
   ],
   "source": [
    "string = \"There are 5 apples and 9 oranges, as well as 3 plumbs.\"\n",
    "\n",
    "last_digit = None\n",
    "last_index = None\n",
    "\n",
    "for cur_idx, cur_char in enumerate( string ):\n",
    "    #        \n",
    "    if cur_char.isdigit():\n",
    "        #\n",
    "        last_digit = cur_char\n",
    "        last_index = cur_idx\n",
    "        \n",
    "        print( f\"--- Seen digit {last_digit} at index {last_index}\" )\n",
    "\n",
    "print( f\"--- Last digit {last_digit} found at index {last_index}\" )"
   ]
  },
  {
   "cell_type": "markdown",
   "metadata": {},
   "source": [
    "---"
   ]
  }
 ],
 "metadata": {
  "kernelspec": {
   "display_name": "Python 3",
   "language": "python",
   "name": "python3"
  },
  "language_info": {
   "codemirror_mode": {
    "name": "ipython",
    "version": 3
   },
   "file_extension": ".py",
   "mimetype": "text/x-python",
   "name": "python",
   "nbconvert_exporter": "python",
   "pygments_lexer": "ipython3",
   "version": "3.8.8"
  }
 },
 "nbformat": 4,
 "nbformat_minor": 4
}
