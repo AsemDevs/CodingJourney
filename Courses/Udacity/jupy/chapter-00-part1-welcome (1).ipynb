{
 "cells": [
  {
   "cell_type": "markdown",
   "metadata": {},
   "source": [
    "# __ECC102&ndash;Programming  and Problem Solving__\n",
    "\n",
    "## __Welcome to ECC102!__ &#128578;\n",
    "\n",
    "- Send me email at huseyin.sevay@neu.edu.tr with a *subject* line that starts with `ECC102`\n",
    "\n",
    "- Things to do first:\n",
    "\n",
    "    - Join the ECC102 Facebook page [here](https://www.facebook.com/groups/1015829691763451):   \n",
    "    - Install a version of GNU/Linux unless you have a Mac. If you have no preference, consider installing \n",
    "    [Ubuntu](https://www.ubuntu.com/desktop/1710) by downloading the image for the ISO image for the latest version, creating a bootable USB using this ISO image, and then rebooting from this USB.\n",
    "    - Install VIM/GVIM on your GNU/Linux machine\n",
    "    - Start learning about VIM/GVIM [http://www.vim.org](http://www.vim.org) using the online tutorial at http://www.openvim.com.\n",
    "    - Learn how to type properly! (Look into the layout of the Dvorak keyboard). There are many useful sites. Try these sites:\n",
    "        - https://www.speedtypingonline.com/typing-tutor\n",
    "        - https://10fastfingers.com/typing-test/english\n",
    "    \n",
    "    - Download Anaconda version 3.x and install it:\n",
    "        https://www.anaconda.com/download/#linux\n",
    "        \n",
    "        - Notebooks will use Jupyter Lab\n",
    "        - Exams/quizzez will use Jupyter Notebook\n",
    "    \n",
    "- Remember that you must be READING a lot and PRACTICING a lot all the time!\n",
    "\n",
    "- Problem solving is a special skill that one acquires.\n",
    "\n",
    "     - Via engineering education\n",
    "     - Via the scientific approach, coupled with an ethical understanding\n",
    "     - Via a systematic approach\n",
    "     \n",
    "- The goal of engineering education is to raise engineers who are capable of solving real problems and *learning on their own*. \n",
    "\n",
    "- You may view your undergraduate education as a learning experience about \"learning how to learn (on your own)\"\n",
    "\n",
    "- \"The undergraduate curriculum for engineering is generally acknowledged to be more rigorous and difficult than the majority of academic disciplines.\"&mdash; *Introduction to Engineering Ethics* by Mike W. Martin and Roland Schinzinger, 2010"
   ]
  },
  {
   "cell_type": "markdown",
   "metadata": {},
   "source": [
    "---"
   ]
  },
  {
   "cell_type": "markdown",
   "metadata": {},
   "source": [
    "## Ethics\n",
    "\n",
    "- NSPE Code of Ethics: https://www.nspe.org/resources/ethics/code-ethics"
   ]
  },
  {
   "cell_type": "markdown",
   "metadata": {},
   "source": [
    "---"
   ]
  },
  {
   "cell_type": "markdown",
   "metadata": {},
   "source": [
    "# What my professors taught me\n",
    "\n",
    "- QUESTION AUTHORITY!"
   ]
  },
  {
   "cell_type": "markdown",
   "metadata": {},
   "source": [
    "---"
   ]
  },
  {
   "cell_type": "markdown",
   "metadata": {},
   "source": [
    "### Why GNU/Linux?\n",
    "\n",
    "- The supercomputer at NEU runs GNU/Linux\n",
    "\n",
    "- The latest Mars rover, *Perseverence* runs GNU/Linux:\n",
    "\n",
    "    https://www.pcmag.com/news/linux-is-now-on-mars-thanks-to-nasas-perseverance-rover\n",
    "    \n",
    "- https://www.wired.com/2016/08/linux-took-web-now-taking-world/"
   ]
  },
  {
   "cell_type": "markdown",
   "metadata": {},
   "source": [
    "---\n",
    "## Free Software\n",
    "\n",
    "- https://www.youtube.com/watch?v=Ag1AKIl_2GM"
   ]
  },
  {
   "cell_type": "markdown",
   "metadata": {},
   "source": [
    "---"
   ]
  },
  {
   "cell_type": "markdown",
   "metadata": {},
   "source": [
    "## About why MIT switched from Scheme to Python\n",
    "\n",
    "https://www.wisdomandwonder.com/link/2110/why-mit-switched-from-scheme-to-python"
   ]
  },
  {
   "cell_type": "markdown",
   "metadata": {},
   "source": [
    "# Onto Python ..."
   ]
  },
  {
   "cell_type": "markdown",
   "metadata": {},
   "source": [
    "Note that Python is a fully object-oriented language. Even the value `5` is an _object_. Consider this:"
   ]
  },
  {
   "cell_type": "code",
   "execution_count": 2,
   "metadata": {},
   "outputs": [
    {
     "data": {
      "text/plain": [
       "5"
      ]
     },
     "execution_count": 2,
     "metadata": {},
     "output_type": "execute_result"
    }
   ],
   "source": [
    "5"
   ]
  },
  {
   "cell_type": "code",
   "execution_count": 5,
   "metadata": {},
   "outputs": [
    {
     "data": {
      "text/plain": [
       "int"
      ]
     },
     "execution_count": 5,
     "metadata": {},
     "output_type": "execute_result"
    }
   ],
   "source": [
    "type( 5 )"
   ]
  },
  {
   "cell_type": "code",
   "execution_count": 6,
   "metadata": {},
   "outputs": [
    {
     "data": {
      "text/plain": [
       "0"
      ]
     },
     "execution_count": 6,
     "metadata": {},
     "output_type": "execute_result"
    }
   ],
   "source": [
    "5 .imag"
   ]
  },
  {
   "cell_type": "code",
   "execution_count": 7,
   "metadata": {},
   "outputs": [
    {
     "data": {
      "text/plain": [
       "float"
      ]
     },
     "execution_count": 7,
     "metadata": {},
     "output_type": "execute_result"
    }
   ],
   "source": [
    "type( 3.6 )"
   ]
  },
  {
   "cell_type": "code",
   "execution_count": 8,
   "metadata": {},
   "outputs": [
    {
     "data": {
      "text/plain": [
       "str"
      ]
     },
     "execution_count": 8,
     "metadata": {},
     "output_type": "execute_result"
    }
   ],
   "source": [
    "type( \"An example string \" )"
   ]
  },
  {
   "cell_type": "code",
   "execution_count": 13,
   "metadata": {},
   "outputs": [
    {
     "name": "stdout",
     "output_type": "stream",
     "text": [
      "['__abs__', '__add__', '__and__', '__bool__', '__ceil__', '__class__', '__delattr__', '__dir__', '__divmod__', '__doc__', '__eq__', '__float__', '__floor__', '__floordiv__', '__format__', '__ge__', '__getattribute__', '__getnewargs__', '__gt__', '__hash__', '__index__', '__init__', '__init_subclass__', '__int__', '__invert__', '__le__', '__lshift__', '__lt__', '__mod__', '__mul__', '__ne__', '__neg__', '__new__', '__or__', '__pos__', '__pow__', '__radd__', '__rand__', '__rdivmod__', '__reduce__', '__reduce_ex__', '__repr__', '__rfloordiv__', '__rlshift__', '__rmod__', '__rmul__', '__ror__', '__round__', '__rpow__', '__rrshift__', '__rshift__', '__rsub__', '__rtruediv__', '__rxor__', '__setattr__', '__sizeof__', '__str__', '__sub__', '__subclasshook__', '__truediv__', '__trunc__', '__xor__', 'as_integer_ratio', 'bit_length', 'conjugate', 'denominator', 'from_bytes', 'imag', 'numerator', 'real', 'to_bytes']\n"
     ]
    }
   ],
   "source": [
    "print( dir( 5 ) )"
   ]
  },
  {
   "cell_type": "code",
   "execution_count": 5,
   "metadata": {},
   "outputs": [
    {
     "name": "stdout",
     "output_type": "stream",
     "text": [
      "Help on method_descriptor:\n",
      "\n",
      "to_bytes(self, /, length, byteorder, *, signed=False)\n",
      "    Return an array of bytes representing an integer.\n",
      "    \n",
      "    length\n",
      "      Length of bytes object to use.  An OverflowError is raised if the\n",
      "      integer is not representable with the given number of bytes.\n",
      "    byteorder\n",
      "      The byte order used to represent the integer.  If byteorder is 'big',\n",
      "      the most significant byte is at the beginning of the byte array.  If\n",
      "      byteorder is 'little', the most significant byte is at the end of the\n",
      "      byte array.  To request the native byte order of the host system, use\n",
      "      `sys.byteorder' as the byte order value.\n",
      "    signed\n",
      "      Determines whether two's complement is used to represent the integer.\n",
      "      If signed is False and a negative integer is given, an OverflowError\n",
      "      is raised.\n",
      "\n"
     ]
    }
   ],
   "source": [
    "help( int.to_bytes )"
   ]
  },
  {
   "cell_type": "code",
   "execution_count": 10,
   "metadata": {},
   "outputs": [],
   "source": [
    "# help( 5 .real )"
   ]
  },
  {
   "cell_type": "code",
   "execution_count": 12,
   "metadata": {},
   "outputs": [
    {
     "data": {
      "text/plain": [
       "b'\\x00\\x00\\x00\\x00\\x00\\x00\\x00\\x05'"
      ]
     },
     "execution_count": 12,
     "metadata": {},
     "output_type": "execute_result"
    }
   ],
   "source": [
    "5 .to_bytes( 8, 'big' )"
   ]
  },
  {
   "cell_type": "code",
   "execution_count": 13,
   "metadata": {},
   "outputs": [
    {
     "data": {
      "text/plain": [
       "b'\\x05\\x00\\x00\\x00\\x00\\x00\\x00\\x00'"
      ]
     },
     "execution_count": 13,
     "metadata": {},
     "output_type": "execute_result"
    }
   ],
   "source": [
    "5 .to_bytes( 8, 'little' )"
   ]
  },
  {
   "cell_type": "code",
   "execution_count": 2,
   "metadata": {},
   "outputs": [
    {
     "data": {
      "text/plain": [
       "(5, 0)"
      ]
     },
     "execution_count": 2,
     "metadata": {},
     "output_type": "execute_result"
    }
   ],
   "source": [
    "5 .real, 5 .imag"
   ]
  },
  {
   "cell_type": "code",
   "execution_count": 14,
   "metadata": {},
   "outputs": [
    {
     "data": {
      "text/plain": [
       "(5, 0)"
      ]
     },
     "execution_count": 14,
     "metadata": {},
     "output_type": "execute_result"
    }
   ],
   "source": [
    "(5).real, (5).imag"
   ]
  },
  {
   "cell_type": "code",
   "execution_count": 27,
   "metadata": {},
   "outputs": [
    {
     "ename": "SyntaxError",
     "evalue": "invalid syntax (<ipython-input-27-49e838aea94e>, line 1)",
     "output_type": "error",
     "traceback": [
      "\u001b[0;36m  File \u001b[0;32m\"<ipython-input-27-49e838aea94e>\"\u001b[0;36m, line \u001b[0;32m1\u001b[0m\n\u001b[0;31m    5.imag # because Python thinks we are trying to write a floating-point value, which is clearly not the case!\u001b[0m\n\u001b[0m      ^\u001b[0m\n\u001b[0;31mSyntaxError\u001b[0m\u001b[0;31m:\u001b[0m invalid syntax\n"
     ]
    }
   ],
   "source": [
    "5.imag # because Python thinks we are trying to write a floating-point value, which is clearly not the case!"
   ]
  },
  {
   "cell_type": "code",
   "execution_count": 7,
   "metadata": {},
   "outputs": [],
   "source": [
    "result = 5 + 3 # \"Syntactic sugar\" version, in non-object-oriented syntax!"
   ]
  },
  {
   "cell_type": "code",
   "execution_count": 8,
   "metadata": {},
   "outputs": [
    {
     "data": {
      "text/plain": [
       "int"
      ]
     },
     "execution_count": 8,
     "metadata": {},
     "output_type": "execute_result"
    }
   ],
   "source": [
    "type( result )"
   ]
  },
  {
   "cell_type": "code",
   "execution_count": 9,
   "metadata": {},
   "outputs": [
    {
     "data": {
      "text/plain": [
       "8"
      ]
     },
     "execution_count": 9,
     "metadata": {},
     "output_type": "execute_result"
    }
   ],
   "source": [
    "result"
   ]
  },
  {
   "cell_type": "code",
   "execution_count": 18,
   "metadata": {},
   "outputs": [
    {
     "data": {
      "text/plain": [
       "8"
      ]
     },
     "execution_count": 18,
     "metadata": {},
     "output_type": "execute_result"
    }
   ],
   "source": [
    "(5).__add__( 3 ) # What really happens underneath, using object-oriented syntax!"
   ]
  },
  {
   "cell_type": "code",
   "execution_count": 19,
   "metadata": {},
   "outputs": [
    {
     "data": {
      "text/plain": [
       "9"
      ]
     },
     "execution_count": 19,
     "metadata": {},
     "output_type": "execute_result"
    }
   ],
   "source": [
    "x = 5\n",
    "x.__add__( 4 )"
   ]
  },
  {
   "cell_type": "code",
   "execution_count": 20,
   "metadata": {},
   "outputs": [
    {
     "data": {
      "text/plain": [
       "5"
      ]
     },
     "execution_count": 20,
     "metadata": {},
     "output_type": "execute_result"
    }
   ],
   "source": [
    "x"
   ]
  },
  {
   "cell_type": "markdown",
   "metadata": {},
   "source": [
    "We can see that the value of variable `x` does **not** change as a result of the addition operation.\n",
    "\n",
    "Due to Python syntax, we just need to leave a space after a numeric object to refer to the fields in that object."
   ]
  },
  {
   "cell_type": "code",
   "execution_count": 21,
   "metadata": {},
   "outputs": [
    {
     "name": "stdout",
     "output_type": "stream",
     "text": [
      "Hello everybody in ECC102!\n"
     ]
    }
   ],
   "source": [
    "print( \"Hello everybody in ECC102!\" )"
   ]
  },
  {
   "cell_type": "code",
   "execution_count": 12,
   "metadata": {},
   "outputs": [
    {
     "name": "stdout",
     "output_type": "stream",
     "text": [
      "Hello, Mary! How are you doing?\n"
     ]
    }
   ],
   "source": [
    "print( \"Hello, {}! How are you doing?\".format( \"Mary\" ) )"
   ]
  },
  {
   "cell_type": "code",
   "execution_count": 23,
   "metadata": {},
   "outputs": [
    {
     "name": "stdout",
     "output_type": "stream",
     "text": [
      "Hello, Harry! How are you doing?\n"
     ]
    }
   ],
   "source": [
    "name = \"Harry\"\n",
    "print( \"Hello, {}! How are you doing?\".format( name ) )"
   ]
  },
  {
   "cell_type": "markdown",
   "metadata": {},
   "source": [
    "Using the new *f-string* approach ..."
   ]
  },
  {
   "cell_type": "code",
   "execution_count": 24,
   "metadata": {},
   "outputs": [
    {
     "name": "stdout",
     "output_type": "stream",
     "text": [
      "Hello Joe and Jane! How are you guys doing?\n"
     ]
    }
   ],
   "source": [
    "person_1 = \"Joe\"\n",
    "person_2 = \"Jane\"\n",
    "\n",
    "print( f\"Hello {person_1} and {person_2}! How are you guys doing?\" )"
   ]
  },
  {
   "cell_type": "code",
   "execution_count": 27,
   "metadata": {},
   "outputs": [
    {
     "name": "stdout",
     "output_type": "stream",
     "text": [
      "On May 3, 2020, Mark ran 12.7 km.\n"
     ]
    }
   ],
   "source": [
    "runner = \"Mark\"\n",
    "distance = 12.6718272536842 # kilometers\n",
    "day = 3\n",
    "month = \"May\"\n",
    "year = 2020\n",
    "\n",
    "print( f\"On {month} {day}, {year}, {runner} ran {distance:.1f} km.\" )\n",
    "#print( f\"On {month} {day}, {year}, {runner} ran {distance} km.\" )"
   ]
  },
  {
   "cell_type": "markdown",
   "metadata": {},
   "source": [
    "### Reflective nature of Python\n",
    "\n",
    "Python is a _reflective_ language, meaning, one can get information about an object during execution. For example, we can access the _docstring_ (documentation string) of functions/methods using the `__doc__` field of a function or method. For example, suppose we have a function called `capitalize()` in the file named `capitalize.py` Python source file:\n",
    "\n",
    "#### Example:\n",
    "\n"
   ]
  },
  {
   "cell_type": "markdown",
   "metadata": {},
   "source": [
    "```shell\n",
    "% ipython -i capitalize.py \n",
    "\n",
    "Python 2.7.14 (default, Sep 23 2017, 22:06:14) \n",
    "Type \"copyright\", \"credits\" or \"license\" for more information.\n",
    "\n",
    "IPython 5.5.0 -- An enhanced Interactive Python.\n",
    "?         -> Introduction and overview of IPython's features.\n",
    "%quickref -> Quick reference.\n",
    "help      -> Python's own help system.\n",
    "object?   -> Details about 'object', use 'object??' for extra details.\n",
    "A\n",
    "A\n",
    "\n",
    "In [1]: capitalize\n",
    "Out[1]: <function __main__.capitalize>\n",
    "\n",
    "In [2]: capitalize.__doc__\n",
    "\n",
    "Out[2]: \"\\n   Capitalize and return the uppercase version of the provided lowercase letter.\\n\\n   If this function is provided a capital letter, it should return that capital\\n   letter, since there is no need for capitalization.\\n\\n   If this function is provided a character outside the character range, it\\n   should return that character, since that character does not have a\\n   capital version.\\n\\n   if ord( 'a' ) <= ord( lowercase_letter ) and ord( lowercase_letter ) <= ord( 'z' ):\\n\\n   if ord( 'a' ) <= ord( lowercase_letter ) <= ord( 'z' ):\\n\\n   if lowercase_letter in string.lowercase:\\n\\n   if ord( 'a' ) <= lowercase_letter <= ord( 'z' ):\\n   \"\n",
    "\n",
    "In [3]: print( capitalize.__doc__ )\n",
    "\n",
    "   Capitalize and return the uppercase version of the provided lowercase letter.\n",
    "\n",
    "   If this function is provided a capital letter, it should return that capital\n",
    "   letter, since there is no need for capitalization.\n",
    "\n",
    "   If this function is provided a character outside the character range, it\n",
    "   should return that character, since that character does not have a\n",
    "   capital version.\n",
    "\n",
    "   if ord( 'a' ) <= ord( lowercase_letter ) and ord( lowercase_letter ) <= ord( 'z' ):\n",
    "\n",
    "   if ord( 'a' ) <= ord( lowercase_letter ) <= ord( 'z' ):\n",
    "\n",
    "   if lowercase_letter in string.lowercase:\n",
    "\n",
    "   if ord( 'a' ) <= lowercase_letter <= ord( 'z' ):\n",
    " \n",
    " \n",
    "In [4]: help( capitalize )\n",
    "\n",
    "Help on function capitalize in module __main__:\n",
    "\n",
    "capitalize(lowercase_letter)\n",
    "    Capitalize and return the uppercase version of the provided lowercase letter.\n",
    "    \n",
    "    If this function is provided a capital letter, it should return that capital\n",
    "    letter, since there is no need for capitalization.\n",
    "    \n",
    "    If this function is provided a character outside the character range, it\n",
    "    should return that character, since that character does not have a\n",
    "    capital version.\n",
    "    \n",
    "    if ord( 'a' ) <= ord( lowercase_letter ) and ord( lowercase_letter ) <= ord( 'z' ):\n",
    "    \n",
    "    if ord( 'a' ) <= ord( lowercase_letter ) <= ord( 'z' ):\n",
    "    \n",
    "    if lowercase_letter in string.lowercase:\n",
    "    \n",
    "    if ord( 'a' ) <= lowercase_letter <= ord( 'z' ):\n",
    "\n",
    "```\n"
   ]
  },
  {
   "cell_type": "code",
   "execution_count": 48,
   "metadata": {},
   "outputs": [],
   "source": [
    "from capitalize import capitalize"
   ]
  },
  {
   "cell_type": "code",
   "execution_count": 49,
   "metadata": {},
   "outputs": [
    {
     "data": {
      "text/plain": [
       "<function capitalize.capitalize(lowercase_letter)>"
      ]
     },
     "execution_count": 49,
     "metadata": {},
     "output_type": "execute_result"
    }
   ],
   "source": [
    "capitalize"
   ]
  },
  {
   "cell_type": "code",
   "execution_count": 54,
   "metadata": {},
   "outputs": [
    {
     "name": "stdout",
     "output_type": "stream",
     "text": [
      "Help on function capitalize in module capitalize:\n",
      "\n",
      "capitalize(lowercase_letter)\n",
      "    Capitalize and return the uppercase version of the provided lowercase letter.\n",
      "    \n",
      "    If this function is provided a capital letter, it should return that capital\n",
      "    letter, since there is no need for capitalization.\n",
      "    \n",
      "    If this function is provided a character outside the character range, it\n",
      "    should return that character, since that character does not have a\n",
      "    capital version.\n",
      "    \n",
      "    if ord( 'a' ) <= ord( lowercase_letter ) and ord( lowercase_letter ) <= ord( 'z' ):\n",
      "    \n",
      "    if ord( 'a' ) <= ord( lowercase_letter ) <= ord( 'z' ):\n",
      "    \n",
      "    if lowercase_letter in string.lowercase:\n",
      "    \n",
      "    if ord( 'a' ) <= lowercase_letter <= ord( 'z' ):\n",
      "\n"
     ]
    }
   ],
   "source": [
    "help( capitalize ) # Best way to display the documentation string for a function/method"
   ]
  },
  {
   "cell_type": "code",
   "execution_count": 61,
   "metadata": {},
   "outputs": [
    {
     "name": "stdout",
     "output_type": "stream",
     "text": [
      "\n",
      "    Capitalize and return the uppercase version of the provided lowercase letter.\n",
      "    \n",
      "    If this function is provided a capital letter, it should return that capital\n",
      "    letter, since there is no need for capitalization.\n",
      "    \n",
      "    If this function is provided a character outside the character range, it\n",
      "    should return that character, since that character does not have a\n",
      "    capital version.\n",
      "    \n",
      "    if ord( 'a' ) <= ord( lowercase_letter ) and ord( lowercase_letter ) <= ord( 'z' ):\n",
      "    \n",
      "    if ord( 'a' ) <= ord( lowercase_letter ) <= ord( 'z' ):\n",
      "    \n",
      "    if lowercase_letter in string.lowercase:\n",
      "    \n",
      "    if ord( 'a' ) <= lowercase_letter <= ord( 'z' ):\n",
      "    \n"
     ]
    }
   ],
   "source": [
    "print( capitalize.__doc__ ) # A worse alternative for getting help on a function/method"
   ]
  },
  {
   "cell_type": "markdown",
   "metadata": {},
   "source": [
    "## Strings and Comments\n",
    "\n",
    "\n",
    "In Python, we have four methods with which we can defined strings:\n",
    "\n",
    "- `\" ... \"`\n",
    "\n",
    "- `' ... '`\n",
    "\n",
    "- `\"\"\" ....`\n",
    "\n",
    "  `...\"\"\"`\n",
    "  \n",
    "- `''' ....`\n",
    "\n",
    "  `...'''`"
   ]
  },
  {
   "cell_type": "code",
   "execution_count": 28,
   "metadata": {},
   "outputs": [
    {
     "name": "stdout",
     "output_type": "stream",
     "text": [
      "5\n",
      "20\n",
      "25\n"
     ]
    }
   ],
   "source": [
    "a = 5\n",
    "print( a )\n",
    "b = 20\n",
    "print( b )\n",
    "c = a + b\n",
    "print( c )"
   ]
  },
  {
   "cell_type": "code",
   "execution_count": 29,
   "metadata": {},
   "outputs": [
    {
     "data": {
      "text/plain": [
       "25"
      ]
     },
     "execution_count": 29,
     "metadata": {},
     "output_type": "execute_result"
    }
   ],
   "source": [
    "a**2 # Non object-oriented in syntax, but much easier to type than the object-oriented version below"
   ]
  },
  {
   "cell_type": "code",
   "execution_count": 30,
   "metadata": {},
   "outputs": [
    {
     "data": {
      "text/plain": [
       "25"
      ]
     },
     "execution_count": 30,
     "metadata": {},
     "output_type": "execute_result"
    }
   ],
   "source": [
    "a.__pow__( 2 ) # Object-oriented, yes, but not easy to type! Should not be preferred!"
   ]
  },
  {
   "cell_type": "code",
   "execution_count": 31,
   "metadata": {},
   "outputs": [
    {
     "data": {
      "text/plain": [
       "125"
      ]
     },
     "execution_count": 31,
     "metadata": {},
     "output_type": "execute_result"
    }
   ],
   "source": [
    "a**3"
   ]
  },
  {
   "cell_type": "code",
   "execution_count": 32,
   "metadata": {},
   "outputs": [
    {
     "data": {
      "text/plain": [
       "55.90169943749474"
      ]
     },
     "execution_count": 32,
     "metadata": {},
     "output_type": "execute_result"
    }
   ],
   "source": [
    "a**2.5"
   ]
  },
  {
   "cell_type": "code",
   "execution_count": 33,
   "metadata": {},
   "outputs": [
    {
     "data": {
      "text/plain": [
       "55.90169943749474"
      ]
     },
     "execution_count": 33,
     "metadata": {},
     "output_type": "execute_result"
    }
   ],
   "source": [
    "a**(2 + .5)"
   ]
  },
  {
   "cell_type": "code",
   "execution_count": 66,
   "metadata": {},
   "outputs": [
    {
     "data": {
      "text/plain": [
       "55.90169943749474"
      ]
     },
     "execution_count": 66,
     "metadata": {},
     "output_type": "execute_result"
    }
   ],
   "source": [
    "a**2 * a**.5"
   ]
  },
  {
   "cell_type": "code",
   "execution_count": 67,
   "metadata": {},
   "outputs": [
    {
     "data": {
      "text/plain": [
       "55.90169943749474"
      ]
     },
     "execution_count": 67,
     "metadata": {},
     "output_type": "execute_result"
    }
   ],
   "source": [
    "25 * a**.5"
   ]
  },
  {
   "cell_type": "code",
   "execution_count": 17,
   "metadata": {},
   "outputs": [],
   "source": [
    "import math"
   ]
  },
  {
   "cell_type": "code",
   "execution_count": 36,
   "metadata": {},
   "outputs": [
    {
     "data": {
      "text/plain": [
       "4.41"
      ]
     },
     "execution_count": 36,
     "metadata": {},
     "output_type": "execute_result"
    }
   ],
   "source": [
    "2.1 * 2.1"
   ]
  },
  {
   "cell_type": "code",
   "execution_count": 37,
   "metadata": {},
   "outputs": [
    {
     "data": {
      "text/plain": [
       "4.840000000000001"
      ]
     },
     "execution_count": 37,
     "metadata": {},
     "output_type": "execute_result"
    }
   ],
   "source": [
    "2.2 * 2.2"
   ]
  },
  {
   "cell_type": "code",
   "execution_count": 38,
   "metadata": {},
   "outputs": [
    {
     "data": {
      "text/plain": [
       "5.289999999999999"
      ]
     },
     "execution_count": 38,
     "metadata": {},
     "output_type": "execute_result"
    }
   ],
   "source": [
    "2.3 * 2.3"
   ]
  },
  {
   "cell_type": "code",
   "execution_count": 39,
   "metadata": {},
   "outputs": [
    {
     "data": {
      "text/plain": [
       "5"
      ]
     },
     "execution_count": 39,
     "metadata": {},
     "output_type": "execute_result"
    }
   ],
   "source": [
    "a"
   ]
  },
  {
   "cell_type": "code",
   "execution_count": 40,
   "metadata": {},
   "outputs": [
    {
     "data": {
      "text/plain": [
       "2.23606797749979"
      ]
     },
     "execution_count": 40,
     "metadata": {},
     "output_type": "execute_result"
    }
   ],
   "source": [
    "math.sqrt( a )"
   ]
  },
  {
   "cell_type": "code",
   "execution_count": 41,
   "metadata": {},
   "outputs": [
    {
     "data": {
      "text/plain": [
       "5.000000000000001"
      ]
     },
     "execution_count": 41,
     "metadata": {},
     "output_type": "execute_result"
    }
   ],
   "source": [
    "math.sqrt( a )**2"
   ]
  },
  {
   "cell_type": "markdown",
   "metadata": {},
   "source": [
    "## Equality checking of floating-point values"
   ]
  },
  {
   "cell_type": "code",
   "execution_count": 20,
   "metadata": {},
   "outputs": [],
   "source": [
    "original_a = 5\n",
    "processed_a = math.sqrt( original_a )**2"
   ]
  },
  {
   "cell_type": "code",
   "execution_count": 44,
   "metadata": {},
   "outputs": [
    {
     "data": {
      "text/plain": [
       "5.000000000000001"
      ]
     },
     "execution_count": 44,
     "metadata": {},
     "output_type": "execute_result"
    }
   ],
   "source": [
    "processed_a"
   ]
  },
  {
   "cell_type": "code",
   "execution_count": 19,
   "metadata": {},
   "outputs": [
    {
     "ename": "NameError",
     "evalue": "name 'original_a' is not defined",
     "output_type": "error",
     "traceback": [
      "\u001b[1;31m---------------------------------------------------------------------------\u001b[0m",
      "\u001b[1;31mNameError\u001b[0m                                 Traceback (most recent call last)",
      "\u001b[1;32m<ipython-input-19-9ff131636d82>\u001b[0m in \u001b[0;36m<module>\u001b[1;34m\u001b[0m\n\u001b[1;32m----> 1\u001b[1;33m \u001b[0moriginal_a\u001b[0m \u001b[1;33m==\u001b[0m \u001b[0mprocessed_a\u001b[0m \u001b[1;31m# SHOULD **NEVER** CHECK EQUALITY WITH A FLOAT VALUE!\u001b[0m\u001b[1;33m\u001b[0m\u001b[1;33m\u001b[0m\u001b[0m\n\u001b[0m",
      "\u001b[1;31mNameError\u001b[0m: name 'original_a' is not defined"
     ]
    }
   ],
   "source": [
    "original_a == processed_a # SHOULD **NEVER** CHECK EQUALITY WITH A FLOAT VALUE!"
   ]
  },
  {
   "cell_type": "code",
   "execution_count": 21,
   "metadata": {},
   "outputs": [
    {
     "data": {
      "text/plain": [
       "True"
      ]
     },
     "execution_count": 21,
     "metadata": {},
     "output_type": "execute_result"
    }
   ],
   "source": [
    "math.isclose( original_a, processed_a  )"
   ]
  },
  {
   "cell_type": "code",
   "execution_count": 22,
   "metadata": {},
   "outputs": [
    {
     "name": "stdout",
     "output_type": "stream",
     "text": [
      "Help on built-in function isclose in module math:\n",
      "\n",
      "isclose(a, b, *, rel_tol=1e-09, abs_tol=0.0)\n",
      "    Determine whether two floating point numbers are close in value.\n",
      "    \n",
      "      rel_tol\n",
      "        maximum difference for being considered \"close\", relative to the\n",
      "        magnitude of the input values\n",
      "      abs_tol\n",
      "        maximum difference for being considered \"close\", regardless of the\n",
      "        magnitude of the input values\n",
      "    \n",
      "    Return True if a is close in value to b, and False otherwise.\n",
      "    \n",
      "    For the values to be considered close, the difference between them\n",
      "    must be smaller than at least one of the tolerances.\n",
      "    \n",
      "    -inf, inf and NaN behave similarly to the IEEE 754 Standard.  That\n",
      "    is, NaN is not close to anything, even itself.  inf and -inf are\n",
      "    only close to themselves.\n",
      "\n"
     ]
    }
   ],
   "source": [
    "help( math.isclose )"
   ]
  },
  {
   "cell_type": "code",
   "execution_count": 48,
   "metadata": {},
   "outputs": [
    {
     "data": {
      "text/plain": [
       "True"
      ]
     },
     "execution_count": 48,
     "metadata": {},
     "output_type": "execute_result"
    }
   ],
   "source": [
    "math.isclose( original_a, processed_a, rel_tol=1e-12 )"
   ]
  },
  {
   "cell_type": "code",
   "execution_count": 49,
   "metadata": {},
   "outputs": [
    {
     "data": {
      "text/plain": [
       "True"
      ]
     },
     "execution_count": 49,
     "metadata": {},
     "output_type": "execute_result"
    }
   ],
   "source": [
    "math.isclose( original_a, processed_a, rel_tol=1e-15 )"
   ]
  },
  {
   "cell_type": "code",
   "execution_count": 50,
   "metadata": {},
   "outputs": [
    {
     "data": {
      "text/plain": [
       "False"
      ]
     },
     "execution_count": 50,
     "metadata": {},
     "output_type": "execute_result"
    }
   ],
   "source": [
    "math.isclose( original_a, processed_a, rel_tol=1e-16 )"
   ]
  },
  {
   "cell_type": "markdown",
   "metadata": {},
   "source": [
    "**QUESTION**: What have you noticed just now?"
   ]
  },
  {
   "cell_type": "markdown",
   "metadata": {},
   "source": [
    "**ANSWER**: Floating-point math is *inexact*!"
   ]
  },
  {
   "cell_type": "markdown",
   "metadata": {},
   "source": [
    "Let's dig a little deeper ..."
   ]
  },
  {
   "cell_type": "code",
   "execution_count": 90,
   "metadata": {},
   "outputs": [
    {
     "data": {
      "text/plain": [
       "5.000000000000001"
      ]
     },
     "execution_count": 90,
     "metadata": {},
     "output_type": "execute_result"
    }
   ],
   "source": [
    "a = 5\n",
    "sqrt_a = math.sqrt( a )\n",
    "answer_a = sqrt_a * sqrt_a\n",
    "answer_a"
   ]
  },
  {
   "cell_type": "markdown",
   "metadata": {},
   "source": [
    "Is the newly computed value of `a` **equal** to the original `a` value?"
   ]
  },
  {
   "cell_type": "code",
   "execution_count": 91,
   "metadata": {},
   "outputs": [
    {
     "data": {
      "text/plain": [
       "False"
      ]
     },
     "execution_count": 91,
     "metadata": {},
     "output_type": "execute_result"
    }
   ],
   "source": [
    "a == answer_a"
   ]
  },
  {
   "cell_type": "code",
   "execution_count": 92,
   "metadata": {},
   "outputs": [
    {
     "data": {
      "text/plain": [
       "55.90169943749474"
      ]
     },
     "execution_count": 92,
     "metadata": {},
     "output_type": "execute_result"
    }
   ],
   "source": [
    "25 * math.sqrt( a )"
   ]
  },
  {
   "cell_type": "code",
   "execution_count": 93,
   "metadata": {},
   "outputs": [
    {
     "data": {
      "text/plain": [
       "50.0"
      ]
     },
     "execution_count": 93,
     "metadata": {},
     "output_type": "execute_result"
    }
   ],
   "source": [
    "a * b / 2"
   ]
  },
  {
   "cell_type": "markdown",
   "metadata": {},
   "source": [
    "We have integer values multiplied, but the result is a floating-point value!"
   ]
  },
  {
   "cell_type": "code",
   "execution_count": 94,
   "metadata": {},
   "outputs": [
    {
     "data": {
      "text/plain": [
       "20"
      ]
     },
     "execution_count": 94,
     "metadata": {},
     "output_type": "execute_result"
    }
   ],
   "source": [
    "b"
   ]
  },
  {
   "cell_type": "code",
   "execution_count": 95,
   "metadata": {},
   "outputs": [
    {
     "data": {
      "text/plain": [
       "6.666666666666667"
      ]
     },
     "execution_count": 95,
     "metadata": {},
     "output_type": "execute_result"
    }
   ],
   "source": [
    "b / 3"
   ]
  },
  {
   "cell_type": "markdown",
   "metadata": {},
   "source": [
    "### Integer division"
   ]
  },
  {
   "cell_type": "code",
   "execution_count": 51,
   "metadata": {},
   "outputs": [
    {
     "data": {
      "text/plain": [
       "6"
      ]
     },
     "execution_count": 51,
     "metadata": {},
     "output_type": "execute_result"
    }
   ],
   "source": [
    "b // 3"
   ]
  },
  {
   "cell_type": "markdown",
   "metadata": {},
   "source": [
    "Here, everything seems to have worked. However, in a proper Python 2 interpreter, this is what you would get:"
   ]
  },
  {
   "cell_type": "markdown",
   "metadata": {},
   "source": [
    "```\n",
    "In [5]: a = 10\n",
    "\n",
    "In [6]: a / 3 \n",
    "\n",
    "Out[6]: 3\n",
    "\n",
    "In [7]: a / 3.0\n",
    "\n",
    "Out[7]: 3.3333333333333335\n",
    "```"
   ]
  },
  {
   "cell_type": "markdown",
   "metadata": {},
   "source": [
    "In Python 2, `a / 3` will cause INTEGER division to occur, since `a` and `3` are INTEGER values.\n",
    "\n",
    "Using Python 2:"
   ]
  },
  {
   "cell_type": "markdown",
   "metadata": {},
   "source": [
    "```\n",
    "int // int = int\n",
    "int / int = int        # *** PROBLEMATIC ***\n",
    "int / float = float\n",
    "float / int = float\n",
    "float / float = float\n",
    "```\n",
    "\n",
    "We still have a separate operator, called the integer division operator, written with two forward slash characters: `//`\n",
    "\n",
    "```\n",
    "9 // 2 = 4\n",
    "10 // 2 = 5\n",
    "5 // 12 = 0\n",
    "```\n",
    "\n",
    "In Python 3, however, the confusion between regular division and integer division has been fixed!\n",
    "\n",
    "Division means division, and integer division means integer division.\n",
    "\n",
    "To get things right in Python 2, we must make sure that at least one of the values in a division operation is a floating-point value.\n",
    "\n",
    "So, how do we fix a / 3 where a=10? We can do one of the following:\n",
    "\n",
    "```\n",
    "float( a ) / 3\n",
    "a / 3.0\n",
    "float( a ) / 3. # Note that we made both values floats. No need but ...\n",
    "a / float( 3 )\n",
    "```\n"
   ]
  },
  {
   "cell_type": "markdown",
   "metadata": {},
   "source": [
    "In Python 3, we have the following:\n",
    "\n",
    "```\n",
    "int // int = int\n",
    "int / int = float      # *** THE BIG FIX ***\n",
    "int / float = float\n",
    "float / int = float\n",
    "float / float = float\n",
    "```"
   ]
  },
  {
   "cell_type": "code",
   "execution_count": 52,
   "metadata": {},
   "outputs": [
    {
     "data": {
      "text/plain": [
       "2.4"
      ]
     },
     "execution_count": 52,
     "metadata": {},
     "output_type": "execute_result"
    }
   ],
   "source": [
    "12 / 5"
   ]
  },
  {
   "cell_type": "code",
   "execution_count": 53,
   "metadata": {},
   "outputs": [
    {
     "data": {
      "text/plain": [
       "4.0"
      ]
     },
     "execution_count": 53,
     "metadata": {},
     "output_type": "execute_result"
    }
   ],
   "source": [
    "12 / 3"
   ]
  },
  {
   "cell_type": "code",
   "execution_count": 54,
   "metadata": {},
   "outputs": [
    {
     "data": {
      "text/plain": [
       "4"
      ]
     },
     "execution_count": 54,
     "metadata": {},
     "output_type": "execute_result"
    }
   ],
   "source": [
    "12 // 3"
   ]
  },
  {
   "cell_type": "code",
   "execution_count": 55,
   "metadata": {},
   "outputs": [
    {
     "data": {
      "text/plain": [
       "4"
      ]
     },
     "execution_count": 55,
     "metadata": {},
     "output_type": "execute_result"
    }
   ],
   "source": [
    "13 // 3"
   ]
  },
  {
   "cell_type": "code",
   "execution_count": 56,
   "metadata": {},
   "outputs": [
    {
     "data": {
      "text/plain": [
       "3.7142857142857144"
      ]
     },
     "execution_count": 56,
     "metadata": {},
     "output_type": "execute_result"
    }
   ],
   "source": [
    "13 / 3.5"
   ]
  },
  {
   "cell_type": "code",
   "execution_count": 46,
   "metadata": {},
   "outputs": [
    {
     "data": {
      "text/plain": [
       "3.0"
      ]
     },
     "execution_count": 46,
     "metadata": {},
     "output_type": "execute_result"
    }
   ],
   "source": [
    "13 // 3.5  # Try something crazy!"
   ]
  },
  {
   "cell_type": "markdown",
   "metadata": {},
   "source": [
    "Note that when we do an integer division using the `//` operator with a floating-point value, the result will be a floating-point value!"
   ]
  },
  {
   "cell_type": "code",
   "execution_count": 23,
   "metadata": {},
   "outputs": [
    {
     "data": {
      "text/plain": [
       "(1, 0, 0)"
      ]
     },
     "execution_count": 23,
     "metadata": {},
     "output_type": "execute_result"
    }
   ],
   "source": [
    "1,000,000"
   ]
  },
  {
   "cell_type": "code",
   "execution_count": 26,
   "metadata": {},
   "outputs": [],
   "source": [
    "t = 25,4.2,     \"Peace\"\n",
    "t"
   ]
  },
  {
   "cell_type": "code",
   "execution_count": 59,
   "metadata": {},
   "outputs": [
    {
     "data": {
      "text/plain": [
       "tuple"
      ]
     },
     "execution_count": 59,
     "metadata": {},
     "output_type": "execute_result"
    }
   ],
   "source": [
    "type( t )"
   ]
  },
  {
   "cell_type": "markdown",
   "metadata": {},
   "source": [
    "---"
   ]
  }
 ],
 "metadata": {
  "kernelspec": {
   "display_name": "Python 3",
   "language": "python",
   "name": "python3"
  },
  "language_info": {
   "codemirror_mode": {
    "name": "ipython",
    "version": 3
   },
   "file_extension": ".py",
   "mimetype": "text/x-python",
   "name": "python",
   "nbconvert_exporter": "python",
   "pygments_lexer": "ipython3",
   "version": "3.8.3"
  }
 },
 "nbformat": 4,
 "nbformat_minor": 4
}
