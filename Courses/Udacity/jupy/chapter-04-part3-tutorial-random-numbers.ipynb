{
 "cells": [
  {
   "cell_type": "markdown",
   "metadata": {
    "slideshow": {
     "slide_type": "slide"
    }
   },
   "source": [
    "## Random Numbers and Pseudo-Random Number Generation (Chapter 04)\n",
    "\n",
    "- Computers are _deterministic_ machines, meaning that, for a given input, they always produce an identical output. \n",
    "- _Deterministic_ means we can _predict_ what a computer will do, given the input set and the implementation of an algorithm.\n",
    "- However \"random\" implies *non-determinism!*\n",
    "- So, how can we achieve _randomness_ using computers/programming using a machine that operates deterministically?\n",
    "- We can repeat sequences exactly if we _seed_ the pseudo-random number generator with an identical value as before"
   ]
  },
  {
   "cell_type": "markdown",
   "metadata": {},
   "source": [
    "---"
   ]
  },
  {
   "cell_type": "code",
   "execution_count": 82,
   "metadata": {},
   "outputs": [],
   "source": [
    "# Code needed to load different types of images (DO NOT DELETE)\n",
    "#\n",
    "from IPython.display import display, Image, SVG, Math, YouTubeVideo"
   ]
  },
  {
   "cell_type": "markdown",
   "metadata": {},
   "source": [
    "---"
   ]
  },
  {
   "cell_type": "code",
   "execution_count": 2,
   "metadata": {},
   "outputs": [
    {
     "name": "stdout",
     "output_type": "stream",
     "text": [
      "--- Original values: [1, 2, 3, 4, 5, 6, 7, 8, 9, 10, 11, 12, 13, 14, 15]\n",
      "--- Shuffled values: [8, 13, 6, 14, 10, 15, 3, 4, 1, 12, 11, 5, 7, 2, 9], minimum=1\n"
     ]
    }
   ],
   "source": [
    "import random\n",
    "\n",
    "#help( random )\n",
    "\n",
    "values = list( range( 1, 16 ) )\n",
    "\n",
    "print( f\"--- Original values: {values}\" )\n",
    "\n",
    "random.shuffle( values )\n",
    "\n",
    "print( \"--- Shuffled values: {}, minimum={}\".format( values, min( values ) ) )"
   ]
  },
  {
   "cell_type": "code",
   "execution_count": 4,
   "metadata": {},
   "outputs": [
    {
     "name": "stdout",
     "output_type": "stream",
     "text": [
      "--- Shuffled values: [10, 9, 8, 15, 11, 7, 4, 12, 1, 14, 2, 5, 13, 3, 6], minimum=1\n"
     ]
    }
   ],
   "source": [
    "random.shuffle( values )\n",
    "\n",
    "print( \"--- Shuffled values: {}, minimum={}\".format( values, min( values ) ) )"
   ]
  },
  {
   "cell_type": "code",
   "execution_count": 5,
   "metadata": {},
   "outputs": [
    {
     "name": "stdout",
     "output_type": "stream",
     "text": [
      "--- Shuffled values: [13, 1, 8, 12, 10, 3, 9, 14, 5, 15, 4, 6, 2, 11, 7], minimum=1\n"
     ]
    }
   ],
   "source": [
    "random.shuffle( values )\n",
    "\n",
    "print( \"--- Shuffled values: {}, minimum={}\".format( values, min( values ) ) )"
   ]
  },
  {
   "cell_type": "code",
   "execution_count": 6,
   "metadata": {},
   "outputs": [
    {
     "data": {
      "text/plain": [
       "['N',\n",
       " 'e',\n",
       " 'a',\n",
       " 'r',\n",
       " ' ',\n",
       " 'E',\n",
       " 'a',\n",
       " 's',\n",
       " 't',\n",
       " ' ',\n",
       " 'U',\n",
       " 'n',\n",
       " 'i',\n",
       " 'v',\n",
       " 'e',\n",
       " 'r',\n",
       " 's',\n",
       " 'i',\n",
       " 't',\n",
       " 'y']"
      ]
     },
     "execution_count": 6,
     "metadata": {},
     "output_type": "execute_result"
    }
   ],
   "source": [
    "neu_str = \"Near East University\"\n",
    "neu_lst = list( neu_str )\n",
    "neu_lst"
   ]
  },
  {
   "cell_type": "code",
   "execution_count": 7,
   "metadata": {},
   "outputs": [
    {
     "data": {
      "text/plain": [
       "'ntUaevE iayrtr sieNs'"
      ]
     },
     "execution_count": 7,
     "metadata": {},
     "output_type": "execute_result"
    }
   ],
   "source": [
    "# Shuffle once\n",
    "#\n",
    "random.shuffle( neu_lst )\n",
    "\n",
    "\"\".join( neu_lst )"
   ]
  },
  {
   "cell_type": "code",
   "execution_count": 8,
   "metadata": {},
   "outputs": [
    {
     "data": {
      "text/plain": [
       "'s irUtyiaNr tneaeEvs'"
      ]
     },
     "execution_count": 8,
     "metadata": {},
     "output_type": "execute_result"
    }
   ],
   "source": [
    "# Shuffle one more time\n",
    "#\n",
    "random.shuffle( neu_lst )\n",
    "\n",
    "\"\".join( neu_lst )"
   ]
  },
  {
   "cell_type": "markdown",
   "metadata": {},
   "source": [
    "---"
   ]
  },
  {
   "cell_type": "markdown",
   "metadata": {},
   "source": [
    "Suppose we have letters `a`, `b`, `c`, and `d` in a collection, and we want to \n",
    "\n",
    "- pick letter `a` 40% of the time, \n",
    "- pick letter `b` 30% of the time, \n",
    "- pick letter `c` 20% of the time, and finally \n",
    "- pick letter `d` 10% of the time. \n",
    "\n",
    "What we can do is to place blocks with 4 `a`s, 3 `b`s, 2 `c`s, and 1 `d` in a bag, and we can have someone blindly pick one of the blocks, then place the block back into the bag and repeat inifinitely. \n",
    "\n",
    "We can actually multiply these values with any constant, `c`, where `c > 1`, and the result would have been the same.\n",
    "\n",
    "We can achieve this using NumPy's `choice()` function."
   ]
  },
  {
   "cell_type": "code",
   "execution_count": 9,
   "metadata": {},
   "outputs": [
    {
     "data": {
      "text/plain": [
       "'c'"
      ]
     },
     "execution_count": 9,
     "metadata": {},
     "output_type": "execute_result"
    }
   ],
   "source": [
    "import numpy as np\n",
    "\n",
    "#help( np.random.choice )\n",
    "\n",
    "letters = ['a', 'b', 'c', 'd']\n",
    "\n",
    "# Set percentages. The sum must add up to 1.00 exactly!\n",
    "#\n",
    "a_pct = 0.40 # 40%\n",
    "b_pct = 0.30 # 30%\n",
    "c_pct = 0.20 # 20%\n",
    "d_pct = 0.10 # 10%\n",
    "\n",
    "# A single example\n",
    "#\n",
    "np.random.choice( letters, p=[a_pct, b_pct, c_pct, d_pct] )"
   ]
  },
  {
   "cell_type": "code",
   "execution_count": 10,
   "metadata": {},
   "outputs": [
    {
     "name": "stdout",
     "output_type": "stream",
     "text": [
      "\n",
      "\n",
      "--- Letter counts and percentages:\n",
      "\ta:      40001 (40.0%)\n",
      "\tb:      30180 (30.2%)\n",
      "\tc:      20008 (20.0%)\n",
      "\td:       9811 ( 9.8%)\n"
     ]
    }
   ],
   "source": [
    "a_count = b_count = c_count = d_count = 0\n",
    "n_iterations = 100000\n",
    "\n",
    "for _ in range( n_iterations ):\n",
    "    #\n",
    "    rand_letter = np.random.choice( letters, p=[a_pct, b_pct, c_pct, d_pct] )\n",
    "    \n",
    "    if   rand_letter == 'a': a_count += 1\n",
    "    elif rand_letter == 'b': b_count += 1 \n",
    "    elif rand_letter == 'c': c_count += 1 \n",
    "    elif rand_letter == 'd': d_count += 1\n",
    "        \n",
    "    ##print( \"{} \".format( rand_letter ), end=\"\" )\n",
    "    \n",
    "print( \"\\n\\n--- Letter counts and percentages:\" )\n",
    "print( \"\\ta: {:10d} ({:>4.1f}%)\".format( a_count, a_count * 100 / n_iterations ) )\n",
    "print( \"\\tb: {:10d} ({:>4.1f}%)\".format( b_count, b_count * 100 / n_iterations ) )\n",
    "print( \"\\tc: {:10d} ({:>4.1f}%)\".format( c_count, c_count * 100 / n_iterations ) )\n",
    "print( \"\\td: {:10d} ({:>4.1f}%)\".format( d_count, d_count * 100 / n_iterations ) )"
   ]
  },
  {
   "cell_type": "markdown",
   "metadata": {},
   "source": [
    "---"
   ]
  },
  {
   "cell_type": "markdown",
   "metadata": {},
   "source": [
    "If we increase the number of iterations, what do you notice?\n",
    "\n",
    "The higher the number of iterations, the closer we seem to get to the expected percentages/probabilities."
   ]
  },
  {
   "cell_type": "markdown",
   "metadata": {},
   "source": [
    "---"
   ]
  },
  {
   "cell_type": "markdown",
   "metadata": {},
   "source": [
    "We can do the same using the `random.choices()` API."
   ]
  },
  {
   "cell_type": "code",
   "execution_count": 16,
   "metadata": {},
   "outputs": [
    {
     "name": "stdout",
     "output_type": "stream",
     "text": [
      "\n",
      "\n",
      "--- Letter counts and percentages:\n",
      "\ta:     399799 (39.98%)\n",
      "\tb:     299437 (29.94%)\n",
      "\tc:     200983 (20.10%)\n",
      "\td:      99781 ( 9.98%)\n"
     ]
    }
   ],
   "source": [
    "import random\n",
    "\n",
    "a_count = b_count = c_count = d_count = 0\n",
    "n_iterations = 1000000 # NOTE THAT WE ARE RUNNING 50,000 TRIALS THIS TIME, NOT 1000!\n",
    "k = 1 # Need a single choice\n",
    "\n",
    "for _ in range( n_iterations ):\n",
    "    #\n",
    "    rand_letter = random.choices( letters, weights=[a_pct, b_pct, c_pct, d_pct], k=k )[0]\n",
    "    \n",
    "    if   rand_letter == 'a': a_count += 1\n",
    "    elif rand_letter == 'b': b_count += 1 \n",
    "    elif rand_letter == 'c': c_count += 1 \n",
    "    elif rand_letter == 'd': d_count += 1\n",
    "        \n",
    "    #print( \"{} \".format( rand_letter ), end=\"\" )\n",
    "    \n",
    "print( \"\\n\\n--- Letter counts and percentages:\" )\n",
    "print( \"\\ta: {:10d} ({:>5.2f}%)\".format( a_count, a_count * 100 / n_iterations ) )\n",
    "print( \"\\tb: {:10d} ({:>5.2f}%)\".format( b_count, b_count * 100 / n_iterations ) )\n",
    "print( \"\\tc: {:10d} ({:>5.2f}%)\".format( c_count, c_count * 100 / n_iterations ) )\n",
    "print( \"\\td: {:10d} ({:>5.2f}%)\".format( d_count, d_count * 100 / n_iterations ) )"
   ]
  },
  {
   "cell_type": "markdown",
   "metadata": {},
   "source": [
    "---"
   ]
  },
  {
   "cell_type": "code",
   "execution_count": 17,
   "metadata": {},
   "outputs": [
    {
     "data": {
      "text/plain": [
       "['a', 'b', 'c', 'd']"
      ]
     },
     "execution_count": 17,
     "metadata": {},
     "output_type": "execute_result"
    }
   ],
   "source": [
    "letters"
   ]
  },
  {
   "cell_type": "code",
   "execution_count": 18,
   "metadata": {},
   "outputs": [
    {
     "data": {
      "text/plain": [
       "['b', 'd', 'c']"
      ]
     },
     "execution_count": 18,
     "metadata": {},
     "output_type": "execute_result"
    }
   ],
   "source": [
    "# Choose 3 letters randomly instead of 1 as in the case above.\n",
    "#\n",
    "random.choices( letters, weights=[a_pct, b_pct, c_pct, d_pct], k=3 )"
   ]
  },
  {
   "cell_type": "code",
   "execution_count": 19,
   "metadata": {},
   "outputs": [
    {
     "data": {
      "text/plain": [
       "['a', 'c', 'a']"
      ]
     },
     "execution_count": 19,
     "metadata": {},
     "output_type": "execute_result"
    }
   ],
   "source": [
    "# Choose 3 letters randomly instead of 1 as in the case above.\n",
    "#\n",
    "random.choices( letters, weights=[a_pct, b_pct, c_pct, d_pct], k=3 )"
   ]
  },
  {
   "cell_type": "code",
   "execution_count": 20,
   "metadata": {},
   "outputs": [
    {
     "data": {
      "text/plain": [
       "['a', 'a', 'a']"
      ]
     },
     "execution_count": 20,
     "metadata": {},
     "output_type": "execute_result"
    }
   ],
   "source": [
    "# Choose 3 letters randomly instead of 1 as in the case above.\n",
    "#\n",
    "random.choices( letters, weights=[a_pct, b_pct, c_pct, d_pct], k=3 )"
   ]
  },
  {
   "cell_type": "markdown",
   "metadata": {},
   "source": [
    "---"
   ]
  },
  {
   "cell_type": "code",
   "execution_count": 21,
   "metadata": {},
   "outputs": [
    {
     "data": {
      "text/plain": [
       "array([4, 1, 2])"
      ]
     },
     "execution_count": 21,
     "metadata": {},
     "output_type": "execute_result"
    }
   ],
   "source": [
    "np.random.choice( range( 5 ), 3 )"
   ]
  },
  {
   "cell_type": "code",
   "execution_count": 22,
   "metadata": {},
   "outputs": [
    {
     "data": {
      "text/plain": [
       "array([4, 2, 1])"
      ]
     },
     "execution_count": 22,
     "metadata": {},
     "output_type": "execute_result"
    }
   ],
   "source": [
    "np.random.choice( range( 5 ), 3 )"
   ]
  },
  {
   "cell_type": "code",
   "execution_count": 23,
   "metadata": {},
   "outputs": [
    {
     "name": "stdout",
     "output_type": "stream",
     "text": [
      "[2][3][3][3][2][3][0][3][3][3][3][0][3][3][3][3][3][3][3][2][3][2][2][3][2][3][3][2][3][0][0][3][2][3][3][3][3][2][0][3][2][3][3][0][3][2][2][2][2][2][3][2][3][3][3][2][3][2][3][3][2][0][2][3][3][3][3][3][3][2][2][3][3][3][0][3][3][3][3][3][3][3][3][3][2][3][2][3][3][2][3][3][0][2][2][3][2][2][2][2]"
     ]
    }
   ],
   "source": [
    "for _ in range( 100 ):\n",
    "    #\n",
    "    value = np.random.choice( range( 5 ), 1, p=[0.1, 0, 0.3, 0.6, 0])\n",
    "    print( value, end=\"\" )"
   ]
  },
  {
   "cell_type": "markdown",
   "metadata": {},
   "source": [
    "Since the probabilities of values `1` and `4` were set to zero, we should never get these values!"
   ]
  },
  {
   "cell_type": "code",
   "execution_count": 25,
   "metadata": {},
   "outputs": [
    {
     "ename": "ValueError",
     "evalue": "probabilities do not sum to 1",
     "output_type": "error",
     "traceback": [
      "\u001b[0;31m---------------------------------------------------------------------------\u001b[0m",
      "\u001b[0;31mValueError\u001b[0m                                Traceback (most recent call last)",
      "\u001b[0;32m<ipython-input-25-229e9f5bdc24>\u001b[0m in \u001b[0;36m<module>\u001b[0;34m\u001b[0m\n\u001b[1;32m      1\u001b[0m \u001b[0;32mfor\u001b[0m \u001b[0m_\u001b[0m \u001b[0;32min\u001b[0m \u001b[0mrange\u001b[0m\u001b[0;34m(\u001b[0m \u001b[0;36m100\u001b[0m \u001b[0;34m)\u001b[0m\u001b[0;34m:\u001b[0m\u001b[0;34m\u001b[0m\u001b[0;34m\u001b[0m\u001b[0m\n\u001b[1;32m      2\u001b[0m     \u001b[0;31m#\u001b[0m\u001b[0;34m\u001b[0m\u001b[0;34m\u001b[0m\u001b[0;34m\u001b[0m\u001b[0m\n\u001b[0;32m----> 3\u001b[0;31m     \u001b[0mvalue\u001b[0m \u001b[0;34m=\u001b[0m \u001b[0mnp\u001b[0m\u001b[0;34m.\u001b[0m\u001b[0mrandom\u001b[0m\u001b[0;34m.\u001b[0m\u001b[0mchoice\u001b[0m\u001b[0;34m(\u001b[0m \u001b[0mrange\u001b[0m\u001b[0;34m(\u001b[0m \u001b[0;36m5\u001b[0m \u001b[0;34m)\u001b[0m\u001b[0;34m,\u001b[0m \u001b[0;36m2\u001b[0m\u001b[0;34m,\u001b[0m \u001b[0mp\u001b[0m\u001b[0;34m=\u001b[0m\u001b[0;34m[\u001b[0m\u001b[0;36m0.1\u001b[0m\u001b[0;34m,\u001b[0m \u001b[0;36m0.1\u001b[0m\u001b[0;34m,\u001b[0m \u001b[0;36m0.3\u001b[0m\u001b[0;34m,\u001b[0m \u001b[0;36m0.6\u001b[0m\u001b[0;34m,\u001b[0m \u001b[0;36m0.4\u001b[0m\u001b[0;34m]\u001b[0m\u001b[0;34m)\u001b[0m\u001b[0;34m\u001b[0m\u001b[0;34m\u001b[0m\u001b[0m\n\u001b[0m\u001b[1;32m      4\u001b[0m     \u001b[0mprint\u001b[0m\u001b[0;34m(\u001b[0m \u001b[0mvalue\u001b[0m\u001b[0;34m,\u001b[0m \u001b[0mend\u001b[0m\u001b[0;34m=\u001b[0m\u001b[0;34m\"\"\u001b[0m \u001b[0;34m)\u001b[0m\u001b[0;34m\u001b[0m\u001b[0;34m\u001b[0m\u001b[0m\n",
      "\u001b[0;32mmtrand.pyx\u001b[0m in \u001b[0;36mnumpy.random.mtrand.RandomState.choice\u001b[0;34m()\u001b[0m\n",
      "\u001b[0;31mValueError\u001b[0m: probabilities do not sum to 1"
     ]
    }
   ],
   "source": [
    "for _ in range( 100 ):\n",
    "    #\n",
    "    value = np.random.choice( range( 5 ), 2, p=[0.1, 0.1, 0.3, 0.6, 0.4])\n",
    "    print( value, end=\"\" )"
   ]
  },
  {
   "cell_type": "markdown",
   "metadata": {},
   "source": [
    "**This is _INPUT VALIDATION_ in action!**"
   ]
  },
  {
   "cell_type": "code",
   "execution_count": 26,
   "metadata": {},
   "outputs": [
    {
     "name": "stdout",
     "output_type": "stream",
     "text": [
      "[4 2] [3 2] [3 1] [4 4] [2 0] [4 2] [2 0] [2 2] [4 2] [3 3] [2 0] [2 3] [2 3] [4 2] [2 3] [4 4] [3 4] [4 0] [2 2] [3 4] [2 2] [0 1] [4 1] [2 0] [3 4] [2 0] [3 3] [4 3] [4 0] [0 4] [3 3] [4 3] [2 4] [3 2] [3 1] [4 3] [3 4] [2 4] [2 2] [2 2] [4 2] [1 4] [3 0] [3 3] [2 4] [2 2] [2 4] [2 4] [2 4] [0 4] [0 0] [3 4] [0 4] [2 3] [2 3] [3 4] [4 2] [4 2] [2 0] [1 4] [2 2] [3 2] [3 4] [2 3] [4 4] [4 2] [3 4] [2 3] [4 2] [2 2] [0 2] [4 4] [4 2] [2 3] [4 2] [2 2] [2 3] [3 4] [4 4] [1 4] [2 4] [4 3] [3 1] [1 3] [3 4] [0 2] [1 4] [4 4] [2 2] [2 1] [2 2] [3 3] [1 1] [4 4] [4 3] [0 3] [2 0] [3 4] [3 2] [3 4] "
     ]
    }
   ],
   "source": [
    "for _ in range( 100 ):\n",
    "    #\n",
    "    value = np.random.choice( range( 5 ), 2, p=[0.1, 0.1, 0.3, 0.2, 0.3])\n",
    "    print( value, end=\" \" )"
   ]
  },
  {
   "cell_type": "code",
   "execution_count": 27,
   "metadata": {},
   "outputs": [
    {
     "name": "stdout",
     "output_type": "stream",
     "text": [
      "[1 1 2][3 1 1][1 3 4][1 1 1][2 1 1][1 1 0][1 4 1][1 1 1][1 1 1][2 3 4][1 1 1][1 1 3][1 4 1][2 1 1][1 1 3][4 1 1][4 1 2][2 4 0][4 1 2][3 3 1][2 1 1][2 1 1][1 1 1][1 1 4][4 1 1][1 1 0][1 3 1][1 1 4][3 1 1][1 3 2][1 1 4][1 1 1][1 1 1][1 2 1][1 1 4][3 2 1][0 1 1][1 1 1][1 1 1][4 0 0][1 4 3][2 1 4][4 0 3][1 3 2][0 2 1][2 1 0][1 1 4][1 3 2][1 1 3][4 1 4][4 4 1][1 1 4][1 0 1][1 1 4][0 1 3][2 4 4][0 1 0][1 2 1][3 2 2][0 1 1][4 4 0][3 1 1][1 1 0][4 1 1][1 4 1][1 1 3][1 1 0][0 1 3][0 4 1][2 1 3][1 1 1][1 2 1][4 0 1][3 1 1][1 1 4][1 1 1][2 1 3][2 3 3][1 2 1][4 1 4][1 1 4][4 2 1][3 1 1][1 2 3][1 1 1][1 1 1][3 2 4][4 1 1][1 0 1][1 1 1][1 0 1][1 1 2][0 1 1][1 3 1][3 1 1][4 1 3][1 2 1][1 1 0][1 4 1][3 2 4]"
     ]
    }
   ],
   "source": [
    "for _ in range( 100 ):\n",
    "    #\n",
    "    value = np.random.choice( range( 5 ), 3, p=[0.1, 0.6, 0.1, 0.1, 0.1])\n",
    "    print( value, end=\"\" )"
   ]
  },
  {
   "cell_type": "code",
   "execution_count": 68,
   "metadata": {},
   "outputs": [],
   "source": [
    "letters = ['a', 'b', 'c', 'd', 'e', 'f', 'g', 'h']"
   ]
  },
  {
   "cell_type": "code",
   "execution_count": 29,
   "metadata": {},
   "outputs": [
    {
     "name": "stdout",
     "output_type": "stream",
     "text": [
      "['a', 'd', 'c']\n",
      "['c', 'a', 'd']\n",
      "['d', 'c', 'a']\n",
      "['d', 'c', 'a']\n",
      "['c', 'd', 'b']\n",
      "['a', 'c', 'b']\n",
      "['c', 'a', 'b']\n",
      "['b', 'a', 'c']\n",
      "['c', 'd', 'a']\n",
      "['b', 'd', 'a']\n"
     ]
    }
   ],
   "source": [
    "k = 3 # To choose 3 random values\n",
    "\n",
    "for _ in range( 10 ):\n",
    "    #\n",
    "    rvalue = random.sample( letters, k ) \n",
    "    print( rvalue )"
   ]
  },
  {
   "cell_type": "markdown",
   "metadata": {},
   "source": [
    "### 4.9 __Application: Random Numbers and Simulations__"
   ]
  },
  {
   "cell_type": "markdown",
   "metadata": {},
   "source": [
    "Generate random floating-point values in the range `[0.0, 1.0)`.\n",
    "\n",
    "Note the `[ ... )` specification!"
   ]
  },
  {
   "cell_type": "code",
   "execution_count": 3,
   "metadata": {},
   "outputs": [
    {
     "name": "stdout",
     "output_type": "stream",
     "text": [
      "0.6707869358 \n",
      "0.4569691158 \n",
      "0.5721001527 \n",
      "0.3898259303 \n",
      "0.3772314502 \n",
      "0.8316901423 \n",
      "0.3852930227 \n",
      "0.2498382688 \n",
      "0.4897228795 \n",
      "0.3756111886 \n"
     ]
    }
   ],
   "source": [
    "import random\n",
    "\n",
    "for _ in range( 10 ):\n",
    "    #\n",
    "    rval = random.random()\n",
    "    print( \"{:.10f} \".format( rval ), end=\"\\n\" )"
   ]
  },
  {
   "cell_type": "markdown",
   "metadata": {},
   "source": [
    "We can also generate random integers."
   ]
  },
  {
   "cell_type": "code",
   "execution_count": 32,
   "metadata": {},
   "outputs": [
    {
     "name": "stdout",
     "output_type": "stream",
     "text": [
      "Help on method randint in module random:\n",
      "\n",
      "randint(a, b) method of random.Random instance\n",
      "    Return random integer in range [a, b], including both end points.\n",
      "\n"
     ]
    }
   ],
   "source": [
    "help( random.randint )"
   ]
  },
  {
   "cell_type": "code",
   "execution_count": 6,
   "metadata": {},
   "outputs": [
    {
     "name": "stdout",
     "output_type": "stream",
     "text": [
      "8 11 3 11 10 3 4 8 12 12 10 4 6 11 10 3 6 9 7 3 12 3 5 12 3 11 7 9 10 9 12 4 6 11 4 4 4 5 12 12 3 4 11 12 4 "
     ]
    }
   ],
   "source": [
    "a, b = 3, 12\n",
    "N = 45\n",
    "\n",
    "for _ in range( N ):\n",
    "    #\n",
    "    rvalue = random.randint( a, b ) \n",
    "    print( \"{} \".format( rvalue ), end=\"\" )"
   ]
  },
  {
   "cell_type": "code",
   "execution_count": 14,
   "metadata": {},
   "outputs": [
    {
     "data": {
      "text/plain": [
       "defaultdict(int,\n",
       "            {4: 1000713,\n",
       "             1: 1000702,\n",
       "             9: 999217,\n",
       "             5: 999627,\n",
       "             0: 1000068,\n",
       "             3: 1000599,\n",
       "             2: 1000750,\n",
       "             8: 998921,\n",
       "             6: 999031,\n",
       "             7: 1000372})"
      ]
     },
     "execution_count": 14,
     "metadata": {},
     "output_type": "execute_result"
    }
   ],
   "source": [
    "from collections import defaultdict\n",
    "\n",
    "a, b = 0, 9\n",
    "#N = 10\n",
    "N = 10000000\n",
    "num_table = defaultdict( int )\n",
    "\n",
    "for _ in range( N ):\n",
    "    #\n",
    "    rvalue = random.randint( a, b ) \n",
    "    num_table[rvalue] += 1\n",
    "    #print( \"{} \".format( rvalue ), end=\"\" )\n",
    "    \n",
    "num_table"
   ]
  },
  {
   "cell_type": "markdown",
   "metadata": {},
   "source": [
    "When you look at these *frequency* values, what do you observe?\n",
    "\n",
    "Let us compute the percentages of these *frequency* values."
   ]
  },
  {
   "cell_type": "code",
   "execution_count": 19,
   "metadata": {},
   "outputs": [
    {
     "data": {
      "text/plain": [
       "{4: '10.007%',\n",
       " 1: '10.007%',\n",
       " 9: '9.992%',\n",
       " 5: '9.996%',\n",
       " 0: '10.001%',\n",
       " 3: '10.006%',\n",
       " 2: '10.008%',\n",
       " 8: '9.989%',\n",
       " 6: '9.990%',\n",
       " 7: '10.004%'}"
      ]
     },
     "execution_count": 19,
     "metadata": {},
     "output_type": "execute_result"
    }
   ],
   "source": [
    "{r_num: f\"{freq * 100 / N:.3f}%\" for r_num, freq in num_table.items()}"
   ]
  },
  {
   "cell_type": "markdown",
   "metadata": {},
   "source": [
    "The pseudo-random number generator generates values with equal probability. This means that the random numbers generated are *uniformly distributed*. That is, each pseudo-random number has equal chance of occurrence."
   ]
  },
  {
   "cell_type": "markdown",
   "metadata": {},
   "source": [
    "#### 4.9.2 __Simulating Die Tosses__"
   ]
  },
  {
   "cell_type": "code",
   "execution_count": 22,
   "metadata": {},
   "outputs": [
    {
     "name": "stdout",
     "output_type": "stream",
     "text": [
      "--- Trial #01> Die_1: 6, Die_2: 1\n",
      "--- Trial #02> Die_1: 6, Die_2: 3\n",
      "--- Trial #03> Die_1: 4, Die_2: 6\n",
      "--- Trial #04> Die_1: 2, Die_2: 5\n",
      "--- Trial #05> Die_1: 2, Die_2: 5\n",
      "--- Trial #06> Die_1: 3, Die_2: 5\n",
      "--- Trial #07> Die_1: 6, Die_2: 1\n",
      "--- Trial #08> Die_1: 2, Die_2: 3\n",
      "--- Trial #09> Die_1: 1, Die_2: 1\n",
      "--- Trial #10> Die_1: 1, Die_2: 3\n"
     ]
    }
   ],
   "source": [
    "a, b = 1, 6\n",
    "N = 10\n",
    "\n",
    "for trial_no in range( N ):\n",
    "    #\n",
    "    die_1 = random.randint( a, b )\n",
    "    die_2 = random.randint( a, b )\n",
    "    \n",
    "    print( \"--- Trial #{:02d}> Die_1: {}, Die_2: {}\".format( trial_no + 1, die_1, die_2 ) )"
   ]
  },
  {
   "cell_type": "markdown",
   "metadata": {},
   "source": [
    "#### 4.9.3 __The Monte Carlo Method__\n",
    "\n",
    "The Monte Carlo method is an ingenious method for finding approximate solutions to problems that cannot be precisely solved. "
   ]
  },
  {
   "cell_type": "markdown",
   "metadata": {},
   "source": [
    "> __Example:__ Computation of the value of $\\pi$ using _simulation_"
   ]
  },
  {
   "cell_type": "markdown",
   "metadata": {},
   "source": [
    "Remember that $\\pi$ is the ratio of the *circumference* of a circle to the *diameter* of that circle."
   ]
  },
  {
   "cell_type": "markdown",
   "metadata": {},
   "source": [
    "Simulate shooting a dart into a (blue) square surrounding a (pink) circle of radius 1. \n",
    "\n",
    "This is easy to do."
   ]
  },
  {
   "cell_type": "code",
   "execution_count": 83,
   "metadata": {},
   "outputs": [
    {
     "data": {
      "image/svg+xml": [
       "<svg height=\"288.09338\" id=\"svg2\" inkscape:version=\"0.92.4 (5da689c313, 2019-01-14)\" sodipodi:docname=\"monte-carlo-simulation.svg\" version=\"1.1\" viewBox=\"0 0 289.2105 288.09339\" width=\"289.21051\" xml:space=\"preserve\" xmlns=\"http://www.w3.org/2000/svg\" xmlns:cc=\"http://creativecommons.org/ns#\" xmlns:dc=\"http://purl.org/dc/elements/1.1/\" xmlns:inkscape=\"http://www.inkscape.org/namespaces/inkscape\" xmlns:rdf=\"http://www.w3.org/1999/02/22-rdf-syntax-ns#\" xmlns:sodipodi=\"http://sodipodi.sourceforge.net/DTD/sodipodi-0.dtd\" xmlns:svg=\"http://www.w3.org/2000/svg\"><metadata id=\"metadata8\"><rdf:RDF><cc:Work rdf:about=\"\"><dc:format>image/svg+xml</dc:format><dc:type rdf:resource=\"http://purl.org/dc/dcmitype/StillImage\"/><dc:title/></cc:Work></rdf:RDF></metadata><defs id=\"defs6\"><marker id=\"marker1215\" inkscape:isstock=\"true\" inkscape:stockid=\"Arrow1Lstart\" orient=\"auto\" refX=\"0.0\" refY=\"0.0\" style=\"overflow:visible\"><path d=\"M 0.0,0.0 L 5.0,-5.0 L -12.5,0.0 L 5.0,5.0 L 0.0,0.0 z \" id=\"path1213\" style=\"fill-rule:evenodd;stroke:#002396;stroke-width:1pt;stroke-opacity:1;fill:#002396;fill-opacity:1\" transform=\"scale(0.8) translate(12.5,0)\"/></marker><marker id=\"marker1187\" inkscape:isstock=\"true\" inkscape:stockid=\"Arrow1Lstart\" orient=\"auto\" refX=\"0.0\" refY=\"0.0\" style=\"overflow:visible\"><path d=\"M 0.0,0.0 L 5.0,-5.0 L -12.5,0.0 L 5.0,5.0 L 0.0,0.0 z \" id=\"path1185\" style=\"fill-rule:evenodd;stroke:#000000;stroke-width:1pt;stroke-opacity:1;fill:#000000;fill-opacity:1\" transform=\"scale(0.8) translate(12.5,0)\"/></marker><marker id=\"marker1165\" inkscape:isstock=\"true\" inkscape:stockid=\"Arrow1Lstart\" orient=\"auto\" refX=\"0.0\" refY=\"0.0\" style=\"overflow:visible\"><path d=\"M 0.0,0.0 L 5.0,-5.0 L -12.5,0.0 L 5.0,5.0 L 0.0,0.0 z \" id=\"path1163\" style=\"fill-rule:evenodd;stroke:#000000;stroke-width:1pt;stroke-opacity:1;fill:#000000;fill-opacity:1\" transform=\"scale(0.8) translate(12.5,0)\"/></marker><marker id=\"Arrow1Lstart\" inkscape:isstock=\"true\" inkscape:stockid=\"Arrow1Lstart\" orient=\"auto\" refX=\"0.0\" refY=\"0.0\" style=\"overflow:visible\"><path d=\"M 0.0,0.0 L 5.0,-5.0 L -12.5,0.0 L 5.0,5.0 L 0.0,0.0 z \" id=\"path887\" style=\"fill-rule:evenodd;stroke:#000000;stroke-width:1pt;stroke-opacity:1;fill:#000000;fill-opacity:1\" transform=\"scale(0.8) translate(12.5,0)\"/></marker><clipPath clipPathUnits=\"userSpaceOnUse\" id=\"clipPath554\"><path d=\"m 3310,1786.39 h 1820 v 1000 H 3310 Z\" id=\"path552\" inkscape:connector-curvature=\"0\"/></clipPath><clipPath clipPathUnits=\"userSpaceOnUse\" id=\"clipPath568\"><path d=\"m 4010,479.191 h 1120 v 1257.21 H 4010 Z\" id=\"path566\" inkscape:connector-curvature=\"0\"/></clipPath><clipPath clipPathUnits=\"userSpaceOnUse\" id=\"clipPath598\"><path d=\"m 4010,479.191 h 1120 v 1257.21 H 4010 Z\" id=\"path596\" inkscape:connector-curvature=\"0\"/></clipPath></defs><sodipodi:namedview bordercolor=\"#666666\" borderopacity=\"1\" fit-margin-bottom=\"0\" fit-margin-left=\"0\" fit-margin-right=\"0\" fit-margin-top=\"0\" gridtolerance=\"10\" guidetolerance=\"10\" id=\"namedview4\" inkscape:current-layer=\"layer1\" inkscape:cx=\"95.837748\" inkscape:cy=\"194.43407\" inkscape:pageopacity=\"0\" inkscape:pageshadow=\"2\" inkscape:window-height=\"1016\" inkscape:window-maximized=\"1\" inkscape:window-width=\"1920\" inkscape:window-x=\"0\" inkscape:window-y=\"27\" inkscape:zoom=\"3.9333332\" objecttolerance=\"10\" pagecolor=\"#ffffff\" showgrid=\"false\"/><g id=\"g10\" inkscape:groupmode=\"layer\" inkscape:label=\"monte-carlo-simulation\" sodipodi:insensitive=\"true\" transform=\"matrix(1.3333333,0,0,-1.3333333,-774.1242,207.44368)\"><g id=\"g20\"/><g id=\"g82\"/><g id=\"g94\"/><g id=\"g102\"/><g id=\"g114\"/><g id=\"g126\"/><g id=\"g134\"/><g id=\"g166\"/><g id=\"g174\"/><g id=\"g194\"/><g id=\"g226\"/><g id=\"g234\"/><g id=\"g318\"/><g id=\"g326\"/><g id=\"g334\"/><g id=\"g346\"/><g id=\"g984\" transform=\"matrix(1.9696915,0,0,1.9696915,-209.25316,-174.64391)\"><path d=\"m 416.322,73.2789 h 72 v 72 h -72 z\" id=\"path560\" inkscape:connector-curvature=\"0\" style=\"fill:#80a2d7;fill-opacity:1;fill-rule:nonzero;stroke:none;stroke-width:0.1\"/><g clip-path=\"url(#clipPath568)\" id=\"g564\" transform=\"scale(0.1)\"><path d=\"m 4883.22,1092.79 c 0,-198.829 -161.18,-360.001 -360,-360.001 -198.82,0 -360,161.172 -360,360.001 0,198.82 161.18,360 360,360 198.82,0 360,-161.18 360,-360\" id=\"path570\" inkscape:connector-curvature=\"0\" style=\"fill:#ffbd9e;fill-opacity:1;fill-rule:nonzero;stroke:none\"/><path d=\"M 4523.22,1572.79 V 612.789\" id=\"path572\" inkscape:connector-curvature=\"0\" style=\"fill:none;stroke:#241f1f;stroke-width:5;stroke-linecap:butt;stroke-linejoin:miter;stroke-miterlimit:4;stroke-dasharray:none;stroke-opacity:1\"/><path d=\"m 4512.46,620.227 10.89,-40.661 10.9,40.661\" id=\"path574\" inkscape:connector-curvature=\"0\" style=\"fill:#241f1f;fill-opacity:1;fill-rule:nonzero;stroke:none\"/><path d=\"m 4533.98,1565.36 -10.89,40.66 -10.9,-40.66\" id=\"path576\" inkscape:connector-curvature=\"0\" style=\"fill:#241f1f;fill-opacity:1;fill-rule:nonzero;stroke:none\"/><path d=\"m 4043.22,1092.79 h 960\" id=\"path578\" inkscape:connector-curvature=\"0\" style=\"fill:none;stroke:#241f1f;stroke-width:5;stroke-linecap:butt;stroke-linejoin:miter;stroke-miterlimit:4;stroke-dasharray:none;stroke-opacity:1\"/><path d=\"m 4995.79,1082.03 40.66,10.9 -40.66,10.89\" id=\"path580\" inkscape:connector-curvature=\"0\" style=\"fill:#241f1f;fill-opacity:1;fill-rule:nonzero;stroke:none\"/><path d=\"m 4050.65,1103.55 -40.65,-10.9 40.65,-10.89\" id=\"path582\" inkscape:connector-curvature=\"0\" style=\"fill:#241f1f;fill-opacity:1;fill-rule:nonzero;stroke:none\"/></g><text id=\"text590\" style=\"font-style:italic;font-variant:normal;font-size:8px;font-family:StempelGaramondLTStd;-inkscape-font-specification:StempelGaramondLTStd-Italic;writing-mode:lr-tb;fill:#241f1f;fill-opacity:1;fill-rule:nonzero;stroke:none\" transform=\"scale(1,-1)\" x=\"506.32199\" y=\"-107.279\"><tspan id=\"tspan586\" x=\"506.32199\" y=\"-107.279\">x</tspan><tspan id=\"tspan588\" x=\"450.32199\" y=\"-163.27901\">y</tspan></text>\n",
       "\n",
       "<g clip-path=\"url(#clipPath598)\" id=\"g594\" transform=\"scale(0.1)\"><path d=\"m 4493.22,1452.79 h 60 m -60,-720.001 h 60 m -390,330.001 v 60 m 720,-60 v 60\" id=\"path600\" inkscape:connector-curvature=\"0\" style=\"fill:none;stroke:#241f1f;stroke-width:5;stroke-linecap:butt;stroke-linejoin:miter;stroke-miterlimit:4;stroke-dasharray:none;stroke-opacity:1\"/></g><text id=\"text610\" style=\"font-variant:normal;font-weight:normal;font-size:8px;font-family:StempelGaramondLTStd;-inkscape-font-specification:StempelGaramondLTStd-Roman;writing-mode:lr-tb;fill:#241f1f;fill-opacity:1;fill-rule:nonzero;stroke:none\" transform=\"scale(1,-1)\" x=\"489.32199\" y=\"-99.2789\"><tspan id=\"tspan604\" sodipodi:role=\"line\" x=\"489.32199 408.32199 412.32199\" y=\"-99.2789\">1–1</tspan><tspan id=\"tspan606\" x=\"457.32199\" y=\"-146.2789\">1</tspan><tspan id=\"tspan608\" sodipodi:role=\"line\" x=\"453.32199 457.32199\" y=\"-67.2789\">–1</tspan></text>\n",
       "\n",
       "</g></g><g id=\"layer1\" inkscape:groupmode=\"layer\" inkscape:label=\"monte-carlo-simulation 1\"><circle cx=\"204.72864\" cy=\"119.19672\" id=\"path879\" r=\"2.3370478\" style=\"opacity:1;fill:#4d4d4d;fill-opacity:1;fill-rule:evenodd;stroke:none;stroke-width:3.15151525;stroke-linecap:butt;stroke-linejoin:round;stroke-miterlimit:4;stroke-dasharray:12.60606054, 12.60606053999999965;stroke-dashoffset:0;stroke-opacity:1;paint-order:normal\"/><path d=\"m 204.76135,119.22001 0,35.12233\" id=\"path881\" inkscape:connector-curvature=\"0\" sodipodi:nodetypes=\"cc\" style=\"fill:none;stroke:#000000;stroke-width:0.5;stroke-linecap:butt;stroke-linejoin:miter;stroke-miterlimit:4;stroke-dasharray:4, 4;stroke-dashoffset:0;stroke-opacity:1\"/><path d=\"m 134.0207,119.19673 70.71555,0\" id=\"path883\" inkscape:connector-curvature=\"0\" sodipodi:nodetypes=\"cc\" style=\"fill:none;stroke:#000000;stroke-width:0.5;stroke-linecap:butt;stroke-linejoin:miter;stroke-miterlimit:4;stroke-dasharray:4, 4;stroke-dashoffset:0;stroke-opacity:1\"/><path d=\"m 134.82969,152.90415 69.93166,-33.68414\" id=\"path885\" inkscape:connector-curvature=\"0\" style=\"fill:none;stroke:#002396;stroke-width:1px;stroke-linecap:butt;stroke-linejoin:miter;stroke-opacity:1;marker-start:\"/><path d=\"M 134.82969,152.90415 83.84552,73.607549\" id=\"path1319\" inkscape:connector-curvature=\"0\" sodipodi:nodetypes=\"cc\" style=\"fill:none;stroke:#960093;stroke-width:1px;stroke-linecap:butt;stroke-linejoin:miter;stroke-opacity:1\"/><path d=\"M 134.82969,152.90415 202.76923,65.723093\" id=\"path1321\" inkscape:connector-curvature=\"0\" sodipodi:nodetypes=\"cc\" style=\"fill:none;stroke:#ff1b00;stroke-width:1px;stroke-linecap:butt;stroke-linejoin:miter;stroke-opacity:1\"/><circle cx=\"202.68758\" cy=\"65.667076\" id=\"circle1323\" r=\"2.3370478\" style=\"opacity:1;fill:#4d4d4d;fill-opacity:1;fill-rule:evenodd;stroke:none;stroke-width:3.15151525;stroke-linecap:butt;stroke-linejoin:round;stroke-miterlimit:4;stroke-dasharray:12.60606054, 12.60606054;stroke-dashoffset:0;stroke-opacity:1;paint-order:normal\"/><circle cx=\"83.831642\" cy=\"73.42131\" id=\"circle1325\" r=\"2.3370478\" style=\"opacity:1;fill:#4d4d4d;fill-opacity:1;fill-rule:evenodd;stroke:none;stroke-width:3.15151525;stroke-linecap:butt;stroke-linejoin:round;stroke-miterlimit:4;stroke-dasharray:12.60606054, 12.60606054;stroke-dashoffset:0;stroke-opacity:1;paint-order:normal\"/><path d=\"m 83.84552,73.607549 51.13928,0\" id=\"path1327\" inkscape:connector-curvature=\"0\" sodipodi:nodetypes=\"cc\" style=\"fill:none;stroke:#000000;stroke-width:0.5;stroke-linecap:butt;stroke-linejoin:miter;stroke-miterlimit:4;stroke-dasharray:4, 4;stroke-dashoffset:0;stroke-opacity:1\"/><path d=\"m 83.84552,73.607549 0,79.486741\" id=\"path1329\" inkscape:connector-curvature=\"0\" sodipodi:nodetypes=\"cc\" style=\"fill:none;stroke:#000000;stroke-width:0.5;stroke-linecap:butt;stroke-linejoin:miter;stroke-miterlimit:4;stroke-dasharray:4, 4;stroke-dashoffset:0;stroke-opacity:1\"/></g></svg>"
      ],
      "text/plain": [
       "<IPython.core.display.SVG object>"
      ]
     },
     "execution_count": 83,
     "metadata": {},
     "output_type": "execute_result"
    }
   ],
   "source": [
    "SVG( \"images/monte-carlo-simulation.svg\" )"
   ]
  },
  {
   "cell_type": "markdown",
   "metadata": {},
   "source": [
    "- Generate random x- and y-coordinates between –1 and 1. \n",
    "- If the generated point lies inside the (pink) circle, we will count it as a _hit_. \n",
    "  That is the case when $x^2 + y^2 \\le 1$. \n",
    "\n",
    "Since our shots are entirely random, we expect that the ratio of hits / tries is approximately equal to the ratio of the areas of the circle and the square.\n",
    "\n",
    "What is the area of the circle?\n",
    "\n",
    "Using our knowledge of geometry, we know that the area of a circle is given by $\\pi \\cdot r^2$, where $r$ is the _radius_ of the circle.\n",
    "\n",
    "Since our $r=1$, the area of our circle will just be $\\pi$!\n",
    "\n",
    "The area of the blue square is $2r \\times 2r = 4 \\cdot r^2$. Since $r=1$, the area is 4!\n",
    "\n",
    "Therefore, the ratio of the area of the pink circle to the area of the blue square is $\\dfrac{\\pi \\cdot r^2}{4 \\cdot r^2} = \\dfrac{\\pi}{4}$.\n",
    "\n",
    "So the ratio of hits in the (pink) circle to the total number of tries should be proportional to the _area of the square_. So, we estimate that $\\mathtt{hits} / \\mathtt{tries}$ should be a good approximation of $\\pi / 4$., since the area of the square is 4."
   ]
  },
  {
   "cell_type": "markdown",
   "metadata": {},
   "source": [
    "__QUESTION:__ How can we generate values in the range `[-1.0, 1.0]` using the `random` module?\n",
    "\n",
    "- Observation: `random.random()` gives us values in the range `[0.0, 1.0)`. \n",
    "- Note that `)` means the end value is __not__ included in the range!\n",
    "\n",
    "So, instead of solving the seemingly difficult problem of generating values in the `[-1.0, 1.0]` range, let us solve an _easier_ version of the problem:\n",
    "    \n",
    "- Generate random floating-point values in the range `[2.0, 3.0)`. Note that the difference in the range is still 1.0, as in the range of values returned by `random.random()`.\n",
    "- The solution is rather easy: We offset the values we get from `random.random()` by 2.0!\n",
    "    So we can transform the range `[0.0, 1.0)` to  `[2.0, 3.0)`. "
   ]
  },
  {
   "cell_type": "code",
   "execution_count": 23,
   "metadata": {},
   "outputs": [
    {
     "name": "stdout",
     "output_type": "stream",
     "text": [
      "2.6953127317702053 2.400465807020434 2.167587986083901 2.355722847774245 2.5920717864533995 2.6007923445058005 2.969322814242724 2.3314579474812547 2.0761627301076353 2.549850156613136 2.49229663292327 2.0403234646185684 2.798341467718067 2.266630960882777 2.100425068076886 2.210659014560167 2.271445048601102 2.6878321404266643 2.62406364581181 2.6736185415348546 "
     ]
    }
   ],
   "source": [
    "for _ in range( 20 ):\n",
    "    #\n",
    "    randval_0_to_1 = random.random()\n",
    "    randval_2_to_3 = 2.0 + randval_0_to_1\n",
    "    #print( \"{:.2f}\".format( randval_2_to_3 ), end=\" \" )\n",
    "    print( \"{}\".format( randval_2_to_3 ), end=\" \" )"
   ]
  },
  {
   "cell_type": "markdown",
   "metadata": {},
   "source": [
    "- Observation: If we wish to get values in the range `[a, b]` where `|b - a| > 1.0`, then we will have to somehow extend the difference within the range of values beyond 1.0.\n",
    "\n",
    "However, this general observation begs the following question as well!"
   ]
  },
  {
   "cell_type": "markdown",
   "metadata": {},
   "source": [
    "__QUESTION:__ How can we generate values in the range `[0.0, 0.5)` using the `random` module?\n",
    "\n",
    "The answer should be simple, right?\n",
    "\n",
    "Just divide each value by 2! Since the highest value is almost 1.0, then dividing this largest possible value should get us values less than 0.5 always."
   ]
  },
  {
   "cell_type": "code",
   "execution_count": 25,
   "metadata": {},
   "outputs": [
    {
     "name": "stdout",
     "output_type": "stream",
     "text": [
      "0.1947752285171519 0.19702600812561438 0.4884990684394335 0.07630505987806169 0.403710366138756 0.1270127808520502 0.2364619098334615 0.145434275360041 0.08290522618378565 0.06259045115861084 0.04544888299748656 0.48455148328652825 0.1444344058665647 0.38496211272629927 0.22057013950001436 0.26304155500964854 0.005764995317091626 0.2926087655095643 0.20244839442797835 0.28928806800294726 "
     ]
    }
   ],
   "source": [
    "for _ in range( 20 ):\n",
    "    #\n",
    "    rval = random.random() / 2.0\n",
    "    #print( \"{:.2f}\".format( rval ), end=\" \" )\n",
    "    print( \"{}\".format( rval ), end=\" \" )"
   ]
  },
  {
   "cell_type": "markdown",
   "metadata": {},
   "source": [
    "Well, we have to answer yet another question though before we return to the original question above.\n",
    "\n",
    "__QUESTION:__ How can we generate random values in the range `[0.25, 0.75)`?"
   ]
  },
  {
   "cell_type": "markdown",
   "metadata": {},
   "source": [
    "This problem is actually identical to our original question! "
   ]
  },
  {
   "cell_type": "markdown",
   "metadata": {},
   "source": [
    "Isn't this the same problem as `0.25 + Generate random value in the range [0.0, 0.50)`?"
   ]
  },
  {
   "cell_type": "markdown",
   "metadata": {},
   "source": [
    "What if we \n",
    "\n",
    "- multiply these range endpoints by a 100 to get `[25, 75]` (*inclusive*, this time!),\n",
    "- generate random integers in this range&mdash;`random.randint()` can do this for us, and\n",
    "- divide each random value by 100 to get back to the original range."
   ]
  },
  {
   "cell_type": "code",
   "execution_count": 62,
   "metadata": {},
   "outputs": [
    {
     "name": "stdout",
     "output_type": "stream",
     "text": [
      "Help on method randint in module random:\n",
      "\n",
      "randint(a, b) method of random.Random instance\n",
      "    Return random integer in range [a, b], including both end points.\n",
      "\n"
     ]
    }
   ],
   "source": [
    "help( random.randint )"
   ]
  },
  {
   "cell_type": "code",
   "execution_count": 26,
   "metadata": {},
   "outputs": [
    {
     "name": "stdout",
     "output_type": "stream",
     "text": [
      "69 72 74 46 60 54 34 73 67 63 75 66 61 35 71 44 68 71 41 64 57 57 47 59 49 54 48 60 53 52 31 60 31 41 55 56 70 51 35 31 61 51 43 31 45 44 54 25 59 65 59 44 54 54 32 25 25 58 29 44 67 67 51 37 70 38 70 47 44 67 60 27 46 42 51 55 60 28 25 60 72 55 33 69 45 32 35 37 39 59 45 31 51 56 66 59 45 70 57 53 "
     ]
    }
   ],
   "source": [
    "a, b = 25, 75\n",
    "\n",
    "for _ in range( 100 ):\n",
    "    #\n",
    "    rval = random.randint( a, b )\n",
    "    print( \"{}\".format( rval ), end=\" \" )"
   ]
  },
  {
   "cell_type": "code",
   "execution_count": 27,
   "metadata": {},
   "outputs": [
    {
     "name": "stdout",
     "output_type": "stream",
     "text": [
      "0.25 0.68 0.49 0.32 0.52 0.28 0.41 0.61 0.67 0.67 0.27 0.29 0.56 0.47 0.61 0.63 0.50 0.48 0.34 0.26 0.61 0.56 0.57 0.52 0.59 0.60 0.28 0.39 0.75 0.48 0.35 0.62 0.54 0.45 0.46 0.74 0.71 0.41 0.47 0.59 0.41 0.54 0.32 0.40 0.33 0.57 0.41 0.72 0.65 0.68 0.29 0.47 0.42 0.48 0.51 0.26 0.40 0.48 0.58 0.28 0.43 0.44 0.47 0.49 0.55 0.28 0.62 0.43 0.58 0.75 0.56 0.67 0.56 0.66 0.65 0.73 0.69 0.53 0.48 0.45 0.43 0.39 0.75 0.42 0.67 0.66 0.70 0.29 0.62 0.47 0.26 0.52 0.47 0.75 0.73 0.36 0.44 0.45 0.41 0.39 "
     ]
    }
   ],
   "source": [
    "a, b = 0.25, 0.75 # [0.25, 0.75] INCLUSIVE!\n",
    "\n",
    "for _ in range( 100 ):\n",
    "    #\n",
    "    rval = random.randint( int( 100 * a ), int( 100 * b ) ) / 100.0\n",
    "    #print( \"{:.2f}\".format( rval ), end=\" \" )\n",
    "    print( f\"{rval:0.2f}\", end=\" \" )"
   ]
  },
  {
   "cell_type": "markdown",
   "metadata": {},
   "source": [
    "Can we specify negative values in `random.randint()`? Sure!"
   ]
  },
  {
   "cell_type": "code",
   "execution_count": 28,
   "metadata": {},
   "outputs": [
    {
     "name": "stdout",
     "output_type": "stream",
     "text": [
      "4 3 4 2 -5 3 -2 -4 -2 5 -5 -5 4 2 1 3 -2 0 2 -3 5 4 -1 -3 4 2 1 -1 -3 1 0 4 0 -3 1 1 2 -1 3 4 -1 5 -2 5 3 -2 0 5 5 0 -3 -4 -1 0 3 2 5 -1 0 2 4 -3 1 -1 0 1 1 1 -2 -5 0 -1 3 -5 -4 4 -1 4 1 1 1 1 -2 5 -1 -1 1 4 -2 -1 3 4 -2 3 3 2 2 5 1 5 "
     ]
    }
   ],
   "source": [
    "a, b = -5, 5\n",
    "\n",
    "for _ in range( 100 ):\n",
    "    #\n",
    "    rval = random.randint( a, b )\n",
    "    print( \"{}\".format( rval ), end=\" \" )"
   ]
  },
  {
   "cell_type": "markdown",
   "metadata": {},
   "source": [
    "So, we can \n",
    "\n",
    "- generate random integers, say, in the range `[-1000, 1000]`,\n",
    "- divide each value by 1000 to get floating-point values in the range `[-1.0, 1.0]` *inclusive*!"
   ]
  },
  {
   "cell_type": "code",
   "execution_count": 29,
   "metadata": {},
   "outputs": [
    {
     "name": "stdout",
     "output_type": "stream",
     "text": [
      "0.459 0.271 -0.886 -0.133 0.914 -0.178 0.822 0.944 0.684 -0.942 -0.532 -0.542 0.551 -0.049 -0.352 "
     ]
    }
   ],
   "source": [
    "a, b = -1000, 1000\n",
    "\n",
    "for _ in range( 15 ):\n",
    "    #\n",
    "    rval = random.randint( a, b ) / 1000.0\n",
    "    #print( \"{:.3f}\".format( rval ), end=\" \" )\n",
    "    print( \"{}\".format( rval ), end=\" \" )"
   ]
  },
  {
   "cell_type": "markdown",
   "metadata": {},
   "source": [
    "However, the problem here is that the we can only get floating-point values with 3-decimal digit precision. This may just suffice for our original exercise of estimating the value of $\\pi$. If we demand more precision, then we can increase the integer range to any higher value, say, 10000 or 99999!"
   ]
  },
  {
   "cell_type": "markdown",
   "metadata": {},
   "source": [
    "Regardless, though, let us go back to the original problem and ask a similiar question of how we can generate random floating-point values in the range `[0.0, 5.0)` using  `random.random()`.\n",
    "\n",
    "Since `random.random()` generates values in the range `[0.0, 1.0)`, then we will have to multiply every element we get with 5.0!"
   ]
  },
  {
   "cell_type": "code",
   "execution_count": 30,
   "metadata": {},
   "outputs": [
    {
     "name": "stdout",
     "output_type": "stream",
     "text": [
      "1.2075666954845405\n",
      "3.852525956659237\n",
      "2.1866136119814614\n",
      "0.045193029540981366\n",
      "4.039008970725062\n",
      "4.451600000982733\n",
      "4.901071500729578\n",
      "3.9047180589946233\n",
      "1.7855028745844441\n",
      "2.0663666650029495\n"
     ]
    }
   ],
   "source": [
    "max_val = 5.0\n",
    "\n",
    "for _ in range( 10 ):\n",
    "    #\n",
    "    rval = random.random() * max_val\n",
    "    print( \"{}\".format( rval ), end=\"\\n\" )"
   ]
  },
  {
   "cell_type": "markdown",
   "metadata": {},
   "source": [
    "So, how can we generate floating-point values in the range `[2.0, 6.0)`?\n",
    "\n",
    "- The difference between the two range endpoints is `6.0 - 2.0 = 4.0`. \n",
    "\n",
    "- So, we will need to generate pseudo-random floating-point values in the range `[0.0, 4.0)` first.\n",
    "\n",
    "- Then, we will add `2` to bias these values to get the correct range!\n",
    "\n",
    "Therefore, in general, generation of random floating-point values in the range `[a, b)` using `random.random()` requires the following:\n",
    "\n",
    "- Compute `d = b - a`\n",
    "- Generate random floating-point values in the range `[0.0, 1.0)` using `random.random()`\n",
    "- Multiply these random values by `d` to get values in the range `[0.0, d)`\n",
    "- Add `a` to these values to get random values in the range `[a, b)`, noting that `a + d` is `b` `(a + (b - a) = b)`\n",
    "\n",
    "```\n",
    "a + (b - a) * random.random()\n",
    "```\n",
    "\n",
    "Let us consider the example of generating random floating-point values in the range `[5.0, 12.0)`."
   ]
  },
  {
   "cell_type": "markdown",
   "metadata": {},
   "source": [
    "- Compute `d`: `d = 12 - 5 = 7`\n",
    "- Generate `r`: `r = random.random()`\n",
    "- Multiply by `d`: `v = r * d`\n",
    "- Add `a`: `t = v + a`"
   ]
  },
  {
   "cell_type": "code",
   "execution_count": 31,
   "metadata": {},
   "outputs": [
    {
     "name": "stdout",
     "output_type": "stream",
     "text": [
      "8.125206956427501\n",
      "7.976525244688045\n",
      "11.009536887137546\n",
      "11.864729976796536\n",
      "5.598764240940182\n",
      "8.815657324412184\n",
      "7.648081815445025\n",
      "7.470758709088093\n",
      "9.520881375671456\n",
      "6.406453401632921\n"
     ]
    }
   ],
   "source": [
    "a, b = 5, 12\n",
    "d = b - a\n",
    "n_iterations = 10\n",
    "\n",
    "for _ in range( n_iterations ):\n",
    "    #\n",
    "    rval_a_to_b = a + random.random() * d\n",
    "    print( \"{}\".format( rval_a_to_b ), end=\"\\n\" )"
   ]
  },
  {
   "cell_type": "markdown",
   "metadata": {},
   "source": [
    "Finally, we can answer our original question and move onto estimating $\\pi$."
   ]
  },
  {
   "cell_type": "code",
   "execution_count": 32,
   "metadata": {},
   "outputs": [
    {
     "name": "stdout",
     "output_type": "stream",
     "text": [
      "0.9510130837622286\n",
      "-0.8972638542385298\n",
      "0.598397777654176\n",
      "-0.5552079410725159\n",
      "0.4344953196425767\n",
      "-0.2035162517572351\n",
      "0.5225559236363848\n",
      "0.22655658491752262\n",
      "-0.5736253075954905\n",
      "-0.771693210526472\n"
     ]
    }
   ],
   "source": [
    "a, b = -1, +1\n",
    "d = b - a\n",
    "\n",
    "for _ in range( 10 ):\n",
    "    #\n",
    "    rval_a_to_b = a + random.random() * d\n",
    "    print( \"{}\".format( rval_a_to_b ), end=\"\\n\" )"
   ]
  },
  {
   "cell_type": "markdown",
   "metadata": {},
   "source": [
    "When you look at the modified source code of the Monte Carlo simulation program, you will notice that the author has used the exact same formulation:\n",
    "\n",
    "> [src/montecarlo-simulation-to-estimate-pi.py](src/montecarlo-simulation-to-estimate-pi.py)\n",
    "\n",
    "You can check out the original code as well. The formula used is identical, albeit expressed only slightly differently."
   ]
  },
  {
   "cell_type": "code",
   "execution_count": 33,
   "metadata": {},
   "outputs": [
    {
     "name": "stdout",
     "output_type": "stream",
     "text": [
      "--- Our estimate for pi ......:  3.14172\n",
      "--- Our estimate is off by ...:  0.0001273464102067301\n"
     ]
    }
   ],
   "source": [
    "!python src/montecarlo-simulation-to-estimate-pi.py"
   ]
  },
  {
   "cell_type": "code",
   "execution_count": 87,
   "metadata": {},
   "outputs": [
    {
     "data": {
      "text/plain": [
       "3.141592653589793"
      ]
     },
     "execution_count": 87,
     "metadata": {},
     "output_type": "execute_result"
    }
   ],
   "source": [
    "from math import pi\n",
    "pi"
   ]
  },
  {
   "cell_type": "markdown",
   "metadata": {},
   "source": [
    "---"
   ]
  },
  {
   "cell_type": "markdown",
   "metadata": {},
   "source": [
    "<img src=\"images/self-check-exercise-logo.svg.png\" width=\"100\" align=\"left\" style=\"margin: 0px 10px 0px 0px;\"/>\n",
    "\n",
    "<font size=\"+1\">__43.__</font> &nbsp;In many games, you throw a pair of dice to get a value between 2 and 12. What is \n",
    "wrong with this simulated throw of a pair of dice?\n",
    "\n",
    "        sum = randint( 2, 12 )\n",
    "    \n",
    "That is, what is wrong with doing the above compared to doing the following?\n",
    "\n",
    "    die_1 = randint( 1, 6 )\n",
    "    die_2 = randint( 1, 6 )\n",
    "    sum = die_1 + die_2"
   ]
  },
  {
   "cell_type": "markdown",
   "metadata": {},
   "source": [
    "__ANSWER:__\n",
    "    \n",
    "Consider all possible dice rolls or _permutations_&mdash; We should get (4, 5) as well as (5, 4), for example."
   ]
  },
  {
   "cell_type": "markdown",
   "metadata": {},
   "source": [
    "I will be demonstrating all calculations using Python programming, but I will have to use some concepts we have not yet covered in class. So please bear with me and just concentrate on the general approach and the results we get."
   ]
  },
  {
   "cell_type": "code",
   "execution_count": 34,
   "metadata": {},
   "outputs": [
    {
     "name": "stdout",
     "output_type": "stream",
     "text": [
      "[(1, 1), (1, 2), (1, 3), (1, 4), (1, 5), (1, 6), (2, 1), (2, 2), (2, 3), (2, 4), (2, 5), (2, 6), (3, 1), (3, 2), (3, 3), (3, 4), (3, 5), (3, 6), (4, 1), (4, 2), (4, 3), (4, 4), (4, 5), (4, 6), (5, 1), (5, 2), (5, 3), (5, 4), (5, 5), (5, 6), (6, 1), (6, 2), (6, 3), (6, 4), (6, 5), (6, 6)]\n"
     ]
    }
   ],
   "source": [
    "import itertools\n",
    "\n",
    "dice_faces = [1, 2, 3, 4, 5, 6]\n",
    "all_rolls = [p for p in itertools.product( dice_faces, repeat=2 )]\n",
    "\n",
    "# Print so that we can display the rolls in less number of lines instead of having pretty-pretting take effect.\n",
    "#\n",
    "print( all_rolls ) "
   ]
  },
  {
   "cell_type": "code",
   "execution_count": 35,
   "metadata": {},
   "outputs": [
    {
     "name": "stdout",
     "output_type": "stream",
     "text": [
      "--- There are 36 different rolls possible!\n"
     ]
    }
   ],
   "source": [
    "print( \"--- There are {} different rolls possible!\".format( len( all_rolls ) ) )"
   ]
  },
  {
   "cell_type": "markdown",
   "metadata": {},
   "source": [
    "That is, the _probability_ of each of these rolls is `1/36`, since there are 36 possibilities.\n",
    "\n",
    "What are the sums for all these rolls? For example, how many times do we get a sum of `2`, and how many times do we get a sum of `12`, say?"
   ]
  },
  {
   "cell_type": "markdown",
   "metadata": {},
   "source": [
    "There is only one way we can ever get a `2`, by rolling a `1-1`. So, the probability of getting a sum of `2` is `1/36`."
   ]
  },
  {
   "cell_type": "markdown",
   "metadata": {},
   "source": [
    "There is only one way we can ever get a `12`, by rolling a `6-6`. So, the probability of getting a sum of `12` is also `1/36`.\n",
    "\n",
    "But, what about a `7`?"
   ]
  },
  {
   "cell_type": "markdown",
   "metadata": {},
   "source": [
    "We get a sum of `7` whenever we throw a\n",
    "\n",
    "- `1-6`\n",
    "- `2-5`\n",
    "- `3-4`\n",
    "- `4-3`\n",
    "- `5-2`\n",
    "- `6-1`\n",
    "\n",
    "So we have 6 instances in which we get a sum of `7`. So the probability of getting a sum of `7` is `6/36`.\n",
    "\n",
    "Now when we compare the chances of getting a sum of `2` (`1/36`) and a sum of `7` (`6/36`), we realize that they are __not__ equal. That is, we have six times as much chance to get a `7` than a `2`.\n",
    "\n",
    "However, if we generate random integers in the range `[2, 12]`, each of those 11 different sum values will have __equal__ chance of occurring. However, real life tells us otherwise! We only looked into the case of `2`, `12`, and `7`, but here is the entire list of probabilities:"
   ]
  },
  {
   "cell_type": "markdown",
   "metadata": {},
   "source": [
    "I will be using data structures that we have not yet covered, but please bear with me. Just note the general approach and note the results for now."
   ]
  },
  {
   "cell_type": "code",
   "execution_count": 36,
   "metadata": {},
   "outputs": [
    {
     "name": "stdout",
     "output_type": "stream",
     "text": [
      "[2, 3, 3, 4, 4, 4, 5, 5, 5, 5, 6, 6, 6, 6, 6, 7, 7, 7, 7, 7, 7, 8, 8, 8, 8, 8, 9, 9, 9, 9, 10, 10, 10, 11, 11, 12]\n",
      "[2, 3, 4, 5, 6, 7, 8, 9, 10, 11, 12]\n"
     ]
    }
   ],
   "source": [
    "import itertools\n",
    "\n",
    "dice_faces = [1, 2, 3, 4, 5, 6]\n",
    "all_rolls = [p for p in itertools.product( dice_faces, repeat=2 )]\n",
    "all_sums = [a + b for a, b in all_rolls]\n",
    "\n",
    "# Print so that we can display the rolls in less number of lines instead of having pretty-pretting take effect.\n",
    "#\n",
    "sorted_sums = sorted( all_sums )\n",
    "unique_sums = sorted( set( all_sums ) )\n",
    "\n",
    "print( sorted_sums )\n",
    "print( unique_sums )"
   ]
  },
  {
   "cell_type": "code",
   "execution_count": 37,
   "metadata": {},
   "outputs": [
    {
     "name": "stdout",
     "output_type": "stream",
     "text": [
      "--- Sum 2  occurs 1 time(s), Prob( sum=2  ) =  1/36\n",
      "--- Sum 3  occurs 2 time(s), Prob( sum=3  ) =  2/36\n",
      "--- Sum 4  occurs 3 time(s), Prob( sum=4  ) =  3/36\n",
      "--- Sum 5  occurs 4 time(s), Prob( sum=5  ) =  4/36\n",
      "--- Sum 6  occurs 5 time(s), Prob( sum=6  ) =  5/36\n",
      "--- Sum 7  occurs 6 time(s), Prob( sum=7  ) =  6/36\n",
      "--- Sum 8  occurs 5 time(s), Prob( sum=8  ) =  5/36\n",
      "--- Sum 9  occurs 4 time(s), Prob( sum=9  ) =  4/36\n",
      "--- Sum 10 occurs 3 time(s), Prob( sum=10 ) =  3/36\n",
      "--- Sum 11 occurs 2 time(s), Prob( sum=11 ) =  2/36\n",
      "--- Sum 12 occurs 1 time(s), Prob( sum=12 ) =  1/36\n"
     ]
    }
   ],
   "source": [
    "msg = \"--- Sum {sum:<2d} occurs {cnt} time(s), Prob( sum={sum:<2d} ) = {cnt:2d}/36\"\n",
    "\n",
    "for cur_sum in unique_sums:\n",
    "    #\n",
    "    cur_count = sorted_sums.count( cur_sum )\n",
    "    print( msg.format( sum=cur_sum, cnt=cur_count ) )     "
   ]
  },
  {
   "cell_type": "markdown",
   "metadata": {},
   "source": [
    "Obviously, when we sum all the probabilities, we get `36/36`, which is 1.0."
   ]
  },
  {
   "cell_type": "markdown",
   "metadata": {},
   "source": [
    "Since the probabilities of all possible sums range from `1/36` to `6/36` in discrete increments of the numerator, we cannot treat each as equally likely, as we would have&mdash;___incorrectly so___&mdash;had we resorted to using `random.randint( 2, 12 )`, in which case each sum would have the probability of `1/11`, since there are 11 possible sums, as you can see above.\n",
    "\n",
    "So, treating each of these probabilities equally likely is wrong, since doing so does not reflect reality. Moreover, the equal probability value of `1/11` that we get from `random.randint( 2, 12 )` does not even reflect a single probability value correctly!"
   ]
  },
  {
   "cell_type": "markdown",
   "metadata": {},
   "source": [
    "---"
   ]
  },
  {
   "cell_type": "markdown",
   "metadata": {},
   "source": [
    "### Seeding the Pseudo-Random Number Generator\n",
    "\n",
    "All pseudo-random number generators provide the ability to regenerate the exact same sequence of random values using a _seed_. The value of the _seed_ is entirely arbitrary. However, if we wish to have the same sequence repeat, we will have to use the same _seed_.\n",
    "\n",
    "Let us demonstrate this first _without_ using a seed."
   ]
  },
  {
   "cell_type": "code",
   "execution_count": 41,
   "metadata": {},
   "outputs": [
    {
     "name": "stdout",
     "output_type": "stream",
     "text": [
      "--- Sequence 1: 11  9  8  8  7  7  8  8 12  5 \n",
      "--- Sequence 2:  4  6  5 12  4  9  7  8  2 11 \n",
      "--- Sequence 3:  3  7  6  4  8  9  2  7  5 10 \n"
     ]
    }
   ],
   "source": [
    "import random\n",
    "\n",
    "for i in range( 3 ):\n",
    "    #\n",
    "    print( \"--- Sequence {}: \".format( i + 1 ), end=\"\" )\n",
    "    \n",
    "    for _ in range( 10 ):\n",
    "        #\n",
    "        r_val = random.randint( 2, 12 )\n",
    "        print( \"{:2d}\".format( r_val ), end=\" \" )\n",
    "    \n",
    "    print()"
   ]
  },
  {
   "cell_type": "markdown",
   "metadata": {},
   "source": [
    "We generated three sequences of 10 pseudo-random integers, and we go different values every time.\n",
    "\n",
    "Had we seeded the pseudo-random number generator every time we started a new sequence, all three sequences wouldh have been identical."
   ]
  },
  {
   "cell_type": "code",
   "execution_count": 43,
   "metadata": {},
   "outputs": [
    {
     "name": "stdout",
     "output_type": "stream",
     "text": [
      "--- Sequence 1:  3  3  8  9  2  6 11  4  5  8 \n",
      "--- Sequence 2:  3  3  8  9  2  6 11  4  5  8 \n",
      "--- Sequence 3:  3  3  8  9  2  6 11  4  5  8 \n"
     ]
    }
   ],
   "source": [
    "import random\n",
    "\n",
    "seed_val = -397 # An arbitrary value!\n",
    "\n",
    "for i in range( 3 ):\n",
    "    #\n",
    "    print( \"--- Sequence {}: \".format( i + 1 ), end=\"\" )\n",
    "    \n",
    "    random.seed( seed_val )\n",
    "    \n",
    "    for _ in range( 10 ):\n",
    "        #\n",
    "        r_val = random.randint( 2, 12 )\n",
    "        print( \"{:2d}\".format( r_val ), end=\" \" )\n",
    "    \n",
    "    print()"
   ]
  },
  {
   "cell_type": "markdown",
   "metadata": {},
   "source": [
    "Aha! The same sequence of values every time!\n",
    "\n",
    "What if changed the seed?"
   ]
  },
  {
   "cell_type": "code",
   "execution_count": 45,
   "metadata": {},
   "outputs": [
    {
     "name": "stdout",
     "output_type": "stream",
     "text": [
      "--- Sequence 1:  8  4 10  5  5  9  8  4 12  9 \n",
      "--- Sequence 2:  8  4 10  5  5  9  8  4 12  9 \n",
      "--- Sequence 3:  8  4 10  5  5  9  8  4 12  9 \n"
     ]
    }
   ],
   "source": [
    "import random\n",
    "\n",
    "seed_val = 8246 # Another arbitrary value!\n",
    "\n",
    "for i in range( 3 ):\n",
    "    #\n",
    "    print( \"--- Sequence {}: \".format( i + 1 ), end=\"\" )\n",
    "    \n",
    "    random.seed( seed_val )\n",
    "    \n",
    "    for _ in range( 10 ):\n",
    "        #\n",
    "        r_val = random.randint( 2, 12 )\n",
    "        print( \"{:2d}\".format( r_val ), end=\" \" )\n",
    "    \n",
    "    print()"
   ]
  },
  {
   "cell_type": "markdown",
   "metadata": {},
   "source": [
    "Now the sequences are different from those we obtained with the previous seed. However, they are identical among themselves."
   ]
  },
  {
   "cell_type": "markdown",
   "metadata": {},
   "source": [
    "So, in summary, if we wish to get the identical sequence, we must seed the pseudo-random number generator with the same exact seed value as before."
   ]
  },
  {
   "cell_type": "markdown",
   "metadata": {},
   "source": [
    "---"
   ]
  }
 ],
 "metadata": {
  "kernelspec": {
   "display_name": "Python 3",
   "language": "python",
   "name": "python3"
  },
  "language_info": {
   "codemirror_mode": {
    "name": "ipython",
    "version": 3
   },
   "file_extension": ".py",
   "mimetype": "text/x-python",
   "name": "python",
   "nbconvert_exporter": "python",
   "pygments_lexer": "ipython3",
   "version": "3.8.3"
  }
 },
 "nbformat": 4,
 "nbformat_minor": 4
}
