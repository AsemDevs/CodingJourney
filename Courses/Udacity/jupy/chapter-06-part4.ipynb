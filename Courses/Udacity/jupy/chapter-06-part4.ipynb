{
 "cells": [
  {
   "cell_type": "markdown",
   "metadata": {},
   "source": [
    "# List Comprehension"
   ]
  },
  {
   "cell_type": "markdown",
   "metadata": {},
   "source": [
    "When we build lists from individual elements we usually write a for-loop like the following to create, say, a list of squares of values in the range `1` to `10`:"
   ]
  },
  {
   "cell_type": "code",
   "execution_count": 1,
   "metadata": {},
   "outputs": [],
   "source": [
    "squared = [] # Initialization\n",
    "\n",
    "for int_val in range( 1, 11 ):\n",
    "    #\n",
    "    squared.append( int_val**2 ) # Appending of an item"
   ]
  },
  {
   "cell_type": "markdown",
   "metadata": {},
   "source": [
    "So we get"
   ]
  },
  {
   "cell_type": "code",
   "execution_count": 2,
   "metadata": {},
   "outputs": [
    {
     "data": {
      "text/plain": [
       "[1, 4, 9, 16, 25, 36, 49, 64, 81, 100]"
      ]
     },
     "execution_count": 2,
     "metadata": {},
     "output_type": "execute_result"
    }
   ],
   "source": [
    "squared"
   ]
  },
  {
   "cell_type": "markdown",
   "metadata": {},
   "source": [
    "This is all good, but, except for the fact that we wrote a separate line of code to initialize our list, and then we had to explicitly call `list.append()` to add each squared value to the list, `squared`."
   ]
  },
  {
   "cell_type": "markdown",
   "metadata": {},
   "source": [
    "Python provides a shorter method to do what the above code does using the _list comprehension_ syntax."
   ]
  },
  {
   "cell_type": "code",
   "execution_count": 3,
   "metadata": {},
   "outputs": [],
   "source": [
    "squared = [int_val**2 for int_val in range( 1, 11 )]"
   ]
  },
  {
   "cell_type": "markdown",
   "metadata": {},
   "source": [
    "This is all it takes to do what we did first above."
   ]
  },
  {
   "cell_type": "code",
   "execution_count": 4,
   "metadata": {},
   "outputs": [
    {
     "data": {
      "text/plain": [
       "[1, 4, 9, 16, 25, 36, 49, 64, 81, 100]"
      ]
     },
     "execution_count": 4,
     "metadata": {},
     "output_type": "execute_result"
    }
   ],
   "source": [
    "squared"
   ]
  },
  {
   "cell_type": "markdown",
   "metadata": {},
   "source": [
    "Therefore, with the list comprehension syntax, we do not have to expliclity initialize our lists, and we do not have to explicity call `list.append()` to add new values to our lists. Both of these actions essentially happen behind the scenes."
   ]
  },
  {
   "cell_type": "markdown",
   "metadata": {},
   "source": [
    "The general format of the list comprehension syntax is as follows:\n",
    "\n",
    "    list_variable = [transform( x ) for x in iterable <if ...>]\n",
    "    \n",
    "Note that we can also _select_ which `x` values we wish to add to our `list_variable` using an `if`-statment as well, thereby accomplishing _filtering_."
   ]
  },
  {
   "cell_type": "markdown",
   "metadata": {},
   "source": [
    "The list comprehension syntax is a good substitute for multi-line for-loops&mdash;__not__ `while`-loops&mdash; and functions such as `map()`, `filter()`, and `reduce()`."
   ]
  },
  {
   "cell_type": "markdown",
   "metadata": {},
   "source": [
    "To _filter_ in (or keep) all *even* integers between 1 and 20 (inclusive), we could write the following code:"
   ]
  },
  {
   "cell_type": "code",
   "execution_count": 5,
   "metadata": {},
   "outputs": [],
   "source": [
    "even_lst = [] # Initialization\n",
    "\n",
    "for i in range( 1, 21 ):\n",
    "    #\n",
    "    if i % 2 == 0:\n",
    "        #\n",
    "        even_lst.append( i ) # Appending a value"
   ]
  },
  {
   "cell_type": "markdown",
   "metadata": {},
   "source": [
    "Let us see if everything happened as expected."
   ]
  },
  {
   "cell_type": "code",
   "execution_count": 6,
   "metadata": {},
   "outputs": [
    {
     "data": {
      "text/plain": [
       "[2, 4, 6, 8, 10, 12, 14, 16, 18, 20]"
      ]
     },
     "execution_count": 6,
     "metadata": {},
     "output_type": "execute_result"
    }
   ],
   "source": [
    "even_lst"
   ]
  },
  {
   "cell_type": "markdown",
   "metadata": {},
   "source": [
    "As you know, we could have written a `while`-loop to do the same."
   ]
  },
  {
   "cell_type": "code",
   "execution_count": 7,
   "metadata": {},
   "outputs": [],
   "source": [
    "even_lst = [] # Initialization of the container/list\n",
    "int_val = 1 # Initialize a counter\n",
    "\n",
    "while int_val <= 20:\n",
    "    #\n",
    "    if int_val % 2 == 0:\n",
    "        #\n",
    "        even_lst.append( int_val ) # Appending\n",
    "        \n",
    "    int_val += 1 # Increment the counter"
   ]
  },
  {
   "cell_type": "markdown",
   "metadata": {},
   "source": [
    "Let's check ..."
   ]
  },
  {
   "cell_type": "code",
   "execution_count": 8,
   "metadata": {},
   "outputs": [
    {
     "data": {
      "text/plain": [
       "[2, 4, 6, 8, 10, 12, 14, 16, 18, 20]"
      ]
     },
     "execution_count": 8,
     "metadata": {},
     "output_type": "execute_result"
    }
   ],
   "source": [
    "even_lst"
   ]
  },
  {
   "cell_type": "markdown",
   "metadata": {},
   "source": [
    "Wouldn't it be nice if we could just replace all this with a one-line, easy-to-comprehend Python code?"
   ]
  },
  {
   "cell_type": "code",
   "execution_count": 9,
   "metadata": {},
   "outputs": [],
   "source": [
    "even_lst = [i for i in range( 1, 21 ) if i % 2 == 0]"
   ]
  },
  {
   "cell_type": "markdown",
   "metadata": {},
   "source": [
    "Let's check ..."
   ]
  },
  {
   "cell_type": "code",
   "execution_count": 10,
   "metadata": {},
   "outputs": [
    {
     "data": {
      "text/plain": [
       "[2, 4, 6, 8, 10, 12, 14, 16, 18, 20]"
      ]
     },
     "execution_count": 10,
     "metadata": {},
     "output_type": "execute_result"
    }
   ],
   "source": [
    "even_lst"
   ]
  },
  {
   "cell_type": "markdown",
   "metadata": {},
   "source": [
    "So, using an `if`-statement, we _filtered_ out all _odd_ values.\n",
    "\n",
    "We could have done this using Python's `filter()` function as well."
   ]
  },
  {
   "cell_type": "markdown",
   "metadata": {},
   "source": [
    "---"
   ]
  },
  {
   "cell_type": "markdown",
   "metadata": {},
   "source": [
    "## `filter( function, iterable )`"
   ]
  },
  {
   "cell_type": "code",
   "execution_count": 12,
   "metadata": {},
   "outputs": [],
   "source": [
    "even_lst = filter( lambda v: v % 2 == 0, range( 1, 21 ) )"
   ]
  },
  {
   "cell_type": "markdown",
   "metadata": {},
   "source": [
    "Let's check ..."
   ]
  },
  {
   "cell_type": "code",
   "execution_count": 13,
   "metadata": {},
   "outputs": [
    {
     "data": {
      "text/plain": [
       "<filter at 0x7f8b8c559280>"
      ]
     },
     "execution_count": 13,
     "metadata": {},
     "output_type": "execute_result"
    }
   ],
   "source": [
    "even_lst"
   ]
  },
  {
   "cell_type": "code",
   "execution_count": 14,
   "metadata": {},
   "outputs": [
    {
     "data": {
      "text/plain": [
       "[2, 4, 6, 8, 10, 12, 14, 16, 18, 20]"
      ]
     },
     "execution_count": 14,
     "metadata": {},
     "output_type": "execute_result"
    }
   ],
   "source": [
    "list( even_lst ) # No need to do this conversion in a regular program"
   ]
  },
  {
   "cell_type": "markdown",
   "metadata": {},
   "source": [
    "Note that `filter()` returns a different kind of object that we can _iterate_ through with for-loop, but, if we want to just see what's inside that object, we need to explicity convert it to a list. So, under normal circumstances, we would skip the conversion to list."
   ]
  },
  {
   "cell_type": "markdown",
   "metadata": {},
   "source": [
    "## Nested list comprehensions"
   ]
  },
  {
   "cell_type": "markdown",
   "metadata": {},
   "source": [
    "From [https://www.datacamp.com/community/tutorials/python-list-comprehension](https://www.datacamp.com/community/tutorials/python-list-comprehension)"
   ]
  },
  {
   "cell_type": "markdown",
   "metadata": {},
   "source": [
    "> Apart from conditionals, you can also adjust your list comprehensions by nesting them within other list comprehensions. This is handy when you want to work with lists of lists: generating lists of lists, transposing lists of lists or flattening lists of lists to regular lists, for example, becomes extremely easy with nested list comprehensions."
   ]
  },
  {
   "cell_type": "markdown",
   "metadata": {},
   "source": [
    "_Flattening_ means taking all elements out of sublists all the way up to the top level of the list so that there are no more sublists."
   ]
  },
  {
   "cell_type": "raw",
   "metadata": {},
   "source": [
    "[cur_element for cur_sublist in list_of_lists for cur_element in cur_sublist]"
   ]
  },
  {
   "cell_type": "code",
   "execution_count": 16,
   "metadata": {},
   "outputs": [],
   "source": [
    "list_of_lists = [[1, 2, 3], [4, 5, 6], [7, 8]]"
   ]
  },
  {
   "cell_type": "code",
   "execution_count": 17,
   "metadata": {},
   "outputs": [
    {
     "data": {
      "text/plain": [
       "[1, 2, 3, 4, 5, 6, 7, 8]"
      ]
     },
     "execution_count": 17,
     "metadata": {},
     "output_type": "execute_result"
    }
   ],
   "source": [
    "[y for x in list_of_lists for y in x] "
   ]
  },
  {
   "cell_type": "markdown",
   "metadata": {},
   "source": [
    "With `x`s and `y`s in the original example from the above cited page, it's difficult to understand what is going on here."
   ]
  },
  {
   "cell_type": "markdown",
   "metadata": {},
   "source": [
    "We have two for-loops, but which is inside which?"
   ]
  },
  {
   "cell_type": "markdown",
   "metadata": {},
   "source": [
    "So let us try to write this using regular looping and proper naming first. And please remember your initializations!"
   ]
  },
  {
   "cell_type": "code",
   "execution_count": 18,
   "metadata": {},
   "outputs": [],
   "source": [
    "result = []\n",
    "\n",
    "for cur_sublist in list_of_lists:\n",
    "    #\n",
    "    for cur_element in cur_sublist:\n",
    "        #\n",
    "        result.append( cur_element )\n",
    "        \n",
    "# >>> [cur_element for cur_sublist in list_of_lists for cur_element in cur_sublist]"
   ]
  },
  {
   "cell_type": "code",
   "execution_count": 19,
   "metadata": {},
   "outputs": [
    {
     "data": {
      "text/plain": [
       "[1, 2, 3, 4, 5, 6, 7, 8]"
      ]
     },
     "execution_count": 19,
     "metadata": {},
     "output_type": "execute_result"
    }
   ],
   "source": [
    "result"
   ]
  },
  {
   "cell_type": "markdown",
   "metadata": {},
   "source": [
    "So the expression we write to the left of the top-level for-loop actually is inserted as the body of that top-level loop.\n",
    "\n",
    "Remember the if-statement we used to filter elements above? This is what we had using regular looping syntax:"
   ]
  },
  {
   "cell_type": "code",
   "execution_count": 8,
   "metadata": {},
   "outputs": [],
   "source": [
    "even_lst = []\n",
    "for i in range( 1, 21 ):\n",
    "    if i % 2 == 0:\n",
    "        even_lst.append( i )"
   ]
  },
  {
   "cell_type": "markdown",
   "metadata": {},
   "source": [
    "Remember that the list comprehension syntax does away with (1) the initialization and (2) the `list.append()` statement, right? Let us take those out of the above code\n",
    "\n",
    "    for i in range( 1, 21 ):\n",
    "        if i % 2 == 0:\n",
    "        \n",
    "Then we have this.\n",
    "\n",
    "Place `[ ... ]` around the whole thing and lose the `:` at the end of the for-loop construct, and we have\n",
    "\n",
    "    [for i in range( 1, 21 ) if i % 2 == 0]\n",
    "   \n",
    "Finally, we need to remember to specify what element we will include in each iteration of the for-loop&mdash;this will be `i`.\n",
    "\n",
    "    [i for i in range( 1, 21 ) if i % 2 == 0]\n",
    "\n",
    "If we do chop away the same parts from the above nested loop we will have the shorter list comprehension syntax with the nested for-loops.\n",
    "\n",
    "Since there is no limit to how much nesting we can use, we can do the following as well, but, first, let us create a 3-layer list."
   ]
  },
  {
   "cell_type": "code",
   "execution_count": 21,
   "metadata": {},
   "outputs": [],
   "source": [
    "list_of_list_of_lists = [] # Initialization--top level\n",
    "i = 0\n",
    "for x in range( 3 ):\n",
    "    list_of_lists = [] # Initialization--second level\n",
    "    for y in range( 4 ):\n",
    "        a_list = [] # Initialization--third level\n",
    "        for z in range( 5 ):\n",
    "            a_list.append( f\"{i:02d}\" ) # Appending--third level\n",
    "            i += 1\n",
    "        list_of_lists.append( a_list ) # Appending--second level                \n",
    "    list_of_list_of_lists.append( list_of_lists ) # Appending--top level                       "
   ]
  },
  {
   "cell_type": "code",
   "execution_count": 22,
   "metadata": {},
   "outputs": [
    {
     "data": {
      "text/plain": [
       "[[['00', '01', '02', '03', '04'],\n",
       "  ['05', '06', '07', '08', '09'],\n",
       "  ['10', '11', '12', '13', '14'],\n",
       "  ['15', '16', '17', '18', '19']],\n",
       " [['20', '21', '22', '23', '24'],\n",
       "  ['25', '26', '27', '28', '29'],\n",
       "  ['30', '31', '32', '33', '34'],\n",
       "  ['35', '36', '37', '38', '39']],\n",
       " [['40', '41', '42', '43', '44'],\n",
       "  ['45', '46', '47', '48', '49'],\n",
       "  ['50', '51', '52', '53', '54'],\n",
       "  ['55', '56', '57', '58', '59']]]"
      ]
     },
     "execution_count": 22,
     "metadata": {},
     "output_type": "execute_result"
    }
   ],
   "source": [
    "list_of_list_of_lists"
   ]
  },
  {
   "cell_type": "markdown",
   "metadata": {},
   "source": [
    "Essentially, we have $\\mathtt{3\\times 4 \\times 5}$ cubic structure. And let's say we wish to flatten this structure as well.\n",
    "\n",
    "Using regular looping, we would the following."
   ]
  },
  {
   "cell_type": "code",
   "execution_count": 23,
   "metadata": {},
   "outputs": [],
   "source": [
    "flat_list = []\n",
    "\n",
    "for x in list_of_list_of_lists: # List of list of lists\n",
    "    for y in x: # x: List of lists\n",
    "        for z in y: # y: A list\n",
    "            flat_list.append( z )\n",
    "            \n",
    "#\n",
    "# >>> [z for x in list_of_list_of_lists for y in x for z in y]\n",
    "#"
   ]
  },
  {
   "cell_type": "code",
   "execution_count": 24,
   "metadata": {},
   "outputs": [
    {
     "name": "stdout",
     "output_type": "stream",
     "text": [
      "['00', '01', '02', '03', '04', '05', '06', '07', '08', '09', '10', '11', '12', '13', '14', '15', '16', '17', '18', '19', '20', '21', '22', '23', '24', '25', '26', '27', '28', '29', '30', '31', '32', '33', '34', '35', '36', '37', '38', '39', '40', '41', '42', '43', '44', '45', '46', '47', '48', '49', '50', '51', '52', '53', '54', '55', '56', '57', '58', '59']\n"
     ]
    }
   ],
   "source": [
    "print( flat_list )"
   ]
  },
  {
   "cell_type": "markdown",
   "metadata": {},
   "source": [
    "Using nested list comprehension syntax, we would write exactly the same thing, except for the initialization and `list.append()`&mdash;plus no `:`s."
   ]
  },
  {
   "cell_type": "raw",
   "metadata": {},
   "source": [
    "[z for x in list_of_list_of_lists for y in x for z in y]           "
   ]
  },
  {
   "cell_type": "code",
   "execution_count": 25,
   "metadata": {},
   "outputs": [],
   "source": [
    "flattened = [z for x in list_of_list_of_lists for y in x for z in y]"
   ]
  },
  {
   "cell_type": "code",
   "execution_count": 26,
   "metadata": {},
   "outputs": [
    {
     "name": "stdout",
     "output_type": "stream",
     "text": [
      "['00', '01', '02', '03', '04', '05', '06', '07', '08', '09', '10', '11', '12', '13', '14', '15', '16', '17', '18', '19', '20', '21', '22', '23', '24', '25', '26', '27', '28', '29', '30', '31', '32', '33', '34', '35', '36', '37', '38', '39', '40', '41', '42', '43', '44', '45', '46', '47', '48', '49', '50', '51', '52', '53', '54', '55', '56', '57', '58', '59']\n"
     ]
    }
   ],
   "source": [
    "print( flattened )"
   ]
  },
  {
   "cell_type": "markdown",
   "metadata": {},
   "source": [
    "We can process individual items that will be part of the eventual list that will be created with the list comprehension expression. For example, we can convert numeric strings into integers."
   ]
  },
  {
   "cell_type": "code",
   "execution_count": 27,
   "metadata": {},
   "outputs": [
    {
     "name": "stdout",
     "output_type": "stream",
     "text": [
      "[0, 1, 2, 3, 4, 5, 6, 7, 8, 9, 10, 11, 12, 13, 14, 15, 16, 17, 18, 19, 20, 21, 22, 23, 24, 25, 26, 27, 28, 29, 30, 31, 32, 33, 34, 35, 36, 37, 38, 39, 40, 41, 42, 43, 44, 45, 46, 47, 48, 49, 50, 51, 52, 53, 54, 55, 56, 57, 58, 59]\n"
     ]
    }
   ],
   "source": [
    "flattened_processed = [int( z ) for x in list_of_list_of_lists for y in x for z in y]\n",
    "\n",
    "print( flattened_processed )"
   ]
  },
  {
   "cell_type": "markdown",
   "metadata": {},
   "source": [
    "Here's an example problem."
   ]
  },
  {
   "cell_type": "markdown",
   "metadata": {},
   "source": [
    "__PROBLEM:__ Write Python code to _transpose_ the following $\\mathtt{3\\times 3}$ matrix\n",
    "\n",
    "    matrix = [[1, 2, 3],                 matrix=[[(0, 0), (0, 1), (0, 2)], # Row 1\n",
    "              [4, 5, 6],                         [(1, 0), (1, 1), (1, 2)], # Row 2\n",
    "              [7, 8, 9]]                         [(2, 0), (2, 1), (2, 2)]] # Row 3\n",
    "\n",
    "Transposing involves turning rows into columns (or columns into rows). That is, this is what we should get back from this code:\n",
    "\n",
    "    [[1, 4, 7],\n",
    "     [2, 5, 8],\n",
    "     [3, 6, 9]]\n",
    "\n",
    "The first row is `[1, 2, 3]`. So this data will have to be the first _column_ in the resulting matrix.\n",
    "\n",
    "How can we do this?\n",
    "\n",
    "Going _incrementally_, let us first make sure that we can _iterate_ through every element."
   ]
  },
  {
   "cell_type": "code",
   "execution_count": 29,
   "metadata": {},
   "outputs": [],
   "source": [
    "matrix = [[1, 2, 3],\n",
    "          [4, 5, 6],\n",
    "          [7, 8, 9]]"
   ]
  },
  {
   "cell_type": "code",
   "execution_count": 30,
   "metadata": {},
   "outputs": [
    {
     "name": "stdout",
     "output_type": "stream",
     "text": [
      "1 2 3 | 4 5 6 | 7 8 9 | "
     ]
    }
   ],
   "source": [
    "for cur_row in matrix:\n",
    "    #\n",
    "    for col_elem in cur_row:\n",
    "        #\n",
    "        print( col_elem, end=\" \" )\n",
    "        \n",
    "    print( \"| \", end=\"\" )"
   ]
  },
  {
   "cell_type": "markdown",
   "metadata": {},
   "source": [
    "Using indices, we can write the above code as follows:"
   ]
  },
  {
   "cell_type": "code",
   "execution_count": 33,
   "metadata": {},
   "outputs": [
    {
     "name": "stdout",
     "output_type": "stream",
     "text": [
      "1 2 3 | 4 5 6 | 7 8 9 | "
     ]
    }
   ],
   "source": [
    "for i in range( 3 ):\n",
    "    #\n",
    "    for j in range( 3 ):\n",
    "        #\n",
    "        print( matrix[i][j], end=\" \" )\n",
    "        \n",
    "    print( \"| \", end=\"\" )"
   ]
  },
  {
   "cell_type": "markdown",
   "metadata": {},
   "source": [
    "Using `enumerate()` ..."
   ]
  },
  {
   "cell_type": "code",
   "execution_count": 34,
   "metadata": {},
   "outputs": [
    {
     "name": "stdout",
     "output_type": "stream",
     "text": [
      "1 2 3 | 4 5 6 | 7 8 9 | "
     ]
    }
   ],
   "source": [
    "for row_idx, cur_row in enumerate( matrix ):\n",
    "    #\n",
    "    for col_idx, col_elem in enumerate( cur_row ):\n",
    "        #\n",
    "        print( matrix[row_idx][col_idx], end=\" \" )\n",
    "        \n",
    "    print( \"| \", end=\"\" )"
   ]
  },
  {
   "cell_type": "markdown",
   "metadata": {},
   "source": [
    "So, the value at each column index, `j` must go into a separate list! But let's simplify our task and start with a list of empty lists into which we need to place our values in transposed form. In other words, there are no elements in each row."
   ]
  },
  {
   "cell_type": "code",
   "execution_count": 35,
   "metadata": {},
   "outputs": [
    {
     "name": "stdout",
     "output_type": "stream",
     "text": [
      "--- Inserting matrix[0, 0] at transposed_matrix[0, 0]\n",
      "--- transposed_matrix: [[1], [], []]\n",
      "\n",
      "--- Inserting matrix[0, 1] at transposed_matrix[1, 0]\n",
      "--- transposed_matrix: [[1], [2], []]\n",
      "\n",
      "--- Inserting matrix[0, 2] at transposed_matrix[2, 0]\n",
      "--- transposed_matrix: [[1], [2], [3]]\n",
      "\n",
      "--- Inserting matrix[1, 0] at transposed_matrix[0, 1]\n",
      "--- transposed_matrix: [[1, 4], [2], [3]]\n",
      "\n",
      "--- Inserting matrix[1, 1] at transposed_matrix[1, 1]\n",
      "--- transposed_matrix: [[1, 4], [2, 5], [3]]\n",
      "\n",
      "--- Inserting matrix[1, 2] at transposed_matrix[2, 1]\n",
      "--- transposed_matrix: [[1, 4], [2, 5], [3, 6]]\n",
      "\n",
      "--- Inserting matrix[2, 0] at transposed_matrix[0, 2]\n",
      "--- transposed_matrix: [[1, 4, 7], [2, 5], [3, 6]]\n",
      "\n",
      "--- Inserting matrix[2, 1] at transposed_matrix[1, 2]\n",
      "--- transposed_matrix: [[1, 4, 7], [2, 5, 8], [3, 6]]\n",
      "\n",
      "--- Inserting matrix[2, 2] at transposed_matrix[2, 2]\n",
      "--- transposed_matrix: [[1, 4, 7], [2, 5, 8], [3, 6, 9]]\n",
      "\n"
     ]
    }
   ],
   "source": [
    "transposed_matrix = [[], [], []]\n",
    "\n",
    "for i in range( 3 ): # First, traverse through the i-index\n",
    "    #\n",
    "    for j in range( 3 ): # Second, traverse through the j-index\n",
    "        #\n",
    "        # Take the value at matrix[i, j] and place it on row j in the\n",
    "        # transposed matrix. If the transposed matrix already had placeholders\n",
    "        # for each value, we could have written the following statement as\n",
    "        #\n",
    "        #    transposed_matrix[j][i] = matrix[i][j]\n",
    "        #\n",
    "        transposed_matrix[j].append( matrix[i][j] )\n",
    "        \n",
    "        print( f\"--- Inserting matrix[{i}, {j}] at transposed_matrix[{j}, {i}]\" )\n",
    "        print( f\"--- transposed_matrix: {transposed_matrix}\\n\" )"
   ]
  },
  {
   "cell_type": "markdown",
   "metadata": {},
   "source": [
    "Do you see the indices reversed? That's transposition."
   ]
  },
  {
   "cell_type": "code",
   "execution_count": 36,
   "metadata": {},
   "outputs": [
    {
     "data": {
      "text/plain": [
       "[[1, 4, 7], [2, 5, 8], [3, 6, 9]]"
      ]
     },
     "execution_count": 36,
     "metadata": {},
     "output_type": "execute_result"
    }
   ],
   "source": [
    "transposed_matrix"
   ]
  },
  {
   "cell_type": "markdown",
   "metadata": {},
   "source": [
    "<span style=\"color: #a00;\">__However, for a general square matrix, we need to find a way to create all elements starting with an _empty_ list.__<span>"
   ]
  },
  {
   "cell_type": "code",
   "execution_count": 37,
   "metadata": {},
   "outputs": [
    {
     "data": {
      "text/plain": [
       "[[1, 2, 3], [4, 5, 6], [7, 8, 9]]"
      ]
     },
     "execution_count": 37,
     "metadata": {},
     "output_type": "execute_result"
    }
   ],
   "source": [
    "matrix"
   ]
  },
  {
   "cell_type": "code",
   "execution_count": 38,
   "metadata": {},
   "outputs": [
    {
     "name": "stdout",
     "output_type": "stream",
     "text": [
      "--- Inserting matrix[0, 0] at transposed_matrix[0, 0]\n",
      "--- transposed_matrix: [[1]]\n",
      "\n",
      "--- Inserting matrix[1, 0] at transposed_matrix[0, 1]\n",
      "--- transposed_matrix: [[1, 4]]\n",
      "\n",
      "--- Inserting matrix[2, 0] at transposed_matrix[0, 2]\n",
      "--- transposed_matrix: [[1, 4, 7]]\n",
      "\n",
      "--- Inserting matrix[0, 1] at transposed_matrix[1, 0]\n",
      "--- transposed_matrix: [[1, 4, 7], [2]]\n",
      "\n",
      "--- Inserting matrix[1, 1] at transposed_matrix[1, 1]\n",
      "--- transposed_matrix: [[1, 4, 7], [2, 5]]\n",
      "\n",
      "--- Inserting matrix[2, 1] at transposed_matrix[1, 2]\n",
      "--- transposed_matrix: [[1, 4, 7], [2, 5, 8]]\n",
      "\n",
      "--- Inserting matrix[0, 2] at transposed_matrix[2, 0]\n",
      "--- transposed_matrix: [[1, 4, 7], [2, 5, 8], [3]]\n",
      "\n",
      "--- Inserting matrix[1, 2] at transposed_matrix[2, 1]\n",
      "--- transposed_matrix: [[1, 4, 7], [2, 5, 8], [3, 6]]\n",
      "\n",
      "--- Inserting matrix[2, 2] at transposed_matrix[2, 2]\n",
      "--- transposed_matrix: [[1, 4, 7], [2, 5, 8], [3, 6, 9]]\n",
      "\n"
     ]
    }
   ],
   "source": [
    "transposed_matrix = []\n",
    "\n",
    "for j in range( 3 ): # Note that this outer loop runs through j-values\n",
    "    #\n",
    "    # Start a new row\n",
    "    #\n",
    "    transposed_matrix.append( [] ) # Note this append() operation!\n",
    "      \n",
    "    for i in range( 3 ): # Note that this inner loop runs through i-values\n",
    "        #\n",
    "        transposed_matrix[j].append( matrix[i][j] )\n",
    "        \n",
    "        print( f\"--- Inserting matrix[{i}, {j}] at transposed_matrix[{j}, {i}]\" )\n",
    "        print( f\"--- transposed_matrix: {transposed_matrix}\\n\" )"
   ]
  },
  {
   "cell_type": "code",
   "execution_count": 39,
   "metadata": {},
   "outputs": [
    {
     "data": {
      "text/plain": [
       "[[1, 4, 7], [2, 5, 8], [3, 6, 9]]"
      ]
     },
     "execution_count": 39,
     "metadata": {},
     "output_type": "execute_result"
    }
   ],
   "source": [
    "transposed_matrix"
   ]
  },
  {
   "cell_type": "markdown",
   "metadata": {},
   "source": [
    "Simply speaking, we reversed the order of how we run through `i` and `j` indices, where `i` represents the row indices and `j` represents the column indices.\n",
    "\n",
    "Here the second `append()` statement actually inserts into the empty list created by the first `append()` within the outer for-loop.\n",
    "\n",
    "Since we have two `append()`s, how will we translate this into a list comprehension format?"
   ]
  },
  {
   "cell_type": "markdown",
   "metadata": {},
   "source": [
    "Again, we need to divide the problem up into several pieces to solve it. You should recognize this structure:\n",
    "\n",
    "    <initialization of a list, L>\n",
    "    \n",
    "    for i in range( N ):\n",
    "        #\n",
    "        L.append( value[i] )"
   ]
  },
  {
   "cell_type": "markdown",
   "metadata": {},
   "source": [
    "This is our simple list comprehension case that we considered first. So we apply our conversion procedure to this structure to get our transposed matrix remembering that we are appending the value `matrix[i][j]`!\n",
    "\n",
    "    [value[i] for i in range( N )]\n",
    "    \n",
    "Sure, we do not have a definition for `j` just yet, but we will get to that in just a moment. So, with this conversion, we have\n",
    "\n",
    "    for j in range( 3 ):\n",
    "    \n",
    "        [matrix[i][j] for i in range( 3 )]\n",
    "    \n",
    "This code does not do anything on its own really, because the conversion is not yet complete, but, the visualization of the above step will help us understand what to do next.\n",
    "\n",
    "Note also that we need to _append_ the resulting value of `[matrix[i][j] for i in range( 3 )]` into our overall list to get a list of lists.    "
   ]
  },
  {
   "cell_type": "markdown",
   "metadata": {},
   "source": [
    "Since this is the value we need to append, we must list it first. Remember in an example like the one below\n",
    "\n",
    "    L = []\n",
    "    for i in range( 3 ):\n",
    "        L.append( i**2 )\n",
    "        \n",
    "we would place the value to be appended to the list in first place:\n",
    "\n",
    "    [i**2 for i in range( 3 )]\n",
    "    \n",
    "So, we do the exact same thing for our more complicated case of matrix transposition. So\n",
    "\n",
    "    [matrix[i][j] for i in range( 3 )]\n",
    "\n",
    "is the value we will be inserting into the list every time."
   ]
  },
  {
   "cell_type": "markdown",
   "metadata": {},
   "source": [
    "So, how can we do the same using _list comprehension_ syntax?\n",
    "\n",
    "- Lose the initialization\n",
    "- Lose the `append()` statement\n",
    "- Place `[ ... ]` around the entire expression"
   ]
  },
  {
   "cell_type": "code",
   "execution_count": 40,
   "metadata": {},
   "outputs": [],
   "source": [
    "transposed_matrix = []\n",
    "for j in range( 3 ): \n",
    "    transposed_matrix.append( [] )\n",
    "    for i in range( 3 ):\n",
    "        transposed_matrix[j].append( matrix[i][j] )"
   ]
  },
  {
   "cell_type": "code",
   "execution_count": 42,
   "metadata": {},
   "outputs": [
    {
     "data": {
      "text/plain": [
       "[[], [], []]"
      ]
     },
     "execution_count": 42,
     "metadata": {},
     "output_type": "execute_result"
    }
   ],
   "source": [
    "transposed_matrix = []\n",
    "for j in range( 3 ): \n",
    "    transposed_matrix.append( [] )\n",
    "    #for i in range( 3 ):\n",
    "    #    transposed_matrix[j].append( matrix[i][j] )\n",
    "    \n",
    "transposed_matrix"
   ]
  },
  {
   "cell_type": "code",
   "execution_count": 43,
   "metadata": {},
   "outputs": [
    {
     "data": {
      "text/plain": [
       "[[], [], []]"
      ]
     },
     "execution_count": 43,
     "metadata": {},
     "output_type": "execute_result"
    }
   ],
   "source": [
    "transposed_matrix = [[] for j in range( 3 )]\n",
    "\n",
    "transposed_matrix"
   ]
  },
  {
   "cell_type": "code",
   "execution_count": 44,
   "metadata": {},
   "outputs": [
    {
     "data": {
      "text/plain": [
       "[[1, 4, 7], [2, 5, 8], [3, 6, 9]]"
      ]
     },
     "execution_count": 44,
     "metadata": {},
     "output_type": "execute_result"
    }
   ],
   "source": [
    "transposed_matrix = []\n",
    "for j in range( 3 ): \n",
    "    transposed_matrix.append( [] )\n",
    "    for i in range( 3 ):\n",
    "        transposed_matrix[j].append( matrix[i][j]  )\n",
    "    \n",
    "transposed_matrix"
   ]
  },
  {
   "cell_type": "code",
   "execution_count": 46,
   "metadata": {},
   "outputs": [
    {
     "data": {
      "text/plain": [
       "[[1, 4, 7], [2, 5, 8], [3, 6, 9]]"
      ]
     },
     "execution_count": 46,
     "metadata": {},
     "output_type": "execute_result"
    }
   ],
   "source": [
    "transposed_matrix = [[matrix[i][j] for i in range( 3 )] for j in range( 3 )]\n",
    "\n",
    "transposed_matrix"
   ]
  },
  {
   "cell_type": "code",
   "execution_count": 47,
   "metadata": {},
   "outputs": [
    {
     "data": {
      "text/plain": [
       "[1, 4, 7]"
      ]
     },
     "execution_count": 47,
     "metadata": {},
     "output_type": "execute_result"
    }
   ],
   "source": [
    "[matrix[i][0] for i in range( 3 )]"
   ]
  },
  {
   "cell_type": "code",
   "execution_count": 48,
   "metadata": {},
   "outputs": [
    {
     "data": {
      "text/plain": [
       "[2, 5, 8]"
      ]
     },
     "execution_count": 48,
     "metadata": {},
     "output_type": "execute_result"
    }
   ],
   "source": [
    "[matrix[i][1] for i in range( 3 )]"
   ]
  },
  {
   "cell_type": "code",
   "execution_count": 49,
   "metadata": {},
   "outputs": [
    {
     "data": {
      "text/plain": [
       "[3, 6, 9]"
      ]
     },
     "execution_count": 49,
     "metadata": {},
     "output_type": "execute_result"
    }
   ],
   "source": [
    "[matrix[i][2] for i in range( 3 )]"
   ]
  },
  {
   "cell_type": "markdown",
   "metadata": {},
   "source": [
    "We have an alternative that can be created from a different ordered loop, but not the one above:"
   ]
  },
  {
   "cell_type": "code",
   "execution_count": 50,
   "metadata": {},
   "outputs": [
    {
     "data": {
      "text/plain": [
       "[[1, 4, 7], [2, 5, 8], [3, 6, 9]]"
      ]
     },
     "execution_count": 50,
     "metadata": {},
     "output_type": "execute_result"
    }
   ],
   "source": [
    "transposed_matrix = [[matrix[j][i] for j in range( 3 )] for i in range( 3 )]\n",
    "\n",
    "transposed_matrix"
   ]
  },
  {
   "cell_type": "markdown",
   "metadata": {},
   "source": [
    "Voila!"
   ]
  },
  {
   "cell_type": "markdown",
   "metadata": {},
   "source": [
    "Here's a somewhat cleaner solution with less use of indices from\n",
    "> https://www.datacamp.com/community/tutorials/python-list-comprehension:"
   ]
  },
  {
   "cell_type": "code",
   "execution_count": 52,
   "metadata": {},
   "outputs": [
    {
     "data": {
      "text/plain": [
       "[[1, 4, 7], [2, 5, 8], [3, 6, 9]]"
      ]
     },
     "execution_count": 52,
     "metadata": {},
     "output_type": "execute_result"
    }
   ],
   "source": [
    "[[row[j] for row in matrix] for j in range( 3 )]"
   ]
  },
  {
   "cell_type": "markdown",
   "metadata": {},
   "source": [
    "Using regular looping, we could do:"
   ]
  },
  {
   "cell_type": "code",
   "execution_count": 53,
   "metadata": {},
   "outputs": [],
   "source": [
    "transposed_matrix = []\n",
    "\n",
    "for j in range( 3 ):\n",
    "    #\n",
    "    transposed_matrix.append( [] ) # Start a new row\n",
    "    \n",
    "    for row in matrix:\n",
    "        #\n",
    "        transposed_matrix[j].append( row[j] )"
   ]
  },
  {
   "cell_type": "code",
   "execution_count": 54,
   "metadata": {},
   "outputs": [
    {
     "data": {
      "text/plain": [
       "[[1, 4, 7], [2, 5, 8], [3, 6, 9]]"
      ]
     },
     "execution_count": 54,
     "metadata": {},
     "output_type": "execute_result"
    }
   ],
   "source": [
    "transposed_matrix"
   ]
  },
  {
   "cell_type": "markdown",
   "metadata": {},
   "source": [
    "We keep getting each row of the matrix in the inner loop, but&mdash;a big but&mdash;only take the value in the current column (`j` value).\n",
    "\n",
    "We cannot do this without iterating throw rows in the inner loop really! So, that's the biggest trick!\n",
    "\n",
    "Then, using the translation approach described above, you can convert this regular Python code into list comprehension style to get the answer we have already run right above."
   ]
  },
  {
   "cell_type": "markdown",
   "metadata": {},
   "source": [
    "---"
   ]
  },
  {
   "cell_type": "markdown",
   "metadata": {},
   "source": [
    "## `lambda` (nameless) functions"
   ]
  },
  {
   "cell_type": "markdown",
   "metadata": {},
   "source": [
    "I used a `lambda` function above, which is a much easier way to express simple and short tasks without a named function."
   ]
  },
  {
   "cell_type": "markdown",
   "metadata": {},
   "source": [
    "In general, we can write `lambda` functions like this:\n",
    "\n",
    "      lambda arg_1, arg_2, ..., arg_n: <some short code in terms of arg_1, ..., arg_n>\n",
    "      \n",
    "We can assign a name to a `lambda` function, if we wish, but, more than not, we will be using `lambda` functions to express concise ideas that we need not repeat all over the place, hence the namelessness."
   ]
  },
  {
   "cell_type": "markdown",
   "metadata": {},
   "source": [
    "We can write an _identity_ function using `lambda` simply by writing\n",
    "\n",
    "     lambda x: x\n",
    " \n",
    "This is equivalent to writing\n",
    "\n",
    "     def some_function( x ):\n",
    "         return x\n",
    "         \n",
    "There is no need to write a separate function with a name and then call it someplace."
   ]
  },
  {
   "cell_type": "markdown",
   "metadata": {},
   "source": [
    "We can even write short, nameless, or anonymous functions that we can write and execute in place by surrounding the `lambda` definition with `( ... )`."
   ]
  },
  {
   "cell_type": "code",
   "execution_count": 55,
   "metadata": {},
   "outputs": [],
   "source": [
    "y = (lambda x: x**2)(5)"
   ]
  },
  {
   "cell_type": "code",
   "execution_count": 56,
   "metadata": {},
   "outputs": [
    {
     "data": {
      "text/plain": [
       "25"
      ]
     },
     "execution_count": 56,
     "metadata": {},
     "output_type": "execute_result"
    }
   ],
   "source": [
    "y"
   ]
  },
  {
   "cell_type": "markdown",
   "metadata": {},
   "source": [
    "Let us define a `lambda` function and inspect it to see what kind of object it is."
   ]
  },
  {
   "cell_type": "code",
   "execution_count": 57,
   "metadata": {},
   "outputs": [],
   "source": [
    "identity = lambda x: x"
   ]
  },
  {
   "cell_type": "code",
   "execution_count": 58,
   "metadata": {},
   "outputs": [
    {
     "data": {
      "text/plain": [
       "function"
      ]
     },
     "execution_count": 58,
     "metadata": {},
     "output_type": "execute_result"
    }
   ],
   "source": [
    "type( identity )"
   ]
  },
  {
   "cell_type": "markdown",
   "metadata": {},
   "source": [
    "So `lambda`s are functions, just like regular, named Python functions."
   ]
  },
  {
   "cell_type": "markdown",
   "metadata": {},
   "source": [
    "To write the identity function above, we could have used regular function definition syntax:"
   ]
  },
  {
   "cell_type": "code",
   "execution_count": 69,
   "metadata": {},
   "outputs": [],
   "source": [
    "def identity( x ):\n",
    "    return x"
   ]
  },
  {
   "cell_type": "markdown",
   "metadata": {},
   "source": [
    "You may have noted, `lambda` functions do __not__ need an explicit `return` statement, because, they do nothing but _return_ the result of the expression in their body."
   ]
  },
  {
   "cell_type": "markdown",
   "metadata": {},
   "source": [
    "Let's dig in a little deeper and convert the code expressed by a `lambda` function into Python _bytecode_ using the disassembler module, `dis` [[https://realpython.com/python-lambda/](https://realpython.com/python-lambda/)]."
   ]
  },
  {
   "cell_type": "code",
   "execution_count": 59,
   "metadata": {},
   "outputs": [],
   "source": [
    "add_l = lambda x, y: x + y"
   ]
  },
  {
   "cell_type": "code",
   "execution_count": 60,
   "metadata": {},
   "outputs": [
    {
     "data": {
      "text/plain": [
       "function"
      ]
     },
     "execution_count": 60,
     "metadata": {},
     "output_type": "execute_result"
    }
   ],
   "source": [
    "type( add_l )"
   ]
  },
  {
   "cell_type": "code",
   "execution_count": 61,
   "metadata": {},
   "outputs": [
    {
     "data": {
      "text/plain": [
       "12"
      ]
     },
     "execution_count": 61,
     "metadata": {},
     "output_type": "execute_result"
    }
   ],
   "source": [
    "add_l( 4, 8 )"
   ]
  },
  {
   "cell_type": "markdown",
   "metadata": {},
   "source": [
    "So, let's disassemble `add_l()` ..."
   ]
  },
  {
   "cell_type": "code",
   "execution_count": 62,
   "metadata": {},
   "outputs": [],
   "source": [
    "import dis"
   ]
  },
  {
   "cell_type": "code",
   "execution_count": 63,
   "metadata": {},
   "outputs": [
    {
     "name": "stdout",
     "output_type": "stream",
     "text": [
      "  1           0 LOAD_FAST                0 (x)\n",
      "              2 LOAD_FAST                1 (y)\n",
      "              4 BINARY_ADD\n",
      "              6 RETURN_VALUE\n"
     ]
    }
   ],
   "source": [
    "dis.dis( add_l )"
   ]
  },
  {
   "cell_type": "markdown",
   "metadata": {},
   "source": [
    "Let's go through the same exercise with an equivalent function defined using `def`."
   ]
  },
  {
   "cell_type": "code",
   "execution_count": 64,
   "metadata": {},
   "outputs": [],
   "source": [
    "def add_f( x, y ): \n",
    "    return x + y"
   ]
  },
  {
   "cell_type": "code",
   "execution_count": 65,
   "metadata": {},
   "outputs": [
    {
     "data": {
      "text/plain": [
       "function"
      ]
     },
     "execution_count": 65,
     "metadata": {},
     "output_type": "execute_result"
    }
   ],
   "source": [
    "type( add_f )"
   ]
  },
  {
   "cell_type": "code",
   "execution_count": 66,
   "metadata": {},
   "outputs": [
    {
     "data": {
      "text/plain": [
       "12"
      ]
     },
     "execution_count": 66,
     "metadata": {},
     "output_type": "execute_result"
    }
   ],
   "source": [
    "add_f( 5, 7 )"
   ]
  },
  {
   "cell_type": "code",
   "execution_count": 67,
   "metadata": {},
   "outputs": [
    {
     "name": "stdout",
     "output_type": "stream",
     "text": [
      "  2           0 LOAD_FAST                0 (x)\n",
      "              2 LOAD_FAST                1 (y)\n",
      "              4 BINARY_ADD\n",
      "              6 RETURN_VALUE\n"
     ]
    }
   ],
   "source": [
    "dis.dis( add_f )"
   ]
  },
  {
   "cell_type": "markdown",
   "metadata": {},
   "source": [
    "Do you see any difference between `add_l` and `add_f`? I don't! :)"
   ]
  },
  {
   "cell_type": "markdown",
   "metadata": {},
   "source": [
    "---"
   ]
  },
  {
   "cell_type": "markdown",
   "metadata": {},
   "source": [
    "## `map()`, `filter()`, `reduce()`"
   ]
  },
  {
   "cell_type": "markdown",
   "metadata": {},
   "source": [
    "- ***Mapping:*** Applying a given function, `f(.)`, onto every element, `e`, in a sequence and returning a new sequence where each element is the result of `f(e)`. So, if we have as input the list\n",
    "    \n",
    "      L = [a, b, c, d, e]\n",
    "    \n",
    "    Then `map( f, L )` will return `[f(a), f(b), f(c), f(d), f(e)]`.\n",
    "    \n",
    "- ***Filtering:*** Applies a _boolean_ function `f(.)` onto every element, `e`, in a sequence and returns a new sequence with elements for which `f(.)` returned `True.` So, for example, if `f(b)`, `f(d)`, and `f(e)` returned `True` and `f(a)` and `f(c)` returned `False`, then `filter( f, L )` will return the list\n",
    "\n",
    "        [b, d, e]\n",
    "        \n",
    "        \n",
    "- ***Reducing:*** Applies a *binary* function&mdash;a function, `f( x, y )` that takes two parameters&mdash;by removing the first two elements from the input sequence, computes the result, and inserts this result back into index 0. Then it repeats the same procedure until there is a single value left. So, for exampl,e `reduce( f, L )` would do the following:\n",
    "\n",
    "        START: L <-- [a, b, c, d, e]\n",
    "        reduce( f, L )\n",
    "            r1 <-- f( a, b )\n",
    "            REPLACE a and b with the result of f( a, b ), r1\n",
    "            L <-- [r1, c, d e]\n",
    "            r2 = f( r1, c )\n",
    "            L <-- [r2, d, e]\n",
    "            r3 = f( r2, d )\n",
    "            L <-- [r3, e]\n",
    "            r4 = f( r3, e )\n",
    "            L <-- [r4]\n",
    "        RETURN r4"
   ]
  },
  {
   "cell_type": "code",
   "execution_count": 68,
   "metadata": {},
   "outputs": [],
   "source": [
    "def capitalize_all( list_of_strings ):\n",
    "    \"\"\"\n",
    "    Returns a new list where each string is capitalized.\n",
    "    \"\"\"\n",
    "    result = []\n",
    "    for cur_string in list_of_strings:\n",
    "        result.append( cur_string.capitalize() )\n",
    "    return result"
   ]
  },
  {
   "cell_type": "code",
   "execution_count": 69,
   "metadata": {},
   "outputs": [
    {
     "data": {
      "text/plain": [
       "['This',\n",
       " 'That',\n",
       " 'Cyprus',\n",
       " '1world',\n",
       " 'Near east university',\n",
       " '$ sign',\n",
       " '123world',\n",
       " '0.5 hello',\n",
       " '__variable',\n",
       " '--april',\n",
       " '  something',\n",
       " '0.5hello',\n",
       " '$sign']"
      ]
     },
     "execution_count": 69,
     "metadata": {},
     "output_type": "execute_result"
    }
   ],
   "source": [
    "s = [\"This\", \"THAT\", \"CypRus\", \"1World\", \n",
    "     \"near east university\", \"$ sign\", \"123WorlD\",\n",
    "     \"0.5 Hello\", \"__VARIAble\", \"--apRIL\", \"  someTHING\",\n",
    "     \"0.5Hello\", \"$SIGN\"]\n",
    "\n",
    "capitalize_all( s )"
   ]
  },
  {
   "cell_type": "code",
   "execution_count": 70,
   "metadata": {},
   "outputs": [
    {
     "name": "stdout",
     "output_type": "stream",
     "text": [
      "Help on method_descriptor:\n",
      "\n",
      "capitalize(self, /)\n",
      "    Return a capitalized version of the string.\n",
      "    \n",
      "    More specifically, make the first character have upper case and the rest lower\n",
      "    case.\n",
      "\n"
     ]
    }
   ],
   "source": [
    "help( str.capitalize )"
   ]
  },
  {
   "cell_type": "markdown",
   "metadata": {},
   "source": [
    "What we have done is to apply the `str.capitalize()` function to each member of the input list of strings.\n",
    "\n",
    "To do this manually, we would do the following:\n",
    "\n",
    "Given\n",
    "\n",
    "    r = [\"This\", \"THAT\", \"CypRus\", \"1World\"] \n",
    "\n",
    "the result of `capitalize_all()` could be recreated by doing the following:\n",
    "\n",
    "    s = [str.capitalize( \"This\" ), \n",
    "         str.capitalize( \"THAT\" ), \n",
    "         str.capitalize( \"CypRus\" ), \n",
    "         str.capitalize( \"1World\" )] \n"
   ]
  },
  {
   "cell_type": "code",
   "execution_count": 71,
   "metadata": {},
   "outputs": [
    {
     "data": {
      "text/plain": [
       "['This', 'That', 'Cyprus', '1world']"
      ]
     },
     "execution_count": 71,
     "metadata": {},
     "output_type": "execute_result"
    }
   ],
   "source": [
    "r = [\"This\", \"THAT\", \"CypRus\", \"1World\"] \n",
    "s = [str.capitalize( \"This\" ), \n",
    "     str.capitalize( \"THAT\" ), \n",
    "     str.capitalize( \"CypRus\" ), \n",
    "     str.capitalize( \"1World\" )] \n",
    "s"
   ]
  },
  {
   "cell_type": "markdown",
   "metadata": {},
   "source": [
    "So, in this case, we applied the function `str.capitalize()` to _all_ elements of list `r`.\n",
    "\n",
    "This is called _mapping `str.capitalize()` onto list `r`_."
   ]
  },
  {
   "cell_type": "markdown",
   "metadata": {},
   "source": [
    "To facilitate applying any function to the members of a given list, we can write a general function."
   ]
  },
  {
   "cell_type": "code",
   "execution_count": 72,
   "metadata": {},
   "outputs": [],
   "source": [
    "def map_function( func, sequence ):\n",
    "    \"\"\"\n",
    "    Maps the given function to each element of the input \n",
    "    sequence and returns the result.\n",
    "    \"\"\"\n",
    "    result = []\n",
    "    for cur_element in sequence:\n",
    "        cur_result = func( cur_element )\n",
    "        result.append( cur_result )\n",
    "    return result"
   ]
  },
  {
   "cell_type": "code",
   "execution_count": 73,
   "metadata": {},
   "outputs": [
    {
     "data": {
      "text/plain": [
       "'Hello'"
      ]
     },
     "execution_count": 73,
     "metadata": {},
     "output_type": "execute_result"
    }
   ],
   "source": [
    "str.capitalize( \"hello\" )"
   ]
  },
  {
   "cell_type": "code",
   "execution_count": 74,
   "metadata": {},
   "outputs": [
    {
     "data": {
      "text/plain": [
       "['This', 'That', 'Cyprus', '1world']"
      ]
     },
     "execution_count": 74,
     "metadata": {},
     "output_type": "execute_result"
    }
   ],
   "source": [
    "k = [\"This\", \"THAT\", \"CypRus\", \"1World\"] \n",
    "map_function( str.capitalize, k )"
   ]
  },
  {
   "cell_type": "code",
   "execution_count": 75,
   "metadata": {},
   "outputs": [
    {
     "data": {
      "text/plain": [
       "['ThisThis', 'THATTHAT', 'CypRusCypRus', '1World1World']"
      ]
     },
     "execution_count": 75,
     "metadata": {},
     "output_type": "execute_result"
    }
   ],
   "source": [
    "map_function( lambda s: s*2, k )"
   ]
  },
  {
   "cell_type": "code",
   "execution_count": 76,
   "metadata": {},
   "outputs": [],
   "source": [
    "import string"
   ]
  },
  {
   "cell_type": "code",
   "execution_count": 77,
   "metadata": {},
   "outputs": [
    {
     "data": {
      "text/plain": [
       "'abcdefghijklmnopqrstuvwxyzABCDEFGHIJKLMNOPQRSTUVWXYZ'"
      ]
     },
     "execution_count": 77,
     "metadata": {},
     "output_type": "execute_result"
    }
   ],
   "source": [
    "string.ascii_letters"
   ]
  },
  {
   "cell_type": "code",
   "execution_count": 78,
   "metadata": {},
   "outputs": [
    {
     "data": {
      "text/plain": [
       "True"
      ]
     },
     "execution_count": 78,
     "metadata": {},
     "output_type": "execute_result"
    }
   ],
   "source": [
    "\"s\" in string.ascii_letters"
   ]
  },
  {
   "cell_type": "code",
   "execution_count": 79,
   "metadata": {},
   "outputs": [
    {
     "data": {
      "text/plain": [
       "False"
      ]
     },
     "execution_count": 79,
     "metadata": {},
     "output_type": "execute_result"
    }
   ],
   "source": [
    "\"?\" in string.ascii_letters"
   ]
  },
  {
   "cell_type": "code",
   "execution_count": 80,
   "metadata": {},
   "outputs": [
    {
     "data": {
      "text/plain": [
       "True"
      ]
     },
     "execution_count": 80,
     "metadata": {},
     "output_type": "execute_result"
    }
   ],
   "source": [
    "\"a\" <= \"s\" <= \"z\""
   ]
  },
  {
   "cell_type": "code",
   "execution_count": 81,
   "metadata": {},
   "outputs": [
    {
     "data": {
      "text/plain": [
       "False"
      ]
     },
     "execution_count": 81,
     "metadata": {},
     "output_type": "execute_result"
    }
   ],
   "source": [
    "\"A\" <= \"s\" <= \"Z\""
   ]
  },
  {
   "cell_type": "code",
   "execution_count": 82,
   "metadata": {},
   "outputs": [
    {
     "data": {
      "text/plain": [
       "True"
      ]
     },
     "execution_count": 82,
     "metadata": {},
     "output_type": "execute_result"
    }
   ],
   "source": [
    "\"a\" <= \"s\" <= \"z\" or \"A\" <= \"s\" <= \"Z\""
   ]
  },
  {
   "cell_type": "code",
   "execution_count": 83,
   "metadata": {},
   "outputs": [
    {
     "data": {
      "text/plain": [
       "False"
      ]
     },
     "execution_count": 83,
     "metadata": {},
     "output_type": "execute_result"
    }
   ],
   "source": [
    "\"a\" <= \"?\" <= \"z\" or  \"A\" <= \"?\" <= \"Z\""
   ]
  },
  {
   "cell_type": "code",
   "execution_count": 84,
   "metadata": {},
   "outputs": [
    {
     "data": {
      "text/plain": [
       "False"
      ]
     },
     "execution_count": 84,
     "metadata": {},
     "output_type": "execute_result"
    }
   ],
   "source": [
    "\"a\" < \"?\""
   ]
  },
  {
   "cell_type": "code",
   "execution_count": 85,
   "metadata": {},
   "outputs": [
    {
     "data": {
      "text/plain": [
       "True"
      ]
     },
     "execution_count": 85,
     "metadata": {},
     "output_type": "execute_result"
    }
   ],
   "source": [
    "\"?\" < \"a\""
   ]
  },
  {
   "cell_type": "code",
   "execution_count": 86,
   "metadata": {},
   "outputs": [
    {
     "data": {
      "text/plain": [
       "(63, 65, 97)"
      ]
     },
     "execution_count": 86,
     "metadata": {},
     "output_type": "execute_result"
    }
   ],
   "source": [
    "ord( \"?\" ), ord( \"A\" ), ord( \"a\" )"
   ]
  },
  {
   "cell_type": "code",
   "execution_count": 87,
   "metadata": {},
   "outputs": [],
   "source": [
    "import string\n",
    "\n",
    "def is_first_letter_alphabetic( in_str ):\n",
    "    \"\"\"\n",
    "    Returns True if the first letter of the given string\n",
    "    is an alphabetic characters, and False otherwise.\n",
    "    \n",
    "    What if we replace the parameter name in_str with\n",
    "    string?\n",
    "    \"\"\"\n",
    "    first_letter = in_str[0]\n",
    "    return first_letter in string.ascii_letters # return first_letter.isalpha()"
   ]
  },
  {
   "cell_type": "code",
   "execution_count": 88,
   "metadata": {},
   "outputs": [
    {
     "data": {
      "text/plain": [
       "True"
      ]
     },
     "execution_count": 88,
     "metadata": {},
     "output_type": "execute_result"
    }
   ],
   "source": [
    "is_first_letter_alphabetic( \"Alpha\" )"
   ]
  },
  {
   "cell_type": "code",
   "execution_count": 89,
   "metadata": {},
   "outputs": [
    {
     "data": {
      "text/plain": [
       "['This', 'THAT', 'CypRus', '1World']"
      ]
     },
     "execution_count": 89,
     "metadata": {},
     "output_type": "execute_result"
    }
   ],
   "source": [
    "k"
   ]
  },
  {
   "cell_type": "code",
   "execution_count": 90,
   "metadata": {},
   "outputs": [],
   "source": [
    "check_alpha = map_function( is_first_letter_alphabetic, k )"
   ]
  },
  {
   "cell_type": "code",
   "execution_count": 91,
   "metadata": {},
   "outputs": [
    {
     "data": {
      "text/plain": [
       "[True, True, True, False]"
      ]
     },
     "execution_count": 91,
     "metadata": {},
     "output_type": "execute_result"
    }
   ],
   "source": [
    "check_alpha"
   ]
  },
  {
   "cell_type": "markdown",
   "metadata": {},
   "source": [
    "We can also check if _all_ input words had alphabetic first characters."
   ]
  },
  {
   "cell_type": "code",
   "execution_count": 92,
   "metadata": {},
   "outputs": [
    {
     "data": {
      "text/plain": [
       "False"
      ]
     },
     "execution_count": 92,
     "metadata": {},
     "output_type": "execute_result"
    }
   ],
   "source": [
    "all( check_alpha )"
   ]
  },
  {
   "cell_type": "code",
   "execution_count": 93,
   "metadata": {},
   "outputs": [
    {
     "data": {
      "text/plain": [
       "True"
      ]
     },
     "execution_count": 93,
     "metadata": {},
     "output_type": "execute_result"
    }
   ],
   "source": [
    "all( [1, \"abc\", True, \"XYZ\", {\"a\": 1}] )"
   ]
  },
  {
   "cell_type": "code",
   "execution_count": 94,
   "metadata": {},
   "outputs": [
    {
     "data": {
      "text/plain": [
       "[True, True, True, True, True]"
      ]
     },
     "execution_count": 94,
     "metadata": {},
     "output_type": "execute_result"
    }
   ],
   "source": [
    "[bool( 1 ), bool( \"abc\" ), bool( True ), bool( \"XYZ\" ), bool( {\"a\": 1} )]"
   ]
  },
  {
   "cell_type": "markdown",
   "metadata": {},
   "source": [
    "We can also check if we have at least one word that starts with an alphabetic character."
   ]
  },
  {
   "cell_type": "code",
   "execution_count": 95,
   "metadata": {},
   "outputs": [
    {
     "data": {
      "text/plain": [
       "True"
      ]
     },
     "execution_count": 95,
     "metadata": {},
     "output_type": "execute_result"
    }
   ],
   "source": [
    "any( check_alpha )"
   ]
  },
  {
   "cell_type": "code",
   "execution_count": 97,
   "metadata": {},
   "outputs": [
    {
     "data": {
      "text/plain": [
       "False"
      ]
     },
     "execution_count": 97,
     "metadata": {},
     "output_type": "execute_result"
    }
   ],
   "source": [
    "all( [1, 2, 3, 0] )"
   ]
  },
  {
   "cell_type": "code",
   "execution_count": 98,
   "metadata": {},
   "outputs": [
    {
     "data": {
      "text/plain": [
       "True"
      ]
     },
     "execution_count": 98,
     "metadata": {},
     "output_type": "execute_result"
    }
   ],
   "source": [
    "any( [1, 2, 3, 0] )"
   ]
  },
  {
   "cell_type": "code",
   "execution_count": 99,
   "metadata": {},
   "outputs": [
    {
     "data": {
      "text/plain": [
       "(True, False, True, True, True)"
      ]
     },
     "execution_count": 99,
     "metadata": {},
     "output_type": "execute_result"
    }
   ],
   "source": [
    "str.isalpha( \"A\" ), \"3\".isalpha(), \"3\".isalnum(), \"3\".isdigit(), \"a3\".isalnum()"
   ]
  },
  {
   "cell_type": "markdown",
   "metadata": {},
   "source": [
    "Of course, we have a special function called `map()` that maps functions to sequences!"
   ]
  },
  {
   "cell_type": "code",
   "execution_count": 100,
   "metadata": {},
   "outputs": [],
   "source": [
    "m = map( is_first_letter_alphabetic, k )"
   ]
  },
  {
   "cell_type": "code",
   "execution_count": 101,
   "metadata": {},
   "outputs": [
    {
     "data": {
      "text/plain": [
       "<map at 0x7f8b8c559ca0>"
      ]
     },
     "execution_count": 101,
     "metadata": {},
     "output_type": "execute_result"
    }
   ],
   "source": [
    "m"
   ]
  },
  {
   "cell_type": "code",
   "execution_count": 102,
   "metadata": {},
   "outputs": [
    {
     "name": "stdout",
     "output_type": "stream",
     "text": [
      "Help on map object:\n",
      "\n",
      "class map(object)\n",
      " |  map(func, *iterables) --> map object\n",
      " |  \n",
      " |  Make an iterator that computes the function using arguments from\n",
      " |  each of the iterables.  Stops when the shortest iterable is exhausted.\n",
      " |  \n",
      " |  Methods defined here:\n",
      " |  \n",
      " |  __getattribute__(self, name, /)\n",
      " |      Return getattr(self, name).\n",
      " |  \n",
      " |  __iter__(self, /)\n",
      " |      Implement iter(self).\n",
      " |  \n",
      " |  __next__(self, /)\n",
      " |      Implement next(self).\n",
      " |  \n",
      " |  __reduce__(...)\n",
      " |      Return state information for pickling.\n",
      " |  \n",
      " |  ----------------------------------------------------------------------\n",
      " |  Static methods defined here:\n",
      " |  \n",
      " |  __new__(*args, **kwargs) from builtins.type\n",
      " |      Create and return a new object.  See help(type) for accurate signature.\n",
      "\n"
     ]
    }
   ],
   "source": [
    "help( m )"
   ]
  },
  {
   "cell_type": "markdown",
   "metadata": {},
   "source": [
    "Since `map` objects do not evaluate automatically to list types, we need to convert such objects in to lists manually to be able to immediately see what they have inside."
   ]
  },
  {
   "cell_type": "code",
   "execution_count": 103,
   "metadata": {},
   "outputs": [
    {
     "data": {
      "text/plain": [
       "[True, True, True, False]"
      ]
     },
     "execution_count": 103,
     "metadata": {},
     "output_type": "execute_result"
    }
   ],
   "source": [
    "list( map( is_first_letter_alphabetic, k ) )"
   ]
  },
  {
   "cell_type": "markdown",
   "metadata": {},
   "source": [
    "What if we wanted only those elements in a sequence that satisfy a boolean function? For example, what if we wanted to filter out all words in a list of words where the first letter in those words are not alphabetic?"
   ]
  },
  {
   "cell_type": "code",
   "execution_count": 104,
   "metadata": {},
   "outputs": [],
   "source": [
    "def filter_function( bool_func, sequence ):\n",
    "    \"\"\"\n",
    "    Filters in (or keeps) all elements in the given \n",
    "    sequence that return True for the given boolean\n",
    "    function.\n",
    "    \"\"\"\n",
    "    result = []\n",
    "    for cur_element in sequence:\n",
    "        if bool_func( cur_element ):\n",
    "            result.append( cur_element )\n",
    "    return result"
   ]
  },
  {
   "cell_type": "code",
   "execution_count": 105,
   "metadata": {},
   "outputs": [
    {
     "data": {
      "text/plain": [
       "['This', 'THAT', 'CypRus']"
      ]
     },
     "execution_count": 105,
     "metadata": {},
     "output_type": "execute_result"
    }
   ],
   "source": [
    "filter_function( is_first_letter_alphabetic, k )"
   ]
  },
  {
   "cell_type": "code",
   "execution_count": 106,
   "metadata": {},
   "outputs": [
    {
     "data": {
      "text/plain": [
       "['This', 'CypRus']"
      ]
     },
     "execution_count": 106,
     "metadata": {},
     "output_type": "execute_result"
    }
   ],
   "source": [
    "# Let's filter words whose last letter is 's' or 'S'\n",
    "#\n",
    "filter_function( lambda s: s[-1].lower() == \"s\", k )"
   ]
  },
  {
   "cell_type": "markdown",
   "metadata": {},
   "source": [
    "Python has a function called `filter()` that does the job of our `filter_function()`."
   ]
  },
  {
   "cell_type": "code",
   "execution_count": 107,
   "metadata": {},
   "outputs": [],
   "source": [
    "f = filter( lambda s: s[-1].lower() == \"s\", k )"
   ]
  },
  {
   "cell_type": "code",
   "execution_count": 108,
   "metadata": {},
   "outputs": [
    {
     "data": {
      "text/plain": [
       "<filter at 0x7f8b8c559fa0>"
      ]
     },
     "execution_count": 108,
     "metadata": {},
     "output_type": "execute_result"
    }
   ],
   "source": [
    "f"
   ]
  },
  {
   "cell_type": "code",
   "execution_count": 109,
   "metadata": {},
   "outputs": [
    {
     "data": {
      "text/plain": [
       "['This', 'CypRus']"
      ]
     },
     "execution_count": 109,
     "metadata": {},
     "output_type": "execute_result"
    }
   ],
   "source": [
    "list( f )"
   ]
  },
  {
   "cell_type": "code",
   "execution_count": 110,
   "metadata": {},
   "outputs": [
    {
     "data": {
      "text/plain": [
       "21"
      ]
     },
     "execution_count": 110,
     "metadata": {},
     "output_type": "execute_result"
    }
   ],
   "source": [
    "def sum_all( list_of_numbers ):\n",
    "    \"\"\"\n",
    "    Returns the sum of the provided list of numbers.\n",
    "    \"\"\"\n",
    "    total = 0\n",
    "    for cur_number in list_of_numbers:\n",
    "        total += cur_number\n",
    "    return total\n",
    "\n",
    "t = [1, 2, 3, 4, 5, 6]\n",
    "sum_all( t )"
   ]
  },
  {
   "cell_type": "markdown",
   "metadata": {},
   "source": [
    "We can sum all numbers in a sequence using _reduction_. So we take the first two elements, apply a function, and insert the result of the function in place of those values, and keep going until no more elements remain.  \n",
    "\n",
    "    t = [1, 2, 3, 4, 5, 6]\n",
    "    cur_sum = 1 + 2 --> 3\n",
    "    \n",
    "    t  = [3, 3, 4, 5, 6]\n",
    "    cur_sum = 3 + 3 --> 6\n",
    "\n",
    "    t  = [6, 4, 5, 6]\n",
    "    cur_sum = 6 + 4 --> 10\n",
    "    \n",
    "    t  = [10, 5, 6]\n",
    "    cur_sum = 10 + 5 --> 15\n",
    "    \n",
    "    t  = [15, 6]\n",
    "    cur_sum = 15 + 6 --> 21\n",
    "    \n",
    "So, our final answer is 21. Let's implement this.    "
   ]
  },
  {
   "cell_type": "code",
   "execution_count": 112,
   "metadata": {},
   "outputs": [],
   "source": [
    "def sum_2( a, b ):\n",
    "    \"\"\"\n",
    "    Returns a + b\n",
    "    \"\"\"\n",
    "    return a + b\n",
    "\n",
    "def reduce_func( func, sequence ):\n",
    "    \"\"\"\n",
    "    reduce( lambda a, b: a + b, [1, 2, 3, 4, 5, 6] )\n",
    "    \n",
    "    L_0 = [1, 2, 3, 4, 5]\n",
    "    f <- 1\n",
    "    s <- 2\n",
    "    r = 1 + 2 = 3\n",
    "   \n",
    "    L_1 = [3, 3, 4, 5]\n",
    "    f <- 3\n",
    "    s <- 3\n",
    "    r = 3 + 3 = 6\n",
    "    \n",
    "    L_2 = [6, 4, 5]\n",
    "    f <- 6\n",
    "    s <- 4\n",
    "    r = 6 + 4 = 10\n",
    "    \n",
    "    L_3 = [10, 5]\n",
    "    f <- 10\n",
    "    s <- 5\n",
    "    r = 10 + 5 = 15\n",
    "    \n",
    "    L_4 = [15]\n",
    "    f <- 15\n",
    "    s <- X\n",
    "    r = 15\n",
    "    \n",
    "    Algorithm REDUCE( function F, sequence S )\n",
    "        LOOP over S as long as S has at least 2 elements remaining:\n",
    "            f <- S[0]\n",
    "            s <- S[1]\n",
    "            result <- F( f, s )\n",
    "            REMOVE the first two elements of S\n",
    "            INSERT result in first position in S\n",
    "        RETURN S[0] as the result\n",
    "       \n",
    "    \"\"\"\n",
    "    if not sequence:\n",
    "        raise TypeError( \"reduce_function() of empty sequence with no initial value\" ) \n",
    "    # We make a local copy of the input sequence so that we do not\n",
    "    # destructively modify it.\n",
    "    local_sequence = sequence[:]\n",
    "    while len( local_sequence ) > 1:\n",
    "        #first = local_sequence[0]\n",
    "        #second = local_sequence[1]\n",
    "        first, second = local_sequence[:2]\n",
    "        print( \"f: {}, s: {}\".format( first, second ) )\n",
    "        cur_result = func( first, second )\n",
    "        print( \"S (before) <- {}\".format( local_sequence ) )\n",
    "        #local_sequence = [cur_result] + local_sequence[2:]\n",
    "        local_sequence[:2] = [cur_result]\n",
    "        print( \"S (after)  <- {}\".format( local_sequence ) )\n",
    "    return local_sequence[0] if local_sequence else None"
   ]
  },
  {
   "cell_type": "code",
   "execution_count": 113,
   "metadata": {},
   "outputs": [],
   "source": [
    "#n = [10, 20, 30, 40, 50, 60, 70, 80, 90]    \n",
    "n = [10, 20, 30, 40, 50, 60]    "
   ]
  },
  {
   "cell_type": "code",
   "execution_count": 114,
   "metadata": {},
   "outputs": [
    {
     "data": {
      "text/plain": [
       "[10, 20]"
      ]
     },
     "execution_count": 114,
     "metadata": {},
     "output_type": "execute_result"
    }
   ],
   "source": [
    "n[:2]"
   ]
  },
  {
   "cell_type": "code",
   "execution_count": 115,
   "metadata": {},
   "outputs": [
    {
     "ename": "TypeError",
     "evalue": "can only assign an iterable",
     "output_type": "error",
     "traceback": [
      "\u001b[0;31m---------------------------------------------------------------------------\u001b[0m",
      "\u001b[0;31mTypeError\u001b[0m                                 Traceback (most recent call last)",
      "\u001b[0;32m<ipython-input-115-6270c06ed0cc>\u001b[0m in \u001b[0;36m<module>\u001b[0;34m\u001b[0m\n\u001b[0;32m----> 1\u001b[0;31m \u001b[0mn\u001b[0m\u001b[0;34m[\u001b[0m\u001b[0;34m:\u001b[0m\u001b[0;36m2\u001b[0m\u001b[0;34m]\u001b[0m \u001b[0;34m=\u001b[0m \u001b[0;36m10\u001b[0m \u001b[0;34m+\u001b[0m \u001b[0;36m20\u001b[0m\u001b[0;34m\u001b[0m\u001b[0;34m\u001b[0m\u001b[0m\n\u001b[0m",
      "\u001b[0;31mTypeError\u001b[0m: can only assign an iterable"
     ]
    }
   ],
   "source": [
    "n[:2] = 10 + 20"
   ]
  },
  {
   "cell_type": "code",
   "execution_count": 116,
   "metadata": {},
   "outputs": [
    {
     "data": {
      "text/plain": [
       "(list, list)"
      ]
     },
     "execution_count": 116,
     "metadata": {},
     "output_type": "execute_result"
    }
   ],
   "source": [
    "type( n[:2] ), type( [10 + 20] )"
   ]
  },
  {
   "cell_type": "code",
   "execution_count": 117,
   "metadata": {},
   "outputs": [
    {
     "data": {
      "text/plain": [
       "[30, 30, 40, 50, 60]"
      ]
     },
     "execution_count": 117,
     "metadata": {},
     "output_type": "execute_result"
    }
   ],
   "source": [
    "n[:2] = [10 + 20]\n",
    "n"
   ]
  },
  {
   "cell_type": "code",
   "execution_count": 118,
   "metadata": {},
   "outputs": [
    {
     "data": {
      "text/plain": [
       "[60, 40, 50, 60]"
      ]
     },
     "execution_count": 118,
     "metadata": {},
     "output_type": "execute_result"
    }
   ],
   "source": [
    "n[:2] = [30 + 30]\n",
    "n"
   ]
  },
  {
   "cell_type": "code",
   "execution_count": 119,
   "metadata": {},
   "outputs": [
    {
     "data": {
      "text/plain": [
       "[100, 50, 60]"
      ]
     },
     "execution_count": 119,
     "metadata": {},
     "output_type": "execute_result"
    }
   ],
   "source": [
    "n[:2] = [60 + 40]\n",
    "n"
   ]
  },
  {
   "cell_type": "code",
   "execution_count": 120,
   "metadata": {},
   "outputs": [
    {
     "data": {
      "text/plain": [
       "[150, 60]"
      ]
     },
     "execution_count": 120,
     "metadata": {},
     "output_type": "execute_result"
    }
   ],
   "source": [
    "n[:2] = [150]\n",
    "n"
   ]
  },
  {
   "cell_type": "code",
   "execution_count": 121,
   "metadata": {},
   "outputs": [
    {
     "data": {
      "text/plain": [
       "[210]"
      ]
     },
     "execution_count": 121,
     "metadata": {},
     "output_type": "execute_result"
    }
   ],
   "source": [
    "n[:2] = [210]\n",
    "n"
   ]
  },
  {
   "cell_type": "markdown",
   "metadata": {},
   "source": [
    "Since we only have a single value remaining, that means we have the result of the *reduction* we have just performed."
   ]
  },
  {
   "cell_type": "code",
   "execution_count": 122,
   "metadata": {},
   "outputs": [],
   "source": [
    "#n = [10, 20, 30, 40, 50, 60, 70, 80, 90]    \n",
    "n = [10, 20, 30, 40, 50, 60]    "
   ]
  },
  {
   "cell_type": "code",
   "execution_count": 123,
   "metadata": {},
   "outputs": [
    {
     "name": "stdout",
     "output_type": "stream",
     "text": [
      "f: 10, s: 20\n",
      "S (before) <- [10, 20, 30, 40, 50, 60]\n",
      "S (after)  <- [30, 30, 40, 50, 60]\n",
      "f: 30, s: 30\n",
      "S (before) <- [30, 30, 40, 50, 60]\n",
      "S (after)  <- [60, 40, 50, 60]\n",
      "f: 60, s: 40\n",
      "S (before) <- [60, 40, 50, 60]\n",
      "S (after)  <- [100, 50, 60]\n",
      "f: 100, s: 50\n",
      "S (before) <- [100, 50, 60]\n",
      "S (after)  <- [150, 60]\n",
      "f: 150, s: 60\n",
      "S (before) <- [150, 60]\n",
      "S (after)  <- [210]\n"
     ]
    },
    {
     "data": {
      "text/plain": [
       "210"
      ]
     },
     "execution_count": 123,
     "metadata": {},
     "output_type": "execute_result"
    }
   ],
   "source": [
    "reduce_func( sum_2, n )"
   ]
  },
  {
   "cell_type": "code",
   "execution_count": 15,
   "metadata": {},
   "outputs": [
    {
     "data": {
      "text/plain": [
       "(1, 2)"
      ]
     },
     "execution_count": 15,
     "metadata": {},
     "output_type": "execute_result"
    }
   ],
   "source": [
    "L = [1, 2, 3, 4, 5, 6]\n",
    "f, s = L[:2]\n",
    "f, s"
   ]
  },
  {
   "cell_type": "code",
   "execution_count": 16,
   "metadata": {},
   "outputs": [
    {
     "data": {
      "text/plain": [
       "(3, 4, 5)"
      ]
     },
     "execution_count": 16,
     "metadata": {},
     "output_type": "execute_result"
    }
   ],
   "source": [
    "x, y, z = L[2:5]\n",
    "x, y, z"
   ]
  },
  {
   "cell_type": "code",
   "execution_count": 17,
   "metadata": {},
   "outputs": [
    {
     "name": "stdout",
     "output_type": "stream",
     "text": [
      "f: 33, s: 44\n",
      "S (before) <- [33, 44, 55]\n",
      "S (after)  <- [77, 55]\n",
      "f: 77, s: 55\n",
      "S (before) <- [77, 55]\n",
      "S (after)  <- [132]\n"
     ]
    },
    {
     "data": {
      "text/plain": [
       "132"
      ]
     },
     "execution_count": 17,
     "metadata": {},
     "output_type": "execute_result"
    }
   ],
   "source": [
    "reduce_func( sum_2, [33, 44, 55] )"
   ]
  },
  {
   "cell_type": "code",
   "execution_count": 18,
   "metadata": {},
   "outputs": [
    {
     "name": "stdout",
     "output_type": "stream",
     "text": [
      "f: 33, s: 44\n",
      "S (before) <- [33, 44]\n",
      "S (after)  <- [77]\n"
     ]
    },
    {
     "data": {
      "text/plain": [
       "77"
      ]
     },
     "execution_count": 18,
     "metadata": {},
     "output_type": "execute_result"
    }
   ],
   "source": [
    "reduce_func( sum_2, [33, 44] )"
   ]
  },
  {
   "cell_type": "code",
   "execution_count": 19,
   "metadata": {},
   "outputs": [
    {
     "data": {
      "text/plain": [
       "33"
      ]
     },
     "execution_count": 19,
     "metadata": {},
     "output_type": "execute_result"
    }
   ],
   "source": [
    "reduce_func( sum_2, [33] )"
   ]
  },
  {
   "cell_type": "code",
   "execution_count": 20,
   "metadata": {},
   "outputs": [
    {
     "ename": "TypeError",
     "evalue": "reduce_function() of empty sequence with no initial value",
     "output_type": "error",
     "traceback": [
      "\u001b[0;31m---------------------------------------------------------------------------\u001b[0m",
      "\u001b[0;31mTypeError\u001b[0m                                 Traceback (most recent call last)",
      "\u001b[0;32m<ipython-input-20-a72e8b3e3846>\u001b[0m in \u001b[0;36m<module>\u001b[0;34m\u001b[0m\n\u001b[0;32m----> 1\u001b[0;31m \u001b[0mreduce_func\u001b[0m\u001b[0;34m(\u001b[0m \u001b[0msum_2\u001b[0m\u001b[0;34m,\u001b[0m \u001b[0;34m[\u001b[0m\u001b[0;34m]\u001b[0m \u001b[0;34m)\u001b[0m\u001b[0;34m\u001b[0m\u001b[0;34m\u001b[0m\u001b[0m\n\u001b[0m",
      "\u001b[0;32m<ipython-input-1-c6f0424096f5>\u001b[0m in \u001b[0;36mreduce_func\u001b[0;34m(func, sequence)\u001b[0m\n\u001b[1;32m     45\u001b[0m     \"\"\"\n\u001b[1;32m     46\u001b[0m     \u001b[0;32mif\u001b[0m \u001b[0;32mnot\u001b[0m \u001b[0msequence\u001b[0m\u001b[0;34m:\u001b[0m\u001b[0;34m\u001b[0m\u001b[0;34m\u001b[0m\u001b[0m\n\u001b[0;32m---> 47\u001b[0;31m         \u001b[0;32mraise\u001b[0m \u001b[0mTypeError\u001b[0m\u001b[0;34m(\u001b[0m \u001b[0;34m\"reduce_function() of empty sequence with no initial value\"\u001b[0m \u001b[0;34m)\u001b[0m\u001b[0;34m\u001b[0m\u001b[0;34m\u001b[0m\u001b[0m\n\u001b[0m\u001b[1;32m     48\u001b[0m     \u001b[0;31m# We make a local copy of the input sequence so that we do not\u001b[0m\u001b[0;34m\u001b[0m\u001b[0;34m\u001b[0m\u001b[0;34m\u001b[0m\u001b[0m\n\u001b[1;32m     49\u001b[0m     \u001b[0;31m# destructively modify it.\u001b[0m\u001b[0;34m\u001b[0m\u001b[0;34m\u001b[0m\u001b[0;34m\u001b[0m\u001b[0m\n",
      "\u001b[0;31mTypeError\u001b[0m: reduce_function() of empty sequence with no initial value"
     ]
    }
   ],
   "source": [
    "reduce_func( sum_2, [] )"
   ]
  },
  {
   "cell_type": "code",
   "execution_count": 21,
   "metadata": {},
   "outputs": [
    {
     "data": {
      "text/plain": [
       "range(0, 6)"
      ]
     },
     "execution_count": 21,
     "metadata": {},
     "output_type": "execute_result"
    }
   ],
   "source": [
    "range( len( n ) )"
   ]
  },
  {
   "cell_type": "code",
   "execution_count": 22,
   "metadata": {},
   "outputs": [
    {
     "data": {
      "text/plain": [
       "[0, 1, 2, 3, 4, 5]"
      ]
     },
     "execution_count": 22,
     "metadata": {},
     "output_type": "execute_result"
    }
   ],
   "source": [
    "list( range( len( n ) ))"
   ]
  },
  {
   "cell_type": "code",
   "execution_count": 23,
   "metadata": {},
   "outputs": [
    {
     "data": {
      "text/plain": [
       "15"
      ]
     },
     "execution_count": 23,
     "metadata": {},
     "output_type": "execute_result"
    }
   ],
   "source": [
    "# We have a ready-made function called sum() \n",
    "# that does exactly this\n",
    "sum( [1, 2, 3, 4, 5] )"
   ]
  },
  {
   "cell_type": "markdown",
   "metadata": {},
   "source": [
    "We already have a `reduce()` function in Python that does exactly the same thing as our `reduce_function()`. So we should try it on our examples to see if it produces the same results as `reduce_function()`."
   ]
  },
  {
   "cell_type": "code",
   "execution_count": 124,
   "metadata": {},
   "outputs": [],
   "source": [
    "# We need to import reduce() in Python 3, but we do not have to do this in Python 2.\n",
    "#\n",
    "from functools import reduce"
   ]
  },
  {
   "cell_type": "code",
   "execution_count": 125,
   "metadata": {},
   "outputs": [
    {
     "data": {
      "text/plain": [
       "210"
      ]
     },
     "execution_count": 125,
     "metadata": {},
     "output_type": "execute_result"
    }
   ],
   "source": [
    "n = [10, 20, 30, 40, 50, 60]    \n",
    "reduce( sum_2, n )"
   ]
  },
  {
   "cell_type": "code",
   "execution_count": 126,
   "metadata": {},
   "outputs": [
    {
     "data": {
      "text/plain": [
       "210"
      ]
     },
     "execution_count": 126,
     "metadata": {},
     "output_type": "execute_result"
    }
   ],
   "source": [
    "reduce( lambda a, b: a + b, n )"
   ]
  },
  {
   "cell_type": "code",
   "execution_count": 127,
   "metadata": {},
   "outputs": [
    {
     "data": {
      "text/plain": [
       "132"
      ]
     },
     "execution_count": 127,
     "metadata": {},
     "output_type": "execute_result"
    }
   ],
   "source": [
    "reduce( sum_2, [33, 44, 55] )"
   ]
  },
  {
   "cell_type": "code",
   "execution_count": 128,
   "metadata": {},
   "outputs": [
    {
     "data": {
      "text/plain": [
       "77"
      ]
     },
     "execution_count": 128,
     "metadata": {},
     "output_type": "execute_result"
    }
   ],
   "source": [
    "reduce( sum_2, [33, 44] )"
   ]
  },
  {
   "cell_type": "code",
   "execution_count": 34,
   "metadata": {},
   "outputs": [
    {
     "data": {
      "text/plain": [
       "33"
      ]
     },
     "execution_count": 34,
     "metadata": {},
     "output_type": "execute_result"
    }
   ],
   "source": [
    "reduce( sum_2, [33] )"
   ]
  },
  {
   "cell_type": "code",
   "execution_count": 36,
   "metadata": {},
   "outputs": [
    {
     "ename": "TypeError",
     "evalue": "reduce() of empty sequence with no initial value",
     "output_type": "error",
     "traceback": [
      "\u001b[0;31m---------------------------------------------------------------------------\u001b[0m",
      "\u001b[0;31mTypeError\u001b[0m                                 Traceback (most recent call last)",
      "\u001b[0;32m<ipython-input-36-1f8ccba24b02>\u001b[0m in \u001b[0;36m<module>\u001b[0;34m\u001b[0m\n\u001b[0;32m----> 1\u001b[0;31m \u001b[0mreduce\u001b[0m\u001b[0;34m(\u001b[0m \u001b[0msum_2\u001b[0m\u001b[0;34m,\u001b[0m \u001b[0;34m[\u001b[0m\u001b[0;34m]\u001b[0m \u001b[0;34m)\u001b[0m\u001b[0;34m\u001b[0m\u001b[0;34m\u001b[0m\u001b[0m\n\u001b[0m",
      "\u001b[0;31mTypeError\u001b[0m: reduce() of empty sequence with no initial value"
     ]
    }
   ],
   "source": [
    "reduce( sum_2, [] )"
   ]
  },
  {
   "cell_type": "code",
   "execution_count": 37,
   "metadata": {},
   "outputs": [
    {
     "data": {
      "text/plain": [
       "120"
      ]
     },
     "execution_count": 37,
     "metadata": {},
     "output_type": "execute_result"
    }
   ],
   "source": [
    "reduce( lambda x, y: x*y, [1, 2, 3, 4, 5] )"
   ]
  },
  {
   "cell_type": "markdown",
   "metadata": {},
   "source": [
    "Let's write a function called `all_true()` that returns `True` when all elements evaluate to `True` and `False` otherwise. For example,\n",
    "\n",
    "    all_true( [True, True, True] )                --> True\n",
    "    all_true( [True, True, False, True] )         --> False\n",
    "    all_true( [1, True, 2.5, \"hello\", {\"a\": 1}] ) --> True\n",
    "    all_true( [1, True, 2.5, \"\", {\"a\": 1}] )      --> False"
   ]
  },
  {
   "cell_type": "code",
   "execution_count": 39,
   "metadata": {},
   "outputs": [
    {
     "data": {
      "text/plain": [
       "(False, True)"
      ]
     },
     "execution_count": 39,
     "metadata": {},
     "output_type": "execute_result"
    }
   ],
   "source": [
    "bool( \"\" ), bool( \"NEU\" )"
   ]
  },
  {
   "cell_type": "code",
   "execution_count": 40,
   "metadata": {},
   "outputs": [],
   "source": [
    "def all_true( sequence ):\n",
    "    \"\"\"\n",
    "    Returns True as long as all elements in the given sequence return\n",
    "    True for bool(), and False otherwise. But, let us write this function\n",
    "    without using the ready-made all() function in Python.\n",
    "    \"\"\"\n",
    "    for cur_element in sequence:\n",
    "        if not bool( cur_element ):\n",
    "            return False\n",
    "    return True"
   ]
  },
  {
   "cell_type": "code",
   "execution_count": 42,
   "metadata": {},
   "outputs": [
    {
     "name": "stdout",
     "output_type": "stream",
     "text": [
      "True\n",
      "False\n",
      "True\n",
      "False\n"
     ]
    }
   ],
   "source": [
    "print( all_true( [True, True, True] ) )\n",
    "print( all_true( [True, True, False, True] ) )       \n",
    "print( all_true( [1, True, 2.5, \"hello\", {\"a\": 1}] ) )\n",
    "print( all_true( [1, True, 2.5, \"\", {\"a\": 1}] ) )"
   ]
  },
  {
   "cell_type": "markdown",
   "metadata": {},
   "source": [
    "---"
   ]
  },
  {
   "cell_type": "markdown",
   "metadata": {},
   "source": [
    "__QUESTION__: Can we implement `all_true()` using `reduce()`?"
   ]
  },
  {
   "cell_type": "code",
   "execution_count": 44,
   "metadata": {},
   "outputs": [],
   "source": [
    "import functools\n",
    "\n",
    "def all_true_v2( sequence ):\n",
    "    \"\"\"\n",
    "    An implementation of all() using reduce()\n",
    "    \n",
    "    Note what happens and why when we remove the bool() calls!\n",
    "    Try and see ... like we did during the lecture.\n",
    "    \"\"\"\n",
    "    truth_value = functools.reduce( lambda a, b: bool( a ) and bool( b ), sequence  )\n",
    "    return truth_value"
   ]
  },
  {
   "cell_type": "code",
   "execution_count": 46,
   "metadata": {},
   "outputs": [
    {
     "name": "stdout",
     "output_type": "stream",
     "text": [
      "True\n",
      "False\n",
      "True\n",
      "False\n"
     ]
    }
   ],
   "source": [
    "print( all_true_v2( [True, True, True] ) )\n",
    "print( all_true_v2( [True, True, False, True] ) )       \n",
    "print( all_true_v2( [1, True, 2.5, \"hello\", {\"a\": 1}] ) )\n",
    "print( all_true_v2( [1, True, 2.5, \"\", {\"a\": 1}] ) )"
   ]
  },
  {
   "cell_type": "markdown",
   "metadata": {},
   "source": [
    "We do not really need to write our own `all()` function, because one is provided to us by Python."
   ]
  },
  {
   "cell_type": "code",
   "execution_count": 47,
   "metadata": {},
   "outputs": [
    {
     "data": {
      "text/plain": [
       "True"
      ]
     },
     "execution_count": 47,
     "metadata": {},
     "output_type": "execute_result"
    }
   ],
   "source": [
    "all( [True, True, True, True] )"
   ]
  },
  {
   "cell_type": "code",
   "execution_count": 48,
   "metadata": {},
   "outputs": [
    {
     "data": {
      "text/plain": [
       "False"
      ]
     },
     "execution_count": 48,
     "metadata": {},
     "output_type": "execute_result"
    }
   ],
   "source": [
    "all( [True, True, False, True] )"
   ]
  },
  {
   "cell_type": "code",
   "execution_count": 49,
   "metadata": {},
   "outputs": [
    {
     "data": {
      "text/plain": [
       "True"
      ]
     },
     "execution_count": 49,
     "metadata": {},
     "output_type": "execute_result"
    }
   ],
   "source": [
    "any( [True, True, True, True] )"
   ]
  },
  {
   "cell_type": "code",
   "execution_count": 50,
   "metadata": {},
   "outputs": [
    {
     "data": {
      "text/plain": [
       "True"
      ]
     },
     "execution_count": 50,
     "metadata": {},
     "output_type": "execute_result"
    }
   ],
   "source": [
    "any( [True, False, False, False] )"
   ]
  },
  {
   "cell_type": "code",
   "execution_count": 51,
   "metadata": {},
   "outputs": [
    {
     "data": {
      "text/plain": [
       "False"
      ]
     },
     "execution_count": 51,
     "metadata": {},
     "output_type": "execute_result"
    }
   ],
   "source": [
    "any( [False, False, False, False] )"
   ]
  },
  {
   "cell_type": "code",
   "execution_count": null,
   "metadata": {},
   "outputs": [],
   "source": [
    "a = \"strawberry\"\n",
    "b = \"strawberry\"\n",
    "id( a ), id( b ), a is b"
   ]
  },
  {
   "cell_type": "code",
   "execution_count": null,
   "metadata": {},
   "outputs": [],
   "source": [
    "c = [1, 2, 3, 4]\n",
    "d = [1, 2, 3, 4]\n",
    "id( c ), id( d ), c is d"
   ]
  },
  {
   "cell_type": "code",
   "execution_count": null,
   "metadata": {},
   "outputs": [],
   "source": [
    "e = [\"Hello\", 10, 4.5]\n",
    "f = e\n",
    "id( e ), id( f ), e is f, f is e"
   ]
  },
  {
   "cell_type": "code",
   "execution_count": null,
   "metadata": {},
   "outputs": [],
   "source": [
    "f[2] = \"world\"\n",
    "e, f, id( e ), id( f ), e is f, f is e"
   ]
  },
  {
   "cell_type": "code",
   "execution_count": null,
   "metadata": {},
   "outputs": [],
   "source": [
    "g = f\n",
    "e, f, g, id( e ), id( f ), id( g ), e is f, f is e, g is e, g is f"
   ]
  },
  {
   "cell_type": "code",
   "execution_count": null,
   "metadata": {},
   "outputs": [],
   "source": [
    "g[1] = \"to the\"\n",
    "e, f, g, id( e ), id( f ), id( g ), e is f, f is e, g is e, g is f"
   ]
  },
  {
   "cell_type": "code",
   "execution_count": null,
   "metadata": {},
   "outputs": [],
   "source": [
    "def bad_delete_head( seq ):\n",
    "    \"\"\"\n",
    "    \"\"\"\n",
    "    print( \"id in bad_delete before: {}\".format( id( seq ) ))\n",
    "    print( \"seq before: {}\".format( seq ) )\n",
    "    seq = seq[1:]\n",
    "    print( \"seq after: {}\".format( seq ) )\n",
    "    print( \"id in bad_delete after: {}\".format( id( seq ) ))\n",
    "    \n",
    "s = [10, 22, 5, 90, 45]\n",
    "print( \"id in main before: {}\".format( id( s ) ))\n",
    "bad_delete_head( s )\n",
    "print( \"id in main after: {}\".format( id( s ) ))\n",
    "s"
   ]
  },
  {
   "cell_type": "markdown",
   "metadata": {},
   "source": [
    "---"
   ]
  }
 ],
 "metadata": {
  "kernelspec": {
   "display_name": "Python 3",
   "language": "python",
   "name": "python3"
  },
  "language_info": {
   "codemirror_mode": {
    "name": "ipython",
    "version": 3
   },
   "file_extension": ".py",
   "mimetype": "text/x-python",
   "name": "python",
   "nbconvert_exporter": "python",
   "pygments_lexer": "ipython3",
   "version": "3.8.3"
  }
 },
 "nbformat": 4,
 "nbformat_minor": 4
}
