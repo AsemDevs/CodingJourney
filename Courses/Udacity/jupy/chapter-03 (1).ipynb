{
 "cells": [
  {
   "cell_type": "markdown",
   "metadata": {},
   "source": [
    "# Chapter 3: **DECISIONS**"
   ]
  },
  {
   "cell_type": "markdown",
   "metadata": {},
   "source": [
    "## Conditional Execution\n",
    "\n",
    "The if-statement needs a (boolean) condition. If that condition is/evaluates to True, then the body of the if-statement is done. Otherwise, it is skipped.\n",
    "\n",
    "        if <condition>:\n",
    "            <body>\n",
    "        elif <condition>:\n",
    "            <body>\n",
    "        elif <condition>:\n",
    "            <body>\n",
    "        .\n",
    "        .\n",
    "        .\n",
    "        elif <condition>:\n",
    "            <body>\n",
    "        else:\n",
    "            <body>"
   ]
  },
  {
   "cell_type": "markdown",
   "metadata": {},
   "source": [
    "Example Problem:\n",
    "------\n",
    "\n",
    "PROBLEM STATEMENT: Determine the number of *teenage* girls in a secondary school (7th-12th grade).\n",
    "\n",
    "What pieces of information will be employed in this problem?\n",
    "\n",
    "We will need information on\n",
    "- gender (suppose it's a string, \"female\" or \"male\")\n",
    "- age (int)\n",
    "for each student.\n",
    "\n",
    "Note that we could represent gender using an integer value or a string value. The value 1 or string \"female\" could represent a female, and value 2 or string \"male\" could represent a male. However, age would be best represented as an integer.\n",
    "\n",
    "Before we write any code, we need to make some decisions:\n",
    "- How to decide between a male and female\n",
    "        gender == \"female\"\n",
    "- How to decide whether a student is a teenager:\n",
    "        13 <= age <= 19\n",
    "\n",
    "So, let's write a piece of pseudo-code to solve this problem:\n",
    "\n",
    "```\n",
    "INITIALIZE teenage_girls count to 0\n",
    "GO THROUGH THE STUDENT POPULATION ONE AT A TIME\n",
    "   student <- pick current student\n",
    "   IF student.gender == \"female\" AND 13 <= student.age <= 19:\n",
    "      teenage_girls += 1\n",
    "```"
   ]
  },
  {
   "cell_type": "markdown",
   "metadata": {},
   "source": [
    "Let's make the problem a bit more complex:\n",
    "\n",
    "PROBLEM STATEMENT: Determine the total number of (1) _teenage girls_ __and__ (2) _boys under 16_.\n",
    "\n",
    "What pieces of information will we need to solve this problem:\n",
    "- age\n",
    "- gender\n",
    "\n",
    "We need to have two main conditions:\n",
    "- `gender == \"female\" and 12 < age < 20`\n",
    "- `gender == \"male\" and age < 16`\n",
    "\n",
    "If we wish to write a single condition, then we will have to join these two conditions with an `or`:\n",
    "\n",
    "```\n",
    "INITIALIZE total to 0\n",
    "GO THROUGH THE STUDENT POPULATION ONE AT A TIME\n",
    "    student <- pick current student\n",
    "    IF  (student.gender == \"female\" AND 12 < student.age < 20) OR\n",
    "        (student.gender == \"male\" AND student.age < 16):\n",
    "       total += 1\n",
    "```\n",
    "\n",
    "Suppose we wished to separate these conditions and check for them individually:\n",
    "\n",
    "```\n",
    "INITIALIZE total to 0\n",
    "GO THROUGH THE STUDENT POPULATION ONE AT A TIME\n",
    "    student <- pick current student\n",
    "    IF student.gender == \"female\" AND 12 < student.age < 20:\n",
    "       total += 1\n",
    "    ELSE IF student.gender == \"male\" AND student.age < 16:\n",
    "       total += 1\n",
    "```\n",
    "\n",
    "What if we wanted separate counts for teenage girls and boys under 16?\n",
    "\n",
    "```\n",
    "INITIALIZE total_female to 0\n",
    "INITIALIZE total_male to 0\n",
    "GO THROUGH THE STUDENT POPULATION ONE AT A TIME\n",
    "    student <- pick current student\n",
    "    IF student.gender == \"female\" and 12 < student.age < 20:\n",
    "       total_female += 1\n",
    "    ELSE IF student.gender == \"male\" and student.age < 16:\n",
    "       total_male += 1\n",
    "total = total_female + total_male\n",
    "```"
   ]
  },
  {
   "cell_type": "markdown",
   "metadata": {},
   "source": [
    "What if the gender value is neither \"female\" or \"male\" for whatever reason (e.g., bad data entry)?\n",
    "\n",
    "We could do a variety of things, the least of which would be to report an error situation or issue a warning.\n",
    "\n",
    "        INITIALIZE total_female to 0\n",
    "        INITIALIZE total_male to 0\n",
    "        GO THROUGH THE STUDENT POPULATION ONE AT A TIME\n",
    "            student <- pick current student\n",
    "            IF student.gender == \"female\" and 12 < student.age < 20):\n",
    "               total_female += 1\n",
    "            ELSE IF student.gender == \"male\" and student.age < 16:\n",
    "               total_male += 1\n",
    "            ELSE:\n",
    "               Warning: unknown/unrecognized gender\n",
    "        total = total_female + total_male\n",
    "               \n",
    "But, wait!!!\n",
    "\n",
    "__QUESTION:__ Would the `ELSE` statment really work? \n",
    "\n",
    "What if we have a female student who happens to be 20 years old? \n",
    "\n",
    "In her case, the pseudo-code above would be issuing a warning message saying that her gender, which is already known, is unrecognized! And this would make no sense!\n",
    "\n",
    "We call this a `logical` error or a `semantic` error in programming.\n",
    "\n",
    "So, let's fix the error in our pseudo-code:\n",
    "\n",
    "        INITIALIZE total_female to 0\n",
    "        INITIALIZE total_male to 0\n",
    "        GO THROUGH THE STUDENT POPULATION ONE AT A TIME\n",
    "            student = pick current student\n",
    "            IF student.gender == \"female\" and 12 < student.age < 20):\n",
    "               total_female += 1\n",
    "            ELSE IF student.gender == \"male\" and student.age < 16:\n",
    "               total_male += 1\n",
    "            ELSE IF gender is not one of \"female\" or \"male\":\n",
    "               Warning: unknown/unrecognized gender\n",
    "            ELSE: \n",
    "               Warning: Age range of student is outside limits\n",
    "        total = total_female + total_male"
   ]
  },
  {
   "cell_type": "markdown",
   "metadata": {},
   "source": [
    "__FUNDAMENTAL QUESTION__: What is it we have yet NOT done even though we are able to figure out MISTAKES in our LOGIC given the ALGORITHM we wrote above?\n",
    "\n",
    "Work we have done so far:\n",
    "- Essentially, we have UNDERSTOOD the PROBLEM STATEMENT\n",
    "- We have written a pseudo-code ALGORITHM that lays out the LOGIC for our program\n",
    "- We have **TESTED** this ALGORITHM with certain input sets essentially ON PAPER\n",
    "- We have determined that the ELSE statement has a LOGICAL ERROR, and we fixed it\n",
    "\n",
    "\n",
    "\n",
    "\n",
    "\n",
    "## And we have done all this (!) without having to do any PROGRAMMING!!!\n",
    "\n",
    "To reiterate, so far, we worked **ON PAPER** ONLY!!! No programming at all!!\n"
   ]
  },
  {
   "cell_type": "markdown",
   "metadata": {},
   "source": [
    "We could check for _INPUT CORRECTNESS_ before checking for teeange girls and boys under 16, if we wished. However, the real issue is whether we should trust the information to be correct at all times.\n",
    "\n",
    "Let's ask a crazy question: What if a student's age turns out to be 45? Definitely the value 45 is a legitimate age.\n",
    "\n",
    "Such unexpected data may be due to some kind of input error.\n",
    "\n",
    "So, we have to make a decision whether to check for input error or not.\n",
    "\n",
    "The more we check, the better off we are, in general.\n",
    "\n",
    "---\n"
   ]
  },
  {
   "cell_type": "markdown",
   "metadata": {},
   "source": [
    "We can simplify the nested if-statement example:\n",
    "\n",
    "    if x < y:\n",
    "       print x < y\n",
    "    elif x > y:\n",
    "       print x > y\n",
    "    else:\n",
    "       print x == y"
   ]
  },
  {
   "cell_type": "markdown",
   "metadata": {},
   "source": [
    "UNDERSTANDING THE PROBLEM means that you understand *WHAT* needs to be done."
   ]
  },
  {
   "cell_type": "markdown",
   "metadata": {},
   "source": [
    "*HOW* that task is to be accomplished/implemented is a separate matter."
   ]
  },
  {
   "cell_type": "markdown",
   "metadata": {},
   "source": [
    "----"
   ]
  },
  {
   "cell_type": "markdown",
   "metadata": {},
   "source": [
    "### Truth states of values\n",
    "\n",
    "The golden rule is: `0`, `None`, `False`, `[]`, `\"\"`, `()`, `{}`, etc. all evaluate to `False`. Everything else, by definition, evaluates to `True`!"
   ]
  },
  {
   "cell_type": "code",
   "execution_count": 1,
   "metadata": {},
   "outputs": [
    {
     "name": "stdout",
     "output_type": "stream",
     "text": [
      "1 and 3 == True\n",
      "Help on class bool in module builtins:\n",
      "\n",
      "class bool(int)\n",
      " |  bool(x) -> bool\n",
      " |  \n",
      " |  Returns True when the argument x is true, False otherwise.\n",
      " |  The builtins True and False are the only two instances of the class bool.\n",
      " |  The class bool is a subclass of the class int, and cannot be subclassed.\n",
      " |  \n",
      " |  Method resolution order:\n",
      " |      bool\n",
      " |      int\n",
      " |      object\n",
      " |  \n",
      " |  Methods defined here:\n",
      " |  \n",
      " |  __and__(self, value, /)\n",
      " |      Return self&value.\n",
      " |  \n",
      " |  __or__(self, value, /)\n",
      " |      Return self|value.\n",
      " |  \n",
      " |  __rand__(self, value, /)\n",
      " |      Return value&self.\n",
      " |  \n",
      " |  __repr__(self, /)\n",
      " |      Return repr(self).\n",
      " |  \n",
      " |  __ror__(self, value, /)\n",
      " |      Return value|self.\n",
      " |  \n",
      " |  __rxor__(self, value, /)\n",
      " |      Return value^self.\n",
      " |  \n",
      " |  __xor__(self, value, /)\n",
      " |      Return self^value.\n",
      " |  \n",
      " |  ----------------------------------------------------------------------\n",
      " |  Static methods defined here:\n",
      " |  \n",
      " |  __new__(*args, **kwargs) from builtins.type\n",
      " |      Create and return a new object.  See help(type) for accurate signature.\n",
      " |  \n",
      " |  ----------------------------------------------------------------------\n",
      " |  Methods inherited from int:\n",
      " |  \n",
      " |  __abs__(self, /)\n",
      " |      abs(self)\n",
      " |  \n",
      " |  __add__(self, value, /)\n",
      " |      Return self+value.\n",
      " |  \n",
      " |  __bool__(self, /)\n",
      " |      self != 0\n",
      " |  \n",
      " |  __ceil__(...)\n",
      " |      Ceiling of an Integral returns itself.\n",
      " |  \n",
      " |  __divmod__(self, value, /)\n",
      " |      Return divmod(self, value).\n",
      " |  \n",
      " |  __eq__(self, value, /)\n",
      " |      Return self==value.\n",
      " |  \n",
      " |  __float__(self, /)\n",
      " |      float(self)\n",
      " |  \n",
      " |  __floor__(...)\n",
      " |      Flooring an Integral returns itself.\n",
      " |  \n",
      " |  __floordiv__(self, value, /)\n",
      " |      Return self//value.\n",
      " |  \n",
      " |  __format__(self, format_spec, /)\n",
      " |      Default object formatter.\n",
      " |  \n",
      " |  __ge__(self, value, /)\n",
      " |      Return self>=value.\n",
      " |  \n",
      " |  __getattribute__(self, name, /)\n",
      " |      Return getattr(self, name).\n",
      " |  \n",
      " |  __getnewargs__(self, /)\n",
      " |  \n",
      " |  __gt__(self, value, /)\n",
      " |      Return self>value.\n",
      " |  \n",
      " |  __hash__(self, /)\n",
      " |      Return hash(self).\n",
      " |  \n",
      " |  __index__(self, /)\n",
      " |      Return self converted to an integer, if self is suitable for use as an index into a list.\n",
      " |  \n",
      " |  __int__(self, /)\n",
      " |      int(self)\n",
      " |  \n",
      " |  __invert__(self, /)\n",
      " |      ~self\n",
      " |  \n",
      " |  __le__(self, value, /)\n",
      " |      Return self<=value.\n",
      " |  \n",
      " |  __lshift__(self, value, /)\n",
      " |      Return self<<value.\n",
      " |  \n",
      " |  __lt__(self, value, /)\n",
      " |      Return self<value.\n",
      " |  \n",
      " |  __mod__(self, value, /)\n",
      " |      Return self%value.\n",
      " |  \n",
      " |  __mul__(self, value, /)\n",
      " |      Return self*value.\n",
      " |  \n",
      " |  __ne__(self, value, /)\n",
      " |      Return self!=value.\n",
      " |  \n",
      " |  __neg__(self, /)\n",
      " |      -self\n",
      " |  \n",
      " |  __pos__(self, /)\n",
      " |      +self\n",
      " |  \n",
      " |  __pow__(self, value, mod=None, /)\n",
      " |      Return pow(self, value, mod).\n",
      " |  \n",
      " |  __radd__(self, value, /)\n",
      " |      Return value+self.\n",
      " |  \n",
      " |  __rdivmod__(self, value, /)\n",
      " |      Return divmod(value, self).\n",
      " |  \n",
      " |  __rfloordiv__(self, value, /)\n",
      " |      Return value//self.\n",
      " |  \n",
      " |  __rlshift__(self, value, /)\n",
      " |      Return value<<self.\n",
      " |  \n",
      " |  __rmod__(self, value, /)\n",
      " |      Return value%self.\n",
      " |  \n",
      " |  __rmul__(self, value, /)\n",
      " |      Return value*self.\n",
      " |  \n",
      " |  __round__(...)\n",
      " |      Rounding an Integral returns itself.\n",
      " |      Rounding with an ndigits argument also returns an integer.\n",
      " |  \n",
      " |  __rpow__(self, value, mod=None, /)\n",
      " |      Return pow(value, self, mod).\n",
      " |  \n",
      " |  __rrshift__(self, value, /)\n",
      " |      Return value>>self.\n",
      " |  \n",
      " |  __rshift__(self, value, /)\n",
      " |      Return self>>value.\n",
      " |  \n",
      " |  __rsub__(self, value, /)\n",
      " |      Return value-self.\n",
      " |  \n",
      " |  __rtruediv__(self, value, /)\n",
      " |      Return value/self.\n",
      " |  \n",
      " |  __sizeof__(self, /)\n",
      " |      Returns size in memory, in bytes.\n",
      " |  \n",
      " |  __sub__(self, value, /)\n",
      " |      Return self-value.\n",
      " |  \n",
      " |  __truediv__(self, value, /)\n",
      " |      Return self/value.\n",
      " |  \n",
      " |  __trunc__(...)\n",
      " |      Truncating an Integral returns itself.\n",
      " |  \n",
      " |  as_integer_ratio(self, /)\n",
      " |      Return integer ratio.\n",
      " |      \n",
      " |      Return a pair of integers, whose ratio is exactly equal to the original int\n",
      " |      and with a positive denominator.\n",
      " |      \n",
      " |      >>> (10).as_integer_ratio()\n",
      " |      (10, 1)\n",
      " |      >>> (-10).as_integer_ratio()\n",
      " |      (-10, 1)\n",
      " |      >>> (0).as_integer_ratio()\n",
      " |      (0, 1)\n",
      " |  \n",
      " |  bit_length(self, /)\n",
      " |      Number of bits necessary to represent self in binary.\n",
      " |      \n",
      " |      >>> bin(37)\n",
      " |      '0b100101'\n",
      " |      >>> (37).bit_length()\n",
      " |      6\n",
      " |  \n",
      " |  conjugate(...)\n",
      " |      Returns self, the complex conjugate of any int.\n",
      " |  \n",
      " |  to_bytes(self, /, length, byteorder, *, signed=False)\n",
      " |      Return an array of bytes representing an integer.\n",
      " |      \n",
      " |      length\n",
      " |        Length of bytes object to use.  An OverflowError is raised if the\n",
      " |        integer is not representable with the given number of bytes.\n",
      " |      byteorder\n",
      " |        The byte order used to represent the integer.  If byteorder is 'big',\n",
      " |        the most significant byte is at the beginning of the byte array.  If\n",
      " |        byteorder is 'little', the most significant byte is at the end of the\n",
      " |        byte array.  To request the native byte order of the host system, use\n",
      " |        `sys.byteorder' as the byte order value.\n",
      " |      signed\n",
      " |        Determines whether two's complement is used to represent the integer.\n",
      " |        If signed is False and a negative integer is given, an OverflowError\n",
      " |        is raised.\n",
      " |  \n",
      " |  ----------------------------------------------------------------------\n",
      " |  Class methods inherited from int:\n",
      " |  \n",
      " |  from_bytes(bytes, byteorder, *, signed=False) from builtins.type\n",
      " |      Return the integer represented by the given array of bytes.\n",
      " |      \n",
      " |      bytes\n",
      " |        Holds the array of bytes to convert.  The argument must either\n",
      " |        support the buffer protocol or be an iterable object producing bytes.\n",
      " |        Bytes and bytearray are examples of built-in objects that support the\n",
      " |        buffer protocol.\n",
      " |      byteorder\n",
      " |        The byte order used to represent the integer.  If byteorder is 'big',\n",
      " |        the most significant byte is at the beginning of the byte array.  If\n",
      " |        byteorder is 'little', the most significant byte is at the end of the\n",
      " |        byte array.  To request the native byte order of the host system, use\n",
      " |        `sys.byteorder' as the byte order value.\n",
      " |      signed\n",
      " |        Indicates whether two's complement is used to represent the integer.\n",
      " |  \n",
      " |  ----------------------------------------------------------------------\n",
      " |  Data descriptors inherited from int:\n",
      " |  \n",
      " |  denominator\n",
      " |      the denominator of a rational number in lowest terms\n",
      " |  \n",
      " |  imag\n",
      " |      the imaginary part of a complex number\n",
      " |  \n",
      " |  numerator\n",
      " |      the numerator of a rational number in lowest terms\n",
      " |  \n",
      " |  real\n",
      " |      the real part of a complex number\n",
      "\n"
     ]
    }
   ],
   "source": [
    "if 1 and 3:\n",
    "    print( \"1 and 3 == True\" )\n",
    "    help(bool)"
   ]
  },
  {
   "cell_type": "markdown",
   "metadata": {},
   "source": [
    "**QUESTION:** How can we know what the *truth* value of a given data element is?\n",
    "\n",
    "**ANSWER:** We use the `bool()` function!"
   ]
  },
  {
   "cell_type": "code",
   "execution_count": 2,
   "metadata": {},
   "outputs": [
    {
     "data": {
      "text/plain": [
       "True"
      ]
     },
     "execution_count": 2,
     "metadata": {},
     "output_type": "execute_result"
    }
   ],
   "source": [
    "bool( 1 ) # Truth value of integer 1"
   ]
  },
  {
   "cell_type": "code",
   "execution_count": 3,
   "metadata": {},
   "outputs": [
    {
     "data": {
      "text/plain": [
       "True"
      ]
     },
     "execution_count": 3,
     "metadata": {},
     "output_type": "execute_result"
    }
   ],
   "source": [
    "bool( 3 )"
   ]
  },
  {
   "cell_type": "code",
   "execution_count": 4,
   "metadata": {},
   "outputs": [
    {
     "data": {
      "text/plain": [
       "True"
      ]
     },
     "execution_count": 4,
     "metadata": {},
     "output_type": "execute_result"
    }
   ],
   "source": [
    "bool( \"NEU\" )"
   ]
  },
  {
   "cell_type": "code",
   "execution_count": 5,
   "metadata": {},
   "outputs": [
    {
     "data": {
      "text/plain": [
       "False"
      ]
     },
     "execution_count": 5,
     "metadata": {},
     "output_type": "execute_result"
    }
   ],
   "source": [
    "bool( 0 )"
   ]
  },
  {
   "cell_type": "code",
   "execution_count": 6,
   "metadata": {},
   "outputs": [
    {
     "name": "stdout",
     "output_type": "stream",
     "text": [
      "Zero can never be true!\n"
     ]
    }
   ],
   "source": [
    "if 0:\n",
    "    print( \"Really?\" )\n",
    "else:\n",
    "    print( \"Zero can never be true!\" )"
   ]
  },
  {
   "cell_type": "code",
   "execution_count": 7,
   "metadata": {},
   "outputs": [
    {
     "data": {
      "text/plain": [
       "False"
      ]
     },
     "execution_count": 7,
     "metadata": {},
     "output_type": "execute_result"
    }
   ],
   "source": [
    "bool( [] )"
   ]
  },
  {
   "cell_type": "markdown",
   "metadata": {},
   "source": [
    "### Conditional Execution"
   ]
  },
  {
   "cell_type": "code",
   "execution_count": 8,
   "metadata": {},
   "outputs": [
    {
     "data": {
      "text/plain": [
       "True"
      ]
     },
     "execution_count": 8,
     "metadata": {},
     "output_type": "execute_result"
    }
   ],
   "source": [
    "-1 and True"
   ]
  },
  {
   "cell_type": "code",
   "execution_count": 9,
   "metadata": {},
   "outputs": [
    {
     "data": {
      "text/plain": [
       "True"
      ]
     },
     "execution_count": 9,
     "metadata": {},
     "output_type": "execute_result"
    }
   ],
   "source": [
    "bool( -1 )"
   ]
  },
  {
   "cell_type": "code",
   "execution_count": 10,
   "metadata": {},
   "outputs": [
    {
     "data": {
      "text/plain": [
       "True"
      ]
     },
     "execution_count": 10,
     "metadata": {},
     "output_type": "execute_result"
    }
   ],
   "source": [
    "\"a\" and 5 < 10"
   ]
  },
  {
   "cell_type": "code",
   "execution_count": 11,
   "metadata": {},
   "outputs": [
    {
     "data": {
      "text/plain": [
       "'Hello'"
      ]
     },
     "execution_count": 11,
     "metadata": {},
     "output_type": "execute_result"
    }
   ],
   "source": [
    "147 and \"Hello\""
   ]
  },
  {
   "cell_type": "code",
   "execution_count": 12,
   "metadata": {},
   "outputs": [
    {
     "name": "stdout",
     "output_type": "stream",
     "text": [
      ">>> TRUE\n"
     ]
    }
   ],
   "source": [
    "if 147 and \"Hello\":\n",
    "    print( \">>> TRUE\" )\n",
    "else:\n",
    "    print( \">>> FALSE\" )"
   ]
  },
  {
   "cell_type": "code",
   "execution_count": 13,
   "metadata": {},
   "outputs": [
    {
     "data": {
      "text/plain": [
       "True"
      ]
     },
     "execution_count": 13,
     "metadata": {},
     "output_type": "execute_result"
    }
   ],
   "source": [
    "bool( \"Hello\" )"
   ]
  },
  {
   "cell_type": "code",
   "execution_count": 14,
   "metadata": {},
   "outputs": [
    {
     "name": "stdout",
     "output_type": "stream",
     "text": [
      "The list has some elements: [1, 2, 3]\n"
     ]
    }
   ],
   "source": [
    "lst = [1, 2, 3]\n",
    "#lst = list()\n",
    "\n",
    "if lst: # same as doing: if bool( lst )\n",
    "    #\n",
    "    # We can of course check the length of the list by doing\n",
    "    # \n",
    "    # if len( lst ) != 0:\n",
    "    #\n",
    "    # or\n",
    "    #\n",
    "    # if len( lst ) > 0:\n",
    "    #\n",
    "    # However, there is no need to do any of this.\n",
    "    #\n",
    "    print( \"The list has some elements: {}\".format( lst ) )\n",
    "else:\n",
    "    print( \"The list is empty!\" )"
   ]
  },
  {
   "cell_type": "code",
   "execution_count": 15,
   "metadata": {},
   "outputs": [
    {
     "data": {
      "text/plain": [
       "True"
      ]
     },
     "execution_count": 15,
     "metadata": {},
     "output_type": "execute_result"
    }
   ],
   "source": [
    "bool( lst )"
   ]
  },
  {
   "cell_type": "code",
   "execution_count": 16,
   "metadata": {},
   "outputs": [
    {
     "data": {
      "text/plain": [
       "False"
      ]
     },
     "execution_count": 16,
     "metadata": {},
     "output_type": "execute_result"
    }
   ],
   "source": [
    "bool( [] )"
   ]
  },
  {
   "cell_type": "markdown",
   "metadata": {},
   "source": [
    "-----"
   ]
  },
  {
   "cell_type": "code",
   "execution_count": 17,
   "metadata": {},
   "outputs": [],
   "source": [
    "# Code needed to load different types of images (DO NOT DELETE)\n",
    "#\n",
    "from IPython.display import display, Image, SVG, Math, YouTubeVideo"
   ]
  },
  {
   "cell_type": "markdown",
   "metadata": {},
   "source": [
    "## Relational Operators"
   ]
  },
  {
   "cell_type": "markdown",
   "metadata": {},
   "source": [
    "- `<`\n",
    "- `<=`\n",
    "- `==`\n",
    "- `!=`\n",
    "- `>`\n",
    "- `>=`"
   ]
  },
  {
   "cell_type": "markdown",
   "metadata": {},
   "source": [
    "__GOLDEN RULE OF EQUALITY CHECKING:__\n",
    "\n",
    "> NEVER USE `==` TO CHECK THE EQUALITY OF TWO *FLOATING-POINT* NUMBERS!\n",
    "\n",
    "> USE $\\left|x - y\\right| < \\epsilon$ or use `math.isclose()`"
   ]
  },
  {
   "cell_type": "markdown",
   "metadata": {},
   "source": [
    "---"
   ]
  },
  {
   "cell_type": "markdown",
   "metadata": {},
   "source": [
    "### String Comparison"
   ]
  },
  {
   "cell_type": "code",
   "execution_count": 18,
   "metadata": {},
   "outputs": [
    {
     "data": {
      "text/plain": [
       "False"
      ]
     },
     "execution_count": 18,
     "metadata": {},
     "output_type": "execute_result"
    }
   ],
   "source": [
    "\"abc\" < \"abC\""
   ]
  },
  {
   "cell_type": "code",
   "execution_count": 21,
   "metadata": {},
   "outputs": [],
   "source": [
    "ordval_abc = tuple( [ord( chr ) for chr in \"abc\"] )\n",
    "ordval_abC = tuple( [ord( chr ) for chr in \"abC\"] )"
   ]
  },
  {
   "cell_type": "code",
   "execution_count": 24,
   "metadata": {},
   "outputs": [
    {
     "data": {
      "text/plain": [
       "(99, 67)"
      ]
     },
     "execution_count": 24,
     "metadata": {},
     "output_type": "execute_result"
    }
   ],
   "source": [
    "ord( \"c\" ), ord( \"C\" )"
   ]
  },
  {
   "cell_type": "markdown",
   "metadata": {},
   "source": [
    "Using tuple comparison of the same data:"
   ]
  },
  {
   "cell_type": "code",
   "execution_count": 22,
   "metadata": {},
   "outputs": [
    {
     "data": {
      "text/plain": [
       "(97, 98, 99)"
      ]
     },
     "execution_count": 22,
     "metadata": {},
     "output_type": "execute_result"
    }
   ],
   "source": [
    "ordval_abc"
   ]
  },
  {
   "cell_type": "code",
   "execution_count": 25,
   "metadata": {},
   "outputs": [
    {
     "data": {
      "text/plain": [
       "(97, 98, 67)"
      ]
     },
     "execution_count": 25,
     "metadata": {},
     "output_type": "execute_result"
    }
   ],
   "source": [
    "ordval_abC"
   ]
  },
  {
   "cell_type": "code",
   "execution_count": 26,
   "metadata": {},
   "outputs": [
    {
     "data": {
      "text/plain": [
       "False"
      ]
     },
     "execution_count": 26,
     "metadata": {},
     "output_type": "execute_result"
    }
   ],
   "source": [
    "ordval_abc < ordval_abC"
   ]
  },
  {
   "cell_type": "markdown",
   "metadata": {},
   "source": [
    "---"
   ]
  },
  {
   "cell_type": "markdown",
   "metadata": {},
   "source": [
    "## Logical Operators"
   ]
  },
  {
   "cell_type": "markdown",
   "metadata": {},
   "source": [
    "- `and`\n",
    "- `or`\n",
    "- `not`"
   ]
  },
  {
   "cell_type": "markdown",
   "metadata": {},
   "source": [
    "We can create all other _logical_ operations using these three fundamental operators."
   ]
  },
  {
   "cell_type": "markdown",
   "metadata": {},
   "source": [
    "For example, let us take a look at the $A \\cap B$ ($A\\ \\mathtt{and}\\ B$ or $AB$) relationship:"
   ]
  },
  {
   "cell_type": "markdown",
   "metadata": {},
   "source": [
    "| A       | B               | $A\\ \\texttt{and}\\ B$ |\n",
    "|---------|-----------------|----------------------|\n",
    "| `False (0)` | `False  (0)`| `False (0)`          |\n",
    "| `False (0)` | `True  (1)` | `False (0)`          |\n",
    "| `True  (1)` | `False (0)` | `False (0)`          |\n",
    "| `True  (1)` | `True  (1)` | `True  (1)`          |"
   ]
  },
  {
   "cell_type": "markdown",
   "metadata": {},
   "source": [
    "Then `not( A and B )` would be the _NAND_ relationship, which is the inverse of what `and` produces. "
   ]
  },
  {
   "cell_type": "markdown",
   "metadata": {},
   "source": [
    "| A           | B           | $\\texttt{not}(A\\ \\texttt{and}\\ B)$ |\n",
    "|:------------|:------------|:-----------------------------------|\n",
    "| `False (0)` | `False  (0)`| `True (1)`                         |\n",
    "| `False (0)` | `True  (1)` | `True (1)`                         |\n",
    "| `True  (1)` | `False (0)` | `True (1)`                         |\n",
    "| `True  (1)` | `True  (1)` | `False (0)`                        |"
   ]
  },
  {
   "cell_type": "markdown",
   "metadata": {},
   "source": [
    "You can easily make the observation that `NAND` is the _inverse_ of `AND`."
   ]
  },
  {
   "cell_type": "markdown",
   "metadata": {},
   "source": [
    "An interesting logical relationship is called __XOR__ that is denoted with the $\\oplus$ \n",
    "symbol. This relationship is constructed from the fundamental logical operators as shown in the logic circuit diagram below:"
   ]
  },
  {
   "cell_type": "code",
   "execution_count": 27,
   "metadata": {
    "scrolled": true
   },
   "outputs": [
    {
     "data": {
      "image/svg+xml": "<svg xmlns:dc=\"http://purl.org/dc/elements/1.1/\" xmlns:cc=\"http://creativecommons.org/ns#\" xmlns:rdf=\"http://www.w3.org/1999/02/22-rdf-syntax-ns#\" xmlns:svg=\"http://www.w3.org/2000/svg\" xmlns=\"http://www.w3.org/2000/svg\" xmlns:xlink=\"http://www.w3.org/1999/xlink\" xmlns:sodipodi=\"http://sodipodi.sourceforge.net/DTD/sodipodi-0.dtd\" xmlns:inkscape=\"http://www.inkscape.org/namespaces/inkscape\" id=\"svg2\" viewBox=\"0 0 307.9625 120.95769\" version=\"1.0\" sodipodi:docname=\"xor-circuit.svg\" inkscape:version=\"0.92.4 (5da689c313, 2019-01-14)\" width=\"307.96249\" height=\"120.95769\">\n  <defs id=\"defs17\"/>\n  <sodipodi:namedview pagecolor=\"#ffffff\" bordercolor=\"#666666\" borderopacity=\"1\" objecttolerance=\"10\" gridtolerance=\"10\" guidetolerance=\"10\" inkscape:pageopacity=\"0\" inkscape:pageshadow=\"2\" inkscape:window-width=\"1920\" inkscape:window-height=\"1016\" id=\"namedview15\" showgrid=\"false\" inkscape:zoom=\"2.3366337\" inkscape:cx=\"239.97515\" inkscape:cy=\"101.12696\" inkscape:window-x=\"0\" inkscape:window-y=\"27\" inkscape:window-maximized=\"1\" inkscape:current-layer=\"svg2\" fit-margin-top=\"0\" fit-margin-left=\"0\" fit-margin-right=\"0\" fit-margin-bottom=\"0\"/>\n  <path style=\"fill:none;stroke:#000000;stroke-width:0.99999976;stroke-linecap:square\" inkscape:connector-curvature=\"0\" d=\"m 453.22232,286.02793 a 2.000045,2.000045 0 1 1 -4.00009,0 2.000045,2.000045 0 1 1 4.00009,0 z\" id=\"path16055\"/>\n  <path style=\"fill:none;stroke:#000000;stroke-width:1px\" inkscape:connector-curvature=\"0\" d=\"m 473.22222,286.01903 h 9\" id=\"path2183\"/>\n  <path style=\"fill:none;stroke:#000000;stroke-linecap:square\" inkscape:connector-curvature=\"0\" d=\"m 468.22222,122.02303 h -19 V 96.025026 l 19,-0.002 c 7.18,0 13,5.824004 13,13.000004 0,7.176 -5.82,13 -13,13 z m 17,-13 c 0,1.104 -0.9,2 -2,2 -1.1,0 -2,-0.896 -2,-2 0,-1.104 0.9,-2 2,-2 1.1,0 2,0.896 2,2 z m 0,0 h 9 m -54,-6.5 h 9 m -9,13 h 9\" id=\"path10208\"/>\n  <path style=\"fill:none;stroke:#000000;stroke-linecap:square\" inkscape:connector-curvature=\"0\" d=\"m 449.22222,155.02303 v 0.063 c 2.199,3.815 3.469,8.221 3.469,12.937 0,4.717 -1.27,9.123 -3.469,12.936 v 0.06 h 13.47 c 9.61,0 18,-5.235 22.5,-12.996 -4.5,-7.76 -12.89,-13 -22.5,-13 z m 40,13.001 c 0,1.104 -0.9,2 -2,2 -1.1,0 -2,-0.896 -2,-2 0,-1.104 0.9,-2 2,-2 1.1,0 2,0.896 2,2 z m 0,-0.001 h 9 m -55.5,-6.5 h 9 m -9,13 h 9\" id=\"path10206\"/>\n  <path style=\"fill:none;stroke:#000000;stroke-linecap:square\" inkscape:connector-curvature=\"0\" d=\"m 454.22222,214.01903 v 0.07 c 2.2,3.81 3.47,8.22 3.47,12.93 0,4.72 -1.27,9.13 -3.47,12.94 v 0.06 h 13.47 c 9.61,0 18,-5.23 22.5,-13 -4.5,-7.76 -12.89,-13 -22.5,-13 z m -5,0.07 c 2.199,3.81 3.469,8.22 3.469,12.93 0,4.72 -1.27,9.13 -3.469,12.94 m 45,-12.93 c 0,1.1 -0.9,2 -2,2 -1.1,0 -2,-0.9 -2,-2 0,-1.11 0.9,-2 2,-2 1.1,0 2,0.89 2,2 z m 0,-0.01 h 9 m -60.5,-6.5 h 9 m -9,13 h 9\" id=\"path10210\"/>\n  <path style=\"fill:none;stroke:#000000;stroke-linecap:square\" inkscape:connector-curvature=\"0\" d=\"m 379.22222,155.02403 v 0.062 c 2.199,3.815 3.469,8.221 3.469,12.938 0,4.716 -1.27,9.122 -3.469,12.935 v 0.06 h 13.469 c 9.61,0 18,-5.235 22.5,-12.995 -4.5,-7.761 -12.89,-13 -22.5,-13 z m 36,13 h 9 m -51.5,-6.5 h 9 m -9,13 h 9\" id=\"rect9115\"/>\n  <path style=\"fill:none;stroke:#000000;stroke-linecap:square\" inkscape:connector-curvature=\"0\" d=\"m 398.22222,122.02303 h -19 V 96.025026 l 19,-0.002 c 7.176,0 13,5.824004 13,13.000004 0,7.176 -5.824,13 -13,13 z m 13,-13 h 9.056 m -50.056,-6.5 h 9 m -9,13 h 9\" id=\"path6087\"/>\n  <path style=\"fill:none;stroke:#000000;stroke-linecap:square\" inkscape:connector-curvature=\"0\" d=\"m 402.72222,286.01903 c 0,1.11 -0.896,2 -2,2 -1.104,0 -2,-0.89 -2,-2 0,-1.1 0.896,-2 2,-2 1.104,0 2,0.9 2,2 z m -23.5,11 v -22 l 18.986,11 z m 23.5,-11 h 9 m -41.5,0 h 9\" id=\"path12162\"/>\n  <metadata id=\"metadata12\">\n    <rdf:RDF>\n      <cc:Work>\n        <dc:format>image/svg+xml</dc:format>\n        <dc:type rdf:resource=\"http://purl.org/dc/dcmitype/StillImage\"/>\n        <cc:license rdf:resource=\"http://creativecommons.org/publicdomain/zero/1.0/\"/>\n        <dc:publisher>\n          <cc:Agent rdf:about=\"http://openclipart.org/\">\n            <dc:title>Openclipart</dc:title>\n          </cc:Agent>\n        </dc:publisher>\n        <dc:title/>\n        <dc:date>2008-02-05T18:37:38</dc:date>\n        <dc:description>A collection of gates for digital circuits designed according to the official IEEE Std 91-1984, Appendix A guidelines.</dc:description>\n        <dc:source>http://openclipart.org/detail/12885/digital-logic-gates-by-nobody</dc:source>\n        <dc:creator>\n          <cc:Agent>\n            <dc:title>nobody</dc:title>\n          </cc:Agent>\n        </dc:creator>\n        <dc:subject>\n          <rdf:Bag>\n            <rdf:li>clip art</rdf:li>\n            <rdf:li>clipart</rdf:li>\n            <rdf:li>digital</rdf:li>\n            <rdf:li>gates</rdf:li>\n            <rdf:li>image</rdf:li>\n            <rdf:li>inverter</rdf:li>\n            <rdf:li>logic</rdf:li>\n            <rdf:li>media</rdf:li>\n            <rdf:li>nand</rdf:li>\n            <rdf:li>nor</rdf:li>\n            <rdf:li>public domain</rdf:li>\n            <rdf:li>svg</rdf:li>\n            <rdf:li>xnor</rdf:li>\n            <rdf:li>xor</rdf:li>\n          </rdf:Bag>\n        </dc:subject>\n      </cc:Work>\n      <cc:License rdf:about=\"http://creativecommons.org/publicdomain/zero/1.0/\">\n        <cc:permits rdf:resource=\"http://creativecommons.org/ns#Reproduction\"/>\n        <cc:permits rdf:resource=\"http://creativecommons.org/ns#Distribution\"/>\n        <cc:permits rdf:resource=\"http://creativecommons.org/ns#DerivativeWorks\"/>\n      </cc:License>\n    </rdf:RDF>\n  </metadata>\n  <image y=\"-76.50528\" x=\"-223.63287\" id=\"image299\" xlink:href=\"data:image/png;base64,iVBORw0KGgoAAAANSUhEUgAAAW8AAAFhCAAAAACaXXS4AAARh0lEQVR42u2dsc7ruHLH/2WaDS6x RW66AwIL7DYXF6ti9yLNFkQQIM1pBBwgzRYB64M0LC7SC7cOArDeTs0iNYu8AF+ByBvwFSaFZFuW RIqy9dmWNdOsz1rDz/6ZmhmOhkMQyyMFjIB5M28W5s28WZg382beLMybebMwb+bNwryZN/NmYd7M m4V5H5J3aLr/6l/NRb7+m3GOGX8Eb48O7Pffqov88r0AIFRtGheY9ab2RCkiInIYTWjnjFEVAGEY eTFvDwA2d4Xr31Zy3t44I1C3zLv4SmNVfoLLK+4zYivIJjLvMqlIhvwt0IGuZeYaDWjPvAukNdQ0 2St0Bzpk7U5sJKqWeS9K7SnIfEiIpueetxmtgmHeCxIlEVV+6B+n8nex476Es4GKzDuPyBBRo68C vbH81oPWYommE8Ix76y3BACIhRCmAx3For2ICg3zzgQWXSyo8p4uiqbnXhBeoo7MO0mnu/19vbDI rHvbXhDztUJ65j0vsjMlcsmimKoftSTiC1V+xcr5k0Wx/XCyLODTcMz7HjkZElWXXa9EZN53Ddde 2ZXlqL5i3vdIb0hs6bD+aEvNjXmvCVD6peYtyRRXCwjtmPeqAKVfjK6PCrW0kYIV5vC8m368chSx qmLa2sw+5dA6EoEoVmZ6OV7bQm3M26HLkStdrOJF7tqZpxxOxv6Dx3EWBkRE2hyHd+wjaqPWBO2Z Zc/MU47anj+41TPfJorj8Kb+bjZrxv3TKK07+K3mnnJ0MTuIiIKY440j8V4XgHc26Mt1Xncwoeee coAuPwym3yZqdRzeaxeYRBSFyqyHRk85RvN7bDq6pHF7HN4rEyhLa/rpU46R/a5nvk3Q9jC818ff Jpezmn3K4eTZdEg3+23EYXivXl+2uec8iaccWncfPCoz+21e2WE+OX8SRM7QJ55yRF3ZSMFOjVZn 1LU+DO8+lDaydHGZq51IP+WYz5+EPmzR8Si8T9WaqjAkuyV5sm/ZlnfbD1eVhSfN8R6olfEuzQSd 7EgRx6gPWGeFNdctZoJq1f88BalpX4kD1hGu4r2UCYp9xNAUjGpFdcRC2XW8sbR2Cd3PshyQ6ZeO Il6D91Im6MS5x54Lu49YerKO9zgTlK6PXS4fPGZp1Xp7cpUJmpTH/v7N1256LxSVhIOWDq7nnc8E 9ZxDfnq3NURDxLxLrss5zFBQ/R0bicoSMe+y+CSXCeo5Z3Y38G6pUt4FmaDTNimdSFVF3g24af4k uTvNu8YoBfBuV9p0/3zH+S9/GPQrMEpJAFDKGN5Avy3v3rL//ONVvwJtWheZ8gfYExbmzbyZNyNg 3sybhXkzbxbmzbyZNwvzZt4szJt5szBv5s28WZg382Zh3sybhXkzb+bNwryZNwvzZt4szHvHvKG3 0hA1816UsLrVQEojJBv8NHb66qi84+oq+pRGm+xtcPmB3qiPxNPtd7IzpDv3HHNoj85bKaKgBVBf 9ve5GpCWuoPphAlwp0Y/BkRKUd39MSUjUSMBKE+kqitVpVwNVJ7kudHm6VV7vuh4vGEoCOnI4rz9 z8LEWMMQaTQUKoV4sgSqIoLpW99ZtEQGOkYN2bnRiyoJWXkykP0PQSd1It1dZI/I28OSQiCiM2+H hogCBBlYImohz7vWhCYPSxaOiKQiiqiJiFCTRzNQpYCu+bEkujT1EJqIWhgiCpBH5N3AE657DMoO BBA6MxCgu+uIPBpq4Duu5qLmYMnCX1SJ2u4HghnELd2rwUXH461BVAOV8Rdrcuqhazrv5tF01xFZ eNIgijCnZh2xNVoJeDIYqBIZxP6HuMQtLdylafUx53eliKjV8tJCrDr1mIkS8UypOrvLSnVLnm6X vYFQplGCSKmB6slUNwiDuMWAqLde5KGPyPuEOciT/uU+71/VOF8nVf9KKY+GiExHrer+/9BEdG9o MXGX/UXN3k9Iuom3Q0sd6XPnS9mZ5UqSQCAih+p0lnEL04fQtewoCsT+LBgHO1DtjFD/A+mr36Ab Nde7es+849lMXl4NXjYIJNAQ2bNTa1F5CrXwZFAFsgKGyKGO1AhYahCIyKCbngKOghUw1MAPVMnC U2/nz13uu1cGVSBXnfpxzn6suAPjjsQErievBi9rQeQUgEHn4lYAUkciMhIQBpYo1oDQFp5q0f1O 3QhWApAWcBrXqqBTV9TqDK97ZSpAmpj7WIP/ebj1vC3pSO2zSZgw84rzJ5mIkeVxvCvFbB/J+8BH nj+FNwvzZt7Mm4V5M28W5s28WZg382beLMybebMwb+bNwryZN/NmYd7Mm4V5M28W5s28mTcL82be LMybebMwb+bNvFmYN/NmYd7Mm4V5M2/mzcK8mfcKCSYnXz9bv2o4P1BumfdUHFRG/umPAJQph24H yoZ5z/FeuqDRFQAd39eeeACPau7nin5l1wjRvi1vIjJWvRJvolijju/LuyJZ0NnF+YfxJmozU/xy R/qun57ZF+/WUNMsxgIC93ctKue9MMXPdySIiLTZFe/aU1hsuCUBoHkcb6JWVEng5zsSRERR7Il3 lERU+SGVj5NV0bpIzdvLHdnxxp54N4aImmH7Sjcj3wDAv7v75G/rwCSbPF7uSBBR1GpPvCsAwNIt 2QKo4iPtyalj+Ixtv9yR3Wdvd8Tbd5NDLX3m8N3nB8YnWYsyuCNBRBS03Q9v092zfjH42GDJvJY3 NbMnCgzuyH5AsRvesvvgctmiPIM3KTG1KMM7shtwBw5z/Sd8Cu8opn2oh3dkF59ozby34U1GzqwE Tndk6KPMHeS39sK7xXskUvbCO+y90fpWvONjeJMwzLv7Z3wIb1UzbyIihfUz7xbeRjLv7p9m9Slb t/B+E4e5AW8KNZT7aN5v4jC34E3kFOrwsbxpi9Tuu/AmshLljvMW3hH/OZfabQ7Km8iIYsd5C2+H sNmt8ha8KRY7zg3jkwPzpmLHeQukumbe03+WOc5bIEnDvOfSKSWO8wZIMREOvj/vP/2a5V3iODfM D74/7x+WeC87zk3y32xPih3nDc93ZP1evMtL8L77OSzyXnCc6yEZEd5tfpeW4Om/v5q7yccPA8fZ KKX9PZBcsoRu57znSvAmBbG2EgW8z44zVqiNHNaWr4UUpaI35T35+HMFsWEAL/d4rXOcRngi0oMD MddCSlqTvfOeKcGbLYitVRHvznF+Y8YLlpWQ2kxB7o55j0vwCutjv+T/gD1d8enWJGr2kOgR77+N PpxU2rQuvqw9uSrBSxfE/us/Ovdb9/LH7PyORoh+dv75y1lnVX2sr0Qs5h2/+TL4mL+3RisJAJUy 7hV5T0vw5gpi4+AGz9oTK4SJWsRRUfEaI2BQ+RVLpzlT711jlIS08fV4Tx3mtCDW14MZl+HtJHQg ikIYUw9D+3LevlpYEoyHmit866/UEDq8GO+5ErwR0d9+uVqtJ3l7BdXNzKglruqci3kvTO65oQyS TIORUPY1eGdK8EZEP31qC9aXQUO6+4KK2FbL693pUDJXtGkVpAkvMb9vTJjM8o5GCHtH/iQ6U0ss Tu7ZoSyyPIMWd+/3eijvxXxs7yazkLL9Cv4iAaFMWzIPf58O9YefFn5M88RC2vW8F/OxvZvMeUGV 7VfwfRlqIiL6308T/R8WK1WsqPy72JOLm3yaVIv71Hwl7FvwzrrJR4lbLsWK+km7vzflveAmHzfB C1haVGHnvJfc5MOkaOOrl8/Yr7kd72U3+TAxRfsCYw27W94v4CaHBrzsNtPC75P3S7jJgdcurF2O VdnW9CgGKV5318Vb8H4VNzn4VoUryCDKdqn4QZL3vos34P0ybnIxqTOV9tFr+/t542Xc5MoApXOt 8Dvj/Tpucm2A0n1+EXfFO9ALSruiQVb66eigReC6jmSZTmZ3835J8Ss2V7kcxUuLwJUdyVKdzN6T N61ZyRj883VCd2BgLi0Ck+VQ86Yr1cnsXXmvCDssvr9O6F4c0qBFYLIj2SzBZCez9+S9ZrOmF+kH cIMWgcmOZMgrjvTek7cr34ycW2MOWwQmO5IhrzjSe0/eK+LBXA5l2CJwtiNZ0y/b67TiSO89eZev d5qcZx22CEx2JENecaT3nryLP6PPBYNXLQKTHcmQVxzpvSfv0oVJlFXOKg1bBCbLoZBXHOm9Je/i 8ESJzPJ42CIwUw5lcooTvbfk7VCWZTCP7/HxlrwLm0aYJzyjv5t384IJK1MSnkT1jLq2+/OxL/ew gUgV9Nl0QjwjkXw/7+rVHqaRK8hWGainTJMNnqe92MNiIrXYyi3WzzpcY5Pn808shvi/Xyb1sV+w VMfznFKf7Xg/sdjnv6dHg337w4LOk0rZtuT9tGK2ab39QrVmtPKZB/VsV8/2nCqUmf0kuWAwaAH9 TGezZb3mMxznhLfNTO+n797Zuv778Y5zwjvVKOUldqdtv7/h0Y5zzHt2t1Rw1tSvsPvyI/anPdZx jvdzX+8GdM4YVXUb6e1LLIM/YD/gsuNc6oQga1PaY2ChXwGEqo11r5Pj+ZD9l0uO0yF73Nd/GSUA WZe4tvH8/m040O+v11L5Y/a7LjjOgv3FoTVKFATKb9if7RbeI8fpru/oUkjL2+eZ94zjbAVwdWpo MaTF9hDMe+o4HWofrahugrQ0xZn3xHF223394GnKGki+ymazD8BbdV0FPnfZz09f87gU8FciIvrp z8Z8/tpnTNd8xOxT3ffnbbqs5099o4Bvf80qRwP8BxER/fAPSn36SSml1I/rICWOGz0I71XvGiFM l9EIorkVUsj0W2bewwhFwkRqYYh8NZikayE1cMx78d1zy14DXPfqWQ0pbVGY98kIDFpSB3vd/W81 pPS+VOZ9cpOZluvrIdnUM2DmTctHCtwAqVbMO/Xu4pEZN0BKlQQy74IjYW6A5BL7ro/Ou+jIo1sg JVb1x+ZdeKTXLZAqw7zH75YeWXcLpMQWqAPzLj+S8RZICYd5WN5rjhy97TxGz7zP7647Uve2813/ Za7ZrD4i77jyyOjbeH833272eLxXnOx6O29/mPOiF3irNScX387bgpg3Ea07mft23kYxb7rsXf5w 3rtoc/MA3rfIhut55v0xvD08834g78nyUg2KYA3z3pr3JH0SBnWwkXlvzNs98wyX4/GO8j2iwb3w NiIw78fxnrcmmS6tzPse3mlrkurSum/eymws6+pjqU5ak1SX1l3zNmprWVcfa5NLy2SX1l3z3l7W 2JNYI9mtJ9mllXnfyrsV6VYl6S6tzPs23rG+2mc1XuMnu7Qy75t45yZ3tksr817N21tT5SZ3tksr 817D21ujAFQ6b48zXVqZ94j3glS6WXxslOvSyryv3WC2XYH7H3pfAbEwb+bNwryZNwvzZt7Mm4V5 M28W5s28WZg382beLMybebMwb+bNwryZN/NmYd7Mm4V5M28W5s28mTcL82beLMybebMwb+bNvFmY N/NmYd7Mm4V5M2/mzcK8mff90g47ibVbXsy852TY6Bhyy4uZN89vtt/Mm3lPxNUCQjvm9xjeWtpI wQrDALfkbRJRgNaRCETx+lBK0zf7Kuu6OBg8o9iEjOK6P/j6vBsAmJ6j5WQ8tWwVbsq7sBH3YPC0 YoTIKJr9HZiBJShi2i63tmdNe/0m0OmU/e3B4ElFIKu47g++Pm8JLzC+pUU8awYxpRNHjKLoZ6Fw ycFnFZO8L4pJvX3ydlCkJ3cr6HQfq5E+QBTqkUI48UabHHxWMcV7oJjU2yfvGi35iccczO84nt8z XEsGn1P054V7k1Rc9QdfnvepT6hN2+96jvdI4ZT0qGJy8DnFWJ3skE9+qvk/uOt4EIAaxycnzSjd zN3fXvuvxDy9GnxWMWFPhopJvV3y7pxSnHhMrTvNOD66pPv6bvT1T9oxJgefV5znPVRM6u2QdxAA WnJiYiCjrmykYKWZnXgl8fDV4BnFCe+h4uf9nViHXHACwFI7931m8ycnbCXrvavB04pxkjIYKv6M 3S0wOT/IvJk3C/Nm3izMm3kfW/4fbM7/CLXl9GEAAAAASUVORK5CYII= \" preserveAspectRatio=\"none\" height=\"194.93008\" width=\"202.66103\"/>\n  <g id=\"g1291\" transform=\"matrix(1.4461455,0,0,1.4461455,465.97408,111.15783)\">\n    <path sodipodi:nodetypes=\"scccsscccc\" style=\"fill:none;stroke:#000000;stroke-linecap:square\" inkscape:connector-curvature=\"0\" d=\"m -225.69889,6.2765376 h -19 V -19.721462 l 19,-0.002 c 7.176,0 13,5.824 13,12.9999996 0,7.176 -5.824,13 -13,13 z m -28,-19.4999996 h 9 m -62.60275,12.99999958 h 62.60275\" id=\"path326\"/>\n    <path sodipodi:nodetypes=\"scccsscccccccccc\" id=\"path328\" d=\"m -225.69889,-50.3649 h -19 v -25.998 l 19,-0.002 c 7.176,0 13,5.824 13,13 0,7.176 -5.824,13 -13,13 z m 13,-13 h 9.056 v 21.905683 m 0,12.932601 v 21.8031536 h -9.056 M -312,-69.8649 h 67.30111 m -9,13 h 9\" inkscape:connector-curvature=\"0\" style=\"fill:none;stroke:#000000;stroke-linecap:square\"/>\n    <path style=\"fill:none;stroke:#000000;stroke-linecap:square\" inkscape:connector-curvature=\"0\" d=\"m -262.69889,-13.223462 c 0,1.11 -0.896,2 -2,2 -1.104,0 -2,-0.89 -2,-2 0,-1.1 0.896,-2 2,-2 1.104,0 2,0.9 2,2 z m -23.5,10.9999998 V -24.223462 l 18.986,11 z m 23.5,-10.9999998 h 9 m -41.5,0 h 9\" id=\"path330\"/>\n    <text xml:space=\"preserve\" style=\"font-style:normal;font-variant:normal;font-weight:normal;font-stretch:normal;font-size:10.66666698px;line-height:1.25;font-family:ClearviewADA;-inkscape-font-specification:'ClearviewADA, Normal';font-variant-ligatures:normal;font-variant-caps:normal;font-variant-numeric:normal;font-feature-settings:normal;text-align:start;letter-spacing:0px;word-spacing:0px;writing-mode:lr-tb;text-anchor:start;fill:#000000;fill-opacity:1;stroke:none\" x=\"-322.50598\" y=\"-66.446251\" id=\"text336\"><tspan sodipodi:role=\"line\" id=\"tspan334\" x=\"-322.50598\" y=\"-66.446251\">A</tspan></text>\n    <text xml:space=\"preserve\" style=\"font-style:normal;font-variant:normal;font-weight:normal;font-stretch:normal;font-size:10.66666698px;line-height:1.25;font-family:ClearviewADA;-inkscape-font-specification:'ClearviewADA, Normal';font-variant-ligatures:normal;font-variant-caps:normal;font-variant-numeric:normal;font-feature-settings:normal;text-align:start;letter-spacing:0px;word-spacing:0px;writing-mode:lr-tb;text-anchor:start;fill:#000000;fill-opacity:1;stroke:none\" x=\"-322.62866\" y=\"-53.361046\" id=\"text340\"><tspan sodipodi:role=\"line\" id=\"tspan338\" x=\"-322.62866\" y=\"-53.361046\">B</tspan></text>\n    <path sodipodi:nodetypes=\"ssssscccccccc\" id=\"path346\" d=\"m -262.69889,-56.8649 c 0,1.11 -0.896,2 -2,2 -1.104,0 -2,-0.89 -2,-2 0,-1.1 0.896,-2 2,-2 1.104,0 2,0.9 2,2 z m -23.5,11 v -22 l 18.986,11 z m 23.5,-11 h 9 m -58.30111,0 h 25.80111\" inkscape:connector-curvature=\"0\" style=\"fill:none;stroke:#000000;stroke-linecap:square\"/>\n    <path sodipodi:nodetypes=\"cccc\" inkscape:connector-curvature=\"0\" id=\"path348\" d=\"m -295.05229,-70.053342 -0.0275,10.673121 c 4.28488,-0.0866 4.20409,4.806916 -0.012,4.6541 l -0.10706,41.502659\" style=\"fill:none;stroke:#000000;stroke-width:1px;stroke-linecap:butt;stroke-linejoin:miter;stroke-opacity:1\"/>\n    <circle r=\"1.5\" cy=\"-69.871826\" cx=\"-295.07333\" id=\"path350\" style=\"opacity:1;fill:#000000;fill-opacity:1;stroke:none;stroke-width:8.65736294;stroke-linecap:butt;stroke-linejoin:round;stroke-miterlimit:4;stroke-dasharray:none;stroke-dashoffset:0;stroke-opacity:1;paint-order:stroke fill markers\"/>\n    <circle style=\"opacity:1;fill:#000000;fill-opacity:1;stroke:none;stroke-width:8.65736294;stroke-linecap:butt;stroke-linejoin:round;stroke-miterlimit:4;stroke-dasharray:none;stroke-dashoffset:0;stroke-opacity:1;paint-order:stroke fill markers\" id=\"circle1157\" cx=\"-307.23676\" cy=\"-56.943703\" r=\"1.5\"/>\n    <path sodipodi:nodetypes=\"cc\" inkscape:connector-curvature=\"0\" id=\"path1159\" d=\"M -307.30831,-57.192088 V 0.2727628\" style=\"fill:none;stroke:#000000;stroke-width:1px;stroke-linecap:butt;stroke-linejoin:miter;stroke-opacity:1\"/>\n    <path sodipodi:nodetypes=\"ccsccscsccccccc\" style=\"fill:none;stroke:#000000;stroke-linecap:square\" inkscape:connector-curvature=\"0\" d=\"m -186.59629,-48.041681 v 0.062 c 2.199,3.815 3.469,8.221 3.469,12.938 0,4.716 -1.27,9.122 -3.469,12.935 v 0.06 h 13.469 c 9.61,0 18,-5.235 22.5,-12.995 -4.5,-7.761 -12.89,-13 -22.5,-13 z m 36,13 h 9 m -62.01597,-6.5 h 19.51597 m -19.40248,13 h 19.40248\" id=\"path1161\"/>\n    <text id=\"text1179\" y=\"-31.519701\" x=\"-137.14729\" style=\"font-style:normal;font-variant:normal;font-weight:normal;font-stretch:normal;font-size:10.66666698px;line-height:1.25;font-family:ClearviewADA;-inkscape-font-specification:'ClearviewADA, Normal';font-variant-ligatures:normal;font-variant-caps:normal;font-variant-numeric:normal;font-feature-settings:normal;text-align:start;letter-spacing:0px;word-spacing:0px;writing-mode:lr-tb;text-anchor:start;fill:#000000;fill-opacity:1;stroke:none\" xml:space=\"preserve\"><tspan y=\"-31.519701\" x=\"-137.14729\" sodipodi:role=\"line\" id=\"tspan1177\">A ⊕ B</tspan></text>\n    <text xml:space=\"preserve\" style=\"font-style:normal;font-variant:normal;font-weight:normal;font-stretch:normal;font-size:5.33333349px;line-height:1.25;font-family:ClearviewADA;-inkscape-font-specification:'ClearviewADA, Normal';font-variant-ligatures:normal;font-variant-caps:normal;font-variant-numeric:normal;font-feature-settings:normal;text-align:start;letter-spacing:0px;word-spacing:0px;writing-mode:lr-tb;text-anchor:start;fill:#000000;fill-opacity:1;stroke:none\" x=\"-284.34451\" y=\"-54.872253\" id=\"text1187\"><tspan sodipodi:role=\"line\" id=\"tspan1185\" x=\"-284.34451\" y=\"-54.872253\">NOT</tspan></text>\n    <text id=\"text1191\" y=\"-61.50013\" x=\"-235.28531\" style=\"font-style:normal;font-variant:normal;font-weight:normal;font-stretch:normal;font-size:5.33333349px;line-height:1.25;font-family:ClearviewADA;-inkscape-font-specification:'ClearviewADA, Normal';font-variant-ligatures:normal;font-variant-caps:normal;font-variant-numeric:normal;font-feature-settings:normal;text-align:start;letter-spacing:0px;word-spacing:0px;writing-mode:lr-tb;text-anchor:start;fill:#000000;fill-opacity:1;stroke:none\" xml:space=\"preserve\"><tspan y=\"-61.50013\" x=\"-235.28531\" id=\"tspan1189\" sodipodi:role=\"line\">AND</tspan></text>\n    <text xml:space=\"preserve\" style=\"font-style:normal;font-variant:normal;font-weight:normal;font-stretch:normal;font-size:5.33333349px;line-height:1.25;font-family:ClearviewADA;-inkscape-font-specification:'ClearviewADA, Normal';font-variant-ligatures:normal;font-variant-caps:normal;font-variant-numeric:normal;font-feature-settings:normal;text-align:start;letter-spacing:0px;word-spacing:0px;writing-mode:lr-tb;text-anchor:start;fill:#000000;fill-opacity:1;stroke:none\" x=\"-235.28531\" y=\"-4.9234619\" id=\"text1199\"><tspan sodipodi:role=\"line\" id=\"tspan1197\" x=\"-235.28531\" y=\"-4.9234619\">AND</tspan></text>\n    <text id=\"text1203\" y=\"-33.265514\" x=\"-172.72955\" style=\"font-style:normal;font-variant:normal;font-weight:normal;font-stretch:normal;font-size:5.33333349px;line-height:1.25;font-family:ClearviewADA;-inkscape-font-specification:'ClearviewADA, Normal';font-variant-ligatures:normal;font-variant-caps:normal;font-variant-numeric:normal;font-feature-settings:normal;text-align:start;letter-spacing:0px;word-spacing:0px;writing-mode:lr-tb;text-anchor:start;fill:#000000;fill-opacity:1;stroke:none\" xml:space=\"preserve\"><tspan y=\"-33.265514\" x=\"-172.72955\" id=\"tspan1201\" sodipodi:role=\"line\">OR</tspan></text>\n    <text id=\"text1207\" y=\"-11.444796\" x=\"-284.34451\" style=\"font-style:normal;font-variant:normal;font-weight:normal;font-stretch:normal;font-size:5.33333349px;line-height:1.25;font-family:ClearviewADA;-inkscape-font-specification:'ClearviewADA, Normal';font-variant-ligatures:normal;font-variant-caps:normal;font-variant-numeric:normal;font-feature-settings:normal;text-align:start;letter-spacing:0px;word-spacing:0px;writing-mode:lr-tb;text-anchor:start;fill:#000000;fill-opacity:1;stroke:none\" xml:space=\"preserve\"><tspan y=\"-11.444796\" x=\"-284.34451\" id=\"tspan1205\" sodipodi:role=\"line\">NOT</tspan></text>\n    <g transform=\"translate(0.15130887,7.1115167)\" id=\"g1240\">\n      <text xml:space=\"preserve\" style=\"font-style:normal;font-variant:normal;font-weight:normal;font-stretch:normal;font-size:10.66666698px;line-height:1.25;font-family:ClearviewADA;-inkscape-font-specification:'ClearviewADA, Normal';font-variant-ligatures:normal;font-variant-caps:normal;font-variant-numeric:normal;font-feature-settings:normal;text-align:start;letter-spacing:0px;word-spacing:0px;writing-mode:lr-tb;text-anchor:start;fill:#000000;fill-opacity:1;stroke:none\" x=\"-201.1776\" y=\"-71.891907\" id=\"text1227\"><tspan sodipodi:role=\"line\" id=\"tspan1225\" x=\"-201.1776\" y=\"-71.891907\">A</tspan></text>\n      <text xml:space=\"preserve\" style=\"font-style:normal;font-variant:normal;font-weight:normal;font-stretch:normal;font-size:10.66666698px;line-height:1.25;font-family:ClearviewADA;-inkscape-font-specification:'ClearviewADA, Normal';font-variant-ligatures:normal;font-variant-caps:normal;font-variant-numeric:normal;font-feature-settings:normal;text-align:start;letter-spacing:0px;word-spacing:0px;writing-mode:lr-tb;text-anchor:start;fill:#000000;fill-opacity:1;stroke:none\" x=\"-193.4899\" y=\"-71.870575\" id=\"text1231\"><tspan sodipodi:role=\"line\" id=\"tspan1229\" x=\"-193.4899\" y=\"-71.870575\">B</tspan></text>\n      <path style=\"fill:none;stroke:#000000;stroke-width:1.04494655px;stroke-linecap:butt;stroke-linejoin:miter;stroke-opacity:1\" d=\"m -192.48379,-80.940301 h 5.163\" id=\"path1233\" inkscape:connector-curvature=\"0\"/>\n    </g>\n    <g id=\"g1252\" transform=\"translate(0.15130887,72.174329)\">\n      <text id=\"text1244\" y=\"-71.891907\" x=\"-201.1776\" style=\"font-style:normal;font-variant:normal;font-weight:normal;font-stretch:normal;font-size:10.66666698px;line-height:1.25;font-family:ClearviewADA;-inkscape-font-specification:'ClearviewADA, Normal';font-variant-ligatures:normal;font-variant-caps:normal;font-variant-numeric:normal;font-feature-settings:normal;text-align:start;letter-spacing:0px;word-spacing:0px;writing-mode:lr-tb;text-anchor:start;fill:#000000;fill-opacity:1;stroke:none\" xml:space=\"preserve\"><tspan y=\"-71.891907\" x=\"-201.1776\" id=\"tspan1242\" sodipodi:role=\"line\">A</tspan></text>\n      <text id=\"text1248\" y=\"-71.870575\" x=\"-193.4899\" style=\"font-style:normal;font-variant:normal;font-weight:normal;font-stretch:normal;font-size:10.66666698px;line-height:1.25;font-family:ClearviewADA;-inkscape-font-specification:'ClearviewADA, Normal';font-variant-ligatures:normal;font-variant-caps:normal;font-variant-numeric:normal;font-feature-settings:normal;text-align:start;letter-spacing:0px;word-spacing:0px;writing-mode:lr-tb;text-anchor:start;fill:#000000;fill-opacity:1;stroke:none\" xml:space=\"preserve\"><tspan y=\"-71.870575\" x=\"-193.4899\" id=\"tspan1246\" sodipodi:role=\"line\">B</tspan></text>\n      <path inkscape:connector-curvature=\"0\" id=\"path1250\" d=\"m -200.29417,-80.940301 h 5.163\" style=\"fill:none;stroke:#000000;stroke-width:1.04494655px;stroke-linecap:butt;stroke-linejoin:miter;stroke-opacity:1\"/>\n    </g>\n  </g>\n</svg>",
      "text/plain": [
       "<IPython.core.display.SVG object>"
      ]
     },
     "execution_count": 27,
     "metadata": {},
     "output_type": "execute_result"
    }
   ],
   "source": [
    "SVG( 'figures/xor-circuit.svg' )"
   ]
  },
  {
   "cell_type": "markdown",
   "metadata": {},
   "source": [
    "So, `XOR` is constructed using two `not`, two `and`, and a single `or` operator connected as shown in the figure above. In short, the `XOR` is denoted as follows:"
   ]
  },
  {
   "cell_type": "code",
   "execution_count": 28,
   "metadata": {},
   "outputs": [
    {
     "data": {
      "image/svg+xml": "<svg xmlns:dc=\"http://purl.org/dc/elements/1.1/\" xmlns:cc=\"http://creativecommons.org/ns#\" xmlns:rdf=\"http://www.w3.org/1999/02/22-rdf-syntax-ns#\" xmlns:svg=\"http://www.w3.org/2000/svg\" xmlns=\"http://www.w3.org/2000/svg\" xmlns:sodipodi=\"http://sodipodi.sourceforge.net/DTD/sodipodi-0.dtd\" xmlns:inkscape=\"http://www.inkscape.org/namespaces/inkscape\" width=\"41.697037mm\" height=\"10.68965mm\" viewBox=\"0 0 41.697037 10.68965\" version=\"1.1\" id=\"svg1347\" inkscape:version=\"0.92.4 (5da689c313, 2019-01-14)\" sodipodi:docname=\"xor-symbol.svg\">\n  <defs id=\"defs1341\"/>\n  <sodipodi:namedview id=\"base\" pagecolor=\"#ffffff\" bordercolor=\"#666666\" borderopacity=\"1.0\" inkscape:pageopacity=\"0.0\" inkscape:pageshadow=\"2\" inkscape:zoom=\"1.979899\" inkscape:cx=\"232.73863\" inkscape:cy=\"-66.453585\" inkscape:document-units=\"mm\" inkscape:current-layer=\"layer1\" showgrid=\"false\" fit-margin-top=\"0\" fit-margin-left=\"0\" fit-margin-right=\"0\" fit-margin-bottom=\"0\" inkscape:window-width=\"1920\" inkscape:window-height=\"1016\" inkscape:window-x=\"0\" inkscape:window-y=\"27\" inkscape:window-maximized=\"1\"/>\n  <metadata id=\"metadata1344\">\n    <rdf:RDF>\n      <cc:Work rdf:about=\"\">\n        <dc:format>image/svg+xml</dc:format>\n        <dc:type rdf:resource=\"http://purl.org/dc/dcmitype/StillImage\"/>\n        <dc:title/>\n      </cc:Work>\n    </rdf:RDF>\n  </metadata>\n  <g inkscape:label=\"Layer 1\" inkscape:groupmode=\"layer\" id=\"layer1\" transform=\"translate(53.35447,-139.70874)\">\n    <g id=\"g1321\" transform=\"matrix(0.39248273,0,0,0.39248273,-92.135969,162.35395)\">\n      <path id=\"path10179\" d=\"m 121.57072,-57.084344 v 0.07 c 2.199,3.81 3.469,8.22 3.469,12.93 0,4.72 -1.27,9.13 -3.469,12.94 v 0.06 h 13.469 c 9.61,0 18,-5.23 22.5,-13 -4.5,-7.76 -12.89,-13 -22.5,-13 z m -5,0.07 c 2.199,3.81 3.469,8.22 3.469,12.93 0,4.72 -1.27,9.13 -3.469,12.94 m 41,-12.94 h 9 m -56.5,-6.5 h 9 m -9,13 h 9\" inkscape:connector-curvature=\"0\" style=\"fill:none;stroke:#000000;stroke-linecap:square\"/>\n      <text id=\"text304\" y=\"-46.762527\" x=\"98.450714\" style=\"font-style:normal;font-variant:normal;font-weight:normal;font-stretch:normal;font-size:13.33333302px;line-height:1.25;font-family:ClearviewADA;-inkscape-font-specification:'ClearviewADA, Normal';font-variant-ligatures:normal;font-variant-caps:normal;font-variant-numeric:normal;font-feature-settings:normal;text-align:start;letter-spacing:0px;word-spacing:0px;writing-mode:lr-tb;text-anchor:start;fill:#000000;fill-opacity:1;stroke:none\" xml:space=\"preserve\"><tspan y=\"-46.762527\" x=\"98.450714\" id=\"tspan302\" sodipodi:role=\"line\">A</tspan></text>\n      <text id=\"text308\" y=\"-31.783737\" x=\"98.297394\" style=\"font-style:normal;font-variant:normal;font-weight:normal;font-stretch:normal;font-size:13.33333302px;line-height:1.25;font-family:ClearviewADA;-inkscape-font-specification:'ClearviewADA, Normal';font-variant-ligatures:normal;font-variant-caps:normal;font-variant-numeric:normal;font-feature-settings:normal;text-align:start;letter-spacing:0px;word-spacing:0px;writing-mode:lr-tb;text-anchor:start;fill:#000000;fill-opacity:1;stroke:none\" xml:space=\"preserve\"><tspan y=\"-31.783737\" x=\"98.297394\" id=\"tspan306\" sodipodi:role=\"line\">B</tspan></text>\n      <text xml:space=\"preserve\" style=\"font-style:normal;font-variant:normal;font-weight:normal;font-stretch:normal;font-size:13.33333302px;line-height:1.25;font-family:ClearviewADA;-inkscape-font-specification:'ClearviewADA, Normal';font-variant-ligatures:normal;font-variant-caps:normal;font-variant-numeric:normal;font-feature-settings:normal;text-align:start;letter-spacing:0px;word-spacing:0px;writing-mode:lr-tb;text-anchor:start;fill:#000000;fill-opacity:1;stroke:none\" x=\"170.19571\" y=\"-39.673752\" id=\"text312\"><tspan id=\"tspan318\" sodipodi:role=\"line\" x=\"170.19571\" y=\"-39.673752\">A ⊕ B</tspan></text>\n      <text id=\"text324\" y=\"-43.338821\" x=\"194.80377\" style=\"font-style:normal;font-variant:normal;font-weight:normal;font-stretch:normal;font-size:16px;line-height:1.25;font-family:ClearviewADA;-inkscape-font-specification:'ClearviewADA, Normal';font-variant-ligatures:normal;font-variant-caps:normal;font-variant-numeric:normal;font-feature-settings:normal;text-align:start;letter-spacing:0px;word-spacing:0px;writing-mode:lr-tb;text-anchor:start;fill:#000000;fill-opacity:1;stroke:none\" xml:space=\"preserve\"><tspan y=\"-43.338821\" x=\"194.80377\" id=\"tspan322\" sodipodi:role=\"line\"> </tspan></text>\n    </g>\n  </g>\n</svg>",
      "text/plain": [
       "<IPython.core.display.SVG object>"
      ]
     },
     "execution_count": 28,
     "metadata": {},
     "output_type": "execute_result"
    }
   ],
   "source": [
    "SVG( 'figures/xor-symbol.svg' )"
   ]
  },
  {
   "cell_type": "markdown",
   "metadata": {},
   "source": [
    "To build the logic table for this operator, we can go step by step. To fit everything, we will use `F` for `False` and `T` for `True`."
   ]
  },
  {
   "cell_type": "markdown",
   "metadata": {},
   "source": [
    "<div style=\"width: 100;\">\n",
    "\n",
    "| $A$ | $B$ | $\\bar{A}$ | $\\bar{B}$ | $A\\bar{B}$ | $\\bar{A}B$ | $A\\oplus~B$\n",
    "|-----|-----|-----------|-----------|------------|------------|-------------\n",
    "| `F` | `F` | `T`       | `T`       | `F`        | `F`        | `F`\n",
    "| `F` | `T` | `T`       | `F`       | `F`        | `T`        | __`T`__\n",
    "| `T` | `F` | `F`       | `T`       | `T`        | `F`        | __`T`__\n",
    "| `T` | `T` | `F`       | `F`       | `F`        | `F`        | `F`            \n",
    "\n",
    "</div>"
   ]
  },
  {
   "cell_type": "markdown",
   "metadata": {},
   "source": [
    "We can make the observation that, in the case of `XOR`, we get a `True` (`T`) or 1 whenever `A` and `B` are different from each other, and, whenever they are identical, the result is `False` (`F`) or 0."
   ]
  },
  {
   "cell_type": "markdown",
   "metadata": {},
   "source": [
    "Now that we know what $A \\oplus B$ means, we can write a Python program that displays this relationship in tabular form using `str.format()`."
   ]
  },
  {
   "cell_type": "code",
   "execution_count": 29,
   "metadata": {},
   "outputs": [
    {
     "name": "stdout",
     "output_type": "stream",
     "text": [
      "A      B      | A XOR B\n",
      "-------------------------\n",
      "False  False  | False\n",
      "False  True   | True\n",
      "True   False  | True\n",
      "True   True   | False\n"
     ]
    }
   ],
   "source": [
    "# Print the title for the table first\n",
    "#\n",
    "fmt = \"{:6s} {:6s} | {}\"\n",
    "print( fmt.format( \"A\", \"B\", \"A XOR B\" ) )\n",
    "print( \"-\" * 25 )\n",
    "\n",
    "A, B = False, False\n",
    "A_not, B_not = not( A ), not( B )\n",
    "xor_result_1 = A and B_not or A_not and B\n",
    "print( fmt.format( str( A ), str( B ), xor_result_1 ) )\n",
    "\n",
    "A, B = False, True\n",
    "A_not, B_not = not( A ), not( B )\n",
    "xor_result_2 = A and B_not or A_not and B\n",
    "print( fmt.format( str( A ), str( B ), xor_result_2 ) )\n",
    "\n",
    "A, B = True, False\n",
    "A_not, B_not = not( A ), not( B )\n",
    "xor_result_3 = A and B_not or A_not and B\n",
    "print( fmt.format( str( A ), str( B ), xor_result_3 ) )\n",
    "\n",
    "A, B = True, True\n",
    "A_not, B_not = not( A ), not( B )\n",
    "xor_result_4 = A and B_not or A_not and B\n",
    "print( fmt.format( str( A ), str( B ), xor_result_4 ) )"
   ]
  },
  {
   "cell_type": "markdown",
   "metadata": {},
   "source": [
    "---"
   ]
  },
  {
   "cell_type": "markdown",
   "metadata": {},
   "source": [
    "Since we have not yet covered how to handle _repetitions_, we ended up writing a lot of __duplicate__ code. You can easily tell that the only difference here are the values of variables `A` and `B`."
   ]
  },
  {
   "cell_type": "markdown",
   "metadata": {},
   "source": [
    "Note that, to implement `A XOR B`, we used exactly the same logical expression we mentioned above. That is,"
   ]
  },
  {
   "cell_type": "markdown",
   "metadata": {},
   "source": [
    "$$A \\oplus B = A\\ \\mathtt{AND} \\overline{B}\\quad \\mathtt{OR}\\quad \\overline{A}\\  \\mathtt{AND}\\ B$$\n",
    "\n",
    "and we implemented with the expression\n",
    "\n",
    "    xor_result_N = A and B_not or A_not and B"
   ]
  },
  {
   "cell_type": "markdown",
   "metadata": {},
   "source": [
    "__[EXTRA READING]__\n",
    "\n",
    "http://www.openbookproject.net/thinkcs/python/english2e/ch04.html\n"
   ]
  },
  {
   "cell_type": "markdown",
   "metadata": {},
   "source": [
    "## Bitwise Operators"
   ]
  },
  {
   "cell_type": "markdown",
   "metadata": {},
   "source": [
    "We also have _bitwise operators_ that act on the individual bits of an integer-valued entity.\n",
    "\n",
    "OPERATOR | DESCRIPTION\t          | SYNTAX\n",
    "---------|:----------------------:|---------------\n",
    "`&`      | bitwise AND            | `x & y`\n",
    "`\\|`     | bitwise OR             | `x \\| y`\n",
    "`~`      | bitwise _complement_   | `~x`\n",
    "`^`      | bitwise XOR            | `x ^ y`\n",
    "`>>`     | bitwise right shift    | `x>>n`\n",
    "`<<`     | bitwise left shift     | `x<<n`"
   ]
  },
  {
   "cell_type": "markdown",
   "metadata": {},
   "source": [
    "__[EXTRA READING]__\n",
    "\n",
    "Bitwise Operations:\n",
    "\n",
    "> https://wiki.python.org/moin/BitwiseOperators\n",
    "\n",
    "> https://stackoverflow.com/questions/791328/how-does-the-bitwise-complement-operator-tilde-work"
   ]
  },
  {
   "cell_type": "markdown",
   "metadata": {},
   "source": [
    "#### Bitwise AND and bitwise OR"
   ]
  },
  {
   "cell_type": "markdown",
   "metadata": {},
   "source": [
    "Let us take a look at two integer-valued variables, `x` and `y`."
   ]
  },
  {
   "cell_type": "code",
   "execution_count": 30,
   "metadata": {},
   "outputs": [
    {
     "name": "stdout",
     "output_type": "stream",
     "text": [
      "1\n",
      "13\n"
     ]
    }
   ],
   "source": [
    "x = 9\n",
    "y = 5\n",
    "a = x & y\n",
    "b = x | y\n",
    "print( a )\n",
    "print( b )"
   ]
  },
  {
   "cell_type": "markdown",
   "metadata": {},
   "source": [
    "So, how did we get these values?\n",
    "\n",
    "If we print `x` and `y` in _binary_, we can tell rather easily:"
   ]
  },
  {
   "cell_type": "code",
   "execution_count": 34,
   "metadata": {},
   "outputs": [
    {
     "name": "stdout",
     "output_type": "stream",
     "text": [
      "x (9)=1001, y (5)=0101\n"
     ]
    }
   ],
   "source": [
    "print( f\"x ({x})={x:04b}, y ({y})={y:04b}\" )"
   ]
  },
  {
   "cell_type": "markdown",
   "metadata": {},
   "source": [
    "If we write these two values one below the other and `AND` corresponding bits, we get the following, which is 1, as we got above:\n",
    "\n",
    "        x: 1 0 0 1 \n",
    "        y: 0 1 0 1\n",
    "    ---------------\n",
    "    x & y: 0 0 0 1\n"
   ]
  },
  {
   "cell_type": "markdown",
   "metadata": {},
   "source": [
    "Similarly, let us do the same for the *bitwise or* operation:\n",
    "\n",
    "        x: 1 0 0 1 \n",
    "        y: 0 1 0 1\n",
    "    ---------------\n",
    "    x | y: 1 1 0 1\n",
    "\n",
    "The result is 13 ($1\\times 8 + 1\\times 4 + 0\\times 2 + 1\\times 1 = 13$)."
   ]
  },
  {
   "cell_type": "markdown",
   "metadata": {},
   "source": [
    "Similarly, let us do the same for the *bitwise and* operation:\n",
    "\n",
    "        x: 1 0 0 1 \n",
    "        y: 0 1 0 1\n",
    "    ---------------\n",
    "    x & y: 0 0 0 1\n",
    "\n",
    "The result is 1."
   ]
  },
  {
   "cell_type": "markdown",
   "metadata": {},
   "source": [
    "#### Bitwise complement"
   ]
  },
  {
   "cell_type": "markdown",
   "metadata": {},
   "source": [
    "Bitwise complement is about reversing the bits in a value. So, let's take `x` (9) as example and compute `~x`:\n",
    "\n",
    "    \n",
    "        x: 1 0 0 1 \n",
    "    ---------------\n",
    "       ~x: 0 1 1 0\n",
    "            \n",
    "The result is 6 ($0\\times 8 + 1\\times 4 + 1\\times 2 + 0\\times 1 = 6$). Let's make sure we are fine.\n",
    "\n",
    "***This is actually 1's complement only!***"
   ]
  },
  {
   "cell_type": "code",
   "execution_count": 44,
   "metadata": {},
   "outputs": [
    {
     "data": {
      "text/plain": [
       "9"
      ]
     },
     "execution_count": 44,
     "metadata": {},
     "output_type": "execute_result"
    }
   ],
   "source": [
    "x"
   ]
  },
  {
   "cell_type": "code",
   "execution_count": 45,
   "metadata": {},
   "outputs": [
    {
     "data": {
      "text/plain": [
       "-10"
      ]
     },
     "execution_count": 45,
     "metadata": {},
     "output_type": "execute_result"
    }
   ],
   "source": [
    "~x"
   ]
  },
  {
   "cell_type": "markdown",
   "metadata": {},
   "source": [
    "Well, Python is telling is that `~9` is __not__ 6, but -10!"
   ]
  },
  {
   "cell_type": "markdown",
   "metadata": {},
   "source": [
    "#### Signed vs Unsigned Integers"
   ]
  },
  {
   "cell_type": "markdown",
   "metadata": {},
   "source": [
    "We need to keep in mind that the `~` operator works with __signed__ integers! That is, the most significant bit in the value indicates sign. If it's 0, it means that value is positive, and, if it's 1, it means that the value is negative.\n",
    "\n",
    "Another fact we need to remember is that _negative_ values are represented in what's called \"two's complement,\" which we will consider just a little later.\n",
    "\n",
    "To understand what happens with the `~` operator, let us represent an integer in 8-bits:"
   ]
  },
  {
   "cell_type": "code",
   "execution_count": 36,
   "metadata": {},
   "outputs": [
    {
     "name": "stdout",
     "output_type": "stream",
     "text": [
      "00001001\n"
     ]
    }
   ],
   "source": [
    "print( \"{:08b}\".format( x ) )"
   ]
  },
  {
   "cell_type": "markdown",
   "metadata": {},
   "source": [
    "So, to get `~x`, all we have do is to reverse all the bits in `x`:\n",
    "\n",
    "                 x: 0000 1001\n",
    "        \n",
    "    1's complement: 1111 0110"
   ]
  },
  {
   "cell_type": "markdown",
   "metadata": {},
   "source": [
    "However, since there is a `1` in its leftmost (most significant) bit, this value is _negative_!\n",
    "\n",
    "So the question is, what negative value does this series of bits actually represent?"
   ]
  },
  {
   "cell_type": "markdown",
   "metadata": {},
   "source": [
    "Remember that this is a negative value, and negative values are represented in two's complement as we alluded to above! So, this means that we cannot just simply read off the value as is and report it as the result of `~x`!\n",
    "\n",
    "So, to get the actual value that is represented in *two's complement*, we need to just\n",
    "\n",
    "- reverse the bits\n",
    "- add 1 to the resulting value\n",
    "\n",
    "to get the absolute value of the original negative value:\n",
    "\n",
    "           1's complement: 1111 0110\n",
    "       \n",
    "Flip/reverse all bits\n",
    "\n",
    "           _______________\n",
    "           1's complement: 0000 1001\n",
    "           \n",
    "The value above is 9 decimal. Then we add 1 to this value:\n",
    "\n",
    "               0000 1001 + 1 = 0000 1010\n",
    "           \n",
    "and we `10`. So the actual value of `~x` is `-10`. Hence `~9` = `-10`."
   ]
  },
  {
   "cell_type": "markdown",
   "metadata": {},
   "source": [
    "---\n",
    "\n",
    "Let's now try taking the complement of a negative value."
   ]
  },
  {
   "cell_type": "code",
   "execution_count": 38,
   "metadata": {},
   "outputs": [],
   "source": [
    "p = -14"
   ]
  },
  {
   "cell_type": "code",
   "execution_count": 39,
   "metadata": {},
   "outputs": [
    {
     "data": {
      "text/plain": [
       "13"
      ]
     },
     "execution_count": 39,
     "metadata": {},
     "output_type": "execute_result"
    }
   ],
   "source": [
    "~p"
   ]
  },
  {
   "cell_type": "markdown",
   "metadata": {},
   "source": [
    "First, we must represent `-14` in two's complement. To do that,\n",
    "\n",
    "- we need to start with the positive version of the value\n",
    "- reverse all its bits\n",
    "- add 1 to the resulting value\n",
    "\n",
    "           p: 0000 1110 (+14 decimal)\n",
    "           _\n",
    "           p: 1111 0001\n",
    "       _\n",
    "       p + 1: 1111 0010\n",
    "       \n",
    "So the actual representation of `-14` in the computer's memory is `1111 0010`. Let's call this value, `v`.\n",
    "\n",
    "Now we can compute the bitwise complement of `v`, that is, `~v` by reversing all its bits:\n",
    "\n",
    "           v: 1111 0010\n",
    "           _\n",
    "           v: 0000 1101\n",
    "           \n",
    "Since this value is positive, we can just read it right off. This value is `13`, as we computed above!           "
   ]
  },
  {
   "cell_type": "markdown",
   "metadata": {},
   "source": [
    "__[EXTRA READING]__\n",
    "\n",
    "Two's Complement:\n",
    "\n",
    "> https://en.wikipedia.org/wiki/Two%27s_complement"
   ]
  },
  {
   "cell_type": "markdown",
   "metadata": {},
   "source": [
    "---"
   ]
  },
  {
   "cell_type": "markdown",
   "metadata": {},
   "source": [
    "#### Bitwise XOR"
   ]
  },
  {
   "cell_type": "markdown",
   "metadata": {},
   "source": [
    "With bitwise XOR, we apply the XOR operation to corresponding bits in the given two numbers. Let us consider the following values, `r` and `s`."
   ]
  },
  {
   "cell_type": "code",
   "execution_count": 46,
   "metadata": {},
   "outputs": [],
   "source": [
    "r = 14\n",
    "s = 7"
   ]
  },
  {
   "cell_type": "markdown",
   "metadata": {},
   "source": [
    "Since we already know what `XOR` does from our earlier discussion above, we can do this directly:\n",
    "\n",
    "         r: 1110 (14 decimal)\n",
    "         s: 0111 (7 decimal)\n",
    "     r ⊕ s: 1001 (9 decimal)\n",
    "     \n",
    "Let's check if we also get `9` with Python:"
   ]
  },
  {
   "cell_type": "code",
   "execution_count": 47,
   "metadata": {},
   "outputs": [
    {
     "data": {
      "text/plain": [
       "9"
      ]
     },
     "execution_count": 47,
     "metadata": {},
     "output_type": "execute_result"
    }
   ],
   "source": [
    "r ^ s"
   ]
  },
  {
   "cell_type": "code",
   "execution_count": 48,
   "metadata": {},
   "outputs": [
    {
     "data": {
      "text/plain": [
       "9"
      ]
     },
     "execution_count": 48,
     "metadata": {},
     "output_type": "execute_result"
    }
   ],
   "source": [
    "s ^ r"
   ]
  },
  {
   "cell_type": "markdown",
   "metadata": {},
   "source": [
    "What happens with negative values? Let's consider a negative value, `t`:"
   ]
  },
  {
   "cell_type": "code",
   "execution_count": 49,
   "metadata": {},
   "outputs": [],
   "source": [
    "t = -5"
   ]
  },
  {
   "cell_type": "markdown",
   "metadata": {},
   "source": [
    "So, what will\n",
    "\n",
    "    r ^ t\n",
    "    \n",
    "return?\n",
    "\n",
    "Again, remember that negative integers are represented in two's complement! So, before we can do bitwise XOR, we need to see how `t` would be represented in memory in two's complement form.\n",
    "\n",
    "- Start with the positive version of `t`\n",
    "- Reverse this version's bits\n",
    "- Add one to the resulting value\n",
    "\n",
    "Let us again consider 8-bit versions of `r` and `t` in the remainder of this discussion:\n",
    "\n",
    "```\n",
    "    |t|: 0000 0101 (+5 decimal)\n",
    "           _\n",
    "    |t|: 1111 1010\n",
    "       _\n",
    "|t| + 1: 1111 1011 (2's complement representation of -5)\n",
    "```\n",
    "        \n",
    "So given this internal bitwise representation of `t`, we have\n",
    "\n",
    "          r: 0000 1110 (+14 decimal)\n",
    "          t: 1111 1011 (-5 in two's complement form)\n",
    "      r ⊕ t: 1111 0101 (A negative value again)\n",
    "     \n",
    "Since we ended up with a negative value, we need to reverse the two's complement process to find out the positive version of this negative value. Let's call this result, `w`.\n",
    "\n",
    "- Reverse all bits\n",
    "- Add 1\n",
    "\n",
    "          w: 1111 0101\n",
    "          _\n",
    "          w: 0000 1010 (10 decimal)\n",
    "      _\n",
    "      w + 1: 0000 1011 (11 decimal)\n",
    "      \n",
    "Therefore, `r ^ t = -11` as far as we can tell. \n",
    "\n",
    "Let's double-check:"
   ]
  },
  {
   "cell_type": "code",
   "execution_count": 50,
   "metadata": {},
   "outputs": [
    {
     "data": {
      "text/plain": [
       "-11"
      ]
     },
     "execution_count": 50,
     "metadata": {},
     "output_type": "execute_result"
    }
   ],
   "source": [
    "r ^ t"
   ]
  },
  {
   "cell_type": "markdown",
   "metadata": {},
   "source": [
    "---"
   ]
  },
  {
   "cell_type": "markdown",
   "metadata": {},
   "source": [
    "#### Bitwise right shift"
   ]
  },
  {
   "cell_type": "markdown",
   "metadata": {},
   "source": [
    "__[EXTRA READING]__\n",
    "\n",
    "> https://wiki.python.org/moin/BitwiseOperators"
   ]
  },
  {
   "cell_type": "markdown",
   "metadata": {},
   "source": [
    "Let's consider an example:"
   ]
  },
  {
   "cell_type": "code",
   "execution_count": 51,
   "metadata": {},
   "outputs": [
    {
     "name": "stdout",
     "output_type": "stream",
     "text": [
      "00011001\n"
     ]
    }
   ],
   "source": [
    "k = 25\n",
    "print( \"{:08b}\".format( k ) )"
   ]
  },
  {
   "cell_type": "markdown",
   "metadata": {},
   "source": [
    "Let right shift the bits of `k` by two positions\n",
    "\n",
    "           k: 0001 1001 (binary, 25 decimal)\n",
    "        k>>1: 0000 1100 (binary, 12 decimal)\n",
    "        k>>2: 0000 0110 (binary, 6 decimal)\n",
    "        \n",
    "we expect to get `6`. Let's check:"
   ]
  },
  {
   "cell_type": "code",
   "execution_count": 52,
   "metadata": {},
   "outputs": [
    {
     "data": {
      "text/plain": [
       "6"
      ]
     },
     "execution_count": 52,
     "metadata": {},
     "output_type": "execute_result"
    }
   ],
   "source": [
    "k >> 2"
   ]
  },
  {
   "cell_type": "markdown",
   "metadata": {},
   "source": [
    "Let us now try a negative value. Remember, negative means two's complement representation! Consider\n",
    "\n",
    "    m = -25\n",
    "    \n",
    "First, let us figure out how `m` would be laid out in memory.\n",
    "\n",
    "- Take the positive version of the value\n",
    "- Reverse its bits\n",
    "- Add 1 to get two's complement\n",
    "\n",
    "            m+: 0001 1001 (binary, +25 decimal)\n",
    "            __\n",
    "            m+: 1110 0110\n",
    "        __\n",
    "        m+ + 1: 1110 0111\n",
    "\n",
    "Therefore, if we shift the resulting value (`1110 0111`), we will get the following. \n",
    "\n",
    "However, when right shifting negative values, a `1` is inserted on the left to preserve the sign of the value. With positive values, on right shift, we insert a `0` on the left:\n",
    "\n",
    "        1110 0111 (start)\n",
    "        1111 0011 (after shifting right by one position)\n",
    "        1111 1001 (after shifting right by two positions)\n",
    "\n",
    "Since this value is negative, we need to reverse its bits and add one to get the positive version of the value.\n",
    "\n",
    "              m>>2: 1111 1001\n",
    "              ____\n",
    "              m>>2: 0000 0110\n",
    "          ____\n",
    "          m>>2 + 1: 0000 0111\n",
    "        \n",
    "This resulting value is `7`, so the result should be `-7`. Let's check:         "
   ]
  },
  {
   "cell_type": "code",
   "execution_count": 53,
   "metadata": {
    "scrolled": true
   },
   "outputs": [
    {
     "data": {
      "text/plain": [
       "-7"
      ]
     },
     "execution_count": 53,
     "metadata": {},
     "output_type": "execute_result"
    }
   ],
   "source": [
    "m = -25\n",
    "m >> 2"
   ]
  },
  {
   "cell_type": "code",
   "execution_count": 54,
   "metadata": {
    "scrolled": true
   },
   "outputs": [
    {
     "data": {
      "text/plain": [
       "-4"
      ]
     },
     "execution_count": 54,
     "metadata": {},
     "output_type": "execute_result"
    }
   ],
   "source": [
    "m = -32\n",
    "m >> 3"
   ]
  },
  {
   "cell_type": "markdown",
   "metadata": {},
   "source": [
    "By right shifting, we are integer dividing by two"
   ]
  },
  {
   "cell_type": "code",
   "execution_count": 55,
   "metadata": {},
   "outputs": [
    {
     "data": {
      "text/plain": [
       "12"
      ]
     },
     "execution_count": 55,
     "metadata": {},
     "output_type": "execute_result"
    }
   ],
   "source": [
    "24 >> 1"
   ]
  },
  {
   "cell_type": "code",
   "execution_count": 60,
   "metadata": {},
   "outputs": [
    {
     "data": {
      "text/plain": [
       "7"
      ]
     },
     "execution_count": 60,
     "metadata": {},
     "output_type": "execute_result"
    }
   ],
   "source": [
    "15 >> 1"
   ]
  },
  {
   "cell_type": "code",
   "execution_count": 61,
   "metadata": {},
   "outputs": [
    {
     "data": {
      "text/plain": [
       "12"
      ]
     },
     "execution_count": 61,
     "metadata": {},
     "output_type": "execute_result"
    }
   ],
   "source": [
    "25 >> 1"
   ]
  },
  {
   "cell_type": "code",
   "execution_count": 63,
   "metadata": {},
   "outputs": [
    {
     "data": {
      "text/plain": [
       "12"
      ]
     },
     "execution_count": 63,
     "metadata": {},
     "output_type": "execute_result"
    }
   ],
   "source": [
    "25 // 2"
   ]
  },
  {
   "cell_type": "code",
   "execution_count": 66,
   "metadata": {},
   "outputs": [
    {
     "data": {
      "text/plain": [
       "(12, 1)"
      ]
     },
     "execution_count": 66,
     "metadata": {},
     "output_type": "execute_result"
    }
   ],
   "source": [
    "divmod( 25, 2 )"
   ]
  },
  {
   "cell_type": "code",
   "execution_count": 57,
   "metadata": {},
   "outputs": [
    {
     "data": {
      "text/plain": [
       "-13"
      ]
     },
     "execution_count": 57,
     "metadata": {},
     "output_type": "execute_result"
    }
   ],
   "source": [
    "-25 >> 1"
   ]
  },
  {
   "cell_type": "code",
   "execution_count": 64,
   "metadata": {},
   "outputs": [
    {
     "data": {
      "text/plain": [
       "-13"
      ]
     },
     "execution_count": 64,
     "metadata": {},
     "output_type": "execute_result"
    }
   ],
   "source": [
    "-25 // 2"
   ]
  },
  {
   "cell_type": "code",
   "execution_count": 67,
   "metadata": {},
   "outputs": [
    {
     "data": {
      "text/plain": [
       "(-13, 1)"
      ]
     },
     "execution_count": 67,
     "metadata": {},
     "output_type": "execute_result"
    }
   ],
   "source": [
    "divmod( -25, 2 )"
   ]
  },
  {
   "cell_type": "markdown",
   "metadata": {},
   "source": [
    "So let's represent `-25` in 2's-complement."
   ]
  },
  {
   "cell_type": "raw",
   "metadata": {},
   "source": [
    "m: 0001 1001 (binary, +25 decimal)\n",
    "_\n",
    "m: 1110 0110\n",
    "_\n",
    "m + 1: 1110 0111 (internal representation of -25)"
   ]
  },
  {
   "cell_type": "markdown",
   "metadata": {},
   "source": [
    "Integer division of an integer is equivalent to right shifting by one position, we can do the following:"
   ]
  },
  {
   "cell_type": "raw",
   "metadata": {},
   "source": [
    "1110 0111 (start, -25)\n",
    "1111 0011 ( >> 1 )"
   ]
  },
  {
   "cell_type": "markdown",
   "metadata": {},
   "source": [
    "Since this is a negative version, we need to get the position/absolute version of it by reversing its bits and adding 1 to it."
   ]
  },
  {
   "cell_type": "raw",
   "metadata": {},
   "source": [
    "v <-- 1111 0011\n",
    "-\n",
    "v <-- 0000 1100 (bits reversed)\n",
    "-\n",
    "v + 1 <-- 0000 1101 (+13)"
   ]
  },
  {
   "cell_type": "markdown",
   "metadata": {},
   "source": [
    "That's a positive 13, which means the result was -13."
   ]
  },
  {
   "cell_type": "markdown",
   "metadata": {},
   "source": [
    "---"
   ]
  },
  {
   "cell_type": "markdown",
   "metadata": {},
   "source": [
    "#### Bitwise left shift"
   ]
  },
  {
   "cell_type": "code",
   "execution_count": 68,
   "metadata": {},
   "outputs": [
    {
     "data": {
      "text/plain": [
       "48"
      ]
     },
     "execution_count": 68,
     "metadata": {},
     "output_type": "execute_result"
    }
   ],
   "source": [
    "n = 6\n",
    "n << 3"
   ]
  },
  {
   "cell_type": "markdown",
   "metadata": {},
   "source": [
    "Let us see what happens when we shift value `6` to the left by three positions:\n",
    "    \n",
    "           n: 0000 0110 (6 binary)\n",
    "        n<<1: 0000 1100 (12 binary)\n",
    "        n<<2: 0001 1000 (24 binary)\n",
    "        n<<3: 0011 0000 (48 binary)"
   ]
  },
  {
   "cell_type": "markdown",
   "metadata": {},
   "source": [
    "What about negative values? Let's left shift `-6`. Again, negative means two's complement.\n",
    "\n",
    "            p+: 0000 0110 (binary, 6 decimal)\n",
    "            __\n",
    "            p+: 1111 1001\n",
    "        __\n",
    "        p+ + 1: 1111 1010 (internal representation of -6)\n",
    "        \n",
    "When we left shift this resulting value by three positions\n",
    "\n",
    "            1111 1010 (start)\n",
    "            1111 0100 (after shifting left by one position)\n",
    "            1110 1000 (after shifting left by two positions)\n",
    "            1101 0000 (after shifting left by three positions)\n",
    "            \n",
    "Note again that while shifting left we preserve the sign bit in the leftmost position.            \n",
    "Since this value is negative, we need to reverse the two's complement to get the positive version of the value:            \n",
    "\n",
    "            1101 0000 (start)\n",
    "            0010 1111 (after reversing bits or taking one's complement)\n",
    "            0011 0000 (add 1)\n",
    "            \n",
    "The resulting value is `48` (decimal). So the result is `-48`. Let's check:            "
   ]
  },
  {
   "cell_type": "code",
   "execution_count": 69,
   "metadata": {},
   "outputs": [
    {
     "data": {
      "text/plain": [
       "-48"
      ]
     },
     "execution_count": 69,
     "metadata": {},
     "output_type": "execute_result"
    }
   ],
   "source": [
    "p = -6\n",
    "p << 3"
   ]
  },
  {
   "cell_type": "markdown",
   "metadata": {},
   "source": [
    "---"
   ]
  },
  {
   "cell_type": "markdown",
   "metadata": {},
   "source": [
    "## Strings\n",
    "\n",
    "Strings are special _sequences_ (in Python) of characters.\n",
    "\n",
    "Strings are ***immutable***!!! This means that we cannot modify individual characters or slices in a given string. Once created, a string is a *constant* value. It can be reassigned to an entirely different value, but, its parts cannot be modified!\n",
    "\n",
    "We will study other types of *sequences*, such as lists and tuples.\n",
    "\n",
    "All sequences are indexed data structures, and indexing starts from zero.\n",
    "\n",
    "We can also use negative indices to refer to elements or _slices_ in sequences."
   ]
  },
  {
   "cell_type": "markdown",
   "metadata": {},
   "source": [
    "## Slicing strings"
   ]
  },
  {
   "cell_type": "markdown",
   "metadata": {},
   "source": [
    "- `S[:b]`: Take all characters from beginning until and including the character at `S[b-1]`.\n",
    "\n",
    "- `S[a:]`: Take all characters starting with the one at index `a` and include all remaining characters.\n",
    "\n",
    "- `S[a:b]`: Take all characters starting with the one at index `a` and include all characters until and including the one at `S[b-1]`.\n",
    "\n",
    "- `S[:]`: Return a copy of `S`.\n",
    "\n",
    "- `S[.:.:i]`: Take every $\\mathtt{i}^{th}$ character."
   ]
  },
  {
   "cell_type": "code",
   "execution_count": 70,
   "metadata": {},
   "outputs": [
    {
     "data": {
      "text/plain": [
       "12"
      ]
     },
     "execution_count": 70,
     "metadata": {},
     "output_type": "execute_result"
    }
   ],
   "source": [
    "m = \"Monty Python\"\n",
    "len( m )"
   ]
  },
  {
   "cell_type": "code",
   "execution_count": 72,
   "metadata": {},
   "outputs": [
    {
     "data": {
      "text/plain": [
       "'Monty Python'"
      ]
     },
     "execution_count": 72,
     "metadata": {},
     "output_type": "execute_result"
    }
   ],
   "source": [
    "m"
   ]
  },
  {
   "cell_type": "code",
   "execution_count": 73,
   "metadata": {},
   "outputs": [
    {
     "data": {
      "text/plain": [
       "'Pytho'"
      ]
     },
     "execution_count": 73,
     "metadata": {},
     "output_type": "execute_result"
    }
   ],
   "source": [
    "m[6:11]"
   ]
  },
  {
   "cell_type": "code",
   "execution_count": 74,
   "metadata": {},
   "outputs": [
    {
     "data": {
      "text/plain": [
       "'Python'"
      ]
     },
     "execution_count": 74,
     "metadata": {},
     "output_type": "execute_result"
    }
   ],
   "source": [
    "m[6:12]"
   ]
  },
  {
   "cell_type": "code",
   "execution_count": 75,
   "metadata": {},
   "outputs": [
    {
     "data": {
      "text/plain": [
       "'Python'"
      ]
     },
     "execution_count": 75,
     "metadata": {},
     "output_type": "execute_result"
    }
   ],
   "source": [
    "m[6:13]"
   ]
  },
  {
   "cell_type": "code",
   "execution_count": 76,
   "metadata": {},
   "outputs": [
    {
     "data": {
      "text/plain": [
       "'Python'"
      ]
     },
     "execution_count": 76,
     "metadata": {},
     "output_type": "execute_result"
    }
   ],
   "source": [
    "m[6:99]"
   ]
  },
  {
   "cell_type": "code",
   "execution_count": 77,
   "metadata": {},
   "outputs": [
    {
     "data": {
      "text/plain": [
       "'n'"
      ]
     },
     "execution_count": 77,
     "metadata": {},
     "output_type": "execute_result"
    }
   ],
   "source": [
    "m[11:95]"
   ]
  },
  {
   "cell_type": "code",
   "execution_count": 78,
   "metadata": {},
   "outputs": [
    {
     "data": {
      "text/plain": [
       "''"
      ]
     },
     "execution_count": 78,
     "metadata": {},
     "output_type": "execute_result"
    }
   ],
   "source": [
    "m[12:99]"
   ]
  },
  {
   "cell_type": "code",
   "execution_count": 79,
   "metadata": {},
   "outputs": [
    {
     "data": {
      "text/plain": [
       "''"
      ]
     },
     "execution_count": 79,
     "metadata": {},
     "output_type": "execute_result"
    }
   ],
   "source": [
    "m[99:12]"
   ]
  },
  {
   "cell_type": "code",
   "execution_count": 80,
   "metadata": {},
   "outputs": [
    {
     "data": {
      "text/plain": [
       "''"
      ]
     },
     "execution_count": 80,
     "metadata": {},
     "output_type": "execute_result"
    }
   ],
   "source": [
    "m[3:3]"
   ]
  },
  {
   "cell_type": "code",
   "execution_count": 81,
   "metadata": {},
   "outputs": [
    {
     "data": {
      "text/plain": [
       "''"
      ]
     },
     "execution_count": 81,
     "metadata": {},
     "output_type": "execute_result"
    }
   ],
   "source": [
    "m[9:9]"
   ]
  },
  {
   "cell_type": "code",
   "execution_count": 82,
   "metadata": {},
   "outputs": [
    {
     "data": {
      "text/plain": [
       "''"
      ]
     },
     "execution_count": 82,
     "metadata": {},
     "output_type": "execute_result"
    }
   ],
   "source": [
    "m[99:99]"
   ]
  },
  {
   "cell_type": "code",
   "execution_count": 83,
   "metadata": {},
   "outputs": [
    {
     "ename": "IndexError",
     "evalue": "string index out of range",
     "output_type": "error",
     "traceback": [
      "\u001b[0;31m---------------------------------------------------------------------------\u001b[0m",
      "\u001b[0;31mIndexError\u001b[0m                                Traceback (most recent call last)",
      "\u001b[0;32m<ipython-input-83-587e96a96ed8>\u001b[0m in \u001b[0;36m<module>\u001b[0;34m\u001b[0m\n\u001b[0;32m----> 1\u001b[0;31m \u001b[0mm\u001b[0m\u001b[0;34m[\u001b[0m\u001b[0;36m12\u001b[0m\u001b[0;34m]\u001b[0m\u001b[0;34m\u001b[0m\u001b[0;34m\u001b[0m\u001b[0m\n\u001b[0m",
      "\u001b[0;31mIndexError\u001b[0m: string index out of range"
     ]
    }
   ],
   "source": [
    "m[12]"
   ]
  },
  {
   "cell_type": "code",
   "execution_count": 84,
   "metadata": {},
   "outputs": [
    {
     "data": {
      "text/plain": [
       "''"
      ]
     },
     "execution_count": 84,
     "metadata": {},
     "output_type": "execute_result"
    }
   ],
   "source": [
    "m[12:12]"
   ]
  },
  {
   "cell_type": "code",
   "execution_count": 85,
   "metadata": {},
   "outputs": [
    {
     "ename": "IndexError",
     "evalue": "string index out of range",
     "output_type": "error",
     "traceback": [
      "\u001b[0;31m---------------------------------------------------------------------------\u001b[0m",
      "\u001b[0;31mIndexError\u001b[0m                                Traceback (most recent call last)",
      "\u001b[0;32m<ipython-input-85-e5e10e5528a3>\u001b[0m in \u001b[0;36m<module>\u001b[0;34m\u001b[0m\n\u001b[0;32m----> 1\u001b[0;31m \u001b[0mm\u001b[0m\u001b[0;34m[\u001b[0m\u001b[0;36m100\u001b[0m\u001b[0;34m]\u001b[0m\u001b[0;34m\u001b[0m\u001b[0;34m\u001b[0m\u001b[0m\n\u001b[0m",
      "\u001b[0;31mIndexError\u001b[0m: string index out of range"
     ]
    }
   ],
   "source": [
    "m[100]"
   ]
  },
  {
   "cell_type": "code",
   "execution_count": 86,
   "metadata": {},
   "outputs": [
    {
     "data": {
      "text/plain": [
       "''"
      ]
     },
     "execution_count": 86,
     "metadata": {},
     "output_type": "execute_result"
    }
   ],
   "source": [
    "m[100:100]"
   ]
  },
  {
   "cell_type": "code",
   "execution_count": 87,
   "metadata": {},
   "outputs": [
    {
     "data": {
      "text/plain": [
       "''"
      ]
     },
     "execution_count": 87,
     "metadata": {},
     "output_type": "execute_result"
    }
   ],
   "source": [
    "m[0:0]"
   ]
  },
  {
   "cell_type": "code",
   "execution_count": 88,
   "metadata": {},
   "outputs": [
    {
     "data": {
      "text/plain": [
       "''"
      ]
     },
     "execution_count": 88,
     "metadata": {},
     "output_type": "execute_result"
    }
   ],
   "source": [
    "m[12:6] # Non-sensical"
   ]
  },
  {
   "cell_type": "code",
   "execution_count": 89,
   "metadata": {},
   "outputs": [
    {
     "data": {
      "text/plain": [
       "''"
      ]
     },
     "execution_count": 89,
     "metadata": {},
     "output_type": "execute_result"
    }
   ],
   "source": [
    "m[8:2] # Non-sensical"
   ]
  },
  {
   "cell_type": "markdown",
   "metadata": {},
   "source": [
    "## Negative Indices"
   ]
  },
  {
   "cell_type": "markdown",
   "metadata": {},
   "source": [
    "Negative indices start from the end of a given string at index `-1` and move towards the beginning of that string ending at minus the length of that string."
   ]
  },
  {
   "cell_type": "raw",
   "metadata": {},
   "source": [
    "  -10 -9 -8 -7 -6 -5 -4 -3 -2 -1\n",
    "    S  t  r  a  w  b  e  r  r  y\n",
    "    0  1  2  3  4  5  6  7  8  9"
   ]
  },
  {
   "cell_type": "code",
   "execution_count": 92,
   "metadata": {},
   "outputs": [],
   "source": [
    "s = \"Strawberry\""
   ]
  },
  {
   "cell_type": "code",
   "execution_count": 93,
   "metadata": {},
   "outputs": [
    {
     "data": {
      "text/plain": [
       "('y', 'a', 'S')"
      ]
     },
     "execution_count": 93,
     "metadata": {},
     "output_type": "execute_result"
    }
   ],
   "source": [
    "s[-1], s[-7], s[-10]"
   ]
  },
  {
   "cell_type": "code",
   "execution_count": 94,
   "metadata": {},
   "outputs": [
    {
     "data": {
      "text/plain": [
       "('rawberry', 'Straw', 'trawber')"
      ]
     },
     "execution_count": 94,
     "metadata": {},
     "output_type": "execute_result"
    }
   ],
   "source": [
    "s[-8:], s[:-5], s[-9:-2]"
   ]
  },
  {
   "cell_type": "code",
   "execution_count": 95,
   "metadata": {},
   "outputs": [
    {
     "ename": "IndexError",
     "evalue": "string index out of range",
     "output_type": "error",
     "traceback": [
      "\u001b[0;31m---------------------------------------------------------------------------\u001b[0m",
      "\u001b[0;31mIndexError\u001b[0m                                Traceback (most recent call last)",
      "\u001b[0;32m<ipython-input-95-1a16c1625313>\u001b[0m in \u001b[0;36m<module>\u001b[0;34m\u001b[0m\n\u001b[0;32m----> 1\u001b[0;31m \u001b[0ms\u001b[0m\u001b[0;34m[\u001b[0m\u001b[0;34m-\u001b[0m\u001b[0;36m11\u001b[0m\u001b[0;34m]\u001b[0m\u001b[0;34m\u001b[0m\u001b[0;34m\u001b[0m\u001b[0m\n\u001b[0m",
      "\u001b[0;31mIndexError\u001b[0m: string index out of range"
     ]
    }
   ],
   "source": [
    "s[-11]"
   ]
  },
  {
   "cell_type": "markdown",
   "metadata": {},
   "source": [
    "### Positive, Negative, and Mixed Indexing"
   ]
  },
  {
   "cell_type": "markdown",
   "metadata": {},
   "source": [
    "Whether we use negative, positive, or mixed indexing, we always have to count from LEFT to RIGHT."
   ]
  },
  {
   "cell_type": "raw",
   "metadata": {},
   "source": [
    "  -10 -9 -8 -7 -6 -5 -4 -3 -2 -1\n",
    "    S  t  r  a  w  b  e  r  r  y\n",
    "    0  1  2  3  4  5  6  7  8  9"
   ]
  },
  {
   "cell_type": "code",
   "execution_count": 96,
   "metadata": {},
   "outputs": [],
   "source": [
    "s = \"Strawberry\""
   ]
  },
  {
   "cell_type": "code",
   "execution_count": 97,
   "metadata": {},
   "outputs": [
    {
     "data": {
      "text/plain": [
       "'awber'"
      ]
     },
     "execution_count": 97,
     "metadata": {},
     "output_type": "execute_result"
    }
   ],
   "source": [
    "s[-7:-2] # Negative (Method 1)"
   ]
  },
  {
   "cell_type": "code",
   "execution_count": 38,
   "metadata": {},
   "outputs": [
    {
     "data": {
      "text/plain": [
       "'awber'"
      ]
     },
     "execution_count": 38,
     "metadata": {},
     "output_type": "execute_result"
    }
   ],
   "source": [
    "s[3:8] # Positive (Method 2)"
   ]
  },
  {
   "cell_type": "raw",
   "metadata": {},
   "source": [
    "  -10 -9 -8 -7 -6 -5 -4 -3 -2 -1\n",
    "    S  t  r  a  w  b  e  r  r  y\n",
    "    0  1  2  3  4  5  6  7  8  9"
   ]
  },
  {
   "cell_type": "code",
   "execution_count": 98,
   "metadata": {},
   "outputs": [
    {
     "data": {
      "text/plain": [
       "'awber'"
      ]
     },
     "execution_count": 98,
     "metadata": {},
     "output_type": "execute_result"
    }
   ],
   "source": [
    "s[-7:8] # Mixed (negative, positive, Method 3a)"
   ]
  },
  {
   "cell_type": "code",
   "execution_count": 42,
   "metadata": {},
   "outputs": [
    {
     "data": {
      "text/plain": [
       "'awber'"
      ]
     },
     "execution_count": 42,
     "metadata": {},
     "output_type": "execute_result"
    }
   ],
   "source": [
    "s[3:-2] # Mixed (positive, negative, Method 3b)"
   ]
  },
  {
   "cell_type": "code",
   "execution_count": 99,
   "metadata": {},
   "outputs": [
    {
     "data": {
      "text/plain": [
       "''"
      ]
     },
     "execution_count": 99,
     "metadata": {},
     "output_type": "execute_result"
    }
   ],
   "source": [
    "s[-2:-9]"
   ]
  },
  {
   "cell_type": "code",
   "execution_count": 100,
   "metadata": {},
   "outputs": [
    {
     "data": {
      "text/plain": [
       "'trawber'"
      ]
     },
     "execution_count": 100,
     "metadata": {},
     "output_type": "execute_result"
    }
   ],
   "source": [
    "s[-9:-2]"
   ]
  },
  {
   "cell_type": "code",
   "execution_count": 101,
   "metadata": {},
   "outputs": [
    {
     "data": {
      "text/plain": [
       "'trawberr'"
      ]
     },
     "execution_count": 101,
     "metadata": {},
     "output_type": "execute_result"
    }
   ],
   "source": [
    "s[-9:9]"
   ]
  },
  {
   "cell_type": "code",
   "execution_count": 49,
   "metadata": {},
   "outputs": [
    {
     "data": {
      "text/plain": [
       "'Strawbe'"
      ]
     },
     "execution_count": 49,
     "metadata": {},
     "output_type": "execute_result"
    }
   ],
   "source": [
    "s[:-3]"
   ]
  },
  {
   "cell_type": "markdown",
   "metadata": {},
   "source": [
    "### Slice increments (positive and negative)\n",
    "\n",
    "By default, slice increment is 1. Therefore, `s[3:8]` is equivalent to `s[3:8:1]`."
   ]
  },
  {
   "cell_type": "code",
   "execution_count": 102,
   "metadata": {},
   "outputs": [
    {
     "data": {
      "text/plain": [
       "'awber'"
      ]
     },
     "execution_count": 102,
     "metadata": {},
     "output_type": "execute_result"
    }
   ],
   "source": [
    "s[3:8:1]"
   ]
  },
  {
   "cell_type": "code",
   "execution_count": 103,
   "metadata": {},
   "outputs": [
    {
     "data": {
      "text/plain": [
       "True"
      ]
     },
     "execution_count": 103,
     "metadata": {},
     "output_type": "execute_result"
    }
   ],
   "source": [
    "s[3:8] == s[3:8:1]"
   ]
  },
  {
   "cell_type": "raw",
   "metadata": {},
   "source": [
    "  -10 -9 -8 -7 -6 -5 -4 -3 -2 -1\n",
    "    S  t  r  a  w  b  e  r  r  y\n",
    "    0  1  2  3  4  5  6  7  8  9"
   ]
  },
  {
   "cell_type": "code",
   "execution_count": 53,
   "metadata": {},
   "outputs": [
    {
     "data": {
      "text/plain": [
       "'Srwer'"
      ]
     },
     "execution_count": 53,
     "metadata": {},
     "output_type": "execute_result"
    }
   ],
   "source": [
    "s[::2]"
   ]
  },
  {
   "cell_type": "code",
   "execution_count": 54,
   "metadata": {},
   "outputs": [
    {
     "data": {
      "text/plain": [
       "'tabr'"
      ]
     },
     "execution_count": 54,
     "metadata": {},
     "output_type": "execute_result"
    }
   ],
   "source": [
    "s[1:8:2]"
   ]
  },
  {
   "cell_type": "code",
   "execution_count": 55,
   "metadata": {},
   "outputs": [
    {
     "data": {
      "text/plain": [
       "'rwe'"
      ]
     },
     "execution_count": 55,
     "metadata": {},
     "output_type": "execute_result"
    }
   ],
   "source": [
    "s[2:8:2]"
   ]
  },
  {
   "cell_type": "raw",
   "metadata": {},
   "source": [
    "  -10 -9 -8 -7 -6 -5 -4 -3 -2 -1\n",
    "    S  t  r  a  w  b  e  r  r  y\n",
    "    0  1  2  3  4  5  6  7  8  9"
   ]
  },
  {
   "cell_type": "code",
   "execution_count": 58,
   "metadata": {},
   "outputs": [
    {
     "data": {
      "text/plain": [
       "('rrebw', 'rebwartS', 'yrrebwa')"
      ]
     },
     "execution_count": 58,
     "metadata": {},
     "output_type": "execute_result"
    }
   ],
   "source": [
    "s[-2:-7:-1], s[-3::-1], s[:-8:-1]"
   ]
  },
  {
   "cell_type": "code",
   "execution_count": 59,
   "metadata": {},
   "outputs": [
    {
     "data": {
      "text/plain": [
       "'yrrebwa'"
      ]
     },
     "execution_count": 59,
     "metadata": {},
     "output_type": "execute_result"
    }
   ],
   "source": [
    "s[:2:-1] # Start from beginnig of string or end of string?"
   ]
  },
  {
   "cell_type": "code",
   "execution_count": 104,
   "metadata": {},
   "outputs": [
    {
     "data": {
      "text/plain": [
       "'yrrebwartS'"
      ]
     },
     "execution_count": 104,
     "metadata": {},
     "output_type": "execute_result"
    }
   ],
   "source": [
    "s[::-1]"
   ]
  },
  {
   "cell_type": "code",
   "execution_count": 61,
   "metadata": {},
   "outputs": [
    {
     "data": {
      "text/plain": [
       "'yeaS'"
      ]
     },
     "execution_count": 61,
     "metadata": {},
     "output_type": "execute_result"
    }
   ],
   "source": [
    "s[::-3]"
   ]
  },
  {
   "cell_type": "code",
   "execution_count": 62,
   "metadata": {},
   "outputs": [
    {
     "name": "stdout",
     "output_type": "stream",
     "text": [
      "S\n",
      "S\n",
      "y\n",
      "y\n"
     ]
    }
   ],
   "source": [
    "s = \"Strawberry\"\n",
    "print( s[0] )\n",
    "print( s[-len( s )] )\n",
    "print( s[-1] )\n",
    "print( s[len( s ) - 1] )"
   ]
  },
  {
   "cell_type": "code",
   "execution_count": 63,
   "metadata": {},
   "outputs": [
    {
     "data": {
      "text/plain": [
       "'Straw'"
      ]
     },
     "execution_count": 63,
     "metadata": {},
     "output_type": "execute_result"
    }
   ],
   "source": [
    "s[0:5]"
   ]
  },
  {
   "cell_type": "code",
   "execution_count": 64,
   "metadata": {},
   "outputs": [
    {
     "data": {
      "text/plain": [
       "'Straw'"
      ]
     },
     "execution_count": 64,
     "metadata": {},
     "output_type": "execute_result"
    }
   ],
   "source": [
    "s[:5]"
   ]
  },
  {
   "cell_type": "code",
   "execution_count": 65,
   "metadata": {},
   "outputs": [
    {
     "data": {
      "text/plain": [
       "'rawbe'"
      ]
     },
     "execution_count": 65,
     "metadata": {},
     "output_type": "execute_result"
    }
   ],
   "source": [
    "# 0123456789 (positive indices ->)\n",
    "# strawberry\n",
    "# A987654321 (negative indices, without - prefix, A=10)\n",
    "# \n",
    "s[2:7]"
   ]
  },
  {
   "cell_type": "code",
   "execution_count": 66,
   "metadata": {},
   "outputs": [
    {
     "data": {
      "text/plain": [
       "'rawbe'"
      ]
     },
     "execution_count": 66,
     "metadata": {},
     "output_type": "execute_result"
    }
   ],
   "source": [
    "# Same as s[2:7]\n",
    "#\n",
    "s[-8:-3]"
   ]
  },
  {
   "cell_type": "markdown",
   "metadata": {},
   "source": [
    "__NOTE__: Indexing must be from left to right always as long as the increment value is **positive**!"
   ]
  },
  {
   "cell_type": "code",
   "execution_count": 67,
   "metadata": {},
   "outputs": [
    {
     "data": {
      "text/plain": [
       "'yrrebwartS'"
      ]
     },
     "execution_count": 67,
     "metadata": {},
     "output_type": "execute_result"
    }
   ],
   "source": [
    "# What about this?\n",
    "s[::-1]"
   ]
  },
  {
   "cell_type": "code",
   "execution_count": 68,
   "metadata": {},
   "outputs": [
    {
     "data": {
      "text/plain": [
       "'yrbat'"
      ]
     },
     "execution_count": 68,
     "metadata": {},
     "output_type": "execute_result"
    }
   ],
   "source": [
    "s[::-2]"
   ]
  },
  {
   "cell_type": "code",
   "execution_count": 69,
   "metadata": {},
   "outputs": [
    {
     "data": {
      "text/plain": [
       "'rwe'"
      ]
     },
     "execution_count": 69,
     "metadata": {},
     "output_type": "execute_result"
    }
   ],
   "source": [
    "# Remember that s[2:7] gave us \"rawbe\"\n",
    "#   >    <\n",
    "# Strawberry\n",
    "# 0123456789\n",
    "#\n",
    "# The 2 at the end is the index increment. So we can\n",
    "# advance not by incrementing by one, but incrementing\n",
    "# by 2 or whatever (positive) increment we need. \n",
    "#\n",
    "s[2:7:2]"
   ]
  },
  {
   "cell_type": "code",
   "execution_count": 70,
   "metadata": {},
   "outputs": [
    {
     "data": {
      "text/plain": [
       "'Saey'"
      ]
     },
     "execution_count": 70,
     "metadata": {},
     "output_type": "execute_result"
    }
   ],
   "source": [
    "# Strawberry\n",
    "# 0123456789\n",
    "# s  a  e  y  \n",
    "s[::3]"
   ]
  },
  {
   "cell_type": "code",
   "execution_count": 71,
   "metadata": {},
   "outputs": [
    {
     "data": {
      "text/plain": [
       "'twr'"
      ]
     },
     "execution_count": 71,
     "metadata": {},
     "output_type": "execute_result"
    }
   ],
   "source": [
    "# Strawberry\n",
    "# 0123456789\n",
    "#  t  w  r       \n",
    "s[1::3]"
   ]
  },
  {
   "cell_type": "code",
   "execution_count": 72,
   "metadata": {},
   "outputs": [
    {
     "data": {
      "text/plain": [
       "'yrrebwartS'"
      ]
     },
     "execution_count": 72,
     "metadata": {},
     "output_type": "execute_result"
    }
   ],
   "source": [
    "# Strawberry\n",
    "# 0123456789\n",
    "# s  a  e  y // But this string will be reversed   \n",
    "s[::-1]"
   ]
  },
  {
   "cell_type": "code",
   "execution_count": 73,
   "metadata": {},
   "outputs": [
    {
     "data": {
      "text/plain": [
       "'yeaS'"
      ]
     },
     "execution_count": 73,
     "metadata": {},
     "output_type": "execute_result"
    }
   ],
   "source": [
    "# Strawberry\n",
    "# 0123456789\n",
    "# s  a  e  y // But this string will be reversed   \n",
    "s[::-3]"
   ]
  },
  {
   "cell_type": "code",
   "execution_count": 74,
   "metadata": {},
   "outputs": [
    {
     "ename": "ValueError",
     "evalue": "slice step cannot be zero",
     "output_type": "error",
     "traceback": [
      "\u001b[0;31m---------------------------------------------------------------------------\u001b[0m",
      "\u001b[0;31mValueError\u001b[0m                                Traceback (most recent call last)",
      "\u001b[0;32m<ipython-input-74-6cad4813187d>\u001b[0m in \u001b[0;36m<module>\u001b[0;34m\u001b[0m\n\u001b[0;32m----> 1\u001b[0;31m \u001b[0ms\u001b[0m\u001b[0;34m[\u001b[0m\u001b[0;34m:\u001b[0m\u001b[0;34m:\u001b[0m\u001b[0;36m0\u001b[0m\u001b[0;34m]\u001b[0m\u001b[0;34m\u001b[0m\u001b[0;34m\u001b[0m\u001b[0m\n\u001b[0m",
      "\u001b[0;31mValueError\u001b[0m: slice step cannot be zero"
     ]
    }
   ],
   "source": [
    "s[::0]"
   ]
  },
  {
   "cell_type": "markdown",
   "metadata": {},
   "source": [
    "## Immutability of strings"
   ]
  },
  {
   "cell_type": "code",
   "execution_count": 105,
   "metadata": {},
   "outputs": [
    {
     "data": {
      "text/plain": [
       "'Strawberry'"
      ]
     },
     "execution_count": 105,
     "metadata": {},
     "output_type": "execute_result"
    }
   ],
   "source": [
    "s"
   ]
  },
  {
   "cell_type": "code",
   "execution_count": 106,
   "metadata": {},
   "outputs": [
    {
     "ename": "TypeError",
     "evalue": "'str' object does not support item assignment",
     "output_type": "error",
     "traceback": [
      "\u001b[0;31m---------------------------------------------------------------------------\u001b[0m",
      "\u001b[0;31mTypeError\u001b[0m                                 Traceback (most recent call last)",
      "\u001b[0;32m<ipython-input-106-68d9ab99b09c>\u001b[0m in \u001b[0;36m<module>\u001b[0;34m\u001b[0m\n\u001b[0;32m----> 1\u001b[0;31m \u001b[0ms\u001b[0m\u001b[0;34m[\u001b[0m\u001b[0;36m0\u001b[0m\u001b[0;34m]\u001b[0m \u001b[0;34m=\u001b[0m \u001b[0;34m'X'\u001b[0m\u001b[0;34m\u001b[0m\u001b[0;34m\u001b[0m\u001b[0m\n\u001b[0m",
      "\u001b[0;31mTypeError\u001b[0m: 'str' object does not support item assignment"
     ]
    }
   ],
   "source": [
    "s[0] = 'X'"
   ]
  },
  {
   "cell_type": "code",
   "execution_count": 107,
   "metadata": {},
   "outputs": [
    {
     "data": {
      "text/plain": [
       "'rawbe'"
      ]
     },
     "execution_count": 107,
     "metadata": {},
     "output_type": "execute_result"
    }
   ],
   "source": [
    "s[2:7]"
   ]
  },
  {
   "cell_type": "code",
   "execution_count": 108,
   "metadata": {},
   "outputs": [
    {
     "ename": "TypeError",
     "evalue": "'str' object does not support item assignment",
     "output_type": "error",
     "traceback": [
      "\u001b[0;31m---------------------------------------------------------------------------\u001b[0m",
      "\u001b[0;31mTypeError\u001b[0m                                 Traceback (most recent call last)",
      "\u001b[0;32m<ipython-input-108-fbef07288d87>\u001b[0m in \u001b[0;36m<module>\u001b[0;34m\u001b[0m\n\u001b[0;32m----> 1\u001b[0;31m \u001b[0ms\u001b[0m\u001b[0;34m[\u001b[0m\u001b[0;36m2\u001b[0m\u001b[0;34m:\u001b[0m\u001b[0;36m7\u001b[0m\u001b[0;34m]\u001b[0m \u001b[0;34m=\u001b[0m \u001b[0;34m'RAWBE'\u001b[0m \u001b[0;31m# Attempting to modify part of string\u001b[0m\u001b[0;34m\u001b[0m\u001b[0;34m\u001b[0m\u001b[0m\n\u001b[0m",
      "\u001b[0;31mTypeError\u001b[0m: 'str' object does not support item assignment"
     ]
    }
   ],
   "source": [
    "s[2:7] = 'RAWBE' # Attempting to modify part of string"
   ]
  },
  {
   "cell_type": "markdown",
   "metadata": {},
   "source": [
    "If we wish to change a string, we need to reassign a value to a string variable."
   ]
  },
  {
   "cell_type": "code",
   "execution_count": 109,
   "metadata": {},
   "outputs": [
    {
     "data": {
      "text/plain": [
       "'Strawberry'"
      ]
     },
     "execution_count": 109,
     "metadata": {},
     "output_type": "execute_result"
    }
   ],
   "source": [
    "s"
   ]
  },
  {
   "cell_type": "code",
   "execution_count": 110,
   "metadata": {},
   "outputs": [
    {
     "data": {
      "text/plain": [
       "'Xtrawberry'"
      ]
     },
     "execution_count": 110,
     "metadata": {},
     "output_type": "execute_result"
    }
   ],
   "source": [
    "'X' + s[1:]"
   ]
  },
  {
   "cell_type": "code",
   "execution_count": 111,
   "metadata": {},
   "outputs": [
    {
     "data": {
      "text/plain": [
       "'Xtrawberry'"
      ]
     },
     "execution_count": 111,
     "metadata": {},
     "output_type": "execute_result"
    }
   ],
   "source": [
    "T = 'X' + s[1:]\n",
    "T"
   ]
  },
  {
   "cell_type": "code",
   "execution_count": 112,
   "metadata": {},
   "outputs": [
    {
     "data": {
      "text/plain": [
       "'trawrry'"
      ]
     },
     "execution_count": 112,
     "metadata": {},
     "output_type": "execute_result"
    }
   ],
   "source": [
    "V = s[1:5] + s[7:]\n",
    "V"
   ]
  },
  {
   "cell_type": "markdown",
   "metadata": {},
   "source": [
    "## `str` functions"
   ]
  },
  {
   "cell_type": "code",
   "execution_count": 84,
   "metadata": {},
   "outputs": [
    {
     "name": "stdout",
     "output_type": "stream",
     "text": [
      "['capitalize', 'casefold', 'center', 'count', 'encode', 'endswith', 'expandtabs', 'find', 'format', 'format_map', 'index', 'isalnum', 'isalpha', 'isascii', 'isdecimal', 'isdigit', 'isidentifier', 'islower', 'isnumeric', 'isprintable', 'isspace', 'istitle', 'isupper', 'join', 'ljust', 'lower', 'lstrip', 'maketrans', 'partition', 'replace', 'rfind', 'rindex', 'rjust', 'rpartition', 'rsplit', 'rstrip', 'split', 'splitlines', 'startswith', 'strip', 'swapcase', 'title', 'translate', 'upper', 'zfill']\n"
     ]
    }
   ],
   "source": [
    "all_str_functions = [name for name in dir( str ) if not (name.startswith( \"__\" ) and name.endswith( \"__\" ))]\n",
    "print( all_str_functions )"
   ]
  },
  {
   "cell_type": "code",
   "execution_count": 117,
   "metadata": {},
   "outputs": [
    {
     "name": "stdout",
     "output_type": "stream",
     "text": [
      "Help on built-in function find:\n",
      "\n",
      "find(...) method of builtins.str instance\n",
      "    S.find(sub[, start[, end]]) -> int\n",
      "    \n",
      "    Return the lowest index in S where substring sub is found,\n",
      "    such that sub is contained within S[start:end].  Optional\n",
      "    arguments start and end are interpreted as in slice notation.\n",
      "    \n",
      "    Return -1 on failure.\n",
      "\n"
     ]
    }
   ],
   "source": [
    "# print( m.find.__doc__ )\n",
    "\n",
    "help( s.find )"
   ]
  },
  {
   "cell_type": "code",
   "execution_count": 113,
   "metadata": {},
   "outputs": [
    {
     "data": {
      "text/plain": [
       "'Jailhouse rock by elvis presley'"
      ]
     },
     "execution_count": 113,
     "metadata": {},
     "output_type": "execute_result"
    }
   ],
   "source": [
    "P = \"jailhouse rock by Elvis presley\"\n",
    "P.capitalize()"
   ]
  },
  {
   "cell_type": "code",
   "execution_count": 114,
   "metadata": {},
   "outputs": [
    {
     "data": {
      "text/plain": [
       "'Jailhouse Rock By Elvis Presley'"
      ]
     },
     "execution_count": 114,
     "metadata": {},
     "output_type": "execute_result"
    }
   ],
   "source": [
    "P.title()"
   ]
  },
  {
   "cell_type": "code",
   "execution_count": 115,
   "metadata": {},
   "outputs": [
    {
     "data": {
      "text/plain": [
       "4"
      ]
     },
     "execution_count": 115,
     "metadata": {},
     "output_type": "execute_result"
    }
   ],
   "source": [
    "P.index( \"house \")"
   ]
  },
  {
   "cell_type": "code",
   "execution_count": 90,
   "metadata": {},
   "outputs": [
    {
     "data": {
      "text/plain": [
       "20"
      ]
     },
     "execution_count": 90,
     "metadata": {},
     "output_type": "execute_result"
    }
   ],
   "source": [
    "P.index( \"vis\" )"
   ]
  },
  {
   "cell_type": "code",
   "execution_count": 91,
   "metadata": {},
   "outputs": [
    {
     "data": {
      "text/plain": [
       "24"
      ]
     },
     "execution_count": 91,
     "metadata": {},
     "output_type": "execute_result"
    }
   ],
   "source": [
    "P.index( \"p\" )"
   ]
  },
  {
   "cell_type": "code",
   "execution_count": 116,
   "metadata": {},
   "outputs": [
    {
     "ename": "ValueError",
     "evalue": "substring not found",
     "output_type": "error",
     "traceback": [
      "\u001b[0;31m---------------------------------------------------------------------------\u001b[0m",
      "\u001b[0;31mValueError\u001b[0m                                Traceback (most recent call last)",
      "\u001b[0;32m<ipython-input-116-23ade0413685>\u001b[0m in \u001b[0;36m<module>\u001b[0;34m\u001b[0m\n\u001b[0;32m----> 1\u001b[0;31m \u001b[0mP\u001b[0m\u001b[0;34m.\u001b[0m\u001b[0mindex\u001b[0m\u001b[0;34m(\u001b[0m \u001b[0;34m\"P\"\u001b[0m \u001b[0;34m)\u001b[0m\u001b[0;34m\u001b[0m\u001b[0;34m\u001b[0m\u001b[0m\n\u001b[0m",
      "\u001b[0;31mValueError\u001b[0m: substring not found"
     ]
    }
   ],
   "source": [
    "P.index( \"P\" )"
   ]
  },
  {
   "cell_type": "code",
   "execution_count": 93,
   "metadata": {},
   "outputs": [
    {
     "data": {
      "text/plain": [
       "-1"
      ]
     },
     "execution_count": 93,
     "metadata": {},
     "output_type": "execute_result"
    }
   ],
   "source": [
    "P.find( \"P\" )"
   ]
  },
  {
   "cell_type": "code",
   "execution_count": 94,
   "metadata": {},
   "outputs": [
    {
     "data": {
      "text/plain": [
       "10"
      ]
     },
     "execution_count": 94,
     "metadata": {},
     "output_type": "execute_result"
    }
   ],
   "source": [
    "P.find( \"rock\" )"
   ]
  },
  {
   "cell_type": "code",
   "execution_count": 95,
   "metadata": {},
   "outputs": [
    {
     "name": "stdout",
     "output_type": "stream",
     "text": [
      "Help on method_descriptor:\n",
      "\n",
      "index(...)\n",
      "    S.index(sub[, start[, end]]) -> int\n",
      "    \n",
      "    Return the lowest index in S where substring sub is found,\n",
      "    such that sub is contained within S[start:end].  Optional\n",
      "    arguments start and end are interpreted as in slice notation.\n",
      "    \n",
      "    Raises ValueError when the substring is not found.\n",
      "\n"
     ]
    }
   ],
   "source": [
    "help( str.index )"
   ]
  },
  {
   "cell_type": "code",
   "execution_count": 96,
   "metadata": {},
   "outputs": [
    {
     "name": "stdout",
     "output_type": "stream",
     "text": [
      "Help on method_descriptor:\n",
      "\n",
      "find(...)\n",
      "    S.find(sub[, start[, end]]) -> int\n",
      "    \n",
      "    Return the lowest index in S where substring sub is found,\n",
      "    such that sub is contained within S[start:end].  Optional\n",
      "    arguments start and end are interpreted as in slice notation.\n",
      "    \n",
      "    Return -1 on failure.\n",
      "\n"
     ]
    }
   ],
   "source": [
    "help( str.find )"
   ]
  },
  {
   "cell_type": "code",
   "execution_count": 118,
   "metadata": {},
   "outputs": [
    {
     "data": {
      "text/plain": [
       "'jailhouse rock by Elvis presley'"
      ]
     },
     "execution_count": 118,
     "metadata": {},
     "output_type": "execute_result"
    }
   ],
   "source": [
    "P"
   ]
  },
  {
   "cell_type": "code",
   "execution_count": 119,
   "metadata": {},
   "outputs": [
    {
     "data": {
      "text/plain": [
       "8"
      ]
     },
     "execution_count": 119,
     "metadata": {},
     "output_type": "execute_result"
    }
   ],
   "source": [
    "P.find( \"e\" )"
   ]
  },
  {
   "cell_type": "code",
   "execution_count": 120,
   "metadata": {},
   "outputs": [
    {
     "data": {
      "text/plain": [
       "29"
      ]
     },
     "execution_count": 120,
     "metadata": {},
     "output_type": "execute_result"
    }
   ],
   "source": [
    "P.rfind( \"e\" )"
   ]
  },
  {
   "cell_type": "code",
   "execution_count": 121,
   "metadata": {},
   "outputs": [
    {
     "data": {
      "text/plain": [
       "' rock by Elvis presley'"
      ]
     },
     "execution_count": 121,
     "metadata": {},
     "output_type": "execute_result"
    }
   ],
   "source": [
    "P[8+1:]"
   ]
  },
  {
   "cell_type": "code",
   "execution_count": 122,
   "metadata": {},
   "outputs": [
    {
     "data": {
      "text/plain": [
       "17"
      ]
     },
     "execution_count": 122,
     "metadata": {},
     "output_type": "execute_result"
    }
   ],
   "source": [
    "P[8+1:].find( \"e\" ) # 9 items from beginning + 17 more = 26"
   ]
  },
  {
   "cell_type": "code",
   "execution_count": 102,
   "metadata": {},
   "outputs": [
    {
     "data": {
      "text/plain": [
       "2"
      ]
     },
     "execution_count": 102,
     "metadata": {},
     "output_type": "execute_result"
    }
   ],
   "source": [
    "P[26+1:].find( \"e\" ) # 27 items from beginning + 2 more = 29"
   ]
  },
  {
   "cell_type": "code",
   "execution_count": 103,
   "metadata": {},
   "outputs": [
    {
     "data": {
      "text/plain": [
       "(18, 18)"
      ]
     },
     "execution_count": 103,
     "metadata": {},
     "output_type": "execute_result"
    }
   ],
   "source": [
    "P.find( \"E\" ), P.rfind( \"E\" )"
   ]
  },
  {
   "cell_type": "markdown",
   "metadata": {},
   "source": [
    "A better approach would have been to take advantage of the arguments in `str.find()`."
   ]
  },
  {
   "cell_type": "code",
   "execution_count": 104,
   "metadata": {},
   "outputs": [
    {
     "data": {
      "text/plain": [
       "8"
      ]
     },
     "execution_count": 104,
     "metadata": {},
     "output_type": "execute_result"
    }
   ],
   "source": [
    "P.find( \"e\" )"
   ]
  },
  {
   "cell_type": "code",
   "execution_count": 105,
   "metadata": {},
   "outputs": [
    {
     "data": {
      "text/plain": [
       "26"
      ]
     },
     "execution_count": 105,
     "metadata": {},
     "output_type": "execute_result"
    }
   ],
   "source": [
    "P.find( \"e\", 8+1 )"
   ]
  },
  {
   "cell_type": "code",
   "execution_count": 106,
   "metadata": {},
   "outputs": [
    {
     "data": {
      "text/plain": [
       "29"
      ]
     },
     "execution_count": 106,
     "metadata": {},
     "output_type": "execute_result"
    }
   ],
   "source": [
    "P.find( \"e\", 26+1 )"
   ]
  },
  {
   "cell_type": "code",
   "execution_count": 125,
   "metadata": {},
   "outputs": [
    {
     "ename": "NameError",
     "evalue": "name 'all_str_functions' is not defined",
     "output_type": "error",
     "traceback": [
      "\u001b[0;31m---------------------------------------------------------------------------\u001b[0m",
      "\u001b[0;31mNameError\u001b[0m                                 Traceback (most recent call last)",
      "\u001b[0;32m<ipython-input-125-6a54ac32af46>\u001b[0m in \u001b[0;36m<module>\u001b[0;34m\u001b[0m\n\u001b[0;32m----> 1\u001b[0;31m \u001b[0mprint\u001b[0m\u001b[0;34m(\u001b[0m \u001b[0mall_str_functions\u001b[0m \u001b[0;34m)\u001b[0m\u001b[0;34m\u001b[0m\u001b[0;34m\u001b[0m\u001b[0m\n\u001b[0m",
      "\u001b[0;31mNameError\u001b[0m: name 'all_str_functions' is not defined"
     ]
    }
   ],
   "source": [
    "print( all_str_functions )"
   ]
  },
  {
   "cell_type": "code",
   "execution_count": 124,
   "metadata": {},
   "outputs": [
    {
     "data": {
      "text/plain": [
       "3"
      ]
     },
     "execution_count": 124,
     "metadata": {},
     "output_type": "execute_result"
    }
   ],
   "source": [
    "P.count( \"e\" )"
   ]
  },
  {
   "cell_type": "code",
   "execution_count": 127,
   "metadata": {},
   "outputs": [
    {
     "data": {
      "text/plain": [
       "1"
      ]
     },
     "execution_count": 127,
     "metadata": {},
     "output_type": "execute_result"
    }
   ],
   "source": [
    "P.count( \"le\" )"
   ]
  },
  {
   "cell_type": "code",
   "execution_count": 128,
   "metadata": {},
   "outputs": [
    {
     "data": {
      "text/plain": [
       "0"
      ]
     },
     "execution_count": 128,
     "metadata": {},
     "output_type": "execute_result"
    }
   ],
   "source": [
    "P.count( \"Xel\" )"
   ]
  },
  {
   "cell_type": "code",
   "execution_count": 129,
   "metadata": {},
   "outputs": [
    {
     "data": {
      "text/plain": [
       "'         Jailhouse Rock By Elvis Presley          '"
      ]
     },
     "execution_count": 129,
     "metadata": {},
     "output_type": "execute_result"
    }
   ],
   "source": [
    "P.title().center( 50 )"
   ]
  },
  {
   "cell_type": "code",
   "execution_count": 130,
   "metadata": {},
   "outputs": [
    {
     "data": {
      "text/plain": [
       "'abc'"
      ]
     },
     "execution_count": 130,
     "metadata": {},
     "output_type": "execute_result"
    }
   ],
   "source": [
    "\"ABC\".lower()"
   ]
  },
  {
   "cell_type": "code",
   "execution_count": 131,
   "metadata": {},
   "outputs": [
    {
     "data": {
      "text/plain": [
       "'ABC'"
      ]
     },
     "execution_count": 131,
     "metadata": {},
     "output_type": "execute_result"
    }
   ],
   "source": [
    "\"abc\".upper()"
   ]
  },
  {
   "cell_type": "code",
   "execution_count": 132,
   "metadata": {},
   "outputs": [
    {
     "data": {
      "text/plain": [
       "'123xyzABC#$%!'"
      ]
     },
     "execution_count": 132,
     "metadata": {},
     "output_type": "execute_result"
    }
   ],
   "source": [
    "\"123XYZabc#$%!\".swapcase()"
   ]
  },
  {
   "cell_type": "code",
   "execution_count": 134,
   "metadata": {},
   "outputs": [
    {
     "data": {
      "text/plain": [
       "['1', '2', '3', '4', '56', 'A', 'B', 'C', 'DEF']"
      ]
     },
     "execution_count": 134,
     "metadata": {},
     "output_type": "execute_result"
    }
   ],
   "source": [
    "L = \"1 2 3       4   56 A       B C   DEF\"\n",
    "\n",
    "L.split()"
   ]
  },
  {
   "cell_type": "code",
   "execution_count": 135,
   "metadata": {},
   "outputs": [
    {
     "data": {
      "text/plain": [
       "['1', '2', '3', '4', '5', '6']"
      ]
     },
     "execution_count": 135,
     "metadata": {},
     "output_type": "execute_result"
    }
   ],
   "source": [
    "L = '1 2 3 \\n 4 5   6  '\n",
    "\n",
    "L.split()"
   ]
  },
  {
   "cell_type": "code",
   "execution_count": 136,
   "metadata": {},
   "outputs": [
    {
     "data": {
      "text/plain": [
       "['1', '2', '3', '4', '5', '6', '7', '8', '9', 'A']"
      ]
     },
     "execution_count": 136,
     "metadata": {},
     "output_type": "execute_result"
    }
   ],
   "source": [
    "L = '''1 2 3 \\n 4 5 \n",
    "6  7 8\n",
    "9 A  '''\n",
    "\n",
    "L.split()"
   ]
  },
  {
   "cell_type": "code",
   "execution_count": 137,
   "metadata": {},
   "outputs": [
    {
     "data": {
      "text/plain": [
       "['1', ' 2 3       4', '   5 6 A   ', '    B C']"
      ]
     },
     "execution_count": 137,
     "metadata": {},
     "output_type": "execute_result"
    }
   ],
   "source": [
    "L = \"1, 2 3       4,   5 6 A   ,    B C\"\n",
    "\n",
    "L.split( \",\" )"
   ]
  },
  {
   "cell_type": "code",
   "execution_count": 139,
   "metadata": {},
   "outputs": [],
   "source": [
    "B = \"   There    are some    blanks in this    string               \""
   ]
  },
  {
   "cell_type": "code",
   "execution_count": 140,
   "metadata": {},
   "outputs": [
    {
     "data": {
      "text/plain": [
       "'There    are some    blanks in this    string               '"
      ]
     },
     "execution_count": 140,
     "metadata": {},
     "output_type": "execute_result"
    }
   ],
   "source": [
    "B.lstrip()"
   ]
  },
  {
   "cell_type": "code",
   "execution_count": 141,
   "metadata": {},
   "outputs": [
    {
     "data": {
      "text/plain": [
       "'   There    are some    blanks in this    string'"
      ]
     },
     "execution_count": 141,
     "metadata": {},
     "output_type": "execute_result"
    }
   ],
   "source": [
    "B.rstrip()"
   ]
  },
  {
   "cell_type": "code",
   "execution_count": 123,
   "metadata": {},
   "outputs": [
    {
     "data": {
      "text/plain": [
       "'There    are some    blanks in this    string'"
      ]
     },
     "execution_count": 123,
     "metadata": {},
     "output_type": "execute_result"
    }
   ],
   "source": [
    "B.strip()"
   ]
  },
  {
   "cell_type": "code",
   "execution_count": 142,
   "metadata": {},
   "outputs": [
    {
     "data": {
      "text/plain": [
       "'a->b->c->d'"
      ]
     },
     "execution_count": 142,
     "metadata": {},
     "output_type": "execute_result"
    }
   ],
   "source": [
    "\"->\".join( [\"a\", \"b\", \"c\", \"d\"] )"
   ]
  },
  {
   "cell_type": "code",
   "execution_count": 143,
   "metadata": {},
   "outputs": [
    {
     "data": {
      "text/plain": [
       "'abcdef'"
      ]
     },
     "execution_count": 143,
     "metadata": {},
     "output_type": "execute_result"
    }
   ],
   "source": [
    "\"\".join( [\"a\", \"b\", \"c\", \"def\"] )"
   ]
  },
  {
   "cell_type": "code",
   "execution_count": 144,
   "metadata": {},
   "outputs": [
    {
     "data": {
      "text/plain": [
       "['There', 'are', 'some', 'blanks', 'in', 'this', 'string']"
      ]
     },
     "execution_count": 144,
     "metadata": {},
     "output_type": "execute_result"
    }
   ],
   "source": [
    "B.split()"
   ]
  },
  {
   "cell_type": "code",
   "execution_count": 145,
   "metadata": {},
   "outputs": [
    {
     "data": {
      "text/plain": [
       "'There are some blanks in this string'"
      ]
     },
     "execution_count": 145,
     "metadata": {},
     "output_type": "execute_result"
    }
   ],
   "source": [
    "\" \".join( B.split() )"
   ]
  },
  {
   "cell_type": "code",
   "execution_count": 146,
   "metadata": {},
   "outputs": [
    {
     "data": {
      "text/plain": [
       "'   There    are some    blanks in that    string               '"
      ]
     },
     "execution_count": 146,
     "metadata": {},
     "output_type": "execute_result"
    }
   ],
   "source": [
    "B.replace( \"this\", \"that\" )"
   ]
  },
  {
   "cell_type": "code",
   "execution_count": null,
   "metadata": {},
   "outputs": [],
   "source": [
    "### HERE 20211008"
   ]
  },
  {
   "cell_type": "markdown",
   "metadata": {},
   "source": [
    "### Boolean `str` functions\n",
    "\n",
    "Boolean functions are functions that return a truth value (`True`/`False`)."
   ]
  },
  {
   "cell_type": "code",
   "execution_count": 2,
   "metadata": {},
   "outputs": [
    {
     "name": "stdout",
     "output_type": "stream",
     "text": [
      "['isalnum', 'isalpha', 'isascii', 'isdecimal', 'isdigit', 'isidentifier', 'islower', 'isnumeric', 'isprintable', 'isspace', 'istitle', 'isupper']\n"
     ]
    }
   ],
   "source": [
    "print( [name for name in dir( str ) if name.startswith( \"is\" )] )"
   ]
  },
  {
   "cell_type": "code",
   "execution_count": 4,
   "metadata": {},
   "outputs": [
    {
     "data": {
      "text/plain": [
       "True"
      ]
     },
     "execution_count": 4,
     "metadata": {},
     "output_type": "execute_result"
    }
   ],
   "source": [
    "\"AB1C23\".isalnum()"
   ]
  },
  {
   "cell_type": "code",
   "execution_count": 5,
   "metadata": {},
   "outputs": [
    {
     "data": {
      "text/plain": [
       "True"
      ]
     },
     "execution_count": 5,
     "metadata": {},
     "output_type": "execute_result"
    }
   ],
   "source": [
    "\"ABC\".isalnum()"
   ]
  },
  {
   "cell_type": "code",
   "execution_count": 6,
   "metadata": {},
   "outputs": [
    {
     "data": {
      "text/plain": [
       "True"
      ]
     },
     "execution_count": 6,
     "metadata": {},
     "output_type": "execute_result"
    }
   ],
   "source": [
    "\"123\".isalnum()"
   ]
  },
  {
   "cell_type": "code",
   "execution_count": 7,
   "metadata": {},
   "outputs": [
    {
     "data": {
      "text/plain": [
       "True"
      ]
     },
     "execution_count": 7,
     "metadata": {},
     "output_type": "execute_result"
    }
   ],
   "source": [
    "\"123\".isnumeric()"
   ]
  },
  {
   "cell_type": "code",
   "execution_count": 8,
   "metadata": {},
   "outputs": [
    {
     "data": {
      "text/plain": [
       "True"
      ]
     },
     "execution_count": 8,
     "metadata": {},
     "output_type": "execute_result"
    }
   ],
   "source": [
    "\"ABC\".isalpha()"
   ]
  },
  {
   "cell_type": "code",
   "execution_count": 9,
   "metadata": {},
   "outputs": [
    {
     "data": {
      "text/plain": [
       "False"
      ]
     },
     "execution_count": 9,
     "metadata": {},
     "output_type": "execute_result"
    }
   ],
   "source": [
    "\"-123\".isnumeric()"
   ]
  },
  {
   "cell_type": "code",
   "execution_count": 10,
   "metadata": {},
   "outputs": [
    {
     "name": "stdout",
     "output_type": "stream",
     "text": [
      "Help on method_descriptor:\n",
      "\n",
      "isnumeric(self, /)\n",
      "    Return True if the string is a numeric string, False otherwise.\n",
      "    \n",
      "    A string is numeric if all characters in the string are numeric and there is at\n",
      "    least one character in the string.\n",
      "\n"
     ]
    }
   ],
   "source": [
    "help( str.isnumeric )"
   ]
  },
  {
   "cell_type": "code",
   "execution_count": 15,
   "metadata": {},
   "outputs": [
    {
     "name": "stdout",
     "output_type": "stream",
     "text": [
      "Help on method_descriptor:\n",
      "\n",
      "isdigit(self, /)\n",
      "    Return True if the string is a digit string, False otherwise.\n",
      "    \n",
      "    A string is a digit string if all characters in the string are digits and there\n",
      "    is at least one character in the string.\n",
      "\n"
     ]
    }
   ],
   "source": [
    "help( str.isdigit )"
   ]
  },
  {
   "cell_type": "markdown",
   "metadata": {},
   "source": [
    "References:\n",
    "\n",
    "> https://stackoverflow.com/questions/44891070/whats-the-difference-between-str-isdigit-isnumeric-and-isdecimal-in-python\n",
    ">\n",
    "> https://docs.python.org/3/library/stdtypes.html#str.isdecimal\n",
    "> \n",
    "> https://www.includehelp.com/python/difference-between-string-isdecimal-isdigit-isnumeric-and-methods.aspx\n",
    ">\n",
    ">  https://stackoverflow.com/questions/22789392/str-isdecimal-and-str-isdigit-difference-example/42250941#42250941"
   ]
  },
  {
   "cell_type": "code",
   "execution_count": 12,
   "metadata": {},
   "outputs": [
    {
     "data": {
      "text/plain": [
       "False"
      ]
     },
     "execution_count": 12,
     "metadata": {},
     "output_type": "execute_result"
    }
   ],
   "source": [
    "\"0xAB\".isnumeric()"
   ]
  },
  {
   "cell_type": "code",
   "execution_count": 14,
   "metadata": {},
   "outputs": [
    {
     "data": {
      "text/plain": [
       "True"
      ]
     },
     "execution_count": 14,
     "metadata": {},
     "output_type": "execute_result"
    }
   ],
   "source": [
    "\"0282839\".isdigit()"
   ]
  },
  {
   "cell_type": "code",
   "execution_count": 16,
   "metadata": {},
   "outputs": [
    {
     "data": {
      "text/plain": [
       "True"
      ]
     },
     "execution_count": 16,
     "metadata": {},
     "output_type": "execute_result"
    }
   ],
   "source": [
    "\"123\".isdecimal()"
   ]
  },
  {
   "cell_type": "code",
   "execution_count": 18,
   "metadata": {},
   "outputs": [
    {
     "data": {
      "text/plain": [
       "False"
      ]
     },
     "execution_count": 18,
     "metadata": {},
     "output_type": "execute_result"
    }
   ],
   "source": [
    "\"123.45\".isdecimal() # With the regular floating-point dot"
   ]
  },
  {
   "cell_type": "code",
   "execution_count": 19,
   "metadata": {},
   "outputs": [
    {
     "data": {
      "text/plain": [
       "False"
      ]
     },
     "execution_count": 19,
     "metadata": {},
     "output_type": "execute_result"
    }
   ],
   "source": [
    "\"123·45\".isdecimal() # With middle dot"
   ]
  },
  {
   "cell_type": "code",
   "execution_count": 20,
   "metadata": {},
   "outputs": [
    {
     "data": {
      "text/plain": [
       "False"
      ]
     },
     "execution_count": 20,
     "metadata": {},
     "output_type": "execute_result"
    }
   ],
   "source": [
    "\"123‧45\".isdecimal() # With middle dot"
   ]
  },
  {
   "cell_type": "code",
   "execution_count": 21,
   "metadata": {},
   "outputs": [
    {
     "name": "stdout",
     "output_type": "stream",
     "text": [
      "Help on method_descriptor:\n",
      "\n",
      "isidentifier(self, /)\n",
      "    Return True if the string is a valid Python identifier, False otherwise.\n",
      "    \n",
      "    Call keyword.iskeyword(s) to test whether string s is a reserved identifier,\n",
      "    such as \"def\" or \"class\".\n",
      "\n"
     ]
    }
   ],
   "source": [
    "help( str.isidentifier )"
   ]
  },
  {
   "cell_type": "code",
   "execution_count": 22,
   "metadata": {},
   "outputs": [
    {
     "data": {
      "text/plain": [
       "True"
      ]
     },
     "execution_count": 22,
     "metadata": {},
     "output_type": "execute_result"
    }
   ],
   "source": [
    "\"_first_elem\".isidentifier()"
   ]
  },
  {
   "cell_type": "code",
   "execution_count": 25,
   "metadata": {},
   "outputs": [
    {
     "data": {
      "text/plain": [
       "False"
      ]
     },
     "execution_count": 25,
     "metadata": {},
     "output_type": "execute_result"
    }
   ],
   "source": [
    "\"123_x\".isidentifier() # Starts with numeric digits"
   ]
  },
  {
   "cell_type": "code",
   "execution_count": 26,
   "metadata": {},
   "outputs": [
    {
     "data": {
      "text/plain": [
       "False"
      ]
     },
     "execution_count": 26,
     "metadata": {},
     "output_type": "execute_result"
    }
   ],
   "source": [
    "\"#freedom\".isidentifier()"
   ]
  },
  {
   "cell_type": "code",
   "execution_count": 27,
   "metadata": {},
   "outputs": [
    {
     "data": {
      "text/plain": [
       "True"
      ]
     },
     "execution_count": 27,
     "metadata": {},
     "output_type": "execute_result"
    }
   ],
   "source": [
    "\"abc\".islower()"
   ]
  },
  {
   "cell_type": "code",
   "execution_count": 28,
   "metadata": {},
   "outputs": [
    {
     "data": {
      "text/plain": [
       "False"
      ]
     },
     "execution_count": 28,
     "metadata": {},
     "output_type": "execute_result"
    }
   ],
   "source": [
    "\"abc\".isupper()"
   ]
  },
  {
   "cell_type": "code",
   "execution_count": 29,
   "metadata": {},
   "outputs": [
    {
     "data": {
      "text/plain": [
       "False"
      ]
     },
     "execution_count": 29,
     "metadata": {},
     "output_type": "execute_result"
    }
   ],
   "source": [
    "\"123 ABC\".islower()"
   ]
  },
  {
   "cell_type": "code",
   "execution_count": 30,
   "metadata": {},
   "outputs": [
    {
     "data": {
      "text/plain": [
       "True"
      ]
     },
     "execution_count": 30,
     "metadata": {},
     "output_type": "execute_result"
    }
   ],
   "source": [
    "\"123 ABC\".isupper()"
   ]
  },
  {
   "cell_type": "code",
   "execution_count": 33,
   "metadata": {},
   "outputs": [
    {
     "data": {
      "text/plain": [
       "True"
      ]
     },
     "execution_count": 33,
     "metadata": {},
     "output_type": "execute_result"
    }
   ],
   "source": [
    "\"   \\n  \\t  \\r  \".isspace() # Four space characters: blank, end-of-line, tab, carriage return"
   ]
  },
  {
   "cell_type": "markdown",
   "metadata": {},
   "source": [
    "\n",
    "---"
   ]
  },
  {
   "cell_type": "markdown",
   "metadata": {},
   "source": [
    "# Iteration through strings"
   ]
  },
  {
   "cell_type": "markdown",
   "metadata": {},
   "source": [
    "#### Iterating through a string _without_ indices "
   ]
  },
  {
   "cell_type": "code",
   "execution_count": 38,
   "metadata": {},
   "outputs": [
    {
     "name": "stdout",
     "output_type": "stream",
     "text": [
      "S\n",
      "t\n",
      "r\n",
      "a\n",
      "w\n",
      "b\n",
      "e\n",
      "r\n",
      "r\n",
      "y\n"
     ]
    }
   ],
   "source": [
    "s = \"Strawberry\"\n",
    "\n",
    "for char in s:\n",
    "    #\n",
    "    print( char )"
   ]
  },
  {
   "cell_type": "markdown",
   "metadata": {},
   "source": [
    "#### Iterating through a string _with_ indices "
   ]
  },
  {
   "cell_type": "markdown",
   "metadata": {},
   "source": [
    "Next, we will see how we can iterate through the characters of a string but with indices. \n",
    "\n",
    "First, we will see how we can do this with an index/counter using the \"ugly\"&ndash;meaning non-Pythonic&ndash;way.\n"
   ]
  },
  {
   "cell_type": "markdown",
   "metadata": {},
   "source": [
    "#### Iterating through a string _with_ indices "
   ]
  },
  {
   "cell_type": "code",
   "execution_count": 45,
   "metadata": {},
   "outputs": [
    {
     "name": "stdout",
     "output_type": "stream",
     "text": [
      "index=0, char=S\n",
      "index=1, char=t\n",
      "index=2, char=r\n",
      "index=3, char=a\n",
      "index=4, char=w\n",
      "index=5, char=b\n",
      "index=6, char=e\n",
      "index=7, char=r\n",
      "index=8, char=r\n",
      "index=9, char=y\n"
     ]
    }
   ],
   "source": [
    "index = 0\n",
    "\n",
    "for char in s:\n",
    "    #\n",
    "    print( \"index={}, char={}\".format( index, char ) )\n",
    "    index += 1 # Must remember to increment the index!"
   ]
  },
  {
   "cell_type": "markdown",
   "metadata": {},
   "source": [
    "#### Iterating through a string _with_ indices using `enumerate()`"
   ]
  },
  {
   "cell_type": "markdown",
   "metadata": {},
   "source": [
    "In Python, there is no need to define an extra variable like `index`, leave alone initialize it or increment it. \n",
    "\n",
    "Enter `enumerate()`."
   ]
  },
  {
   "cell_type": "code",
   "execution_count": 47,
   "metadata": {},
   "outputs": [
    {
     "name": "stdout",
     "output_type": "stream",
     "text": [
      "Help on class enumerate in module builtins:\n",
      "\n",
      "class enumerate(object)\n",
      " |  enumerate(iterable, start=0)\n",
      " |  \n",
      " |  Return an enumerate object.\n",
      " |  \n",
      " |    iterable\n",
      " |      an object supporting iteration\n",
      " |  \n",
      " |  The enumerate object yields pairs containing a count (from start, which\n",
      " |  defaults to zero) and a value yielded by the iterable argument.\n",
      " |  \n",
      " |  enumerate is useful for obtaining an indexed list:\n",
      " |      (0, seq[0]), (1, seq[1]), (2, seq[2]), ...\n",
      " |  \n",
      " |  Methods defined here:\n",
      " |  \n",
      " |  __getattribute__(self, name, /)\n",
      " |      Return getattr(self, name).\n",
      " |  \n",
      " |  __iter__(self, /)\n",
      " |      Implement iter(self).\n",
      " |  \n",
      " |  __next__(self, /)\n",
      " |      Implement next(self).\n",
      " |  \n",
      " |  __reduce__(...)\n",
      " |      Return state information for pickling.\n",
      " |  \n",
      " |  ----------------------------------------------------------------------\n",
      " |  Static methods defined here:\n",
      " |  \n",
      " |  __new__(*args, **kwargs) from builtins.type\n",
      " |      Create and return a new object.  See help(type) for accurate signature.\n",
      "\n"
     ]
    }
   ],
   "source": [
    "help( enumerate )"
   ]
  },
  {
   "cell_type": "code",
   "execution_count": 51,
   "metadata": {},
   "outputs": [
    {
     "data": {
      "text/plain": [
       "[(0, 'S'),\n",
       " (1, 't'),\n",
       " (2, 'r'),\n",
       " (3, 'a'),\n",
       " (4, 'w'),\n",
       " (5, 'b'),\n",
       " (6, 'e'),\n",
       " (7, 'r'),\n",
       " (8, 'r'),\n",
       " (9, 'y')]"
      ]
     },
     "execution_count": 51,
     "metadata": {},
     "output_type": "execute_result"
    }
   ],
   "source": [
    "e = enumerate( s )\n",
    "list( e ) # To explicitly list the contents in e"
   ]
  },
  {
   "cell_type": "code",
   "execution_count": 52,
   "metadata": {},
   "outputs": [
    {
     "name": "stdout",
     "output_type": "stream",
     "text": [
      "index=0, char=S\n",
      "index=1, char=t\n",
      "index=2, char=r\n",
      "index=3, char=a\n",
      "index=4, char=w\n",
      "index=5, char=b\n",
      "index=6, char=e\n",
      "index=7, char=r\n",
      "index=8, char=r\n",
      "index=9, char=y\n"
     ]
    }
   ],
   "source": [
    "for data_item in enumerate( s ):\n",
    "    #\n",
    "    print( \"index={}, char={}\".format( data_item[0], data_item[1] ))"
   ]
  },
  {
   "cell_type": "code",
   "execution_count": 53,
   "metadata": {},
   "outputs": [
    {
     "name": "stdout",
     "output_type": "stream",
     "text": [
      "index=0, char=S\n",
      "index=1, char=t\n",
      "index=2, char=r\n",
      "index=3, char=a\n",
      "index=4, char=w\n",
      "index=5, char=b\n",
      "index=6, char=e\n",
      "index=7, char=r\n",
      "index=8, char=r\n",
      "index=9, char=y\n"
     ]
    }
   ],
   "source": [
    "for data_item in enumerate( s ):\n",
    "    #\n",
    "    idx, char = data_item # Tuple assignment\n",
    "    print( \"index={}, char={}\".format( idx, char ))"
   ]
  },
  {
   "cell_type": "code",
   "execution_count": 54,
   "metadata": {},
   "outputs": [
    {
     "name": "stdout",
     "output_type": "stream",
     "text": [
      "index=0, char=S\n",
      "index=1, char=t\n",
      "index=2, char=r\n",
      "index=3, char=a\n",
      "index=4, char=w\n",
      "index=5, char=b\n",
      "index=6, char=e\n",
      "index=7, char=r\n",
      "index=8, char=r\n",
      "index=9, char=y\n"
     ]
    }
   ],
   "source": [
    "# The ideal way of doing things\n",
    "for index, char in enumerate( s ):\n",
    "    #\n",
    "    print( \"index={}, char={}\".format( index, char ))"
   ]
  },
  {
   "cell_type": "code",
   "execution_count": 57,
   "metadata": {},
   "outputs": [
    {
     "name": "stdout",
     "output_type": "stream",
     "text": [
      "--- Found 'r' at index 2\n",
      "--- Found 'r' at index 7\n",
      "--- Found 'r' at index 8\n",
      "--- There are 3 'r's in 'Strawberry\n"
     ]
    }
   ],
   "source": [
    "# Let's count how many 'r's we have in string, s, and also print \n",
    "# out at what index each letter 'r' occurs.\n",
    "#\n",
    "# s <-- strawberry\n",
    "#         x    xx   --> We have 3 r's\n",
    "#         2    78   --> Printed indices should be 2, 7, 8\n",
    "#\n",
    "# We need:\n",
    "#   - total count of letter r's\n",
    "#   - indices of each letter r in s\n",
    "#\n",
    "# OBSERVATIONS:\n",
    "#   - We need the index of each character\n",
    "#   - We also have to keep track of a total count\n",
    "#\n",
    "key_letter = 'r'\n",
    "count = 0 # Initialize the count\n",
    "\n",
    "for index, char in enumerate( s ):\n",
    "    #\n",
    "    if char == key_letter:\n",
    "        #\n",
    "        print( f\"--- Found '{char}' at index {index}\" )\n",
    "        count += 1 # Increment the count of letter 'r'\n",
    "        \n",
    "print( f\"--- There are {count} '{key_letter}'s in '{s}\" )"
   ]
  },
  {
   "cell_type": "markdown",
   "metadata": {},
   "source": [
    "### __REMEMBER AND NEVER FORGET: Strings are immutable!__"
   ]
  },
  {
   "cell_type": "code",
   "execution_count": 58,
   "metadata": {},
   "outputs": [],
   "source": [
    "s = \"strawberry\""
   ]
  },
  {
   "cell_type": "code",
   "execution_count": 59,
   "metadata": {},
   "outputs": [
    {
     "ename": "TypeError",
     "evalue": "'str' object does not support item assignment",
     "output_type": "error",
     "traceback": [
      "\u001b[0;31m---------------------------------------------------------------------------\u001b[0m",
      "\u001b[0;31mTypeError\u001b[0m                                 Traceback (most recent call last)",
      "\u001b[0;32m<ipython-input-59-81bf0a0bf177>\u001b[0m in \u001b[0;36m<module>\u001b[0;34m\u001b[0m\n\u001b[0;32m----> 1\u001b[0;31m \u001b[0ms\u001b[0m\u001b[0;34m[\u001b[0m\u001b[0;36m3\u001b[0m\u001b[0;34m]\u001b[0m \u001b[0;34m=\u001b[0m \u001b[0;34m'X'\u001b[0m\u001b[0;34m\u001b[0m\u001b[0;34m\u001b[0m\u001b[0m\n\u001b[0m",
      "\u001b[0;31mTypeError\u001b[0m: 'str' object does not support item assignment"
     ]
    }
   ],
   "source": [
    "s[3] = 'X'"
   ]
  },
  {
   "cell_type": "code",
   "execution_count": 60,
   "metadata": {},
   "outputs": [
    {
     "data": {
      "text/plain": [
       "'awber'"
      ]
     },
     "execution_count": 60,
     "metadata": {},
     "output_type": "execute_result"
    }
   ],
   "source": [
    "s[3:8]"
   ]
  },
  {
   "cell_type": "markdown",
   "metadata": {},
   "source": [
    "What this error message means is that you cannot change any of the letters in a given string!"
   ]
  },
  {
   "cell_type": "markdown",
   "metadata": {},
   "source": [
    "What about slices?"
   ]
  },
  {
   "cell_type": "code",
   "execution_count": 61,
   "metadata": {},
   "outputs": [
    {
     "data": {
      "text/plain": [
       "'awber'"
      ]
     },
     "execution_count": 61,
     "metadata": {},
     "output_type": "execute_result"
    }
   ],
   "source": [
    "s[3:8]"
   ]
  },
  {
   "cell_type": "code",
   "execution_count": 62,
   "metadata": {},
   "outputs": [
    {
     "ename": "TypeError",
     "evalue": "'str' object does not support item assignment",
     "output_type": "error",
     "traceback": [
      "\u001b[0;31m---------------------------------------------------------------------------\u001b[0m",
      "\u001b[0;31mTypeError\u001b[0m                                 Traceback (most recent call last)",
      "\u001b[0;32m<ipython-input-62-4b96a9ef15b8>\u001b[0m in \u001b[0;36m<module>\u001b[0;34m\u001b[0m\n\u001b[0;32m----> 1\u001b[0;31m \u001b[0ms\u001b[0m\u001b[0;34m[\u001b[0m\u001b[0;36m3\u001b[0m\u001b[0;34m:\u001b[0m\u001b[0;36m8\u001b[0m\u001b[0;34m]\u001b[0m \u001b[0;34m=\u001b[0m \u001b[0;34m\"Something\"\u001b[0m\u001b[0;34m\u001b[0m\u001b[0;34m\u001b[0m\u001b[0m\n\u001b[0m",
      "\u001b[0;31mTypeError\u001b[0m: 'str' object does not support item assignment"
     ]
    }
   ],
   "source": [
    "s[3:8] = \"Something\""
   ]
  },
  {
   "cell_type": "markdown",
   "metadata": {},
   "source": [
    "So the same thing goes for slices. We cannot change any of the elements in an **immutable** data type such as strings!"
   ]
  },
  {
   "cell_type": "markdown",
   "metadata": {},
   "source": [
    "However, we can reassign the entire string, but, as you know, that's not the same thing as being able to manipulate individual characters or parts/slices of a string. "
   ]
  },
  {
   "cell_type": "code",
   "execution_count": 63,
   "metadata": {},
   "outputs": [
    {
     "data": {
      "text/plain": [
       "'rasperry'"
      ]
     },
     "execution_count": 63,
     "metadata": {},
     "output_type": "execute_result"
    }
   ],
   "source": [
    "s = \"rasperry\"\n",
    "s"
   ]
  },
  {
   "cell_type": "code",
   "execution_count": 64,
   "metadata": {},
   "outputs": [
    {
     "data": {
      "text/plain": [
       "'asperry'"
      ]
     },
     "execution_count": 64,
     "metadata": {},
     "output_type": "execute_result"
    }
   ],
   "source": [
    "s[1:]"
   ]
  },
  {
   "cell_type": "markdown",
   "metadata": {},
   "source": [
    "If we need to manipulate parts of strings, all we can do is to reconstruct them or reassign new values to them."
   ]
  },
  {
   "cell_type": "code",
   "execution_count": 65,
   "metadata": {},
   "outputs": [
    {
     "data": {
      "text/plain": [
       "140642061095728"
      ]
     },
     "execution_count": 65,
     "metadata": {},
     "output_type": "execute_result"
    }
   ],
   "source": [
    "id( s )"
   ]
  },
  {
   "cell_type": "markdown",
   "metadata": {},
   "source": [
    "We can reassign `s` to a different value (or the same value)."
   ]
  },
  {
   "cell_type": "code",
   "execution_count": 66,
   "metadata": {},
   "outputs": [
    {
     "data": {
      "text/plain": [
       "'Rasperry'"
      ]
     },
     "execution_count": 66,
     "metadata": {},
     "output_type": "execute_result"
    }
   ],
   "source": [
    "s = \"R\" + s[1:]\n",
    "s"
   ]
  },
  {
   "cell_type": "code",
   "execution_count": 67,
   "metadata": {},
   "outputs": [
    {
     "data": {
      "text/plain": [
       "140642061129200"
      ]
     },
     "execution_count": 67,
     "metadata": {},
     "output_type": "execute_result"
    }
   ],
   "source": [
    "id( s )"
   ]
  },
  {
   "cell_type": "markdown",
   "metadata": {},
   "source": [
    "Since the IDs of the two versions of `s` are different, it means that we are talking about different memory locations."
   ]
  },
  {
   "cell_type": "markdown",
   "metadata": {},
   "source": [
    "Note that on the left-hand side of the assignment, we have the name of the entire variable, not part of it!"
   ]
  },
  {
   "cell_type": "code",
   "execution_count": 68,
   "metadata": {},
   "outputs": [
    {
     "data": {
      "text/plain": [
       "'asp'"
      ]
     },
     "execution_count": 68,
     "metadata": {},
     "output_type": "execute_result"
    }
   ],
   "source": [
    "s[1:4]"
   ]
  },
  {
   "cell_type": "code",
   "execution_count": 69,
   "metadata": {},
   "outputs": [
    {
     "data": {
      "text/plain": [
       "'Rasperry'"
      ]
     },
     "execution_count": 69,
     "metadata": {},
     "output_type": "execute_result"
    }
   ],
   "source": [
    "s"
   ]
  },
  {
   "cell_type": "code",
   "execution_count": 71,
   "metadata": {},
   "outputs": [
    {
     "data": {
      "text/plain": [
       "'Ry'"
      ]
     },
     "execution_count": 71,
     "metadata": {},
     "output_type": "execute_result"
    }
   ],
   "source": [
    "s = s[0] + s[4:]\n",
    "s"
   ]
  },
  {
   "cell_type": "code",
   "execution_count": 72,
   "metadata": {},
   "outputs": [
    {
     "data": {
      "text/plain": [
       "140642060550320"
      ]
     },
     "execution_count": 72,
     "metadata": {},
     "output_type": "execute_result"
    }
   ],
   "source": [
    "id( s )"
   ]
  },
  {
   "cell_type": "markdown",
   "metadata": {},
   "source": [
    "Practically speaking, we cannot have any `s[...]` type of expression on the LHS of an assignment when `s` is a string."
   ]
  },
  {
   "cell_type": "markdown",
   "metadata": {},
   "source": [
    "## The __in__ operator\n",
    "\n",
    "We can use `in` to check if an element exists in a container, such as a sequence.\n",
    "\n",
    "Note that this usage is different from using the __in__ operator in a `for`-loop. In the context of a `for`-loop, the `in` operator does not return a truth value."
   ]
  },
  {
   "cell_type": "code",
   "execution_count": 74,
   "metadata": {},
   "outputs": [
    {
     "data": {
      "text/plain": [
       "'Rasperry'"
      ]
     },
     "execution_count": 74,
     "metadata": {},
     "output_type": "execute_result"
    }
   ],
   "source": [
    "s = 'Rasperry'\n",
    "s"
   ]
  },
  {
   "cell_type": "code",
   "execution_count": 75,
   "metadata": {},
   "outputs": [
    {
     "data": {
      "text/plain": [
       "True"
      ]
     },
     "execution_count": 75,
     "metadata": {},
     "output_type": "execute_result"
    }
   ],
   "source": [
    "\"r\" in s"
   ]
  },
  {
   "cell_type": "code",
   "execution_count": 76,
   "metadata": {},
   "outputs": [
    {
     "data": {
      "text/plain": [
       "True"
      ]
     },
     "execution_count": 76,
     "metadata": {},
     "output_type": "execute_result"
    }
   ],
   "source": [
    "\"err\" in s"
   ]
  },
  {
   "cell_type": "code",
   "execution_count": 77,
   "metadata": {},
   "outputs": [
    {
     "data": {
      "text/plain": [
       "True"
      ]
     },
     "execution_count": 77,
     "metadata": {},
     "output_type": "execute_result"
    }
   ],
   "source": [
    "\"p\" in s"
   ]
  },
  {
   "cell_type": "code",
   "execution_count": 78,
   "metadata": {},
   "outputs": [
    {
     "data": {
      "text/plain": [
       "False"
      ]
     },
     "execution_count": 78,
     "metadata": {},
     "output_type": "execute_result"
    }
   ],
   "source": [
    "\"123erry\" in s"
   ]
  },
  {
   "cell_type": "code",
   "execution_count": 79,
   "metadata": {},
   "outputs": [
    {
     "data": {
      "text/plain": [
       "False"
      ]
     },
     "execution_count": 79,
     "metadata": {},
     "output_type": "execute_result"
    }
   ],
   "source": [
    "\"rrey\" in s"
   ]
  },
  {
   "cell_type": "code",
   "execution_count": 80,
   "metadata": {},
   "outputs": [
    {
     "data": {
      "text/plain": [
       "True"
      ]
     },
     "execution_count": 80,
     "metadata": {},
     "output_type": "execute_result"
    }
   ],
   "source": [
    "\"\" in s # Crazy example!"
   ]
  },
  {
   "cell_type": "code",
   "execution_count": 81,
   "metadata": {},
   "outputs": [
    {
     "data": {
      "text/plain": [
       "True"
      ]
     },
     "execution_count": 81,
     "metadata": {},
     "output_type": "execute_result"
    }
   ],
   "source": [
    "\"\" in \"\" # Even crazier example!"
   ]
  },
  {
   "cell_type": "markdown",
   "metadata": {},
   "source": [
    "---"
   ]
  },
  {
   "cell_type": "markdown",
   "metadata": {},
   "source": [
    "___Exercise___: Given two strings, write Python code that checks if the characters in the first string occur in the second, one at a time. You can just print messages to the screen to indicate whether each character occurs in the given search string."
   ]
  },
  {
   "cell_type": "code",
   "execution_count": 82,
   "metadata": {},
   "outputs": [
    {
     "name": "stdout",
     "output_type": "stream",
     "text": [
      "--- Searching for character a\n",
      "\tCharacter a occurs in Strawberry\n",
      "--- Searching for character p\n",
      "\tCharacter p does NOT occur in Strawberry\n",
      "--- Searching for character r\n",
      "\tCharacter r occurs in Strawberry\n",
      "--- Searching for character y\n",
      "\tCharacter y occurs in Strawberry\n"
     ]
    }
   ],
   "source": [
    "search_string = \"Strawberry\"\n",
    "key_string = \"apry\"\n",
    "\n",
    "for key_char in key_string:\n",
    "    #\n",
    "    print( f\"--- Searching for character {key_char}\" )\n",
    "    \n",
    "    if key_char in search_string:\n",
    "        #\n",
    "        print( \"\\tCharacter {} occurs in {}\".format( key_char, search_string ))\n",
    "    else:\n",
    "        print( \"\\tCharacter {} does NOT occur in {}\".format( key_char, search_string ))"
   ]
  },
  {
   "cell_type": "markdown",
   "metadata": {},
   "source": [
    "__QUESTION__: Why does this code seems to be indicating that letter `r` occurs in the search string only once even though the search string has 3 occurrences of letter `r`?"
   ]
  },
  {
   "cell_type": "markdown",
   "metadata": {},
   "source": [
    "__QUESTION:__ Can we solve this problem another way?"
   ]
  },
  {
   "cell_type": "code",
   "execution_count": 83,
   "metadata": {},
   "outputs": [],
   "source": [
    "#help( str )"
   ]
  },
  {
   "cell_type": "code",
   "execution_count": 84,
   "metadata": {},
   "outputs": [
    {
     "name": "stdout",
     "output_type": "stream",
     "text": [
      "Help on built-in function count:\n",
      "\n",
      "count(...) method of builtins.str instance\n",
      "    S.count(sub[, start[, end]]) -> int\n",
      "    \n",
      "    Return the number of non-overlapping occurrences of substring sub in\n",
      "    string S[start:end].  Optional arguments start and end are\n",
      "    interpreted as in slice notation.\n",
      "\n"
     ]
    }
   ],
   "source": [
    "help( search_string.count )"
   ]
  },
  {
   "cell_type": "code",
   "execution_count": 85,
   "metadata": {},
   "outputs": [
    {
     "name": "stdout",
     "output_type": "stream",
     "text": [
      "Help on built-in function find:\n",
      "\n",
      "find(...) method of builtins.str instance\n",
      "    S.find(sub[, start[, end]]) -> int\n",
      "    \n",
      "    Return the lowest index in S where substring sub is found,\n",
      "    such that sub is contained within S[start:end].  Optional\n",
      "    arguments start and end are interpreted as in slice notation.\n",
      "    \n",
      "    Return -1 on failure.\n",
      "\n"
     ]
    }
   ],
   "source": [
    "help( search_string.find )"
   ]
  },
  {
   "cell_type": "code",
   "execution_count": 86,
   "metadata": {},
   "outputs": [
    {
     "name": "stdout",
     "output_type": "stream",
     "text": [
      "Character a occurs in Strawberry\n",
      "Character p does NOT occur in Strawberry\n",
      "Character r occurs in Strawberry\n",
      "Character y occurs in Strawberry\n"
     ]
    }
   ],
   "source": [
    "search_string = \"Strawberry\"\n",
    "key_string = \"apry\"\n",
    "\n",
    "for key_char in key_string:\n",
    "    \n",
    "    if search_string.count( key_char ):\n",
    "        #\n",
    "        print( \"Character {} occurs in {}\".format( key_char, search_string ))\n",
    "    else:\n",
    "        print( \"Character {} does NOT occur in {}\".format( key_char, search_string ))"
   ]
  },
  {
   "cell_type": "markdown",
   "metadata": {},
   "source": [
    "Let's add a bit of twist to the above code."
   ]
  },
  {
   "cell_type": "code",
   "execution_count": 87,
   "metadata": {},
   "outputs": [
    {
     "name": "stdout",
     "output_type": "stream",
     "text": [
      "Character a occurs in Strawberry 1 time(s)\n",
      "Character p does NOT occur in Strawberry\n",
      "Character r occurs in Strawberry 3 time(s)\n",
      "Character y occurs in Strawberry 1 time(s)\n"
     ]
    }
   ],
   "source": [
    "search_string = \"Strawberry\"\n",
    "key_string = \"apry\"\n",
    "\n",
    "for key_char in key_string:\n",
    "    #\n",
    "    letter_count = search_string.count( key_char ) \n",
    "    \n",
    "    if letter_count: # No need to write this as: if letter_count > 0:\n",
    "        #\n",
    "        print( \"Character {} occurs in {} {} time(s)\".format( key_char, \n",
    "                                                              search_string,\n",
    "                                                              letter_count ))\n",
    "    else:\n",
    "        print( \"Character {} does NOT occur in {}\".format( key_char, search_string ))"
   ]
  },
  {
   "cell_type": "markdown",
   "metadata": {},
   "source": [
    "Let's even go a little further to be able to print fancier messages with this code."
   ]
  },
  {
   "cell_type": "code",
   "execution_count": 90,
   "metadata": {},
   "outputs": [
    {
     "name": "stdout",
     "output_type": "stream",
     "text": [
      "Character a occurs in Strawberryy once\n",
      "Character p does NOT occur in Strawberryy\n",
      "Character r occurs in Strawberryy 3 times\n",
      "Character y occurs in Strawberryy twice\n"
     ]
    }
   ],
   "source": [
    "search_string = \"Strawberryy\"# Double y's are intentional\n",
    "key_string = \"apry\"\n",
    "\n",
    "for key_char in key_string:\n",
    "    #\n",
    "    letter_count = search_string.count( key_char )\n",
    "    \n",
    "    if letter_count:\n",
    "        #\n",
    "        count_str = None\n",
    "\n",
    "        if letter_count == 1:\n",
    "            #\n",
    "            count_str = \"once\"\n",
    "            \n",
    "        elif letter_count == 2:\n",
    "            # \n",
    "            count_str = \"twice\"\n",
    "        else:\n",
    "            count_str = \"{} times\".format( letter_count )\n",
    "            \n",
    "        print( \"Character {} occurs in {} {}\".format( key_char, \n",
    "                                                      search_string,\n",
    "                                                      count_str ))\n",
    "    else:\n",
    "        print( \"Character {} does NOT occur in {}\".format( key_char, search_string ))"
   ]
  },
  {
   "cell_type": "code",
   "execution_count": 92,
   "metadata": {},
   "outputs": [
    {
     "name": "stdout",
     "output_type": "stream",
     "text": [
      "Character a occurs in Strawberry\n",
      "Character p does NOT occur in Strawberry\n",
      "Character r occurs in Strawberry\n",
      "Character y occurs in Strawberry\n"
     ]
    }
   ],
   "source": [
    "key_string = \"apry\"\n",
    "search_string = \"Strawberry\"\n",
    "\n",
    "for key_char in key_string:\n",
    "    #\n",
    "    if search_string.find( key_char ) >= 0:\n",
    "        #\n",
    "        print( \"Character {} occurs in {}\".format( key_char, search_string ))\n",
    "    else:\n",
    "        print( \"Character {} does NOT occur in {}\".format( key_char, search_string ))"
   ]
  },
  {
   "cell_type": "markdown",
   "metadata": {},
   "source": [
    "__QUESTION:__ Which alternative is the ___\"best?\"___\n",
    "\n",
    "__ANSWER:__ Even though the three alternatives we've developed above are all functionally equivalent, using the alternative with the `in` operator is the \"cleanest\" way to solve the stated problem, because it's easiest to read and comprehend, without needing any explicit function calls as in the case of `str.count()` and `str.find()`.\n",
    "\n",
    "We must note that other solutions are possible, and, in general, multiple solutions are always possible."
   ]
  },
  {
   "cell_type": "markdown",
   "metadata": {},
   "source": [
    "---"
   ]
  },
  {
   "cell_type": "markdown",
   "metadata": {},
   "source": [
    "### String comparison"
   ]
  },
  {
   "cell_type": "code",
   "execution_count": 93,
   "metadata": {},
   "outputs": [
    {
     "data": {
      "text/plain": [
       "True"
      ]
     },
     "execution_count": 93,
     "metadata": {},
     "output_type": "execute_result"
    }
   ],
   "source": [
    "\"banana\" < \"janana\""
   ]
  },
  {
   "cell_type": "code",
   "execution_count": 94,
   "metadata": {},
   "outputs": [
    {
     "data": {
      "text/plain": [
       "True"
      ]
     },
     "execution_count": 94,
     "metadata": {},
     "output_type": "execute_result"
    }
   ],
   "source": [
    "\"b\" < \"j\""
   ]
  },
  {
   "cell_type": "code",
   "execution_count": 95,
   "metadata": {},
   "outputs": [
    {
     "data": {
      "text/plain": [
       "False"
      ]
     },
     "execution_count": 95,
     "metadata": {},
     "output_type": "execute_result"
    }
   ],
   "source": [
    "\"banana\" < \"banana\""
   ]
  },
  {
   "cell_type": "code",
   "execution_count": 96,
   "metadata": {},
   "outputs": [
    {
     "data": {
      "text/plain": [
       "False"
      ]
     },
     "execution_count": 96,
     "metadata": {},
     "output_type": "execute_result"
    }
   ],
   "source": [
    "\"banana\" < \"Banana\""
   ]
  },
  {
   "cell_type": "code",
   "execution_count": 97,
   "metadata": {},
   "outputs": [
    {
     "data": {
      "text/plain": [
       "True"
      ]
     },
     "execution_count": 97,
     "metadata": {},
     "output_type": "execute_result"
    }
   ],
   "source": [
    "\"Banana\" < \"banana\""
   ]
  },
  {
   "cell_type": "code",
   "execution_count": 98,
   "metadata": {},
   "outputs": [
    {
     "data": {
      "text/plain": [
       "True"
      ]
     },
     "execution_count": 98,
     "metadata": {},
     "output_type": "execute_result"
    }
   ],
   "source": [
    "\"B\" < \"b\""
   ]
  },
  {
   "cell_type": "code",
   "execution_count": 99,
   "metadata": {},
   "outputs": [
    {
     "data": {
      "text/plain": [
       "(66, 98)"
      ]
     },
     "execution_count": 99,
     "metadata": {},
     "output_type": "execute_result"
    }
   ],
   "source": [
    "ord( \"B\" ), ord( \"b\" )"
   ]
  },
  {
   "cell_type": "code",
   "execution_count": 100,
   "metadata": {},
   "outputs": [
    {
     "data": {
      "text/plain": [
       "False"
      ]
     },
     "execution_count": 100,
     "metadata": {},
     "output_type": "execute_result"
    }
   ],
   "source": [
    "\"a\" < \"A\""
   ]
  },
  {
   "cell_type": "code",
   "execution_count": 101,
   "metadata": {},
   "outputs": [
    {
     "data": {
      "text/plain": [
       "True"
      ]
     },
     "execution_count": 101,
     "metadata": {},
     "output_type": "execute_result"
    }
   ],
   "source": [
    "\"A\" < \"a\""
   ]
  },
  {
   "cell_type": "code",
   "execution_count": 102,
   "metadata": {},
   "outputs": [
    {
     "data": {
      "text/plain": [
       "(97, 65)"
      ]
     },
     "execution_count": 102,
     "metadata": {},
     "output_type": "execute_result"
    }
   ],
   "source": [
    "ord( \"a\" ), ord( \"A\")"
   ]
  },
  {
   "cell_type": "code",
   "execution_count": 104,
   "metadata": {},
   "outputs": [
    {
     "data": {
      "text/plain": [
       "False"
      ]
     },
     "execution_count": 104,
     "metadata": {},
     "output_type": "execute_result"
    }
   ],
   "source": [
    "\"abc\" < \"abC\""
   ]
  },
  {
   "cell_type": "code",
   "execution_count": 105,
   "metadata": {},
   "outputs": [
    {
     "data": {
      "text/plain": [
       "(99, 67)"
      ]
     },
     "execution_count": 105,
     "metadata": {},
     "output_type": "execute_result"
    }
   ],
   "source": [
    "ord( \"c\" ), ord( \"C\" )"
   ]
  },
  {
   "cell_type": "code",
   "execution_count": 106,
   "metadata": {},
   "outputs": [
    {
     "data": {
      "text/plain": [
       "True"
      ]
     },
     "execution_count": 106,
     "metadata": {},
     "output_type": "execute_result"
    }
   ],
   "source": [
    "\"abCD\" < \"abCd\""
   ]
  },
  {
   "cell_type": "code",
   "execution_count": 107,
   "metadata": {},
   "outputs": [
    {
     "data": {
      "text/plain": [
       "(68, 100)"
      ]
     },
     "execution_count": 107,
     "metadata": {},
     "output_type": "execute_result"
    }
   ],
   "source": [
    "ord( \"D\" ), ord( \"d\" )"
   ]
  },
  {
   "cell_type": "code",
   "execution_count": 108,
   "metadata": {},
   "outputs": [
    {
     "data": {
      "text/plain": [
       "True"
      ]
     },
     "execution_count": 108,
     "metadata": {},
     "output_type": "execute_result"
    }
   ],
   "source": [
    "\"abCDef\" < \"abCdEF\" # Comparison stops as soon we can decide"
   ]
  },
  {
   "cell_type": "code",
   "execution_count": 109,
   "metadata": {},
   "outputs": [
    {
     "data": {
      "text/plain": [
       "(68, 100)"
      ]
     },
     "execution_count": 109,
     "metadata": {},
     "output_type": "execute_result"
    }
   ],
   "source": [
    "ord( \"D\" ), ord( \"d\" )"
   ]
  },
  {
   "cell_type": "markdown",
   "metadata": {},
   "source": [
    "Note that, in the last example above, comparison stops with `\"D\" < \"d\"`, since we can decide on the fate of the `<` operator. The rest of the letters are simply disregarded."
   ]
  },
  {
   "cell_type": "markdown",
   "metadata": {},
   "source": [
    "---"
   ]
  },
  {
   "cell_type": "code",
   "execution_count": 117,
   "metadata": {},
   "outputs": [],
   "source": [
    "s = \"Let us stay at home to be safe from  coronavirus!\" # A historical note from 2020!"
   ]
  },
  {
   "cell_type": "code",
   "execution_count": 115,
   "metadata": {},
   "outputs": [
    {
     "data": {
      "text/plain": [
       "10"
      ]
     },
     "execution_count": 115,
     "metadata": {},
     "output_type": "execute_result"
    }
   ],
   "source": [
    "s.count( \" \" ) # Check how many single spaces"
   ]
  },
  {
   "cell_type": "code",
   "execution_count": 116,
   "metadata": {},
   "outputs": [
    {
     "data": {
      "text/plain": [
       "1"
      ]
     },
     "execution_count": 116,
     "metadata": {},
     "output_type": "execute_result"
    }
   ],
   "source": [
    "s.count( \"  \" )"
   ]
  },
  {
   "cell_type": "markdown",
   "metadata": {},
   "source": [
    "---"
   ]
  }
 ],
 "metadata": {
  "kernelspec": {
   "display_name": "Python 3",
   "language": "python",
   "name": "python3"
  },
  "language_info": {
   "codemirror_mode": {
    "name": "ipython",
    "version": 3
   },
   "file_extension": ".py",
   "mimetype": "text/x-python",
   "name": "python",
   "nbconvert_exporter": "python",
   "pygments_lexer": "ipython3",
   "version": "3.8.8"
  }
 },
 "nbformat": 4,
 "nbformat_minor": 4
}
