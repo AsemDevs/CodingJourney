{
 "cells": [
  {
   "cell_type": "markdown",
   "metadata": {},
   "source": [
    "# Chapter 1"
   ]
  },
  {
   "cell_type": "markdown",
   "metadata": {},
   "source": [
    "## Understanding the problem"
   ]
  },
  {
   "cell_type": "markdown",
   "metadata": {},
   "source": [
    "Suppose we are given a sentence, *S*,\n",
    "\n",
    "        S <-- Hello WORLD!\n",
    "        \n",
    "and we are asked to *uppercase* the letters in this sentence.\n",
    "\n",
    "**QUESTION:** Can we solve this problem without PROGRAMMING?"
   ]
  },
  {
   "cell_type": "markdown",
   "metadata": {},
   "source": [
    "**ANSWER:** We all know HOW to solve this problem, and we can provide the result right away! We just write each letter in uppercase! That's really it!\n",
    "\n",
    "        HELLO WORLD!"
   ]
  },
  {
   "cell_type": "markdown",
   "metadata": {},
   "source": [
    "**QUESTION:** How do we go about doing this on a COMPUTER&mdash;that is, ALGORITHMICALLY?\n",
    "\n",
    "The first recipe that comes to mind may be\n",
    "\n",
    "    (A) Take each letter at a time, \n",
    "    (B) Convert each to uppercase, and \n",
    "    (C) Store the uppercase version of that letter somewhere\n",
    "\n",
    "More formally, we can express this recipe using pseudo-code like this:\n",
    "\n",
    "    FOR EACH letter, L, in sentence, S:\n",
    "        IF L is NOT uppercase THEN:\n",
    "            Convert L to uppercase\n",
    "        \n",
    "Note, however that, at this stage, we are not yet thinking of *programming*. We are still elaborating on the *algorithm* we just started designing."
   ]
  },
  {
   "cell_type": "markdown",
   "metadata": {},
   "source": [
    "If we applied this *recipe* or *algorithm* using the above value of `S`, would we get a correct answer (ON PAPER&ndash;Note that we are **not** programming just yet!)?"
   ]
  },
  {
   "cell_type": "raw",
   "metadata": {},
   "source": [
    "S <-- Hello WORLD!\n",
    "\n",
    "L <-- 'H'\n",
    "   L is already in uppercse, no need to do anything further\n",
    "L <-- 'e'\n",
    "   L is not uppercase. So convert L to 'E'\n",
    "L <-- 'l'\n",
    "   L is not uppercase. So convert L to 'L'\n",
    "L <-- 'l'\n",
    "   L is not uppercase. So convert L to 'L'\n",
    "L <-- 'o'\n",
    "   L is not uppercase. So convert L to 'O'\n",
    "L <-- ' '\n",
    "   L is not even a letter. So nothing further to do."
   ]
  },
  {
   "cell_type": "markdown",
   "metadata": {},
   "source": [
    "The rest of the string is already in uppercase. Again, letter `!` does not have an uppercase version just like the space character."
   ]
  },
  {
   "cell_type": "markdown",
   "metadata": {},
   "source": [
    "Therefore, the above *recipe* or *algorithm* seems to work just fine!"
   ]
  },
  {
   "cell_type": "markdown",
   "metadata": {},
   "source": [
    "In the above example, we did this conversion in our minds almost immediately.\n",
    "\n",
    "We should realize, however, that we need to have a programmatic method for converting letters to uppercase.\n",
    "\n",
    "This means that we will have to expand on the above pseudo-code *recipe* or *algorithm*."
   ]
  },
  {
   "cell_type": "markdown",
   "metadata": {},
   "source": [
    "So let's expand on the above algorithm, which was expressed at rather a very high level. Sure, we can understand and apply this algorithm as human beings. However, we need to get the computer to replicate what we just did with our minds so quickly.\n",
    "\n",
    "Given\n",
    "\n",
    "    S <-- Hello WORLD!\n",
    "\n",
    "we can expand/detail the above more formally-written recipe like this:\n",
    "\n",
    "    answer = \"\"\n",
    "    1 FOR EACH letter, L, in sentence, S:\n",
    "    2    #\n",
    "    3    IF L is NOT an uppercase letter THEN: # Think about this line!\n",
    "    4        IF L is in the range [\"a\" .. \"z\"] THEN\n",
    "    5           U = Convert L to uppercase\n",
    "    6           answer = answer + U\n",
    "    7       ELSE: # No need for conversion\n",
    "    8          answer = answer + L\n",
    "    9   ELSE:\n",
    "    A       answer = answer + L # No need for conversion\n"
   ]
  },
  {
   "cell_type": "markdown",
   "metadata": {},
   "source": [
    "Let's TEST this algorithm:\n",
    "\n",
    "    answer <-- \"\" # Initialize to an empty string\n",
    "    \n",
    "    L <-- \"H\"\n",
    "    answer = \"\" + \"H\" = \"H\" # 9A\n",
    "    \n",
    "    L <-- \"e\"\n",
    "    answer = \"H\" + \"E\" = \"HE\" # 3456\n",
    "    \n",
    "    .\n",
    "    .\n",
    "    .\n",
    "    \n",
    "    L <-- \"D\" # 9A\n",
    "    answer = HELLO WORL\" + \"D\" = \"HELLO WORLD\"\n",
    "    \n",
    "    L <-- \"!\" # 3478\n",
    "    answer = \"HELLO WORLD\" + \"!\"\n",
    "    \n",
    "Finally, our answer would be\n",
    "\n",
    "    answer <-- \"HELLO WORLD!\""
   ]
  },
  {
   "cell_type": "markdown",
   "metadata": {},
   "source": [
    "### Translate in a Python program"
   ]
  },
  {
   "cell_type": "code",
   "execution_count": 2,
   "metadata": {},
   "outputs": [],
   "source": [
    "S = \"Hello WoRlD!\"\n",
    "answer = \"\"\n",
    "\n",
    "for letter in S:\n",
    "    #\n",
    "    if not \"A\" <= letter <= \"Z\":\n",
    "        #\n",
    "        if \"a\" <= letter <= \"z\":\n",
    "            #\n",
    "            uppercased = \"^\" + letter\n",
    "            answer += uppercased\n",
    "        else:\n",
    "            answer += letter\n",
    "    else:\n",
    "        answer += letter"
   ]
  },
  {
   "cell_type": "code",
   "execution_count": 3,
   "metadata": {},
   "outputs": [
    {
     "name": "stdout",
     "output_type": "stream",
     "text": [
      "--- answer: H^e^l^l^o W^oR^lD!\n"
     ]
    }
   ],
   "source": [
    "print( f\"--- answer: {answer}\" )"
   ]
  },
  {
   "cell_type": "markdown",
   "metadata": {},
   "source": [
    "Looks about right ..."
   ]
  },
  {
   "cell_type": "code",
   "execution_count": 2,
   "metadata": {},
   "outputs": [],
   "source": [
    "S = \"Hello WoRlD!\"\n",
    "answer = \"\"\n",
    "\n",
    "for letter in S:\n",
    "    #\n",
    "    if \"A\" <= letter <= \"Z\":\n",
    "        #\n",
    "        answer += letter\n",
    "    else:\n",
    "        # SOME PROBLEMS ... mentioned in the video\n",
    "        pass        "
   ]
  },
  {
   "cell_type": "markdown",
   "metadata": {},
   "source": [
    "It's time to RETHINK the algorithm!"
   ]
  },
  {
   "cell_type": "markdown",
   "metadata": {},
   "source": [
    "    answer = \"\"\n",
    "    FOR EACH letter, L, in sentence, S:\n",
    "        #\n",
    "        IF L is a lowercase letter THEN\n",
    "            #\n",
    "            # CONVERT\n",
    "            #\n",
    "            U = Convert L to uppercase\n",
    "            answer = answer + U\n",
    "        ELSE:\n",
    "            #\n",
    "            # DON'T CONVERT!\n",
    "            #\n",
    "            answer = answer + L"
   ]
  },
  {
   "cell_type": "markdown",
   "metadata": {},
   "source": [
    "### Version 2 of the implementation according to the above simpler version of our algorithm"
   ]
  },
  {
   "cell_type": "code",
   "execution_count": 7,
   "metadata": {},
   "outputs": [],
   "source": [
    "S = \"HelLO WorLD!\"\n",
    "answer = \"\"\n",
    "\n",
    "for letter in S:\n",
    "    #\n",
    "    if \"a\" <= letter <= \"z\":\n",
    "        #\n",
    "        # CONVERT\n",
    "        #\n",
    "        uppercased = \"^\" + letter\n",
    "        answer += uppercased\n",
    "    else:\n",
    "        #\n",
    "        # DON'T CONVERT!\n",
    "        #\n",
    "        answer += letter"
   ]
  },
  {
   "cell_type": "code",
   "execution_count": 8,
   "metadata": {},
   "outputs": [
    {
     "name": "stdout",
     "output_type": "stream",
     "text": [
      "--- answer: H^e^lLO W^o^rLD!\n"
     ]
    }
   ],
   "source": [
    "print( f\"--- answer: {answer}\" )"
   ]
  },
  {
   "cell_type": "markdown",
   "metadata": {},
   "source": [
    "Before we do the translation into code, let us work on how we may convert a lowercase letter into uppercase.\n",
    "\n",
    "Actually this is too easy a problem in Python. All we have to do is to call `upper()` on a letter to convert it to uppercase, but let us implement our specific way of uppercasing."
   ]
  },
  {
   "cell_type": "code",
   "execution_count": 12,
   "metadata": {},
   "outputs": [
    {
     "name": "stdout",
     "output_type": "stream",
     "text": [
      "97\n",
      "122\n",
      "65\n",
      "90\n"
     ]
    }
   ],
   "source": [
    "print( ord( \"a\" ) )\n",
    "print( ord( \"z\" ) )\n",
    "\n",
    "print( ord( \"A\" ) )\n",
    "print( ord( \"Z\" ) )"
   ]
  },
  {
   "cell_type": "markdown",
   "metadata": {},
   "source": [
    "Let's convert letter `d` to uppercase:"
   ]
  },
  {
   "cell_type": "code",
   "execution_count": 13,
   "metadata": {},
   "outputs": [
    {
     "data": {
      "text/plain": [
       "3"
      ]
     },
     "execution_count": 13,
     "metadata": {},
     "output_type": "execute_result"
    }
   ],
   "source": [
    "diff = ord( \"d\" ) - ord( \"a\" )\n",
    "diff"
   ]
  },
  {
   "cell_type": "code",
   "execution_count": 14,
   "metadata": {},
   "outputs": [
    {
     "data": {
      "text/plain": [
       "68"
      ]
     },
     "execution_count": 14,
     "metadata": {},
     "output_type": "execute_result"
    }
   ],
   "source": [
    "U_ord = ord( \"A\" ) + diff\n",
    "U_ord"
   ]
  },
  {
   "cell_type": "code",
   "execution_count": 15,
   "metadata": {},
   "outputs": [
    {
     "data": {
      "text/plain": [
       "'D'"
      ]
     },
     "execution_count": 15,
     "metadata": {},
     "output_type": "execute_result"
    }
   ],
   "source": [
    "chr( U_ord )"
   ]
  },
  {
   "cell_type": "markdown",
   "metadata": {},
   "source": [
    "Let's put the whole thing together:"
   ]
  },
  {
   "cell_type": "code",
   "execution_count": 16,
   "metadata": {},
   "outputs": [
    {
     "data": {
      "text/plain": [
       "'D'"
      ]
     },
     "execution_count": 16,
     "metadata": {},
     "output_type": "execute_result"
    }
   ],
   "source": [
    "lowercase_letter = \"d\"\n",
    "\n",
    "chr( ord( \"A\" ) + (ord( lowercase_letter ) - ord( \"a\" ) ) )"
   ]
  },
  {
   "cell_type": "code",
   "execution_count": 17,
   "metadata": {},
   "outputs": [
    {
     "data": {
      "text/plain": [
       "'K'"
      ]
     },
     "execution_count": 17,
     "metadata": {},
     "output_type": "execute_result"
    }
   ],
   "source": [
    "lowercase_letter = \"k\"\n",
    "\n",
    "chr( ord( \"A\" ) + (ord( lowercase_letter ) - ord( \"a\" ) ) )"
   ]
  },
  {
   "cell_type": "code",
   "execution_count": 21,
   "metadata": {},
   "outputs": [
    {
     "data": {
      "text/plain": [
       "'0'"
      ]
     },
     "execution_count": 21,
     "metadata": {},
     "output_type": "execute_result"
    }
   ],
   "source": [
    "lowercase_letter = \"P\"\n",
    "\n",
    "chr( ord( \"A\" ) + (ord( lowercase_letter ) - ord( \"a\" ) ) )"
   ]
  },
  {
   "cell_type": "code",
   "execution_count": 20,
   "metadata": {},
   "outputs": [
    {
     "data": {
      "text/plain": [
       "'\\x15'"
      ]
     },
     "execution_count": 20,
     "metadata": {},
     "output_type": "execute_result"
    }
   ],
   "source": [
    "lowercase_letter = \"5\"\n",
    "\n",
    "chr( ord( \"A\" ) + (ord( lowercase_letter ) - ord( \"a\" ) ) )"
   ]
  },
  {
   "cell_type": "code",
   "execution_count": 19,
   "metadata": {},
   "outputs": [
    {
     "data": {
      "text/plain": [
       "'\\n'"
      ]
     },
     "execution_count": 19,
     "metadata": {},
     "output_type": "execute_result"
    }
   ],
   "source": [
    "lowercase_letter = \"*\"\n",
    "\n",
    "chr( ord( \"A\" ) + (ord( lowercase_letter ) - ord( \"a\" ) ) )"
   ]
  },
  {
   "cell_type": "markdown",
   "metadata": {},
   "source": [
    "Well, if we start with a character that is not a lowercase letter, this formula will not work!"
   ]
  },
  {
   "cell_type": "markdown",
   "metadata": {},
   "source": [
    "---"
   ]
  },
  {
   "cell_type": "markdown",
   "metadata": {},
   "source": [
    "Let's translate this version into Python code."
   ]
  },
  {
   "cell_type": "code",
   "execution_count": 24,
   "metadata": {},
   "outputs": [],
   "source": [
    "S = \"*Peace for THE WoRlD*!\"\n",
    "answer = \"\"\n",
    "\n",
    "for letter in S:\n",
    "    #\n",
    "    if \"a\" <= letter <= \"z\":\n",
    "        #\n",
    "        uppercase = chr( ord( \"A\" ) + (ord( letter ) - ord( \"a\" ) ) )\n",
    "        answer += uppercase\n",
    "    else:\n",
    "        answer += letter # No conversion!"
   ]
  },
  {
   "cell_type": "code",
   "execution_count": 25,
   "metadata": {},
   "outputs": [
    {
     "name": "stdout",
     "output_type": "stream",
     "text": [
      "--- answer: *PEACE FOR THE WORLD*!\n"
     ]
    }
   ],
   "source": [
    "print( f\"--- answer: {answer}\" )"
   ]
  },
  {
   "cell_type": "markdown",
   "metadata": {},
   "source": [
    "Of course, normally we would just do this:"
   ]
  },
  {
   "cell_type": "code",
   "execution_count": 26,
   "metadata": {},
   "outputs": [
    {
     "data": {
      "text/plain": [
       "'*PEACE FOR THE WORLD*!'"
      ]
     },
     "execution_count": 26,
     "metadata": {},
     "output_type": "execute_result"
    }
   ],
   "source": [
    "S.upper()"
   ]
  },
  {
   "cell_type": "markdown",
   "metadata": {},
   "source": [
    "---"
   ]
  },
  {
   "cell_type": "markdown",
   "metadata": {},
   "source": [
    "Consider the following problem from your textbook."
   ]
  },
  {
   "cell_type": "markdown",
   "metadata": {},
   "source": [
    "24. Suppose you have a random sequence of black and white marbles and want to \n",
    "rearrange it so that the black and white marbles are grouped together. Consider \n",
    "this algorithm:\n",
    "\n",
    "        Repeat until sorted\n",
    "            Locate the first black marble that is preceded by a white marble--that is, \n",
    "            find the first \"WB\" pattern, and switch the order of the letters to make \n",
    "            them \"BW\".\n",
    "\n",
    "What does the algorithm do with the sequence `WBWBB`? Spell out the steps \n",
    "until the algorithm stops."
   ]
  },
  {
   "cell_type": "raw",
   "metadata": {},
   "source": [
    "Input:  WBWBB (Note that we look for a WB pattern in every iteration)\n",
    "\n",
    "Step 1: [WB]WBB --> [BW]WBB \n",
    "        BWWBB\n",
    "        \n",
    "Step 2: BW[WB]B --> BW[BW]B\n",
    "        BWBWB\n",
    "\n",
    "Step 3: B[WB]WB --> B[BW]WB\n",
    "        BBWWB\n",
    "\n",
    "Step 4: BBW[WB] --> BBW[BW]\n",
    "        BBWBW\n",
    "\n",
    "Step 5: BB[WB]W --> BB[BW]W\n",
    "        BBBWW\n",
    "        \n",
    "Step 6: BBBWW\n",
    "\n",
    "SORTED!"
   ]
  },
  {
   "cell_type": "markdown",
   "metadata": {},
   "source": [
    "__QUESTION:__ Can we be sure that the above _algorithm_ works in the _general case_?"
   ]
  },
  {
   "cell_type": "raw",
   "metadata": {},
   "source": [
    "Ipput:  WBWBBWWBB\n",
    "\n",
    "Step 1: BWWBBWWBB\n",
    "\n",
    "Step 2: BWBWBWWBB\n",
    "\n",
    "Step 3: BBWWBWWBB\n",
    "\n",
    "Step 4: BBWBWWWBB\n",
    "\n",
    "Step 5: BBBWWWWBB\n",
    "\n",
    "Step 6: BBBWWWBWB\n",
    "\n",
    "Step 7: BBBWWBWWB\n",
    "\n",
    "Step 8: BBBWBWWWB\n",
    "\n",
    "Step 9: BBBBWWWWB\n",
    "\n",
    "Step A: BBBBWWWBW\n",
    "\n",
    "Step B: BBBBWWBWW\n",
    "\n",
    "Step C: BBBBWBWWW\n",
    "\n",
    "Step D: BBBBBWWWW\n",
    "\n",
    "SORTED!"
   ]
  },
  {
   "cell_type": "markdown",
   "metadata": {},
   "source": [
    "At least, so far, the above algorithm seems to work just fine!"
   ]
  },
  {
   "cell_type": "markdown",
   "metadata": {},
   "source": [
    "We _visually_/_mentally_ confirmed that the initial sequence is now _sorted/grouped_!"
   ]
  },
  {
   "cell_type": "markdown",
   "metadata": {},
   "source": [
    "Note that we have __not__ written a program that determines whether the input sequence was sorted or not. Like we mentioned right above, we decided that the sequence is sorted purely by visual confirmation.\n",
    "\n",
    "In other words, the above algorithm that we applied does **not** tell us when to stop!"
   ]
  },
  {
   "cell_type": "markdown",
   "metadata": {},
   "source": [
    "This means that we are thinking at quite a _high_ level at this point."
   ]
  },
  {
   "cell_type": "markdown",
   "metadata": {},
   "source": [
    "We will not pursue this problem any further at this point."
   ]
  },
  {
   "cell_type": "code",
   "execution_count": 14,
   "metadata": {},
   "outputs": [
    {
     "name": "stdout",
     "output_type": "stream",
     "text": [
      "\n",
      "*   *   **   ****   ****  *   *\n",
      "*   * *    * *   *  *   *  * *\n",
      "***** *    * ****   ****    *\n",
      "*   * ****** *   *  *   *   *\n",
      "*   * *    * *    * *    *  *\n",
      "\n"
     ]
    }
   ],
   "source": [
    "print( \"\"\"\n",
    "*   *   **   ****   ****  *   *\n",
    "*   * *    * *   *  *   *  * *\n",
    "***** *    * ****   ****    *\n",
    "*   * ****** *   *  *   *   *\n",
    "*   * *    * *    * *    *  *\n",
    "\"\"\" )"
   ]
  },
  {
   "cell_type": "code",
   "execution_count": 2,
   "metadata": {},
   "outputs": [
    {
     "data": {
      "text/plain": [
       "(100, 0)"
      ]
     },
     "execution_count": 2,
     "metadata": {},
     "output_type": "execute_result"
    }
   ],
   "source": [
    "100,000"
   ]
  },
  {
   "cell_type": "code",
   "execution_count": 3,
   "metadata": {},
   "outputs": [
    {
     "ename": "NameError",
     "evalue": "name 'x' is not defined",
     "output_type": "error",
     "traceback": [
      "\u001b[0;31m---------------------------------------------------------------------------\u001b[0m",
      "\u001b[0;31mNameError\u001b[0m                                 Traceback (most recent call last)",
      "\u001b[0;32m<ipython-input-3-9e8324a7b754>\u001b[0m in \u001b[0;36m<module>\u001b[0;34m\u001b[0m\n\u001b[0;32m----> 1\u001b[0;31m \u001b[0mx\u001b[0m \u001b[0;34m+\u001b[0m \u001b[0;36m5\u001b[0m\u001b[0;34m\u001b[0m\u001b[0;34m\u001b[0m\u001b[0m\n\u001b[0m",
      "\u001b[0;31mNameError\u001b[0m: name 'x' is not defined"
     ]
    }
   ],
   "source": [
    "x + 5"
   ]
  },
  {
   "cell_type": "code",
   "execution_count": 4,
   "metadata": {},
   "outputs": [
    {
     "ename": "NameError",
     "evalue": "name 'x' is not defined",
     "output_type": "error",
     "traceback": [
      "\u001b[0;31m---------------------------------------------------------------------------\u001b[0m",
      "\u001b[0;31mNameError\u001b[0m                                 Traceback (most recent call last)",
      "\u001b[0;32m<ipython-input-4-b76ffca1e6b6>\u001b[0m in \u001b[0;36m<module>\u001b[0;34m\u001b[0m\n\u001b[0;32m----> 1\u001b[0;31m \u001b[0my\u001b[0m \u001b[0;34m=\u001b[0m \u001b[0mx\u001b[0m \u001b[0;34m+\u001b[0m \u001b[0;36m5\u001b[0m\u001b[0;34m\u001b[0m\u001b[0;34m\u001b[0m\u001b[0m\n\u001b[0m",
      "\u001b[0;31mNameError\u001b[0m: name 'x' is not defined"
     ]
    }
   ],
   "source": [
    "y = x + 5"
   ]
  },
  {
   "cell_type": "code",
   "execution_count": 3,
   "metadata": {},
   "outputs": [
    {
     "data": {
      "text/plain": [
       "105"
      ]
     },
     "execution_count": 3,
     "metadata": {},
     "output_type": "execute_result"
    }
   ],
   "source": [
    "x = 100\n",
    "y = x + 5\n",
    "y"
   ]
  },
  {
   "cell_type": "markdown",
   "metadata": {},
   "source": [
    "How can we express $\\dfrac{a + b}{2}$ in Python?\n",
    "\n",
    "So given"
   ]
  },
  {
   "cell_type": "code",
   "execution_count": 4,
   "metadata": {},
   "outputs": [],
   "source": [
    "a = 100\n",
    "b = 50"
   ]
  },
  {
   "cell_type": "markdown",
   "metadata": {},
   "source": [
    "we would expect the above expression to give us the value `75`.\n",
    "\n",
    "Can we write this as `a + b / 2`?"
   ]
  },
  {
   "cell_type": "code",
   "execution_count": 5,
   "metadata": {},
   "outputs": [
    {
     "data": {
      "text/plain": [
       "125.0"
      ]
     },
     "execution_count": 5,
     "metadata": {},
     "output_type": "execute_result"
    }
   ],
   "source": [
    "a + b / 2"
   ]
  },
  {
   "cell_type": "markdown",
   "metadata": {},
   "source": [
    "Obviously, there is something wrong! So, let's try with `( .. )`."
   ]
  },
  {
   "cell_type": "code",
   "execution_count": 6,
   "metadata": {},
   "outputs": [
    {
     "data": {
      "text/plain": [
       "75.0"
      ]
     },
     "execution_count": 6,
     "metadata": {},
     "output_type": "execute_result"
    }
   ],
   "source": [
    "(a + b) / 2"
   ]
  },
  {
   "cell_type": "markdown",
   "metadata": {},
   "source": [
    "This has to do with OPERATOR PRECEDENCE."
   ]
  },
  {
   "cell_type": "code",
   "execution_count": 7,
   "metadata": {},
   "outputs": [
    {
     "name": "stdout",
     "output_type": "stream",
     "text": [
      "I have $17.29\n"
     ]
    }
   ],
   "source": [
    "pennies = 1729\n",
    "dollars, remaining_pennies = divmod( 1729, 100 )\n",
    "print( \"I have ${}.{}\".format( dollars, remaining_pennies ) )"
   ]
  },
  {
   "cell_type": "code",
   "execution_count": 11,
   "metadata": {},
   "outputs": [
    {
     "data": {
      "text/plain": [
       "(17, 29)"
      ]
     },
     "execution_count": 11,
     "metadata": {},
     "output_type": "execute_result"
    }
   ],
   "source": [
    "divmod( 1729, 100 )"
   ]
  },
  {
   "cell_type": "markdown",
   "metadata": {},
   "source": [
    "`divmod( a, b )` is equivalent to doing `a // b, a % b`."
   ]
  },
  {
   "cell_type": "code",
   "execution_count": 2,
   "metadata": {},
   "outputs": [
    {
     "data": {
      "text/plain": [
       "(17, 29)"
      ]
     },
     "execution_count": 2,
     "metadata": {},
     "output_type": "execute_result"
    }
   ],
   "source": [
    "1729 // 100, 1729 % 100"
   ]
  },
  {
   "cell_type": "markdown",
   "metadata": {},
   "source": [
    "---"
   ]
  }
 ],
 "metadata": {
  "kernelspec": {
   "display_name": "Python 3",
   "language": "python",
   "name": "python3"
  },
  "language_info": {
   "codemirror_mode": {
    "name": "ipython",
    "version": 3
   },
   "file_extension": ".py",
   "mimetype": "text/x-python",
   "name": "python",
   "nbconvert_exporter": "python",
   "pygments_lexer": "ipython3",
   "version": "3.8.8"
  }
 },
 "nbformat": 4,
 "nbformat_minor": 4
}
